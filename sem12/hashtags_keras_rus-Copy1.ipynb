{
 "cells": [
  {
   "cell_type": "code",
   "execution_count": 19,
   "metadata": {
    "scrolled": true
   },
   "outputs": [
    {
     "ename": "ModuleNotFoundError",
     "evalue": "No module named 'sklearn.cross_validation'",
     "output_type": "error",
     "traceback": [
      "\u001b[0;31m---------------------------------------------------------------------------\u001b[0m",
      "\u001b[0;31mModuleNotFoundError\u001b[0m                       Traceback (most recent call last)",
      "\u001b[0;32m<ipython-input-19-6f1510b122c6>\u001b[0m in \u001b[0;36m<module>\u001b[0;34m()\u001b[0m\n\u001b[1;32m      5\u001b[0m \u001b[0;32mimport\u001b[0m \u001b[0mnumpy\u001b[0m \u001b[0;32mas\u001b[0m \u001b[0mnp\u001b[0m\u001b[0;34m\u001b[0m\u001b[0m\n\u001b[1;32m      6\u001b[0m \u001b[0;32mfrom\u001b[0m \u001b[0mtqdm\u001b[0m \u001b[0;32mimport\u001b[0m \u001b[0mtqdm\u001b[0m\u001b[0;34m\u001b[0m\u001b[0m\n\u001b[0;32m----> 7\u001b[0;31m \u001b[0;32mfrom\u001b[0m \u001b[0msklearn\u001b[0m\u001b[0;34m.\u001b[0m\u001b[0mcross_validation\u001b[0m \u001b[0;32mimport\u001b[0m \u001b[0mtrain_test_split\u001b[0m\u001b[0;34m\u001b[0m\u001b[0m\n\u001b[0m\u001b[1;32m      8\u001b[0m \u001b[0;32mfrom\u001b[0m \u001b[0mcollections\u001b[0m \u001b[0;32mimport\u001b[0m \u001b[0mdefaultdict\u001b[0m\u001b[0;34m\u001b[0m\u001b[0m\n",
      "\u001b[0;31mModuleNotFoundError\u001b[0m: No module named 'sklearn.cross_validation'"
     ]
    }
   ],
   "source": [
    "import nltk\n",
    "import sys\n",
    "import operator\n",
    "import pandas as pd\n",
    "import numpy as np\n",
    "from tqdm import tqdm\n",
    "from sklearn.cross_validation import train_test_split\n",
    "from collections import defaultdict"
   ]
  },
  {
   "cell_type": "code",
   "execution_count": 2,
   "metadata": {},
   "outputs": [
    {
     "name": "stdout",
     "output_type": "stream",
     "text": [
      "Populating the interactive namespace from numpy and matplotlib\n"
     ]
    }
   ],
   "source": [
    "import matplotlib.pyplot as plt\n",
    "%matplotlib inline\n",
    "%pylab inline"
   ]
  },
  {
   "cell_type": "markdown",
   "metadata": {},
   "source": [
    "## Train data"
   ]
  },
  {
   "cell_type": "code",
   "execution_count": 10,
   "metadata": {},
   "outputs": [],
   "source": [
    "import random \n",
    "data_train = []\n",
    "keys = set()\n",
    "keys.update([''])\n",
    "n = 10000\n",
    "\n",
    "cap_letters = ['А', 'Б','В','Г','Д','Е','Ж','З','И','Й','К','Л','М',\n",
    "               'Н','О','П','Р','С','Т','У','Ф','Х','Ц','Ч','Ш','Щ','Э','Ю','Я']"
   ]
  },
  {
   "cell_type": "code",
   "execution_count": 14,
   "metadata": {},
   "outputs": [],
   "source": [
    "data = pd.read_csv(\"./data_15k_with_classes_new.csv\", index_col=None).iloc[:, 1:]\n",
    "train_data, test_data = train_test_split(data, test_size=0.25, random_state=42)"
   ]
  },
  {
   "cell_type": "markdown",
   "metadata": {},
   "source": [
    "### Building vocabularies\n",
    "\n",
    "Just like before, we have to build a mapping from tokens to integer ids. This time around, our model operates on a word level, processing one word per RNN step. This means we'll have to deal with far larger vocabulary.\n",
    "\n",
    "Luckily for us, we only receive those words as input i.e. we don't have to predict them. This means we can have a large vocabulary for free by using word embeddings."
   ]
  },
  {
   "cell_type": "code",
   "execution_count": 15,
   "metadata": {},
   "outputs": [],
   "source": [
    "all_chars = set(''.join(data.hashtag.values))\n",
    "char_to_id = defaultdict(lambda:1,{word:i for i, word in enumerate(all_chars)})\n",
    "tag_to_id = {tag: i for i, tag in enumerate(['0', '1'])}"
   ]
  },
  {
   "cell_type": "code",
   "execution_count": 16,
   "metadata": {},
   "outputs": [
    {
     "data": {
      "text/plain": [
       "73"
      ]
     },
     "execution_count": 16,
     "metadata": {},
     "output_type": "execute_result"
    }
   ],
   "source": [
    "len(all_chars)"
   ]
  },
  {
   "cell_type": "markdown",
   "metadata": {},
   "source": [
    "convert words and tags into fixed-size matrix"
   ]
  },
  {
   "cell_type": "code",
   "execution_count": 17,
   "metadata": {},
   "outputs": [],
   "source": [
    "def to_matrix(lines, token_to_id,\n",
    "              max_len=None,\n",
    "              pad=0,\n",
    "              dtype='int32',\n",
    "              time_major=False):\n",
    "    \n",
    "    \"\"\"Converts a list of hashtags into rnn-digestable matrix with paddings added after the end\"\"\"\n",
    "    \n",
    "    max_len = max_len or max(map(len,lines))\n",
    "    matrix = np.empty([len(lines), max_len], dtype)\n",
    "    matrix.fill(pad)\n",
    "\n",
    "    for i in range(len(lines)):\n",
    "        line_ix = list(map(token_to_id.__getitem__, lines[i]))[:max_len]\n",
    "        matrix[i,:len(line_ix)] = line_ix\n",
    "\n",
    "    return matrix.T if time_major else matrix"
   ]
  },
  {
   "cell_type": "code",
   "execution_count": 18,
   "metadata": {},
   "outputs": [
    {
     "name": "stdout",
     "output_type": "stream",
     "text": [
      "Word ids:\n",
      "[[41 20 24 17 20 41 40 29 19 19 10 57 36  0  0  0  0  0  0  0  0  0  0  0\n",
      "   0  0]\n",
      " [ 4 40 37 14 54 10 43 36 19 20 40 20  0 36 66 29  4 43 20 47 44 46 29 19\n",
      "  17 55]\n",
      " [66 29 40 20 61 29 43 44 65 65 44 55 20  4  4 36 36  0  0  0  0  0  0  0\n",
      "   0  0]]\n",
      "Tag ids:\n",
      "[[0 0 0 0 0 0 0 0 0 0 0 0 1 0 0 0 0 0 0 0 0 0 0 0 0 0]\n",
      " [0 0 0 0 0 1 0 0 0 0 0 0 0 0 0 0 0 0 0 1 1 0 0 0 0 1]\n",
      " [0 0 0 0 0 0 1 0 0 0 1 0 0 0 0 0 1 0 0 0 0 0 0 0 0 0]]\n"
     ]
    }
   ],
   "source": [
    "batch_words, batch_tags = data[:3].hashtag.values, data[:3].true_segmentation.values\n",
    "\n",
    "print(\"Word ids:\")\n",
    "print(to_matrix(batch_words, char_to_id))\n",
    "print(\"Tag ids:\")\n",
    "print(to_matrix(batch_tags, tag_to_id))"
   ]
  },
  {
   "cell_type": "code",
   "execution_count": 19,
   "metadata": {},
   "outputs": [
    {
     "data": {
      "text/html": [
       "<div>\n",
       "<style scoped>\n",
       "    .dataframe tbody tr th:only-of-type {\n",
       "        vertical-align: middle;\n",
       "    }\n",
       "\n",
       "    .dataframe tbody tr th {\n",
       "        vertical-align: top;\n",
       "    }\n",
       "\n",
       "    .dataframe thead th {\n",
       "        text-align: right;\n",
       "    }\n",
       "</style>\n",
       "<table border=\"1\" class=\"dataframe\">\n",
       "  <thead>\n",
       "    <tr style=\"text-align: right;\">\n",
       "      <th></th>\n",
       "      <th>hashtag</th>\n",
       "      <th>hashtag_class</th>\n",
       "      <th>true_segmentation</th>\n",
       "    </tr>\n",
       "  </thead>\n",
       "  <tbody>\n",
       "    <tr>\n",
       "      <th>0</th>\n",
       "      <td>основногоэтапа</td>\n",
       "      <td>6</td>\n",
       "      <td>00000000100001</td>\n",
       "    </tr>\n",
       "    <tr>\n",
       "      <th>1</th>\n",
       "      <td>тактических6762</td>\n",
       "      <td>5</td>\n",
       "      <td>000000000010001</td>\n",
       "    </tr>\n",
       "    <tr>\n",
       "      <th>2</th>\n",
       "      <td>славянское9839братствоучений</td>\n",
       "      <td>7</td>\n",
       "      <td>0000000001000100000001000001</td>\n",
       "    </tr>\n",
       "    <tr>\n",
       "      <th>3</th>\n",
       "      <td>5североокругазападного</td>\n",
       "      <td>7</td>\n",
       "      <td>1000001000001000000001</td>\n",
       "    </tr>\n",
       "    <tr>\n",
       "      <th>4</th>\n",
       "      <td>силино</td>\n",
       "      <td>5</td>\n",
       "      <td>000001</td>\n",
       "    </tr>\n",
       "  </tbody>\n",
       "</table>\n",
       "</div>"
      ],
      "text/plain": [
       "                        hashtag  hashtag_class             true_segmentation\n",
       "0                основногоэтапа              6                00000000100001\n",
       "1               тактических6762              5               000000000010001\n",
       "2  славянское9839братствоучений              7  0000000001000100000001000001\n",
       "3        5североокругазападного              7        1000001000001000000001\n",
       "4                        силино              5                        000001"
      ]
     },
     "execution_count": 19,
     "metadata": {},
     "output_type": "execute_result"
    }
   ],
   "source": [
    "df = pd.read_csv(\"data_15k_with_classes_new.csv\", index_col=None).iloc[:, 1:]\n",
    "df.head()"
   ]
  },
  {
   "cell_type": "markdown",
   "metadata": {},
   "source": [
    "## Test data"
   ]
  },
  {
   "cell_type": "markdown",
   "metadata": {},
   "source": [
    "2088 – всего хештегов в тестовой выборке \n",
    "\n",
    "из которых:\n",
    "* 239 хештегов с аббревиатурами\n",
    "* 449 однословные с заглавной буквы\n",
    "* 269 двусловные разделённые заглавной буквой (в большинстве случаев начинаются тоже с заглавной)\n",
    "* 53 трехсловные разделённые заглавными буквами (в большинстве случаев начинаются тоже с заглавной)\n",
    "* 6 четыре слова разделённые заглавными буквами\n",
    "* 1072 1+ слов без заглавных букв в строке "
   ]
  },
  {
   "cell_type": "code",
   "execution_count": 12,
   "metadata": {},
   "outputs": [],
   "source": [
    "real_test_data = pd.read_csv(\"./real_test_data.csv\")"
   ]
  },
  {
   "cell_type": "code",
   "execution_count": 14,
   "metadata": {},
   "outputs": [
    {
     "data": {
      "text/plain": [
       "Index(['Unnamed: 0', 'hashtag', 'true_segmentation', 'flag'], dtype='object')"
      ]
     },
     "execution_count": 14,
     "metadata": {},
     "output_type": "execute_result"
    }
   ],
   "source": [
    "real_test_data.columns"
   ]
  },
  {
   "cell_type": "code",
   "execution_count": 16,
   "metadata": {},
   "outputs": [
    {
     "data": {
      "text/html": [
       "<div>\n",
       "<style scoped>\n",
       "    .dataframe tbody tr th:only-of-type {\n",
       "        vertical-align: middle;\n",
       "    }\n",
       "\n",
       "    .dataframe tbody tr th {\n",
       "        vertical-align: top;\n",
       "    }\n",
       "\n",
       "    .dataframe thead th {\n",
       "        text-align: right;\n",
       "    }\n",
       "</style>\n",
       "<table border=\"1\" class=\"dataframe\">\n",
       "  <thead>\n",
       "    <tr style=\"text-align: right;\">\n",
       "      <th></th>\n",
       "      <th>hashtag</th>\n",
       "      <th>true_segmentation</th>\n",
       "      <th>flag</th>\n",
       "    </tr>\n",
       "  </thead>\n",
       "  <tbody>\n",
       "    <tr>\n",
       "      <th>0</th>\n",
       "      <td>ЁлкаВЗазеркалье</td>\n",
       "      <td>000110000000001</td>\n",
       "      <td>False</td>\n",
       "    </tr>\n",
       "    <tr>\n",
       "      <th>1</th>\n",
       "      <td>АКЕРБАТ</td>\n",
       "      <td>0000001</td>\n",
       "      <td>False</td>\n",
       "    </tr>\n",
       "    <tr>\n",
       "      <th>2</th>\n",
       "      <td>АКИТ</td>\n",
       "      <td>0001</td>\n",
       "      <td>False</td>\n",
       "    </tr>\n",
       "    <tr>\n",
       "      <th>3</th>\n",
       "      <td>АРМИ</td>\n",
       "      <td>0001</td>\n",
       "      <td>False</td>\n",
       "    </tr>\n",
       "    <tr>\n",
       "      <th>4</th>\n",
       "      <td>Абхазия</td>\n",
       "      <td>0000001</td>\n",
       "      <td>False</td>\n",
       "    </tr>\n",
       "  </tbody>\n",
       "</table>\n",
       "</div>"
      ],
      "text/plain": [
       "           hashtag true_segmentation   flag\n",
       "0  ЁлкаВЗазеркалье   000110000000001  False\n",
       "1          АКЕРБАТ           0000001  False\n",
       "2             АКИТ              0001  False\n",
       "3             АРМИ              0001  False\n",
       "4          Абхазия           0000001  False"
      ]
     },
     "execution_count": 16,
     "metadata": {},
     "output_type": "execute_result"
    }
   ],
   "source": [
    "real_test_data.drop(['Unnamed: 0'], inplace=True, axis=1)\n",
    "real_test_data.head()"
   ]
  },
  {
   "cell_type": "code",
   "execution_count": 18,
   "metadata": {},
   "outputs": [
    {
     "data": {
      "text/plain": [
       "(1950, 3)"
      ]
     },
     "execution_count": 18,
     "metadata": {},
     "output_type": "execute_result"
    }
   ],
   "source": [
    "real_test_data.shape"
   ]
  },
  {
   "cell_type": "markdown",
   "metadata": {
    "collapsed": true
   },
   "source": [
    "## Building model\n",
    "\n",
    "By default, all keras RNNs apply to a whole sequence of inputs and produce a sequence of hidden states `(return_sequences=True` or just the last hidden state `(return_sequences=False)`. All the recurrence is happening under the hood.\n",
    "\n",
    "At the top of our model we need to apply a Dense layer to each time-step independently. As of now, by default keras.layers.Dense would apply once to all time-steps concatenated. We use __keras.layers.TimeDistributed__ to modify Dense layer so that it would apply across both batch and time axes."
   ]
  },
  {
   "cell_type": "code",
   "execution_count": 25,
   "metadata": {},
   "outputs": [
    {
     "name": "stderr",
     "output_type": "stream",
     "text": [
      "/Users/apple/anaconda3/lib/python3.6/site-packages/h5py/__init__.py:34: FutureWarning: Conversion of the second argument of issubdtype from `float` to `np.floating` is deprecated. In future, it will be treated as `np.float64 == np.dtype(float).type`.\n",
      "  from ._conv import register_converters as _register_converters\n",
      "Using TensorFlow backend.\n"
     ]
    }
   ],
   "source": [
    "import keras\n",
    "import keras.layers as L\n",
    "\n",
    "model = keras.models.Sequential()\n",
    "model.add(L.InputLayer([None], dtype='int32'))\n",
    "model.add(L.Embedding(len(all_chars), 50)) # dim 100\n",
    "model.add(L.Bidirectional(L.LSTM(64, return_sequences=True)))\n",
    "\n",
    "#add top layer that predicts tag probabilities\n",
    "stepwise_dense = L.Dense(2, activation='softmax')\n",
    "stepwise_dense = L.TimeDistributed(stepwise_dense)\n",
    "model.add(stepwise_dense)"
   ]
  },
  {
   "cell_type": "markdown",
   "metadata": {},
   "source": [
    "__Training:__ in this case we don't want to prepare the whole training dataset in advance. The main cause is that the length of every batch depends on the maximum sentence length within the batch. This leaves us two options: use custom training code or use generators.\n",
    "\n",
    "Keras models have a __`model.fit_generator`__ method that accepts a python generator yielding one batch at a time. But first we need to implement such generator:"
   ]
  },
  {
   "cell_type": "code",
   "execution_count": 26,
   "metadata": {},
   "outputs": [],
   "source": [
    "from keras.utils.np_utils import to_categorical\n",
    "\n",
    "BATCH_SIZE=32\n",
    "def generate_batches(sentences, batch_size=BATCH_SIZE, max_len=None, pad=0):\n",
    "    \n",
    "    assert isinstance(sentences,pd.DataFrame), \"Make sure sentences is q pd dataframe\"\n",
    "    \n",
    "    \n",
    "    while True:\n",
    "        indices = np.random.permutation(np.arange(len(sentences)))\n",
    "        for start in range(0,len(indices)-1,batch_size):\n",
    "            batch_indices = indices[start:start+batch_size]\n",
    "            batch_sentences = sentences.iloc[batch_indices]\n",
    "            batch_chars = batch_sentences.hashtag.values\n",
    "            batch_tags = batch_sentences.true_segmentation.values\n",
    "            batch_chars = to_matrix(batch_chars, char_to_id, max_len, pad)\n",
    "            batch_tags = to_matrix(batch_tags, tag_to_id, max_len, pad)\n",
    "\n",
    "            batch_tags_1hot = to_categorical(batch_tags, 2).reshape(batch_tags.shape+(-1,))\n",
    "            yield batch_chars,batch_tags_1hot\n",
    "        "
   ]
  },
  {
   "cell_type": "markdown",
   "metadata": {},
   "source": [
    "__Callbacks:__ Another thing we need is to measure model performance. The tricky part is not to count accuracy after sentence ends (on padding) and making sure we count all the validation data exactly once.\n",
    "\n",
    "While it isn't impossible to persuade Keras to do all of that, we may as well write our own callback that does that.\n",
    "Keras callbacks allow you to write a custom code to be ran once every epoch or every minibatch. We'll define one via LambdaCallback"
   ]
  },
  {
   "cell_type": "code",
   "execution_count": 27,
   "metadata": {},
   "outputs": [],
   "source": [
    "def compute_test_accuracy(model):\n",
    "    #TRAIN_ACC\n",
    "    test_words = test_data.hashtag.values\n",
    "    test_tags = test_data.true_segmentation.values\n",
    "    test_words,test_tags = to_matrix(test_words, char_to_id),to_matrix(test_tags,tag_to_id)\n",
    "    \n",
    "    #predict tag probabilities of shape [batch,time,n_tags]\n",
    "    predicted_tag_probabilities = model.predict(test_words,verbose=1)\n",
    "    predicted_tags = predicted_tag_probabilities.argmax(axis=-1)\n",
    "\n",
    "    #compute accurary excluding padding\n",
    "    numerator = np.sum(np.logical_and((predicted_tags == test_tags),(test_words != 0)))\n",
    "    denominator = np.sum(test_words != 0)\n",
    "    \n",
    "    train_acc = float(numerator)/denominator\n",
    "    \n",
    "    #TEST_ACC\n",
    "    real_test_words = real_test_data.hashtag.values\n",
    "    real_test_tags = real_test_data.true_segmentation.values\n",
    "    real_test_words,real_test_tags = to_matrix(real_test_words, char_to_id),to_matrix(real_test_tags,tag_to_id)\n",
    "    \n",
    "    #predict tag probabilities of shape [batch,time,n_tags]\n",
    "    predicted_tag_probabilities_ = model.predict(real_test_words,verbose=1)\n",
    "    predicted_tags_ = predicted_tag_probabilities_.argmax(axis=-1)\n",
    "\n",
    "    #compute accurary excluding padding\n",
    "    numerator_ = np.sum(np.logical_and((predicted_tags_ == real_test_tags),(real_test_words != 0)))\n",
    "    denominator_ = np.sum(real_test_words != 0)\n",
    "    \n",
    "    test_acc = float(numerator_)/denominator_\n",
    "    \n",
    "    return train_acc, test_acc\n",
    "\n",
    "train_accs = []\n",
    "test_accs = []\n",
    "\n",
    "class EvaluateAccuracy(keras.callbacks.Callback):\n",
    "    def on_epoch_end(self,epoch,logs=None):\n",
    "        sys.stdout.flush()\n",
    "        print(\"\\nMeasuring validation accuracy...\")\n",
    "        train_acc, test_acc = compute_test_accuracy(self.model)\n",
    "        train_accs.append(train_acc)\n",
    "        test_accs.append(test_acc)\n",
    "        print(\"\\nValidation accuracy: %.5f\\n\"%train_acc)\n",
    "        print(\"\\nReal test_data accuracy: %.5f\\n\"%test_acc)\n",
    "        sys.stdout.flush()\n",
    "        "
   ]
  },
  {
   "cell_type": "markdown",
   "metadata": {},
   "source": [
    "# training 1\n",
    "15k  \n",
    "5 epochs   "
   ]
  },
  {
   "cell_type": "code",
   "execution_count": 124,
   "metadata": {},
   "outputs": [],
   "source": [
    "model = keras.models.Sequential()\n",
    "model.add(L.InputLayer([None], dtype='int32'))\n",
    "model.add(L.Embedding(len(all_chars), 50)) # dim 100\n",
    "model.add(L.Bidirectional(L.LSTM(64, return_sequences=True)))\n",
    "stepwise_dense = L.Dense(2, activation='softmax')\n",
    "stepwise_dense = L.TimeDistributed(stepwise_dense)\n",
    "model.add(stepwise_dense)"
   ]
  },
  {
   "cell_type": "code",
   "execution_count": 125,
   "metadata": {},
   "outputs": [],
   "source": [
    "model.compile('adam', 'categorical_crossentropy')"
   ]
  },
  {
   "cell_type": "code",
   "execution_count": 126,
   "metadata": {},
   "outputs": [
    {
     "data": {
      "text/plain": [
       "(15000, 3)"
      ]
     },
     "execution_count": 126,
     "metadata": {},
     "output_type": "execute_result"
    }
   ],
   "source": [
    "data = pd.read_csv(\"./data_15k_with_classes_new.csv\", index_col=None).iloc[:, 1:]\n",
    "train_data, test_data = train_test_split(data, test_size=0.25, random_state=42)\n",
    "data.shape"
   ]
  },
  {
   "cell_type": "code",
   "execution_count": 129,
   "metadata": {
    "scrolled": true
   },
   "outputs": [
    {
     "name": "stdout",
     "output_type": "stream",
     "text": [
      "Epoch 1/5\n",
      "352/351 [==============================] - 44s 125ms/step - loss: 0.1490\n",
      "\n",
      "Measuring validation accuracy...\n",
      "3750/3750 [==============================] - 5s 1ms/step\n",
      "1950/1950 [==============================] - 1s 689us/step\n",
      "\n",
      "Validation accuracy: 0.96134\n",
      "\n",
      "\n",
      "Real test_data accuracy: 0.95297\n",
      "\n",
      "Epoch 2/5\n",
      "352/351 [==============================] - 43s 122ms/step - loss: 0.0461\n",
      "\n",
      "Measuring validation accuracy...\n",
      "3750/3750 [==============================] - 5s 1ms/step\n",
      "1950/1950 [==============================] - 1s 766us/step\n",
      "\n",
      "Validation accuracy: 0.97143\n",
      "\n",
      "\n",
      "Real test_data accuracy: 0.97212\n",
      "\n",
      "Epoch 3/5\n",
      "352/351 [==============================] - 43s 122ms/step - loss: 0.0344\n",
      "\n",
      "Measuring validation accuracy...\n",
      "3750/3750 [==============================] - 5s 1ms/step\n",
      "1950/1950 [==============================] - 1s 714us/step\n",
      "\n",
      "Validation accuracy: 0.97950\n",
      "\n",
      "\n",
      "Real test_data accuracy: 0.97490\n",
      "\n",
      "Epoch 4/5\n",
      "352/351 [==============================] - 43s 122ms/step - loss: 0.0252\n",
      "\n",
      "Measuring validation accuracy...\n",
      "3750/3750 [==============================] - 4s 1ms/step\n",
      "1950/1950 [==============================] - 1s 678us/step\n",
      "\n",
      "Validation accuracy: 0.98290\n",
      "\n",
      "\n",
      "Real test_data accuracy: 0.97785\n",
      "\n",
      "Epoch 5/5\n",
      "352/351 [==============================] - 43s 121ms/step - loss: 0.0211\n",
      "\n",
      "Measuring validation accuracy...\n",
      "3750/3750 [==============================] - 4s 1ms/step\n",
      "1950/1950 [==============================] - 1s 718us/step\n",
      "\n",
      "Validation accuracy: 0.98555\n",
      "\n",
      "\n",
      "Real test_data accuracy: 0.98058\n",
      "\n"
     ]
    }
   ],
   "source": [
    "history = model.fit_generator(generate_batches(train_data), len(train_data)/BATCH_SIZE,\n",
    "                    callbacks=[EvaluateAccuracy()], epochs=5,)"
   ]
  },
  {
   "cell_type": "markdown",
   "metadata": {},
   "source": [
    "Measure final accuracy on the whole test set."
   ]
  },
  {
   "cell_type": "code",
   "execution_count": 130,
   "metadata": {},
   "outputs": [
    {
     "name": "stdout",
     "output_type": "stream",
     "text": [
      "3750/3750 [==============================] - 5s 1ms/step\n",
      "1950/1950 [==============================] - 1s 689us/step\n",
      "Final train accuracy: 0.98555\n",
      "Final test accuracy: 0.98058\n"
     ]
    }
   ],
   "source": [
    "train_acc, test_acc = compute_test_accuracy(model)\n",
    "print(\"Final train accuracy: %.5f\"%train_acc)\n",
    "print(\"Final test accuracy: %.5f\"%test_acc)"
   ]
  },
  {
   "cell_type": "markdown",
   "metadata": {},
   "source": [
    "# training 2\n",
    "10k  \n",
    "5 epochs   "
   ]
  },
  {
   "cell_type": "code",
   "execution_count": 106,
   "metadata": {},
   "outputs": [],
   "source": [
    "model = keras.models.Sequential()\n",
    "model.add(L.InputLayer([None], dtype='int32'))\n",
    "model.add(L.Embedding(len(all_chars), 50)) # dim 100\n",
    "model.add(L.Bidirectional(L.LSTM(64, return_sequences=True)))\n",
    "stepwise_dense = L.Dense(2, activation='softmax')\n",
    "stepwise_dense = L.TimeDistributed(stepwise_dense)\n",
    "model.add(stepwise_dense)"
   ]
  },
  {
   "cell_type": "code",
   "execution_count": 107,
   "metadata": {},
   "outputs": [],
   "source": [
    "model.compile('adam', 'categorical_crossentropy')"
   ]
  },
  {
   "cell_type": "code",
   "execution_count": 108,
   "metadata": {},
   "outputs": [
    {
     "data": {
      "text/plain": [
       "(10000, 2)"
      ]
     },
     "execution_count": 108,
     "metadata": {},
     "output_type": "execute_result"
    }
   ],
   "source": [
    "data = pd.read_csv(\"./dummy_data_all_types.csv\", index_col=None).iloc[:, 1:]\n",
    "#data = pd.read_csv(\"./data_15k_with_classes_new.csv\", index_col=None).iloc[:, 1:]\n",
    "train_data, test_data = train_test_split(data, test_size=0.25, random_state=42)\n",
    "data.shape"
   ]
  },
  {
   "cell_type": "code",
   "execution_count": 109,
   "metadata": {
    "scrolled": true
   },
   "outputs": [
    {
     "name": "stdout",
     "output_type": "stream",
     "text": [
      "Epoch 1/5\n",
      "235/234 [==============================] - 29s 125ms/step - loss: 0.1918\n",
      "\n",
      "Measuring validation accuracy...\n",
      "2500/2500 [==============================] - 3s 1ms/step\n",
      "1950/1950 [==============================] - 1s 701us/step\n",
      "\n",
      "Validation accuracy: 0.95172\n",
      "\n",
      "\n",
      "Real test_data accuracy: 0.93505\n",
      "\n",
      "Epoch 2/5\n",
      "235/234 [==============================] - 28s 121ms/step - loss: 0.0553\n",
      "\n",
      "Measuring validation accuracy...\n",
      "2500/2500 [==============================] - 3s 1ms/step\n",
      "1950/1950 [==============================] - 1s 750us/step\n",
      "\n",
      "Validation accuracy: 0.96614\n",
      "\n",
      "\n",
      "Real test_data accuracy: 0.96905\n",
      "\n",
      "Epoch 3/5\n",
      "235/234 [==============================] - 28s 121ms/step - loss: 0.0442\n",
      "\n",
      "Measuring validation accuracy...\n",
      "2500/2500 [==============================] - 3s 1ms/step\n",
      "1950/1950 [==============================] - 1s 701us/step\n",
      "\n",
      "Validation accuracy: 0.97002\n",
      "\n",
      "\n",
      "Real test_data accuracy: 0.97067\n",
      "\n",
      "Epoch 4/5\n",
      "235/234 [==============================] - 28s 121ms/step - loss: 0.0381\n",
      "\n",
      "Measuring validation accuracy...\n",
      "2500/2500 [==============================] - 3s 1ms/step\n",
      "1950/1950 [==============================] - 1s 758us/step\n",
      "\n",
      "Validation accuracy: 0.97380\n",
      "\n",
      "\n",
      "Real test_data accuracy: 0.97273\n",
      "\n",
      "Epoch 5/5\n",
      "235/234 [==============================] - 28s 118ms/step - loss: 0.0321\n",
      "\n",
      "Measuring validation accuracy...\n",
      "2500/2500 [==============================] - 3s 1ms/step\n",
      "1950/1950 [==============================] - 1s 654us/step\n",
      "\n",
      "Validation accuracy: 0.98103\n",
      "\n",
      "\n",
      "Real test_data accuracy: 0.97651\n",
      "\n"
     ]
    }
   ],
   "source": [
    "history = model.fit_generator(generate_batches(train_data), len(train_data)/BATCH_SIZE,\n",
    "                    callbacks=[EvaluateAccuracy()], epochs=5,)"
   ]
  },
  {
   "cell_type": "code",
   "execution_count": 110,
   "metadata": {},
   "outputs": [
    {
     "name": "stdout",
     "output_type": "stream",
     "text": [
      "2500/2500 [==============================] - 3s 1ms/step\n",
      "1950/1950 [==============================] - 1s 693us/step\n",
      "Final train accuracy: 0.98103\n",
      "Final test accuracy: 0.97651\n"
     ]
    }
   ],
   "source": [
    "train_acc, test_acc = compute_test_accuracy(model)\n",
    "print(\"Final train accuracy: %.5f\"%train_acc)\n",
    "print(\"Final test accuracy: %.5f\"%test_acc)"
   ]
  },
  {
   "cell_type": "markdown",
   "metadata": {},
   "source": [
    "# training 3\n",
    "5k  \n",
    "5 epochs   "
   ]
  },
  {
   "cell_type": "code",
   "execution_count": 36,
   "metadata": {},
   "outputs": [],
   "source": [
    "model = keras.models.Sequential()\n",
    "model.add(L.InputLayer([None], dtype='int32'))\n",
    "model.add(L.Embedding(len(all_chars), 50)) # dim 100\n",
    "model.add(L.Bidirectional(L.LSTM(64, return_sequences=True)))\n",
    "stepwise_dense = L.Dense(2, activation='softmax')\n",
    "stepwise_dense = L.TimeDistributed(stepwise_dense)\n",
    "model.add(stepwise_dense)"
   ]
  },
  {
   "cell_type": "code",
   "execution_count": 37,
   "metadata": {},
   "outputs": [],
   "source": [
    "model.compile('adam', 'categorical_crossentropy')"
   ]
  },
  {
   "cell_type": "code",
   "execution_count": 34,
   "metadata": {},
   "outputs": [
    {
     "data": {
      "text/plain": [
       "(5000, 3)"
      ]
     },
     "execution_count": 34,
     "metadata": {},
     "output_type": "execute_result"
    }
   ],
   "source": [
    "data = pd.read_csv(\"./data_5k_with_classes_new.csv\", index_col=None).iloc[:, 1:]\n",
    "train_data, test_data = train_test_split(data, test_size=0.25, random_state=42)\n",
    "data.shape"
   ]
  },
  {
   "cell_type": "code",
   "execution_count": 38,
   "metadata": {
    "scrolled": true
   },
   "outputs": [
    {
     "name": "stdout",
     "output_type": "stream",
     "text": [
      "Epoch 1/5\n",
      "118/117 [==============================] - 12s 99ms/step - loss: 0.2628\n",
      "\n",
      "Measuring validation accuracy...\n",
      "1250/1250 [==============================] - 1s 1ms/step\n",
      "1950/1950 [==============================] - 1s 621us/step\n",
      "\n",
      "Validation accuracy: 0.84019\n",
      "\n",
      "\n",
      "Real test_data accuracy: 0.83832\n",
      "\n",
      "Epoch 2/5\n",
      "118/117 [==============================] - 12s 106ms/step - loss: 0.1168\n",
      "\n",
      "Measuring validation accuracy...\n",
      "1250/1250 [==============================] - 1s 939us/step\n",
      "1950/1950 [==============================] - 1s 586us/step\n",
      "\n",
      "Validation accuracy: 0.95453\n",
      "\n",
      "\n",
      "Real test_data accuracy: 0.93595\n",
      "\n",
      "Epoch 3/5\n",
      "118/117 [==============================] - 13s 106ms/step - loss: 0.0568\n",
      "\n",
      "Measuring validation accuracy...\n",
      "1250/1250 [==============================] - 1s 1ms/step\n",
      "1950/1950 [==============================] - 1s 709us/step\n",
      "\n",
      "Validation accuracy: 0.96467\n",
      "\n",
      "\n",
      "Real test_data accuracy: 0.96222\n",
      "\n",
      "Epoch 4/5\n",
      "118/117 [==============================] - 19s 158ms/step - loss: 0.0461\n",
      "\n",
      "Measuring validation accuracy...\n",
      "1250/1250 [==============================] - 2s 1ms/step\n",
      "1950/1950 [==============================] - 2s 830us/step\n",
      "\n",
      "Validation accuracy: 0.96772\n",
      "\n",
      "\n",
      "Real test_data accuracy: 0.96943\n",
      "\n",
      "Epoch 5/5\n",
      "118/117 [==============================] - 25s 210ms/step - loss: 0.0409\n",
      "\n",
      "Measuring validation accuracy...\n",
      "1250/1250 [==============================] - 2s 1ms/step\n",
      "1950/1950 [==============================] - 2s 1ms/step\n",
      "\n",
      "Validation accuracy: 0.97220\n",
      "\n",
      "\n",
      "Real test_data accuracy: 0.97266\n",
      "\n"
     ]
    }
   ],
   "source": [
    "history = model.fit_generator(generate_batches(train_data), len(train_data)/BATCH_SIZE,\n",
    "                    callbacks=[EvaluateAccuracy()], epochs=5,)"
   ]
  },
  {
   "cell_type": "code",
   "execution_count": 123,
   "metadata": {},
   "outputs": [
    {
     "name": "stdout",
     "output_type": "stream",
     "text": [
      "1250/1250 [==============================] - 1s 1ms/step\n",
      "1950/1950 [==============================] - 1s 677us/step\n",
      "Final train accuracy: 0.96910\n",
      "Final test accuracy: 0.96822\n"
     ]
    }
   ],
   "source": [
    "train_acc, test_acc = compute_test_accuracy(model)\n",
    "print(\"Final train accuracy: %.5f\"%train_acc)\n",
    "print(\"Final test accuracy: %.5f\"%test_acc)"
   ]
  },
  {
   "cell_type": "code",
   "execution_count": 43,
   "metadata": {},
   "outputs": [],
   "source": [
    "# dummy_pred = model.predict(to_matrix(test_data.hashtag.values, char_to_id))[:, :, 1] > 0.5"
   ]
  },
  {
   "cell_type": "code",
   "execution_count": 44,
   "metadata": {},
   "outputs": [],
   "source": [
    "# i = 0\n",
    "# for pred, ref in zip(\n",
    "#     list(map(''.join, dummy_pred.astype('int8').astype('str'))),\n",
    "#     test_data[:100].true_segmentation.values):\n",
    "#     #print(pred)\n",
    "#     tmp = 55 - len(ref)\n",
    "#     ref_ = ref + '0'*tmp\n",
    "#     if pred != ref_:\n",
    "#         print(test_data.hashtag.values[i])\n",
    "#         print(pred)\n",
    "#         print(ref_)\n",
    "#         print()\n",
    "#     i += 1"
   ]
  },
  {
   "cell_type": "code",
   "execution_count": 46,
   "metadata": {},
   "outputs": [],
   "source": [
    "# #real_test_data\n",
    "# top_100 = real_test_data.hashtag.values[:100]\n",
    "# max_len_tmp = max(list(map(lambda x: len(x), top_100)))\n",
    "# dummy_pred_real = model.predict(to_matrix(top_100, char_to_id))[:, :, 1] > 0.5"
   ]
  },
  {
   "cell_type": "markdown",
   "metadata": {},
   "source": [
    "# Изменение accuracy с ростом данных\n",
    "\n",
    "10 итераций   \n",
    "начало: 5k   \n",
    "на каждой итерации генерируем тысячу хештегов и расширяем train/test   \n",
    "итог: модель, обученная на 15к хештегах "
   ]
  },
  {
   "cell_type": "code",
   "execution_count": 32,
   "metadata": {},
   "outputs": [],
   "source": [
    "model = keras.models.Sequential()\n",
    "model.add(L.InputLayer([None], dtype='int32'))\n",
    "model.add(L.Embedding(len(all_chars), 50)) # dim 100\n",
    "model.add(L.Bidirectional(L.LSTM(64, return_sequences=True)))\n",
    "stepwise_dense = L.Dense(2, activation='softmax')\n",
    "stepwise_dense = L.TimeDistributed(stepwise_dense)\n",
    "model.add(stepwise_dense)"
   ]
  },
  {
   "cell_type": "code",
   "execution_count": 33,
   "metadata": {},
   "outputs": [],
   "source": [
    "model.compile('adam', 'categorical_crossentropy')"
   ]
  },
  {
   "cell_type": "code",
   "execution_count": null,
   "metadata": {},
   "outputs": [],
   "source": [
    "data = pd.read_csv(\"./data_5k_with_classes_new.csv\", index_col=None).iloc[:, 1:]"
   ]
  },
  {
   "cell_type": "code",
   "execution_count": 35,
   "metadata": {},
   "outputs": [],
   "source": [
    "train_accs = []\n",
    "test_accs = []"
   ]
  },
  {
   "cell_type": "code",
   "execution_count": 74,
   "metadata": {},
   "outputs": [
    {
     "data": {
      "text/plain": [
       "(5000, 3)"
      ]
     },
     "execution_count": 74,
     "metadata": {},
     "output_type": "execute_result"
    }
   ],
   "source": [
    "data.shape"
   ]
  },
  {
   "cell_type": "code",
   "execution_count": 40,
   "metadata": {
    "scrolled": true
   },
   "outputs": [
    {
     "name": "stderr",
     "output_type": "stream",
     "text": [
      "100%|██████████| 250/250 [00:00<00:00, 937.93it/s] \n",
      "100%|██████████| 100/100 [00:00<00:00, 363.62it/s]\n",
      "100%|██████████| 60/60 [00:00<00:00, 1135.16it/s]\n",
      "100%|██████████| 50/50 [00:00<00:00, 7180.55it/s]\n",
      "100%|██████████| 30/30 [00:00<00:00, 6634.11it/s]\n",
      "100%|██████████| 10/10 [00:00<00:00, 308.87it/s]\n",
      "100%|██████████| 400/400 [00:00<00:00, 470.72it/s]\n",
      "100%|██████████| 100/100 [00:00<00:00, 10975.54it/s]\n"
     ]
    },
    {
     "name": "stdout",
     "output_type": "stream",
     "text": [
      "Epoch 1/5\n",
      "141/140 [==============================] - 16s 110ms/step - loss: 0.0370\n",
      "\n",
      "Measuring validation accuracy...\n",
      "1500/1500 [==============================] - 2s 1ms/step\n",
      "1950/1950 [==============================] - 2s 830us/step\n",
      "\n",
      "Validation accuracy: 0.97333\n",
      "\n",
      "\n",
      "Real test_data accuracy: 0.97234\n",
      "\n",
      "Epoch 2/5\n",
      "141/140 [==============================] - 23s 162ms/step - loss: 0.0333\n",
      "\n",
      "Measuring validation accuracy...\n",
      "1500/1500 [==============================] - 2s 1ms/step\n",
      "1950/1950 [==============================] - 2s 950us/step\n",
      "\n",
      "Validation accuracy: 0.97717\n",
      "\n",
      "\n",
      "Real test_data accuracy: 0.97406\n",
      "\n",
      "Epoch 3/5\n",
      "141/140 [==============================] - 21s 149ms/step - loss: 0.0305\n",
      "\n",
      "Measuring validation accuracy...\n",
      "1500/1500 [==============================] - 2s 1ms/step\n",
      "1950/1950 [==============================] - 2s 954us/step\n",
      "\n",
      "Validation accuracy: 0.98102\n",
      "\n",
      "\n",
      "Real test_data accuracy: 0.97551\n",
      "\n",
      "Epoch 4/5\n",
      "141/140 [==============================] - 21s 150ms/step - loss: 0.0263\n",
      "\n",
      "Measuring validation accuracy...\n",
      "1500/1500 [==============================] - 2s 1ms/step\n",
      "1950/1950 [==============================] - 2s 967us/step\n",
      "\n",
      "Validation accuracy: 0.98360\n",
      "\n",
      "\n",
      "Real test_data accuracy: 0.97670\n",
      "\n",
      "Epoch 5/5\n",
      "141/140 [==============================] - 22s 153ms/step - loss: 0.0235\n",
      "\n",
      "Measuring validation accuracy...\n",
      "1500/1500 [==============================] - 2s 1ms/step\n",
      "1950/1950 [==============================] - 2s 981us/step\n",
      "\n",
      "Validation accuracy: 0.98378\n",
      "\n",
      "\n",
      "Real test_data accuracy: 0.97632\n",
      "\n"
     ]
    },
    {
     "name": "stderr",
     "output_type": "stream",
     "text": [
      "100%|██████████| 250/250 [00:00<00:00, 563.04it/s]\n",
      "100%|██████████| 100/100 [00:00<00:00, 183.55it/s]\n",
      "100%|██████████| 60/60 [00:00<00:00, 563.09it/s]\n",
      "100%|██████████| 50/50 [00:00<00:00, 6256.23it/s]\n",
      "100%|██████████| 30/30 [00:00<00:00, 1803.77it/s]\n",
      "100%|██████████| 10/10 [00:00<00:00, 142.05it/s]\n",
      "100%|██████████| 400/400 [00:01<00:00, 294.47it/s]\n",
      "100%|██████████| 100/100 [00:00<00:00, 11398.49it/s]\n"
     ]
    },
    {
     "name": "stdout",
     "output_type": "stream",
     "text": [
      "Epoch 1/5\n",
      "165/164 [==============================] - 25s 152ms/step - loss: 0.0224\n",
      "\n",
      "Measuring validation accuracy...\n",
      "1750/1750 [==============================] - 2s 1ms/step\n",
      "1950/1950 [==============================] - 2s 923us/step\n",
      "\n",
      "Validation accuracy: 0.98631\n",
      "\n",
      "\n",
      "Real test_data accuracy: 0.97842\n",
      "\n",
      "Epoch 2/5\n",
      "165/164 [==============================] - 25s 150ms/step - loss: 0.0219\n",
      "\n",
      "Measuring validation accuracy...\n",
      "1750/1750 [==============================] - 2s 1ms/step\n",
      "1950/1950 [==============================] - 2s 950us/step\n",
      "\n",
      "Validation accuracy: 0.98389\n",
      "\n",
      "\n",
      "Real test_data accuracy: 0.97573\n",
      "\n",
      "Epoch 3/5\n",
      "165/164 [==============================] - 25s 153ms/step - loss: 0.0210\n",
      "\n",
      "Measuring validation accuracy...\n",
      "1750/1750 [==============================] - 2s 1ms/step\n",
      "1950/1950 [==============================] - 2s 912us/step\n",
      "\n",
      "Validation accuracy: 0.98675\n",
      "\n",
      "\n",
      "Real test_data accuracy: 0.98041\n",
      "\n",
      "Epoch 4/5\n",
      "165/164 [==============================] - 25s 149ms/step - loss: 0.0183\n",
      "\n",
      "Measuring validation accuracy...\n",
      "1750/1750 [==============================] - 3s 1ms/step\n",
      "1950/1950 [==============================] - 2s 995us/step\n",
      "\n",
      "Validation accuracy: 0.98743\n",
      "\n",
      "\n",
      "Real test_data accuracy: 0.98079\n",
      "\n",
      "Epoch 5/5\n",
      "165/164 [==============================] - 25s 149ms/step - loss: 0.0173\n",
      "\n",
      "Measuring validation accuracy...\n",
      "1750/1750 [==============================] - 2s 1ms/step\n",
      "1950/1950 [==============================] - 2s 938us/step\n",
      "\n",
      "Validation accuracy: 0.98706\n",
      "\n",
      "\n",
      "Real test_data accuracy: 0.97960\n",
      "\n"
     ]
    },
    {
     "name": "stderr",
     "output_type": "stream",
     "text": [
      "100%|██████████| 250/250 [00:00<00:00, 644.09it/s]\n",
      "100%|██████████| 100/100 [00:00<00:00, 220.24it/s]\n",
      "100%|██████████| 60/60 [00:00<00:00, 575.90it/s]\n",
      "100%|██████████| 50/50 [00:00<00:00, 5842.46it/s]\n",
      "100%|██████████| 30/30 [00:00<00:00, 2230.30it/s]\n",
      "100%|██████████| 10/10 [00:00<00:00, 177.36it/s]\n",
      "100%|██████████| 400/400 [00:01<00:00, 298.98it/s]\n",
      "100%|██████████| 100/100 [00:00<00:00, 11116.04it/s]\n"
     ]
    },
    {
     "name": "stdout",
     "output_type": "stream",
     "text": [
      "Epoch 1/5\n",
      "188/187 [==============================] - 27s 146ms/step - loss: 0.0170\n",
      "\n",
      "Measuring validation accuracy...\n",
      "2000/2000 [==============================] - 3s 1ms/step\n",
      "1950/1950 [==============================] - 2s 979us/step\n",
      "\n",
      "Validation accuracy: 0.98751\n",
      "\n",
      "\n",
      "Real test_data accuracy: 0.97896\n",
      "\n",
      "Epoch 2/5\n",
      "188/187 [==============================] - 27s 146ms/step - loss: 0.0159\n",
      "\n",
      "Measuring validation accuracy...\n",
      "2000/2000 [==============================] - 3s 1ms/step\n",
      "1950/1950 [==============================] - 2s 909us/step\n",
      "\n",
      "Validation accuracy: 0.98770\n",
      "\n",
      "\n",
      "Real test_data accuracy: 0.98025\n",
      "\n",
      "Epoch 3/5\n",
      "188/187 [==============================] - 27s 143ms/step - loss: 0.0153\n",
      "\n",
      "Measuring validation accuracy...\n",
      "2000/2000 [==============================] - 3s 1ms/step\n",
      "1950/1950 [==============================] - 2s 974us/step\n",
      "\n",
      "Validation accuracy: 0.98816\n",
      "\n",
      "\n",
      "Real test_data accuracy: 0.98014\n",
      "\n",
      "Epoch 4/5\n",
      "188/187 [==============================] - 27s 142ms/step - loss: 0.0146\n",
      "\n",
      "Measuring validation accuracy...\n",
      "2000/2000 [==============================] - 3s 1ms/step\n",
      "1950/1950 [==============================] - 2s 974us/step\n",
      "\n",
      "Validation accuracy: 0.98830\n",
      "\n",
      "\n",
      "Real test_data accuracy: 0.97879\n",
      "\n",
      "Epoch 5/5\n",
      "188/187 [==============================] - 27s 144ms/step - loss: 0.0138\n",
      "\n",
      "Measuring validation accuracy...\n",
      "2000/2000 [==============================] - 3s 1ms/step\n",
      "1950/1950 [==============================] - 2s 1ms/step\n",
      "\n",
      "Validation accuracy: 0.98884\n",
      "\n",
      "\n",
      "Real test_data accuracy: 0.98009\n",
      "\n"
     ]
    },
    {
     "name": "stderr",
     "output_type": "stream",
     "text": [
      "100%|██████████| 250/250 [00:00<00:00, 408.10it/s]\n",
      "100%|██████████| 100/100 [00:00<00:00, 158.33it/s]\n",
      "100%|██████████| 60/60 [00:00<00:00, 516.27it/s]\n",
      "100%|██████████| 50/50 [00:00<00:00, 4060.39it/s]\n",
      "100%|██████████| 30/30 [00:00<00:00, 5123.96it/s]\n",
      "100%|██████████| 10/10 [00:00<00:00, 160.96it/s]\n",
      "100%|██████████| 400/400 [00:01<00:00, 240.87it/s]\n",
      "100%|██████████| 100/100 [00:00<00:00, 11438.91it/s]\n"
     ]
    },
    {
     "name": "stdout",
     "output_type": "stream",
     "text": [
      "Epoch 1/5\n",
      "211/210 [==============================] - 30s 142ms/step - loss: 0.0136\n",
      "\n",
      "Measuring validation accuracy...\n",
      "2250/2250 [==============================] - 3s 1ms/step\n",
      "1950/1950 [==============================] - 2s 948us/step\n",
      "\n",
      "Validation accuracy: 0.98926\n",
      "\n",
      "\n",
      "Real test_data accuracy: 0.98062\n",
      "\n",
      "Epoch 2/5\n",
      "211/210 [==============================] - 30s 144ms/step - loss: 0.0129\n",
      "\n",
      "Measuring validation accuracy...\n",
      "2250/2250 [==============================] - 3s 1ms/step\n",
      "1950/1950 [==============================] - 2s 976us/step\n",
      "\n",
      "Validation accuracy: 0.98917\n",
      "\n",
      "\n",
      "Real test_data accuracy: 0.98003\n",
      "\n",
      "Epoch 3/5\n",
      "211/210 [==============================] - 30s 144ms/step - loss: 0.0118\n",
      "\n",
      "Measuring validation accuracy...\n",
      "2250/2250 [==============================] - 3s 1ms/step\n",
      "1950/1950 [==============================] - 2s 933us/step\n",
      "\n",
      "Validation accuracy: 0.98939\n",
      "\n",
      "\n",
      "Real test_data accuracy: 0.97955\n",
      "\n",
      "Epoch 4/5\n",
      "211/210 [==============================] - 32s 151ms/step - loss: 0.0113\n",
      "\n",
      "Measuring validation accuracy...\n",
      "2250/2250 [==============================] - 4s 2ms/step\n",
      "1950/1950 [==============================] - 2s 1ms/step\n",
      "\n",
      "Validation accuracy: 0.99076\n",
      "\n",
      "\n",
      "Real test_data accuracy: 0.98089\n",
      "\n",
      "Epoch 5/5\n",
      "211/210 [==============================] - 32s 154ms/step - loss: 0.0105\n",
      "\n",
      "Measuring validation accuracy...\n",
      "2250/2250 [==============================] - 3s 1ms/step\n",
      "1950/1950 [==============================] - 2s 967us/step\n",
      "\n",
      "Validation accuracy: 0.99038\n",
      "\n",
      "\n",
      "Real test_data accuracy: 0.98057\n",
      "\n"
     ]
    },
    {
     "name": "stderr",
     "output_type": "stream",
     "text": [
      "100%|██████████| 250/250 [00:00<00:00, 392.16it/s]\n",
      "100%|██████████| 100/100 [00:00<00:00, 164.19it/s]\n",
      "100%|██████████| 60/60 [00:00<00:00, 624.40it/s]\n",
      "100%|██████████| 50/50 [00:00<00:00, 6046.63it/s]\n",
      "100%|██████████| 30/30 [00:00<00:00, 1881.22it/s]\n",
      "100%|██████████| 10/10 [00:00<00:00, 131.07it/s]\n",
      "100%|██████████| 400/400 [00:01<00:00, 250.67it/s]\n",
      "100%|██████████| 100/100 [00:00<00:00, 5635.99it/s]\n"
     ]
    },
    {
     "name": "stdout",
     "output_type": "stream",
     "text": [
      "Epoch 1/5\n",
      "235/234 [==============================] - 45s 193ms/step - loss: 0.0101\n",
      "\n",
      "Measuring validation accuracy...\n",
      "2500/2500 [==============================] - 6s 3ms/step\n",
      "1950/1950 [==============================] - 4s 2ms/step\n",
      "\n",
      "Validation accuracy: 0.99142\n",
      "\n",
      "\n",
      "Real test_data accuracy: 0.98100\n",
      "\n",
      "Epoch 2/5\n",
      "235/234 [==============================] - 55s 235ms/step - loss: 0.0094\n",
      "\n",
      "Measuring validation accuracy...\n",
      "2500/2500 [==============================] - 5s 2ms/step\n",
      "1950/1950 [==============================] - 3s 1ms/step\n",
      "\n",
      "Validation accuracy: 0.99144\n",
      "\n",
      "\n",
      "Real test_data accuracy: 0.98014\n",
      "\n",
      "Epoch 3/5\n",
      "235/234 [==============================] - 39s 166ms/step - loss: 0.0087\n",
      "\n",
      "Measuring validation accuracy...\n",
      "2500/2500 [==============================] - 4s 1ms/step\n",
      "1950/1950 [==============================] - 2s 964us/step\n",
      "\n",
      "Validation accuracy: 0.99177\n",
      "\n",
      "\n",
      "Real test_data accuracy: 0.98036\n",
      "\n",
      "Epoch 4/5\n",
      "235/234 [==============================] - 35s 148ms/step - loss: 0.0080\n",
      "\n",
      "Measuring validation accuracy...\n",
      "2500/2500 [==============================] - 4s 2ms/step\n",
      "1950/1950 [==============================] - 2s 998us/step\n",
      "\n",
      "Validation accuracy: 0.99177\n",
      "\n",
      "\n",
      "Real test_data accuracy: 0.98095\n",
      "\n",
      "Epoch 5/5\n",
      "235/234 [==============================] - 45s 192ms/step - loss: 0.0072\n",
      "\n",
      "Measuring validation accuracy...\n",
      "2500/2500 [==============================] - 3s 1ms/step\n",
      "1950/1950 [==============================] - 2s 1ms/step\n",
      "\n",
      "Validation accuracy: 0.99166\n",
      "\n",
      "\n",
      "Real test_data accuracy: 0.98014\n",
      "\n"
     ]
    },
    {
     "name": "stderr",
     "output_type": "stream",
     "text": [
      "100%|██████████| 250/250 [00:00<00:00, 413.94it/s]\n",
      "100%|██████████| 100/100 [00:00<00:00, 155.27it/s]\n",
      "100%|██████████| 60/60 [00:00<00:00, 487.39it/s]\n",
      "100%|██████████| 50/50 [00:00<00:00, 2415.57it/s]\n",
      "100%|██████████| 30/30 [00:00<00:00, 3515.37it/s]\n",
      "100%|██████████| 10/10 [00:00<00:00, 156.37it/s]\n",
      "100%|██████████| 400/400 [00:01<00:00, 224.06it/s]\n",
      "100%|██████████| 100/100 [00:00<00:00, 4906.54it/s]\n"
     ]
    },
    {
     "name": "stdout",
     "output_type": "stream",
     "text": [
      "Epoch 1/5\n",
      "258/257 [==============================] - 39s 152ms/step - loss: 0.0071\n",
      "\n",
      "Measuring validation accuracy...\n",
      "2750/2750 [==============================] - 4s 1ms/step\n",
      "1950/1950 [==============================] - 2s 1ms/step\n",
      "\n",
      "Validation accuracy: 0.99277\n",
      "\n",
      "\n",
      "Real test_data accuracy: 0.98165\n",
      "\n",
      "Epoch 2/5\n",
      "258/257 [==============================] - 38s 148ms/step - loss: 0.0064\n",
      "\n",
      "Measuring validation accuracy...\n",
      "2750/2750 [==============================] - 4s 1ms/step\n",
      "1950/1950 [==============================] - 2s 903us/step\n",
      "\n",
      "Validation accuracy: 0.99312\n",
      "\n",
      "\n",
      "Real test_data accuracy: 0.98170\n",
      "\n",
      "Epoch 3/5\n",
      "258/257 [==============================] - 36s 140ms/step - loss: 0.0061\n",
      "\n",
      "Measuring validation accuracy...\n",
      "2750/2750 [==============================] - 4s 1ms/step\n",
      "1950/1950 [==============================] - 2s 1ms/step\n",
      "\n",
      "Validation accuracy: 0.99287\n",
      "\n",
      "\n",
      "Real test_data accuracy: 0.98105\n",
      "\n",
      "Epoch 4/5\n",
      "258/257 [==============================] - 38s 147ms/step - loss: 0.0054\n",
      "\n",
      "Measuring validation accuracy...\n",
      "2750/2750 [==============================] - 4s 1ms/step\n",
      "1950/1950 [==============================] - 2s 964us/step\n",
      "\n",
      "Validation accuracy: 0.99287\n",
      "\n",
      "\n",
      "Real test_data accuracy: 0.98186\n",
      "\n",
      "Epoch 5/5\n",
      "258/257 [==============================] - 40s 153ms/step - loss: 0.0047\n",
      "\n",
      "Measuring validation accuracy...\n",
      "2750/2750 [==============================] - 5s 2ms/step\n",
      "1950/1950 [==============================] - 2s 1ms/step\n",
      "\n",
      "Validation accuracy: 0.99249\n",
      "\n",
      "\n",
      "Real test_data accuracy: 0.97944\n",
      "\n"
     ]
    },
    {
     "name": "stderr",
     "output_type": "stream",
     "text": [
      "100%|██████████| 250/250 [00:00<00:00, 323.47it/s]\n",
      "100%|██████████| 100/100 [00:00<00:00, 127.34it/s]\n",
      "100%|██████████| 60/60 [00:00<00:00, 675.84it/s]\n",
      "100%|██████████| 50/50 [00:00<00:00, 2138.31it/s]\n",
      "100%|██████████| 30/30 [00:00<00:00, 1414.62it/s]\n",
      "100%|██████████| 10/10 [00:00<00:00, 101.67it/s]\n",
      "100%|██████████| 400/400 [00:02<00:00, 193.04it/s]\n",
      "100%|██████████| 100/100 [00:00<00:00, 4948.74it/s]\n"
     ]
    },
    {
     "name": "stdout",
     "output_type": "stream",
     "text": [
      "Epoch 1/5\n",
      "282/281 [==============================] - 42s 150ms/step - loss: 0.0048\n",
      "\n",
      "Measuring validation accuracy...\n",
      "3000/3000 [==============================] - 4s 1ms/step\n",
      "1950/1950 [==============================] - 2s 972us/step\n",
      "\n",
      "Validation accuracy: 0.99320\n",
      "\n",
      "\n",
      "Real test_data accuracy: 0.98116\n",
      "\n",
      "Epoch 2/5\n",
      "282/281 [==============================] - 40s 144ms/step - loss: 0.0042\n",
      "\n",
      "Measuring validation accuracy...\n",
      "3000/3000 [==============================] - 4s 1ms/step\n",
      "1950/1950 [==============================] - 2s 1ms/step\n",
      "\n",
      "Validation accuracy: 0.99356\n",
      "\n",
      "\n",
      "Real test_data accuracy: 0.98079\n",
      "\n",
      "Epoch 3/5\n",
      "282/281 [==============================] - 43s 154ms/step - loss: 0.0037\n",
      "\n",
      "Measuring validation accuracy...\n",
      "3000/3000 [==============================] - 5s 2ms/step\n",
      "1950/1950 [==============================] - 2s 1ms/step\n",
      "\n",
      "Validation accuracy: 0.99408\n",
      "\n",
      "\n",
      "Real test_data accuracy: 0.98143\n",
      "\n",
      "Epoch 4/5\n",
      "282/281 [==============================] - 43s 151ms/step - loss: 0.0035\n",
      "\n",
      "Measuring validation accuracy...\n",
      "3000/3000 [==============================] - 5s 2ms/step\n",
      "1950/1950 [==============================] - 2s 1ms/step\n",
      "\n",
      "Validation accuracy: 0.99417\n",
      "\n",
      "\n",
      "Real test_data accuracy: 0.98127\n",
      "\n",
      "Epoch 5/5\n",
      "282/281 [==============================] - 60s 212ms/step - loss: 0.0028\n",
      "\n",
      "Measuring validation accuracy...\n",
      "3000/3000 [==============================] - 6s 2ms/step\n",
      "1950/1950 [==============================] - 3s 1ms/step\n",
      "\n",
      "Validation accuracy: 0.99405\n",
      "\n",
      "\n",
      "Real test_data accuracy: 0.98138\n",
      "\n"
     ]
    },
    {
     "name": "stderr",
     "output_type": "stream",
     "text": [
      "100%|██████████| 250/250 [00:00<00:00, 343.54it/s]\n",
      "100%|██████████| 100/100 [00:00<00:00, 137.08it/s]\n",
      "100%|██████████| 60/60 [00:00<00:00, 387.45it/s]\n",
      "100%|██████████| 50/50 [00:00<00:00, 2500.36it/s]\n",
      "100%|██████████| 30/30 [00:00<00:00, 1506.54it/s]\n",
      "100%|██████████| 10/10 [00:00<00:00, 108.89it/s]\n",
      "100%|██████████| 400/400 [00:02<00:00, 193.02it/s]\n",
      "100%|██████████| 100/100 [00:00<00:00, 4500.86it/s]\n"
     ]
    },
    {
     "name": "stdout",
     "output_type": "stream",
     "text": [
      "Epoch 1/5\n",
      "305/304 [==============================] - 49s 162ms/step - loss: 0.0034\n",
      "\n",
      "Measuring validation accuracy...\n",
      "3250/3250 [==============================] - 6s 2ms/step\n",
      "1950/1950 [==============================] - 3s 1ms/step\n",
      "\n",
      "Validation accuracy: 0.99415\n",
      "\n",
      "\n",
      "Real test_data accuracy: 0.98003\n",
      "\n",
      "Epoch 2/5\n",
      "305/304 [==============================] - 66s 216ms/step - loss: 0.0028\n",
      "\n",
      "Measuring validation accuracy...\n",
      "3250/3250 [==============================] - 5s 1ms/step\n",
      "1950/1950 [==============================] - 2s 1ms/step\n",
      "\n",
      "Validation accuracy: 0.99409\n",
      "\n",
      "\n",
      "Real test_data accuracy: 0.98138\n",
      "\n",
      "Epoch 3/5\n",
      "305/304 [==============================] - 45s 147ms/step - loss: 0.0023\n",
      "\n",
      "Measuring validation accuracy...\n",
      "3250/3250 [==============================] - 4s 1ms/step\n",
      "1950/1950 [==============================] - 2s 1ms/step\n",
      "\n",
      "Validation accuracy: 0.99424\n",
      "\n",
      "\n",
      "Real test_data accuracy: 0.98132\n",
      "\n",
      "Epoch 4/5\n",
      "305/304 [==============================] - 48s 158ms/step - loss: 0.0019\n",
      "\n",
      "Measuring validation accuracy...\n",
      "3250/3250 [==============================] - 5s 2ms/step\n",
      "1950/1950 [==============================] - 2s 1ms/step\n",
      "\n",
      "Validation accuracy: 0.99446\n",
      "\n",
      "\n",
      "Real test_data accuracy: 0.98095\n",
      "\n",
      "Epoch 5/5\n",
      "305/304 [==============================] - 45s 149ms/step - loss: 0.0017\n",
      "\n",
      "Measuring validation accuracy...\n",
      "3250/3250 [==============================] - 6s 2ms/step\n",
      "1950/1950 [==============================] - 2s 1ms/step\n",
      "\n",
      "Validation accuracy: 0.99424\n",
      "\n",
      "\n",
      "Real test_data accuracy: 0.98079\n",
      "\n"
     ]
    },
    {
     "name": "stderr",
     "output_type": "stream",
     "text": [
      "100%|██████████| 250/250 [00:00<00:00, 375.76it/s]\n",
      "100%|██████████| 100/100 [00:00<00:00, 132.87it/s]\n",
      "100%|██████████| 60/60 [00:00<00:00, 650.15it/s]\n",
      "100%|██████████| 50/50 [00:00<00:00, 1901.26it/s]\n",
      "100%|██████████| 30/30 [00:00<00:00, 4901.22it/s]\n",
      "100%|██████████| 10/10 [00:00<00:00, 106.44it/s]\n",
      "100%|██████████| 400/400 [00:01<00:00, 207.63it/s]\n",
      "100%|██████████| 100/100 [00:00<00:00, 9823.19it/s]\n"
     ]
    },
    {
     "name": "stdout",
     "output_type": "stream",
     "text": [
      "Epoch 1/5\n",
      "329/328 [==============================] - 68s 207ms/step - loss: 0.0026\n",
      "\n",
      "Measuring validation accuracy...\n",
      "3500/3500 [==============================] - 8s 2ms/step\n",
      "1950/1950 [==============================] - 3s 2ms/step\n",
      "\n",
      "Validation accuracy: 0.99400\n",
      "\n",
      "\n",
      "Real test_data accuracy: 0.98105\n",
      "\n",
      "Epoch 2/5\n",
      "329/328 [==============================] - 69s 209ms/step - loss: 0.0019\n",
      "\n",
      "Measuring validation accuracy...\n",
      "3500/3500 [==============================] - 6s 2ms/step\n",
      "1950/1950 [==============================] - 2s 1ms/step\n",
      "\n",
      "Validation accuracy: 0.99445\n",
      "\n",
      "\n",
      "Real test_data accuracy: 0.98138\n",
      "\n",
      "Epoch 3/5\n",
      "329/328 [==============================] - 53s 163ms/step - loss: 0.0016\n",
      "\n",
      "Measuring validation accuracy...\n",
      "3500/3500 [==============================] - 5s 1ms/step\n",
      "1950/1950 [==============================] - 2s 951us/step\n",
      "\n",
      "Validation accuracy: 0.99480\n",
      "\n",
      "\n",
      "Real test_data accuracy: 0.98068\n",
      "\n",
      "Epoch 4/5\n",
      "329/328 [==============================] - 51s 155ms/step - loss: 0.0012\n",
      "\n",
      "Measuring validation accuracy...\n",
      "3500/3500 [==============================] - 11s 3ms/step\n",
      "1950/1950 [==============================] - 3s 1ms/step\n",
      "\n",
      "Validation accuracy: 0.99493\n",
      "\n",
      "\n",
      "Real test_data accuracy: 0.98084\n",
      "\n",
      "Epoch 5/5\n",
      "329/328 [==============================] - 56s 170ms/step - loss: 0.0010\n",
      "\n",
      "Measuring validation accuracy...\n",
      "3500/3500 [==============================] - 5s 1ms/step\n",
      "1950/1950 [==============================] - 2s 1ms/step\n",
      "\n",
      "Validation accuracy: 0.99504\n",
      "\n",
      "\n",
      "Real test_data accuracy: 0.98046\n",
      "\n"
     ]
    },
    {
     "name": "stderr",
     "output_type": "stream",
     "text": [
      "100%|██████████| 250/250 [00:00<00:00, 348.31it/s]\n",
      "100%|██████████| 100/100 [00:00<00:00, 144.41it/s]\n",
      "100%|██████████| 60/60 [00:00<00:00, 505.83it/s]\n",
      "100%|██████████| 50/50 [00:00<00:00, 5436.56it/s]\n",
      "100%|██████████| 30/30 [00:00<00:00, 3777.74it/s]\n",
      "100%|██████████| 10/10 [00:00<00:00, 138.82it/s]\n",
      "100%|██████████| 400/400 [00:02<00:00, 173.40it/s]\n",
      "100%|██████████| 100/100 [00:00<00:00, 10365.78it/s]\n"
     ]
    },
    {
     "name": "stdout",
     "output_type": "stream",
     "text": [
      "Epoch 1/5\n",
      "352/351 [==============================] - 57s 163ms/step - loss: 0.0020\n",
      "\n",
      "Measuring validation accuracy...\n",
      "3750/3750 [==============================] - 5s 1ms/step\n",
      "1950/1950 [==============================] - 2s 866us/step\n",
      "\n",
      "Validation accuracy: 0.99474\n",
      "\n",
      "\n",
      "Real test_data accuracy: 0.98062\n",
      "\n",
      "Epoch 2/5\n",
      "352/351 [==============================] - 50s 141ms/step - loss: 0.0012\n",
      "\n",
      "Measuring validation accuracy...\n",
      "3750/3750 [==============================] - 5s 1ms/step\n",
      "1950/1950 [==============================] - 2s 961us/step\n",
      "\n",
      "Validation accuracy: 0.99503\n",
      "\n",
      "\n",
      "Real test_data accuracy: 0.97982\n",
      "\n",
      "Epoch 3/5\n",
      "352/351 [==============================] - 51s 146ms/step - loss: 8.4771e-04\n",
      "\n",
      "Measuring validation accuracy...\n",
      "3750/3750 [==============================] - 5s 1ms/step\n",
      "1950/1950 [==============================] - 2s 1ms/step\n",
      "\n",
      "Validation accuracy: 0.99535\n",
      "\n",
      "\n",
      "Real test_data accuracy: 0.98046\n",
      "\n",
      "Epoch 4/5\n",
      "352/351 [==============================] - 52s 149ms/step - loss: 5.8866e-04\n",
      "\n",
      "Measuring validation accuracy...\n",
      "3750/3750 [==============================] - 5s 1ms/step\n",
      "1950/1950 [==============================] - 2s 1ms/step\n",
      "\n",
      "Validation accuracy: 0.99529\n",
      "\n",
      "\n",
      "Real test_data accuracy: 0.98111\n",
      "\n",
      "Epoch 5/5\n",
      "352/351 [==============================] - 52s 149ms/step - loss: 4.7401e-04\n",
      "\n",
      "Measuring validation accuracy...\n",
      "3750/3750 [==============================] - 5s 1ms/step\n",
      "1950/1950 [==============================] - 2s 1ms/step\n",
      "\n",
      "Validation accuracy: 0.99529\n",
      "\n",
      "\n",
      "Real test_data accuracy: 0.98062\n",
      "\n"
     ]
    }
   ],
   "source": [
    "#data = pd.read_csv(\"./dummy_data_with_classes.csv\", index_col=None).iloc[:, 1:]\n",
    "train_data_start, test_data_start = train_test_split(data, test_size=0.25, random_state=42)\n",
    "history_loss = []\n",
    "\n",
    "for i in range(10):\n",
    "    new_1000 = create_data1(500)\n",
    "    new_1000 += create_data2(500)\n",
    "    df_1000 = create_df(new_1000)\n",
    "    train_data_new, test_data_new = train_test_split(df_1000, test_size=0.25, random_state=42)\n",
    "    \n",
    "    train_data = pd.concat([train_data_start, train_data_new])\n",
    "    test_data = pd.concat([test_data_start, test_data_new])\n",
    "    \n",
    "    train_data_start = train_data\n",
    "    test_data_start = test_data\n",
    "\n",
    "    history = model.fit_generator(generate_batches(train_data), len(train_data)/BATCH_SIZE,\n",
    "                    callbacks=[EvaluateAccuracy()], epochs=5,)\n",
    "    history_loss += history.history['loss']"
   ]
  },
  {
   "cell_type": "code",
   "execution_count": null,
   "metadata": {},
   "outputs": [],
   "source": [
    "train_acc, test_acc = compute_test_accuracy(model)\n",
    "print(\"Final train accuracy: %.5f\"%train_acc)\n",
    "print(\"Final test accuracy: %.5f\"%test_acc)"
   ]
  },
  {
   "cell_type": "code",
   "execution_count": 41,
   "metadata": {},
   "outputs": [
    {
     "data": {
      "image/png": "[encoded data removed]",
      "text/plain": [
       "<matplotlib.figure.Figure at 0x1a1d067048>"
      ]
     },
     "metadata": {},
     "output_type": "display_data"
    }
   ],
   "source": [
    "figsize(15,6)\n",
    "plt.plot(history_loss)\n",
    "plt.title('model loss')\n",
    "plt.ylabel('loss')\n",
    "plt.xlabel('epoch')\n",
    "plt.legend(['train'], loc='upper right')\n",
    "plt.show()"
   ]
  },
  {
   "cell_type": "code",
   "execution_count": 246,
   "metadata": {},
   "outputs": [],
   "source": [
    "# train_acc_5th = train_accs[4::5]\n",
    "# test_acc_5th = test_accs[4::5]"
   ]
  },
  {
   "cell_type": "code",
   "execution_count": 42,
   "metadata": {},
   "outputs": [
    {
     "data": {
      "text/plain": [
       "55"
      ]
     },
     "execution_count": 42,
     "metadata": {},
     "output_type": "execute_result"
    }
   ],
   "source": [
    "len(train_accs)"
   ]
  },
  {
   "cell_type": "code",
   "execution_count": 43,
   "metadata": {},
   "outputs": [
    {
     "data": {
      "text/plain": [
       "<matplotlib.legend.Legend at 0x1a0e0d6a58>"
      ]
     },
     "execution_count": 43,
     "metadata": {},
     "output_type": "execute_result"
    },
    {
     "data": {
      "image/png": "[encoded data removed]",
      "text/plain": [
       "<matplotlib.figure.Figure at 0x1a0da12ba8>"
      ]
     },
     "metadata": {},
     "output_type": "display_data"
    }
   ],
   "source": [
    "# Plotting the loss\n",
    "figsize(15,6)\n",
    "# scalar_space = np.linspace(10000, 20000, 11)\n",
    "#scalar_space = np.linspace(5000, 15000, 12)\n",
    "scalar_space = np.linspace(5000, 15000, len(train_accs))\n",
    "\n",
    "plt.plot(scalar_space, train_accs, label='train_acc')\n",
    "plt.plot(scalar_space, test_accs, label='test_acc')\n",
    "plt.xlabel('number of hashtags')\n",
    "plt.ylabel('accuracy')\n",
    "plt.grid()\n",
    "plt.legend()"
   ]
  },
  {
   "cell_type": "code",
   "execution_count": 67,
   "metadata": {
    "scrolled": true
   },
   "outputs": [],
   "source": [
    "# from keras.utils import plot_model\n",
    "# plot_model(model_al, to_file='model.png', show_shapes=True, show_layer_names=True)"
   ]
  },
  {
   "cell_type": "code",
   "execution_count": null,
   "metadata": {},
   "outputs": [],
   "source": [
    "# from IPython.display import SVG\n",
    "# from keras.utils.vis_utils import model_to_dot\n",
    "\n",
    "# SVG(model_to_dot(model).create(prog='dot', format='svg'))"
   ]
  },
  {
   "cell_type": "markdown",
   "metadata": {},
   "source": [
    "# Char embeddings visualization\n",
    "## TSNE and SVD"
   ]
  },
  {
   "cell_type": "code",
   "execution_count": 44,
   "metadata": {},
   "outputs": [],
   "source": [
    "from sklearn.manifold import TSNE\n",
    "from sklearn.decomposition import TruncatedSVD\n",
    "import seaborn as sns"
   ]
  },
  {
   "cell_type": "code",
   "execution_count": 45,
   "metadata": {},
   "outputs": [
    {
     "data": {
      "text/plain": [
       "73"
      ]
     },
     "execution_count": 45,
     "metadata": {},
     "output_type": "execute_result"
    }
   ],
   "source": [
    "embeddings = model.layers[1].get_weights()[0]\n",
    "len(embeddings)"
   ]
  },
  {
   "cell_type": "markdown",
   "metadata": {},
   "source": [
    "Sound distribution for colours:"
   ]
  },
  {
   "cell_type": "code",
   "execution_count": 46,
   "metadata": {},
   "outputs": [],
   "source": [
    "vowels = 'аАеЕиИоОуУыЫяЯэЭюЮ'\n",
    "#neutral = \",.-' \"\n",
    "nums = '0123456789_'\n",
    "\n",
    "sound_distribution = []\n",
    "for i in all_chars:\n",
    "    if i in vowels:\n",
    "        sound_distribution.append(0)\n",
    "    elif i in nums:\n",
    "         sound_distribution.append(2)\n",
    "    else:\n",
    "        sound_distribution.append(1)"
   ]
  },
  {
   "cell_type": "code",
   "execution_count": 47,
   "metadata": {},
   "outputs": [],
   "source": [
    "def label_point(x, y, val, ax):\n",
    "    a = pd.concat({'X': x, 'Y': y, 'letters': val}, axis=1)\n",
    "    for i, point in a.iterrows():\n",
    "        ax.text(point['X']+.02, point['Y'], str(point['letters']))"
   ]
  },
  {
   "cell_type": "code",
   "execution_count": 48,
   "metadata": {},
   "outputs": [],
   "source": [
    "def build_plot(tx, ty, all_letters, sound_distribution):\n",
    "    df = pd.DataFrame({'X': tx, 'Y': ty, 'letters' : all_letters, 'color':sound_distribution})\n",
    "\n",
    "    tf = sns.lmplot('X', # Horizontal axis\n",
    "           'Y', # Vertical axis\n",
    "           data=df, # Data source\n",
    "           fit_reg=False, # Don't fix a regression line\n",
    "           size = 5,\n",
    "           aspect = 2,\n",
    "           hue=\"color\", legend=False)\n",
    "\n",
    "    label_point(df['X'], df['Y'], df['letters'], plt.gca())  "
   ]
  },
  {
   "cell_type": "code",
   "execution_count": 49,
   "metadata": {},
   "outputs": [
    {
     "data": {
      "image/png": "[encoded data removed]",
      "text/plain": [
       "<matplotlib.figure.Figure at 0x1a1cd25fd0>"
      ]
     },
     "metadata": {},
     "output_type": "display_data"
    }
   ],
   "source": [
    "tsne_model = TSNE(n_components=2, random_state=0)\n",
    "tsne_vectors = tsne_model.fit_transform(embeddings)\n",
    "tx, ty = tsne_vectors[:, 0], tsne_vectors[:, 1]\n",
    "build_plot(tx, ty, list(all_chars), sound_distribution)"
   ]
  },
  {
   "cell_type": "code",
   "execution_count": 50,
   "metadata": {
    "scrolled": false
   },
   "outputs": [
    {
     "data": {
      "image/png": "[encoded data removed]",
      "text/plain": [
       "<matplotlib.figure.Figure at 0x1a1cd85898>"
      ]
     },
     "metadata": {},
     "output_type": "display_data"
    }
   ],
   "source": [
    "svd_model = TruncatedSVD(n_components=4, random_state=0)\n",
    "svd_vectors = svd_model.fit_transform(embeddings)\n",
    "sx, sy = svd_vectors[:, 0], svd_vectors[:, 1]\n",
    "build_plot(sx, sy, list(all_chars), sound_distribution)"
   ]
  },
  {
   "cell_type": "markdown",
   "metadata": {},
   "source": [
    "# Distribution of incorrect answers by hashtag types"
   ]
  },
  {
   "cell_type": "code",
   "execution_count": 144,
   "metadata": {},
   "outputs": [
    {
     "name": "stdout",
     "output_type": "stream",
     "text": [
      "3750/3750 [==============================] - 5s 1ms/step\n"
     ]
    }
   ],
   "source": [
    "test_words = test_data_start.hashtag.values\n",
    "test_tags = test_data_start.true_segmentation.values\n",
    "test_classes = test_data_start.hashtag_class.values\n",
    "test_words, test_tags = to_matrix(test_words, char_to_id),to_matrix(test_tags,tag_to_id)\n",
    "\n",
    "#predict tag probabilities of shape [batch,time,n_tags]\n",
    "predicted_tag_probabilities = model.predict(test_words,verbose=1)\n",
    "predicted_tags = predicted_tag_probabilities.argmax(axis=-1)"
   ]
  },
  {
   "cell_type": "code",
   "execution_count": 150,
   "metadata": {},
   "outputs": [],
   "source": [
    "classes_dict = {i+1: 0 for i in np.unique(test_classes)}"
   ]
  },
  {
   "cell_type": "code",
   "execution_count": 151,
   "metadata": {},
   "outputs": [
    {
     "data": {
      "text/plain": [
       "{1: 0, 2: 0, 3: 0, 4: 0, 5: 0, 6: 0, 7: 0, 8: 0, 9: 0, 10: 0, 11: 0}"
      ]
     },
     "execution_count": 151,
     "metadata": {},
     "output_type": "execute_result"
    }
   ],
   "source": [
    "classes_dict"
   ]
  },
  {
   "cell_type": "code",
   "execution_count": 153,
   "metadata": {},
   "outputs": [],
   "source": [
    "tmp = [np.sum(i) for i in (predicted_tags == test_tags)]\n",
    "#tmp = np.logical_and(predicted_tags == test_tags)\n",
    "for i, el in enumerate(tmp):\n",
    "    if el != 55:\n",
    "        hash_class = test_classes[i]\n",
    "        classes_dict[hash_class+1] += 1"
   ]
  },
  {
   "cell_type": "code",
   "execution_count": 154,
   "metadata": {},
   "outputs": [
    {
     "data": {
      "text/plain": [
       "{1: 9, 2: 18, 3: 11, 4: 111, 5: 13, 6: 24, 7: 55, 8: 84, 9: 2, 10: 4, 11: 5}"
      ]
     },
     "execution_count": 154,
     "metadata": {},
     "output_type": "execute_result"
    }
   ],
   "source": [
    "classes_dict"
   ]
  },
  {
   "cell_type": "code",
   "execution_count": 209,
   "metadata": {},
   "outputs": [
    {
     "data": {
      "image/png": "[encoded data removed]",
      "text/plain": [
       "<matplotlib.figure.Figure at 0x7f6dbf4cb0b8>"
      ]
     },
     "metadata": {},
     "output_type": "display_data"
    }
   ],
   "source": [
    "#import matplotlib.pyplot as plt\n",
    "figsize(15,6)\n",
    "x = classes_dict.keys()\n",
    "y = classes_dict.values()\n",
    "plt.title('Ошибки по классам')\n",
    "plt.xlabel(\"Класс хештега\", fontsize=15)\n",
    "plt.ylabel(\"Кол-во ошибок\", fontsize=15)\n",
    "plt.bar(x, y)\n",
    "plt.grid()"
   ]
  },
  {
   "cell_type": "markdown",
   "metadata": {},
   "source": [
    "10 iterations   \n",
    "each has 5 epochs"
   ]
  },
  {
   "cell_type": "code",
   "execution_count": 63,
   "metadata": {},
   "outputs": [
    {
     "data": {
      "image/png": "[encoded data removed]",
      "text/plain": [
       "<matplotlib.figure.Figure at 0x7fa7e4081c88>"
      ]
     },
     "metadata": {},
     "output_type": "display_data"
    }
   ],
   "source": [
    "#import matplotlib.pyplot as plt\n",
    "figsize(15,6)\n",
    "x = classes_dict.keys()\n",
    "y = classes_dict.values()\n",
    "plt.title('Ошибки по классам')\n",
    "plt.xlabel(\"Класс хештега\", fontsize=15)\n",
    "plt.ylabel(\"Кол-во ошибок\", fontsize=15)\n",
    "plt.bar(x, y)\n",
    "plt.grid()"
   ]
  },
  {
   "cell_type": "markdown",
   "metadata": {},
   "source": [
    "# Active Learning"
   ]
  },
  {
   "cell_type": "code",
   "execution_count": 57,
   "metadata": {},
   "outputs": [],
   "source": [
    "def compute_test_accuracy_al(model):\n",
    "    #TRAIN_ACC\n",
    "    test_words = test_data.hashtag.values\n",
    "    test_tags = test_data.true_segmentation.values\n",
    "    test_words,test_tags = to_matrix(test_words, char_to_id),to_matrix(test_tags,tag_to_id)\n",
    "    \n",
    "    #predict tag probabilities of shape [batch,time,n_tags]\n",
    "    predicted_tag_probabilities = model.predict(test_words,verbose=1)\n",
    "    predicted_tags = predicted_tag_probabilities.argmax(axis=-1)\n",
    "\n",
    "    #compute accurary excluding padding\n",
    "    numerator = np.sum(np.logical_and((predicted_tags == test_tags),(test_words != 0)))\n",
    "    denominator = np.sum(test_words != 0)\n",
    "    \n",
    "    train_acc = float(numerator)/denominator\n",
    "    return train_acc\n",
    "\n",
    "train_accs_al = []\n",
    "test_accs_al = []\n",
    "\n",
    "class EvaluateAccuracy_al(keras.callbacks.Callback):\n",
    "    def on_epoch_end(self,epoch,logs=None):\n",
    "        sys.stdout.flush()\n",
    "        print(\"\\nMeasuring validation accuracy...\")\n",
    "        train_acc = compute_test_accuracy_al(self.model)\n",
    "        train_accs_al.append(train_acc)\n",
    "        print(\"\\nValidation accuracy: %.5f\\n\"%train_acc)\n",
    "        sys.stdout.flush()\n",
    "        "
   ]
  },
  {
   "cell_type": "code",
   "execution_count": 1,
   "metadata": {},
   "outputs": [],
   "source": [
    "def checker(words, predicted_tag_probabilities):\n",
    "    \"gets probability of segmentation\"\n",
    "    res = []\n",
    "    for w, predicted_tag_prob in tqdm(zip(words, predicted_tag_probabilities)):\n",
    "        prob = np.prod(predicted_tag_prob.max(axis=-1))/len(predicted_tag_prob)\n",
    "        res.append((w, prob))\n",
    "    return re"
   ]
  },
  {
   "cell_type": "code",
   "execution_count": 59,
   "metadata": {
    "scrolled": true
   },
   "outputs": [
    {
     "data": {
      "text/html": [
       "<div>\n",
       "<style scoped>\n",
       "    .dataframe tbody tr th:only-of-type {\n",
       "        vertical-align: middle;\n",
       "    }\n",
       "\n",
       "    .dataframe tbody tr th {\n",
       "        vertical-align: top;\n",
       "    }\n",
       "\n",
       "    .dataframe thead th {\n",
       "        text-align: right;\n",
       "    }\n",
       "</style>\n",
       "<table border=\"1\" class=\"dataframe\">\n",
       "  <thead>\n",
       "    <tr style=\"text-align: right;\">\n",
       "      <th></th>\n",
       "      <th>hashtag</th>\n",
       "      <th>hashtag_class</th>\n",
       "      <th>true_segmentation</th>\n",
       "    </tr>\n",
       "  </thead>\n",
       "  <tbody>\n",
       "    <tr>\n",
       "      <th>0</th>\n",
       "      <td>подтопленными</td>\n",
       "      <td>5</td>\n",
       "      <td>0000000000001</td>\n",
       "    </tr>\n",
       "    <tr>\n",
       "      <th>1</th>\n",
       "      <td>службыкинологической7центр</td>\n",
       "      <td>7</td>\n",
       "      <td>00000100000000000001100001</td>\n",
       "    </tr>\n",
       "    <tr>\n",
       "      <th>2</th>\n",
       "      <td>человек7007россии</td>\n",
       "      <td>6</td>\n",
       "      <td>00000010001000001</td>\n",
       "    </tr>\n",
       "    <tr>\n",
       "      <th>3</th>\n",
       "      <td>компанией</td>\n",
       "      <td>5</td>\n",
       "      <td>000000001</td>\n",
       "    </tr>\n",
       "    <tr>\n",
       "      <th>4</th>\n",
       "      <td>поступилосообщениелетней</td>\n",
       "      <td>7</td>\n",
       "      <td>000000001000000001000001</td>\n",
       "    </tr>\n",
       "  </tbody>\n",
       "</table>\n",
       "</div>"
      ],
      "text/plain": [
       "                      hashtag  hashtag_class           true_segmentation\n",
       "0               подтопленными              5               0000000000001\n",
       "1  службыкинологической7центр              7  00000100000000000001100001\n",
       "2           человек7007россии              6           00000010001000001\n",
       "3                   компанией              5                   000000001\n",
       "4    поступилосообщениелетней              7    000000001000000001000001"
      ]
     },
     "execution_count": 59,
     "metadata": {},
     "output_type": "execute_result"
    }
   ],
   "source": [
    "df_15k = pd.read_csv(\"data_15k_with_classes_new.csv\", index_col=None).iloc[:, 1:]\n",
    "df_15k.head()"
   ]
  },
  {
   "cell_type": "code",
   "execution_count": 60,
   "metadata": {},
   "outputs": [],
   "source": [
    "history_loss_al = []"
   ]
  },
  {
   "cell_type": "code",
   "execution_count": 61,
   "metadata": {},
   "outputs": [],
   "source": [
    "df_15k_shuffled = shuffle(df_15k)\n",
    "start_1k = df_15k_shuffled.iloc[:1000]"
   ]
  },
  {
   "cell_type": "code",
   "execution_count": 62,
   "metadata": {},
   "outputs": [],
   "source": [
    "model_al = keras.models.Sequential()\n",
    "model_al.add(L.InputLayer([None], dtype='int32'))\n",
    "model_al.add(L.Embedding(len(all_chars), 50)) # dim 100\n",
    "model_al.add(L.Bidirectional(L.LSTM(64, return_sequences=True)))\n",
    "stepwise_dense = L.Dense(2, activation='softmax')\n",
    "stepwise_dense = L.TimeDistributed(stepwise_dense)\n",
    "model_al.add(stepwise_dense)"
   ]
  },
  {
   "cell_type": "code",
   "execution_count": 63,
   "metadata": {},
   "outputs": [],
   "source": [
    "model_al.compile('adam', 'categorical_crossentropy')"
   ]
  },
  {
   "cell_type": "code",
   "execution_count": 65,
   "metadata": {},
   "outputs": [],
   "source": [
    "train_data = start_1k\n",
    "test_data = df_15k_shuffled.iloc[1000:]"
   ]
  },
  {
   "cell_type": "code",
   "execution_count": 68,
   "metadata": {
    "scrolled": true
   },
   "outputs": [
    {
     "name": "stdout",
     "output_type": "stream",
     "text": [
      "Epoch 1/5\n",
      "32/31 [==============================] - 6s 180ms/step - loss: 0.4065\n",
      "\n",
      "Measuring validation accuracy...\n",
      "14000/14000 [==============================] - 13s 911us/step\n",
      "\n",
      "Validation accuracy: 0.82967\n",
      "\n",
      "Epoch 2/5\n",
      "32/31 [==============================] - 3s 86ms/step - loss: 0.2478\n",
      "\n",
      "Measuring validation accuracy...\n",
      "14000/14000 [==============================] - 14s 1ms/step\n",
      "\n",
      "Validation accuracy: 0.82967\n",
      "\n",
      "Epoch 3/5\n",
      "32/31 [==============================] - 3s 102ms/step - loss: 0.2164\n",
      "\n",
      "Measuring validation accuracy...\n",
      "14000/14000 [==============================] - 15s 1ms/step\n",
      "\n",
      "Validation accuracy: 0.82967\n",
      "\n",
      "Epoch 4/5\n",
      "32/31 [==============================] - 3s 100ms/step - loss: 0.1960\n",
      "\n",
      "Measuring validation accuracy...\n",
      "14000/14000 [==============================] - 15s 1ms/step\n",
      "\n",
      "Validation accuracy: 0.83423\n",
      "\n",
      "Epoch 5/5\n",
      "32/31 [==============================] - 3s 105ms/step - loss: 0.1571\n",
      "\n",
      "Measuring validation accuracy...\n",
      "14000/14000 [==============================] - 14s 990us/step\n",
      "\n",
      "Validation accuracy: 0.87189\n",
      "\n",
      "14000/14000 [==============================] - 15s 1ms/step\n"
     ]
    },
    {
     "name": "stderr",
     "output_type": "stream",
     "text": [
      "14000it [00:00, 33512.46it/s]\n"
     ]
    },
    {
     "name": "stdout",
     "output_type": "stream",
     "text": [
      "0\n",
      "Epoch 1/5\n",
      "63/62 [==============================] - 8s 127ms/step - loss: 0.1082\n",
      "\n",
      "Measuring validation accuracy...\n",
      "13000/13000 [==============================] - 13s 976us/step\n",
      "\n",
      "Validation accuracy: 0.94348\n",
      "\n",
      "Epoch 2/5\n",
      "63/62 [==============================] - 13s 201ms/step - loss: 0.0659\n",
      "\n",
      "Measuring validation accuracy...\n",
      "13000/13000 [==============================] - 15s 1ms/step\n",
      "\n",
      "Validation accuracy: 0.95665\n",
      "\n",
      "Epoch 3/5\n",
      "63/62 [==============================] - 11s 168ms/step - loss: 0.0556\n",
      "\n",
      "Measuring validation accuracy...\n",
      "13000/13000 [==============================] - 18s 1ms/step\n",
      "\n",
      "Validation accuracy: 0.96080\n",
      "\n",
      "Epoch 4/5\n",
      "63/62 [==============================] - 9s 136ms/step - loss: 0.0495\n",
      "\n",
      "Measuring validation accuracy...\n",
      "13000/13000 [==============================] - 12s 945us/step\n",
      "\n",
      "Validation accuracy: 0.96313\n",
      "\n",
      "Epoch 5/5\n",
      "63/62 [==============================] - 12s 192ms/step - loss: 0.0460\n",
      "\n",
      "Measuring validation accuracy...\n",
      "13000/13000 [==============================] - 14s 1ms/step\n",
      "\n",
      "Validation accuracy: 0.96493\n",
      "\n",
      "13000/13000 [==============================] - 18s 1ms/step\n"
     ]
    },
    {
     "name": "stderr",
     "output_type": "stream",
     "text": [
      "13000it [00:00, 16352.29it/s]\n"
     ]
    },
    {
     "name": "stdout",
     "output_type": "stream",
     "text": [
      "1\n",
      "Epoch 1/5\n",
      "94/93 [==============================] - 19s 198ms/step - loss: 0.0661\n",
      "\n",
      "Measuring validation accuracy...\n",
      "12000/12000 [==============================] - 18s 2ms/step\n",
      "\n",
      "Validation accuracy: 0.97419\n",
      "\n",
      "Epoch 2/5\n",
      "94/93 [==============================] - 17s 183ms/step - loss: 0.0578\n",
      "\n",
      "Measuring validation accuracy...\n",
      "12000/12000 [==============================] - 22s 2ms/step\n",
      "\n",
      "Validation accuracy: 0.97671\n",
      "\n",
      "Epoch 3/5\n",
      "94/93 [==============================] - 15s 161ms/step - loss: 0.0518\n",
      "\n",
      "Measuring validation accuracy...\n",
      "12000/12000 [==============================] - 18s 2ms/step\n",
      "\n",
      "Validation accuracy: 0.97806\n",
      "\n",
      "Epoch 4/5\n",
      "94/93 [==============================] - 24s 256ms/step - loss: 0.0487\n",
      "\n",
      "Measuring validation accuracy...\n",
      "12000/12000 [==============================] - 17s 1ms/step\n",
      "\n",
      "Validation accuracy: 0.97895\n",
      "\n",
      "Epoch 5/5\n",
      "94/93 [==============================] - 15s 160ms/step - loss: 0.0446\n",
      "\n",
      "Measuring validation accuracy...\n",
      "12000/12000 [==============================] - 14s 1ms/step\n",
      "\n",
      "Validation accuracy: 0.98059\n",
      "\n",
      "12000/12000 [==============================] - 18s 1ms/step\n"
     ]
    },
    {
     "name": "stderr",
     "output_type": "stream",
     "text": [
      "12000it [00:00, 21818.02it/s]\n"
     ]
    },
    {
     "name": "stdout",
     "output_type": "stream",
     "text": [
      "2\n",
      "Epoch 1/5\n",
      "125/125 [==============================] - 23s 186ms/step - loss: 0.0335\n",
      "\n",
      "Measuring validation accuracy...\n",
      "11000/11000 [==============================] - 25s 2ms/step\n",
      "\n",
      "Validation accuracy: 0.98990\n",
      "\n",
      "Epoch 5/5\n",
      "125/125 [==============================] - 34s 269ms/step - loss: 0.0317\n",
      "\n",
      "Measuring validation accuracy...\n",
      "11000/11000 [==============================] - 20s 2ms/step\n",
      "\n",
      "Validation accuracy: 0.99025\n",
      "\n",
      "11000/11000 [==============================] - 14s 1ms/step\n"
     ]
    },
    {
     "name": "stderr",
     "output_type": "stream",
     "text": [
      "11000it [00:00, 12636.88it/s]\n"
     ]
    },
    {
     "name": "stdout",
     "output_type": "stream",
     "text": [
      "3\n",
      "Epoch 1/5\n",
      "219/218 [==============================] - 70s 319ms/step - loss: 0.0198\n",
      "\n",
      "Measuring validation accuracy...\n",
      "8000/8000 [==============================] - 23s 3ms/step\n",
      "\n",
      "Validation accuracy: 0.99924\n",
      "\n",
      "Epoch 2/5\n",
      "219/218 [==============================] - 65s 297ms/step - loss: 0.0182\n",
      "\n",
      "Measuring validation accuracy...\n",
      "8000/8000 [==============================] - 15s 2ms/step\n",
      "\n",
      "Validation accuracy: 0.99924\n",
      "\n",
      "Epoch 3/5\n",
      "219/218 [==============================] - 65s 298ms/step - loss: 0.0165\n",
      "\n",
      "Measuring validation accuracy...\n",
      "8000/8000 [==============================] - 11s 1ms/step\n",
      "\n",
      "Validation accuracy: 0.99924\n",
      "\n",
      "Epoch 4/5\n",
      "219/218 [==============================] - 47s 216ms/step - loss: 0.0150\n",
      "\n",
      "Measuring validation accuracy...\n",
      "8000/8000 [==============================] - 12s 2ms/step\n",
      "\n",
      "Validation accuracy: 0.99924\n",
      "\n",
      "Epoch 5/5\n",
      "219/218 [==============================] - 48s 219ms/step - loss: 0.0137\n",
      "\n",
      "Measuring validation accuracy...\n",
      "8000/8000 [==============================] - 12s 1ms/step\n",
      "\n",
      "Validation accuracy: 0.99923\n",
      "\n",
      "8000/8000 [==============================] - 16s 2ms/step\n"
     ]
    },
    {
     "name": "stderr",
     "output_type": "stream",
     "text": [
      "8000it [00:00, 8310.82it/s] \n"
     ]
    },
    {
     "name": "stdout",
     "output_type": "stream",
     "text": [
      "6\n",
      "Epoch 1/5\n",
      "250/250 [==============================] - 69s 274ms/step - loss: 0.0118\n",
      "\n",
      "Measuring validation accuracy...\n",
      "7000/7000 [==============================] - 10s 1ms/step\n",
      "\n",
      "Validation accuracy: 0.99972\n",
      "\n",
      "Epoch 2/5\n",
      "250/250 [==============================] - 58s 231ms/step - loss: 0.0099\n",
      "\n",
      "Measuring validation accuracy...\n",
      "7000/7000 [==============================] - 7s 1ms/step\n",
      "\n",
      "Validation accuracy: 0.99972\n",
      "\n",
      "Epoch 4/5\n",
      "250/250 [==============================] - 51s 205ms/step - loss: 0.0090\n",
      "\n",
      "Measuring validation accuracy...\n",
      "7000/7000 [==============================] - 12s 2ms/step\n",
      "\n",
      "Validation accuracy: 0.99972\n",
      "\n",
      "Epoch 5/5\n",
      "250/250 [==============================] - 44s 176ms/step - loss: 0.0081\n",
      "\n",
      "Measuring validation accuracy...\n",
      "7000/7000 [==============================] - 8s 1ms/step\n",
      "\n",
      "Validation accuracy: 0.99972\n",
      "\n",
      "7000/7000 [==============================] - 8s 1ms/step\n"
     ]
    },
    {
     "name": "stderr",
     "output_type": "stream",
     "text": [
      "7000it [00:02, 3144.90it/s] \n"
     ]
    },
    {
     "name": "stdout",
     "output_type": "stream",
     "text": [
      "7\n",
      "Epoch 1/5\n",
      "282/281 [==============================] - 48s 171ms/step - loss: 0.0069\n",
      "\n",
      "Measuring validation accuracy...\n",
      "6000/6000 [==============================] - 9s 1ms/step\n",
      "\n",
      "Validation accuracy: 0.99986\n",
      "\n",
      "Epoch 2/5\n",
      "282/281 [==============================] - 48s 169ms/step - loss: 0.0062\n",
      "\n",
      "Measuring validation accuracy...\n",
      "6000/6000 [==============================] - 7s 1ms/step\n",
      "\n",
      "Validation accuracy: 0.99986\n",
      "\n",
      "Epoch 3/5\n",
      "282/281 [==============================] - 64s 228ms/step - loss: 0.0055\n",
      "\n",
      "Measuring validation accuracy...\n",
      "6000/6000 [==============================] - 10s 2ms/step\n",
      "\n",
      "Validation accuracy: 0.99986\n",
      "\n",
      "Epoch 4/5\n",
      "282/281 [==============================] - 76s 270ms/step - loss: 0.0051\n",
      "\n",
      "Measuring validation accuracy...\n",
      "6000/6000 [==============================] - 13s 2ms/step\n",
      "\n",
      "Validation accuracy: 0.99986\n",
      "\n",
      "Epoch 5/5\n",
      "282/281 [==============================] - 63s 222ms/step - loss: 0.0046\n",
      "\n",
      "Measuring validation accuracy...\n",
      "6000/6000 [==============================] - 8s 1ms/step\n",
      "\n",
      "Validation accuracy: 0.99986\n",
      "\n",
      "6000/6000 [==============================] - 7s 1ms/step\n"
     ]
    },
    {
     "name": "stderr",
     "output_type": "stream",
     "text": [
      "6000it [00:00, 17219.35it/s]\n"
     ]
    },
    {
     "name": "stdout",
     "output_type": "stream",
     "text": [
      "8\n",
      "Epoch 1/5\n",
      "313/312 [==============================] - 59s 189ms/step - loss: 0.0036\n",
      "\n",
      "Measuring validation accuracy...\n",
      "5000/5000 [==============================] - 10s 2ms/step\n",
      "\n",
      "Validation accuracy: 0.99988\n",
      "\n",
      "Epoch 2/5\n",
      "313/312 [==============================] - 71s 227ms/step - loss: 0.0033\n",
      "\n",
      "Measuring validation accuracy...\n",
      "5000/5000 [==============================] - 13s 3ms/step\n",
      "\n",
      "Validation accuracy: 0.99988\n",
      "\n",
      "Epoch 3/5\n",
      "313/312 [==============================] - 90s 286ms/step - loss: 0.0028\n",
      "\n",
      "Measuring validation accuracy...\n",
      "5000/5000 [==============================] - 14s 3ms/step\n",
      "\n",
      "Validation accuracy: 0.99988\n",
      "\n",
      "Epoch 4/5\n",
      "313/312 [==============================] - 85s 273ms/step - loss: 0.0026\n",
      "\n",
      "Measuring validation accuracy...\n",
      "5000/5000 [==============================] - 8s 2ms/step\n",
      "\n",
      "Validation accuracy: 0.99988\n",
      "\n",
      "Epoch 5/5\n",
      "313/312 [==============================] - 49s 156ms/step - loss: 0.0022\n",
      "\n",
      "Measuring validation accuracy...\n",
      "5000/5000 [==============================] - 7s 1ms/step\n",
      "\n",
      "Validation accuracy: 0.99988\n",
      "\n",
      "5000/5000 [==============================] - 13s 3ms/step\n"
     ]
    },
    {
     "name": "stderr",
     "output_type": "stream",
     "text": [
      "5000it [00:00, 11124.91it/s]\n"
     ]
    },
    {
     "name": "stdout",
     "output_type": "stream",
     "text": [
      "9\n",
      "Epoch 1/5\n",
      "344/343 [==============================] - 57s 166ms/step - loss: 0.0020\n",
      "\n",
      "Measuring validation accuracy...\n",
      "4000/4000 [==============================] - 5s 1ms/step\n",
      "\n",
      "Validation accuracy: 0.99997\n",
      "\n",
      "Epoch 2/5\n",
      "344/343 [==============================] - 56s 162ms/step - loss: 0.0020\n",
      "\n",
      "Measuring validation accuracy...\n",
      "4000/4000 [==============================] - 5s 1ms/step\n",
      "\n",
      "Validation accuracy: 0.99997\n",
      "\n",
      "Epoch 3/5\n",
      "344/343 [==============================] - 53s 155ms/step - loss: 0.0019\n",
      "\n",
      "Measuring validation accuracy...\n",
      "4000/4000 [==============================] - 5s 1ms/step\n",
      "\n",
      "Validation accuracy: 0.99997\n",
      "\n",
      "Epoch 4/5\n",
      "344/343 [==============================] - 63s 182ms/step - loss: 0.0014\n",
      "\n",
      "Measuring validation accuracy...\n",
      "4000/4000 [==============================] - 9s 2ms/step\n",
      "\n",
      "Validation accuracy: 0.99997\n",
      "\n",
      "Epoch 5/5\n",
      "344/343 [==============================] - 73s 213ms/step - loss: 0.0012\n",
      "\n",
      "Measuring validation accuracy...\n",
      "4000/4000 [==============================] - 10s 2ms/step\n",
      "\n",
      "Validation accuracy: 0.99997\n",
      "\n",
      "4000/4000 [==============================] - 8s 2ms/step\n"
     ]
    },
    {
     "name": "stderr",
     "output_type": "stream",
     "text": [
      "4000it [00:00, 10894.11it/s]\n"
     ]
    },
    {
     "name": "stdout",
     "output_type": "stream",
     "text": [
      "10\n",
      "Epoch 1/5\n",
      "375/375 [==============================] - 79s 211ms/step - loss: 0.0011\n",
      "\n",
      "Measuring validation accuracy...\n",
      "3000/3000 [==============================] - 4s 1ms/step\n",
      "\n",
      "Validation accuracy: 0.99996\n",
      "\n",
      "Epoch 2/5\n",
      "375/375 [==============================] - 96s 255ms/step - loss: 0.0010\n",
      "\n",
      "Measuring validation accuracy...\n",
      "3000/3000 [==============================] - 5s 2ms/step\n",
      "\n",
      "Validation accuracy: 0.99996\n",
      "\n",
      "Epoch 3/5\n",
      "375/375 [==============================] - 55s 146ms/step - loss: 0.0010\n",
      "\n",
      "Measuring validation accuracy...\n",
      "3000/3000 [==============================] - 4s 1ms/step\n",
      "\n",
      "Validation accuracy: 0.99996\n",
      "\n",
      "Epoch 4/5\n",
      "375/375 [==============================] - 77s 204ms/step - loss: 9.4553e-04\n",
      "\n",
      "Measuring validation accuracy...\n",
      "3000/3000 [==============================] - 3s 972us/step\n",
      "\n",
      "Validation accuracy: 0.99996\n",
      "\n",
      "Epoch 5/5\n",
      "375/375 [==============================] - 96s 255ms/step - loss: 6.8730e-04\n",
      "\n",
      "Measuring validation accuracy...\n",
      "3000/3000 [==============================] - 4s 1ms/step\n",
      "\n",
      "Validation accuracy: 0.99996\n",
      "\n",
      "3000/3000 [==============================] - 3s 1ms/step\n"
     ]
    },
    {
     "name": "stderr",
     "output_type": "stream",
     "text": [
      "3000it [00:00, 18388.57it/s]"
     ]
    },
    {
     "name": "stdout",
     "output_type": "stream",
     "text": [
      "11\n",
      "Epoch 1/5\n"
     ]
    },
    {
     "name": "stderr",
     "output_type": "stream",
     "text": [
      "\n"
     ]
    },
    {
     "name": "stdout",
     "output_type": "stream",
     "text": [
      "407/406 [==============================] - 98s 240ms/step - loss: 5.2293e-04\n",
      "\n",
      "Measuring validation accuracy...\n",
      "2000/2000 [==============================] - 4s 2ms/step\n",
      "\n",
      "Validation accuracy: 1.00000\n",
      "\n",
      "Epoch 2/5\n",
      "407/406 [==============================] - 100s 245ms/step - loss: 5.6542e-04\n",
      "\n",
      "Measuring validation accuracy...\n",
      "2000/2000 [==============================] - 4s 2ms/step\n",
      "\n",
      "Validation accuracy: 1.00000\n",
      "\n",
      "Epoch 3/5\n",
      "407/406 [==============================] - 84s 207ms/step - loss: 9.5106e-04\n",
      "\n",
      "Measuring validation accuracy...\n",
      "2000/2000 [==============================] - 3s 2ms/step\n",
      "\n",
      "Validation accuracy: 1.00000\n",
      "\n",
      "Epoch 4/5\n",
      "407/406 [==============================] - 82s 203ms/step - loss: 0.0012\n",
      "\n",
      "Measuring validation accuracy...\n",
      "2000/2000 [==============================] - 3s 2ms/step\n",
      "\n",
      "Validation accuracy: 1.00000\n",
      "\n",
      "Epoch 5/5\n",
      "438/437 [==============================] - 103s 234ms/step - loss: 2.2848e-04\n",
      "\n",
      "Measuring validation accuracy...\n",
      "1000/1000 [==============================] - 2s 2ms/step\n",
      "\n",
      "Validation accuracy: 1.00000\n",
      "\n",
      "Epoch 2/5\n",
      "438/437 [==============================] - 104s 237ms/step - loss: 2.5347e-04\n",
      "\n",
      "Measuring validation accuracy...\n",
      "1000/1000 [==============================] - 2s 2ms/step\n",
      "\n",
      "Validation accuracy: 1.00000\n",
      "\n",
      "Epoch 3/5\n",
      "438/437 [==============================] - 103s 235ms/step - loss: 2.0079e-04\n",
      "\n",
      "Measuring validation accuracy...\n",
      "1000/1000 [==============================] - 3s 3ms/step\n",
      "\n",
      "Validation accuracy: 1.00000\n",
      "\n",
      "Epoch 4/5\n",
      "438/437 [==============================] - 92s 209ms/step - loss: 0.0016\n",
      "\n",
      "Measuring validation accuracy...\n",
      "1000/1000 [==============================] - 1s 998us/step\n",
      "\n",
      "Validation accuracy: 1.00000\n",
      "\n",
      "1000/1000 [==============================] - 1s 1ms/step\n"
     ]
    },
    {
     "name": "stderr",
     "output_type": "stream",
     "text": [
      "1000it [00:00, 13731.33it/s]"
     ]
    },
    {
     "name": "stdout",
     "output_type": "stream",
     "text": [
      "13\n"
     ]
    },
    {
     "name": "stderr",
     "output_type": "stream",
     "text": [
      "\n"
     ]
    }
   ],
   "source": [
    "for i in range(14):\n",
    "    history = model_al.fit_generator(generate_batches(train_data), len(train_data)/BATCH_SIZE, \n",
    "                                     callbacks=[EvaluateAccuracy_al()], epochs=5,)\n",
    "    history_loss_al += history.history['loss']\n",
    "    \n",
    "    test_words_al_text = test_data.hashtag.values\n",
    "    test_tags_al = test_data.true_segmentation.values\n",
    "    test_words_al, test_tags_al = to_matrix(test_words_al_text, char_to_id), to_matrix(test_tags_al, tag_to_id)\n",
    "\n",
    "    #predict tag probabilities of shape [batch,time,n_tags]\n",
    "    predicted_tag_probabilities = model_al.predict(test_words_al,verbose=1)\n",
    "    probs = checker(test_words_al_text, predicted_tag_probabilities)\n",
    "    probs_sorted = sorted(probs, key=operator.itemgetter(1), reverse=False)\n",
    "    add_1k = [i[0] for i in probs_sorted[:1000]]\n",
    "    mrg_1k = df_15k_shuffled.loc[df_15k_shuffled['hashtag'].isin(add_1k)]\n",
    "    \n",
    "    train_data = pd.concat([train_data, mrg_1k])\n",
    "    test_data = df_15k_shuffled.loc[~df_15k_shuffled['hashtag'].isin(train_data.hashtag.tolist())]\n",
    "    print(i)"
   ]
  },
  {
   "cell_type": "code",
   "execution_count": 169,
   "metadata": {},
   "outputs": [
    {
     "data": {
      "image/png": "[encoded data removed]",
      "text/plain": [
       "<matplotlib.figure.Figure at 0x7fdc24e88c50>"
      ]
     },
     "metadata": {},
     "output_type": "display_data"
    }
   ],
   "source": [
    "figsize(15,6)\n",
    "plt.plot(history_loss)\n",
    "plt.ylabel('loss')\n",
    "plt.xlabel('epoch')\n",
    "plt.legend(['train'], loc='upper right')\n",
    "plt.show()"
   ]
  },
  {
   "cell_type": "code",
   "execution_count": 179,
   "metadata": {},
   "outputs": [
    {
     "data": {
      "text/plain": [
       "<matplotlib.legend.Legend at 0x7fdc0c4787f0>"
      ]
     },
     "execution_count": 179,
     "metadata": {},
     "output_type": "execute_result"
    },
    {
     "data": {
      "image/png": "[encoded data removed]",
      "text/plain": [
       "<matplotlib.figure.Figure at 0x7fdc0fa6b198>"
      ]
     },
     "metadata": {},
     "output_type": "display_data"
    }
   ],
   "source": [
    "figsize(15,6)\n",
    "scalar_space = np.linspace(1000, 15000, len(train_accs_al))\n",
    "\n",
    "plt.plot(scalar_space, train_accs_al, label='train_acc')\n",
    "plt.xlabel('number of hashtags')\n",
    "plt.ylabel('accuracy')\n",
    "plt.grid()\n",
    "plt.legend()"
   ]
  },
  {
   "cell_type": "code",
   "execution_count": 73,
   "metadata": {},
   "outputs": [
    {
     "data": {
      "image/png": "[encoded data removed]",
      "text/plain": [
       "<matplotlib.figure.Figure at 0x1a288c0fd0>"
      ]
     },
     "metadata": {},
     "output_type": "display_data"
    }
   ],
   "source": [
    "figsize(15,6)\n",
    "scalar_space = np.linspace(1000, 8000, len(train_accs_al[:35]))\n",
    "plt.plot(scalar_space, train_accs_al[:35])\n",
    "plt.xlabel('Number of hashtags', fontsize=18)\n",
    "plt.ylabel('Accuracy', fontsize=18)\n",
    "plt.grid()"
   ]
  },
  {
   "cell_type": "markdown",
   "metadata": {},
   "source": [
    "# AL experiment\n",
    "\n",
    "top 7k of data after active learning    \n",
    "7 epochs"
   ]
  },
  {
   "cell_type": "code",
   "execution_count": 25,
   "metadata": {
    "scrolled": true
   },
   "outputs": [
    {
     "data": {
      "text/html": [
       "<div>\n",
       "<style scoped>\n",
       "    .dataframe tbody tr th:only-of-type {\n",
       "        vertical-align: middle;\n",
       "    }\n",
       "\n",
       "    .dataframe tbody tr th {\n",
       "        vertical-align: top;\n",
       "    }\n",
       "\n",
       "    .dataframe thead th {\n",
       "        text-align: right;\n",
       "    }\n",
       "</style>\n",
       "<table border=\"1\" class=\"dataframe\">\n",
       "  <thead>\n",
       "    <tr style=\"text-align: right;\">\n",
       "      <th></th>\n",
       "      <th>hashtag</th>\n",
       "      <th>hashtag_class</th>\n",
       "      <th>true_segmentation</th>\n",
       "    </tr>\n",
       "  </thead>\n",
       "  <tbody>\n",
       "    <tr>\n",
       "      <th>0</th>\n",
       "      <td>ЩСШ6562</td>\n",
       "      <td>9</td>\n",
       "      <td>0010001</td>\n",
       "    </tr>\n",
       "    <tr>\n",
       "      <th>1</th>\n",
       "      <td>ситуации_218</td>\n",
       "      <td>0</td>\n",
       "      <td>000000011001</td>\n",
       "    </tr>\n",
       "    <tr>\n",
       "      <th>2</th>\n",
       "      <td>словокотороебудете_Открыла</td>\n",
       "      <td>3</td>\n",
       "      <td>00001000000100000110000001</td>\n",
       "    </tr>\n",
       "    <tr>\n",
       "      <th>3</th>\n",
       "      <td>красивых</td>\n",
       "      <td>5</td>\n",
       "      <td>00000001</td>\n",
       "    </tr>\n",
       "    <tr>\n",
       "      <th>4</th>\n",
       "      <td>МогутЗаказать</td>\n",
       "      <td>10</td>\n",
       "      <td>0000100000001</td>\n",
       "    </tr>\n",
       "  </tbody>\n",
       "</table>\n",
       "</div>"
      ],
      "text/plain": [
       "                      hashtag  hashtag_class           true_segmentation\n",
       "0                     ЩСШ6562              9                     0010001\n",
       "1                ситуации_218              0                000000011001\n",
       "2  словокотороебудете_Открыла              3  00001000000100000110000001\n",
       "3                    красивых              5                    00000001\n",
       "4               МогутЗаказать             10               0000100000001"
      ]
     },
     "execution_count": 25,
     "metadata": {},
     "output_type": "execute_result"
    }
   ],
   "source": [
    "data_al = pd.read_csv(\"./data_al.csv\", index_col=None).iloc[:, 1:]\n",
    "data_al.head()"
   ]
  },
  {
   "cell_type": "code",
   "execution_count": 26,
   "metadata": {},
   "outputs": [],
   "source": [
    "model_test = keras.models.Sequential()\n",
    "model_test.add(L.InputLayer([None], dtype='int32'))\n",
    "model_test.add(L.Embedding(len(all_chars), 50)) # dim 100\n",
    "model_test.add(L.Bidirectional(L.LSTM(64, return_sequences=True)))\n",
    "stepwise_dense = L.Dense(2, activation='softmax')\n",
    "stepwise_dense = L.TimeDistributed(stepwise_dense)\n",
    "model_test.add(stepwise_dense)"
   ]
  },
  {
   "cell_type": "code",
   "execution_count": 27,
   "metadata": {},
   "outputs": [],
   "source": [
    "model_test.compile('adam', 'categorical_crossentropy')"
   ]
  },
  {
   "cell_type": "code",
   "execution_count": 28,
   "metadata": {},
   "outputs": [],
   "source": [
    "train_data = data_al.iloc[:7000]\n",
    "test_data = data_al.iloc[7000:]"
   ]
  },
  {
   "cell_type": "code",
   "execution_count": 29,
   "metadata": {
    "scrolled": true
   },
   "outputs": [
    {
     "name": "stdout",
     "output_type": "stream",
     "text": [
      "Epoch 1/7\n",
      "219/218 [==============================] - 30s 136ms/step - loss: 0.2178\n",
      "\n",
      "Measuring validation accuracy...\n",
      "8000/8000 [==============================] - 9s 1ms/step\n",
      "1950/1950 [==============================] - 1s 689us/step\n",
      "\n",
      "Validation accuracy: 0.96110\n",
      "\n",
      "\n",
      "Real test_data accuracy: 0.92823\n",
      "\n",
      "Epoch 2/7\n",
      "219/218 [==============================] - 29s 132ms/step - loss: 0.0868\n",
      "\n",
      "Measuring validation accuracy...\n",
      "8000/8000 [==============================] - 8s 1ms/step\n",
      "1950/1950 [==============================] - 1s 675us/step\n",
      "\n",
      "Validation accuracy: 0.98435\n",
      "\n",
      "\n",
      "Real test_data accuracy: 0.96677\n",
      "\n",
      "Epoch 3/7\n",
      "219/218 [==============================] - 29s 131ms/step - loss: 0.0695\n",
      "\n",
      "Measuring validation accuracy...\n",
      "8000/8000 [==============================] - 9s 1ms/step\n",
      "1950/1950 [==============================] - 1s 701us/step\n",
      "\n",
      "Validation accuracy: 0.99059\n",
      "\n",
      "\n",
      "Real test_data accuracy: 0.97278\n",
      "\n",
      "Epoch 4/7\n",
      "219/218 [==============================] - 29s 131ms/step - loss: 0.0563\n",
      "\n",
      "Measuring validation accuracy...\n",
      "8000/8000 [==============================] - 9s 1ms/step\n",
      "1950/1950 [==============================] - 1s 698us/step\n",
      "\n",
      "Validation accuracy: 0.99499\n",
      "\n",
      "\n",
      "Real test_data accuracy: 0.97842\n",
      "\n",
      "Epoch 5/7\n",
      "219/218 [==============================] - 29s 132ms/step - loss: 0.0464\n",
      "\n",
      "Measuring validation accuracy...\n",
      "8000/8000 [==============================] - 9s 1ms/step\n",
      "1950/1950 [==============================] - 1s 691us/step\n",
      "\n",
      "Validation accuracy: 0.99594\n",
      "\n",
      "\n",
      "Real test_data accuracy: 0.98001\n",
      "\n",
      "Epoch 6/7\n",
      "219/218 [==============================] - 29s 131ms/step - loss: 0.0416\n",
      "\n",
      "Measuring validation accuracy...\n",
      "8000/8000 [==============================] - 9s 1ms/step\n",
      "1950/1950 [==============================] - 1s 694us/step\n",
      "\n",
      "Validation accuracy: 0.99713\n",
      "\n",
      "\n",
      "Real test_data accuracy: 0.98219\n",
      "\n",
      "Epoch 7/7\n",
      "219/218 [==============================] - 29s 132ms/step - loss: 0.0385\n",
      "\n",
      "Measuring validation accuracy...\n",
      "8000/8000 [==============================] - 9s 1ms/step\n",
      "1950/1950 [==============================] - 2s 784us/step\n",
      "\n",
      "Validation accuracy: 0.99722\n",
      "\n",
      "\n",
      "Real test_data accuracy: 0.98177\n",
      "\n"
     ]
    }
   ],
   "source": [
    "history = model_test.fit_generator(generate_batches(train_data), len(train_data)/BATCH_SIZE,\n",
    "                                   callbacks=[EvaluateAccuracy()], epochs=7,)"
   ]
  },
  {
   "cell_type": "code",
   "execution_count": 32,
   "metadata": {},
   "outputs": [
    {
     "data": {
      "text/plain": [
       "<matplotlib.legend.Legend at 0x7fe6a92e3dd8>"
      ]
     },
     "execution_count": 32,
     "metadata": {},
     "output_type": "execute_result"
    },
    {
     "data": {
      "image/png": "[encoded data removed]",
      "text/plain": [
       "<matplotlib.figure.Figure at 0x7fe6b07bae80>"
      ]
     },
     "metadata": {},
     "output_type": "display_data"
    }
   ],
   "source": [
    "figsize(15,6)\n",
    "# scalar_space = np.linspace(10000, 20000, 11)\n",
    "#scalar_space = np.linspace(5000, 15000, 12)\n",
    "scalar_space = np.linspace(1, 7, len(train_accs))\n",
    "\n",
    "plt.plot(scalar_space, train_accs, label='train_acc')\n",
    "plt.plot(scalar_space, test_accs, label='test_acc')\n",
    "plt.xlabel('epochs')\n",
    "plt.ylabel('accuracy')\n",
    "plt.grid()\n",
    "plt.legend()"
   ]
  },
  {
   "cell_type": "code",
   "execution_count": 65,
   "metadata": {},
   "outputs": [
    {
     "data": {
      "text/plain": [
       "73"
      ]
     },
     "execution_count": 65,
     "metadata": {},
     "output_type": "execute_result"
    }
   ],
   "source": [
    "embeddings = model_test.layers[1].get_weights()[0]\n",
    "len(embeddings)"
   ]
  },
  {
   "cell_type": "code",
   "execution_count": 71,
   "metadata": {},
   "outputs": [
    {
     "data": {
      "image/png": "[encoded data removed]",
      "text/plain": [
       "<matplotlib.figure.Figure at 0x7fe660245a20>"
      ]
     },
     "metadata": {},
     "output_type": "display_data"
    }
   ],
   "source": [
    "tsne_model = TSNE(n_components=2, random_state=0)\n",
    "tsne_vectors = tsne_model.fit_transform(embeddings)\n",
    "tx, ty = tsne_vectors[:, 0], tsne_vectors[:, 1]\n",
    "build_plot(tx, ty, list(all_chars), sound_distribution)"
   ]
  },
  {
   "cell_type": "code",
   "execution_count": 72,
   "metadata": {},
   "outputs": [
    {
     "data": {
      "image/png": "[encoded data removed]",
      "text/plain": [
       "<matplotlib.figure.Figure at 0x7fe6601ece48>"
      ]
     },
     "metadata": {},
     "output_type": "display_data"
    }
   ],
   "source": [
    "svd_model = TruncatedSVD(n_components=4, random_state=0)\n",
    "svd_vectors = svd_model.fit_transform(embeddings)\n",
    "sx, sy = svd_vectors[:, 0], svd_vectors[:, 1]\n",
    "build_plot(sx, sy, list(all_chars), sound_distribution)"
   ]
  },
  {
   "cell_type": "code",
   "execution_count": 74,
   "metadata": {},
   "outputs": [],
   "source": [
    "hashtags_x = train_data.hashtag.values\n",
    "hashtags_y = train_data.hashtag_class.values"
   ]
  },
  {
   "cell_type": "code",
   "execution_count": 75,
   "metadata": {},
   "outputs": [],
   "source": [
    "classes_dict_al = {i: 0 for i in np.unique(hashtags_y)}"
   ]
  },
  {
   "cell_type": "code",
   "execution_count": 79,
   "metadata": {},
   "outputs": [],
   "source": [
    "for i, el in enumerate(hashtags_y):\n",
    "    classes_dict_al[el] += 1"
   ]
  },
  {
   "cell_type": "code",
   "execution_count": 80,
   "metadata": {},
   "outputs": [
    {
     "data": {
      "text/plain": [
       "{0: 404,\n",
       " 1: 571,\n",
       " 2: 335,\n",
       " 3: 1775,\n",
       " 4: 298,\n",
       " 5: 474,\n",
       " 6: 1022,\n",
       " 7: 1215,\n",
       " 8: 131,\n",
       " 9: 391,\n",
       " 10: 384}"
      ]
     },
     "execution_count": 80,
     "metadata": {},
     "output_type": "execute_result"
    }
   ],
   "source": [
    "classes_dict_al"
   ]
  },
  {
   "cell_type": "code",
   "execution_count": 56,
   "metadata": {},
   "outputs": [
    {
     "data": {
      "image/png": "[encoded data removed]",
      "text/plain": [
       "<matplotlib.figure.Figure at 0x1a27c81400>"
      ]
     },
     "metadata": {},
     "output_type": "display_data"
    }
   ],
   "source": [
    "figsize(15,6)\n",
    "x = classes_dict_al.keys()\n",
    "y = classes_dict_al.values()\n",
    "plt.xlabel(\"Type of hashtag\", fontsize=18)\n",
    "plt.ylabel(\"Number of hashtags in training data\", fontsize=18)\n",
    "plt.bar(x, y)\n",
    "plt.grid()"
   ]
  },
  {
   "cell_type": "markdown",
   "metadata": {},
   "source": [
    "# Leave-one-out\n",
    "\n",
    "2000 экспериментов\n",
    "\n",
    "потом усредняем accuracy"
   ]
  },
  {
   "cell_type": "code",
   "execution_count": 63,
   "metadata": {
    "scrolled": true
   },
   "outputs": [
    {
     "name": "stdout",
     "output_type": "stream",
     "text": [
      "Epoch 1/1\n",
      "374/373 [==============================] - 47s 127ms/step - loss: 0.1336\n",
      "\n",
      "Measuring validation accuracy...\n",
      "1/1 [==============================] - 0s 477ms/step\n",
      "1943/1943 [==============================] - 1s 710us/step\n",
      "\n",
      "Validation accuracy: 0.93333\n",
      "\n",
      "\n",
      "Real test_data accuracy: 0.97096\n",
      "\n",
      "ITERATION:  0\n",
      "Epoch 1/1\n",
      "374/373 [==============================] - 48s 128ms/step - loss: 0.1414\n",
      "\n",
      "Measuring validation accuracy...\n",
      "1/1 [==============================] - 1s 537ms/step\n",
      "1943/1943 [==============================] - 1s 715us/step\n",
      "\n",
      "Validation accuracy: 0.85714\n",
      "\n",
      "\n",
      "Real test_data accuracy: 0.96861\n",
      "\n",
      "ITERATION:  1\n",
      "Epoch 1/1\n",
      "374/373 [==============================] - 48s 128ms/step - loss: 0.1338\n",
      "\n",
      "Measuring validation accuracy...\n",
      "1/1 [==============================] - 1s 575ms/step\n",
      "1943/1943 [==============================] - 1s 720us/step\n",
      "\n",
      "Validation accuracy: 0.75000\n",
      "\n",
      "\n",
      "Real test_data accuracy: 0.97198\n",
      "\n",
      "ITERATION:  2\n",
      "Epoch 1/1\n",
      "374/373 [==============================] - 49s 131ms/step - loss: 0.1393\n",
      "\n",
      "Measuring validation accuracy...\n",
      "1/1 [==============================] - 1s 623ms/step\n",
      "1943/1943 [==============================] - 1s 760us/step\n",
      "\n",
      "Validation accuracy: 0.75000\n",
      "\n",
      "\n",
      "Real test_data accuracy: 0.97080\n",
      "\n",
      "ITERATION:  3\n",
      "Epoch 1/1\n",
      "374/373 [==============================] - 48s 128ms/step - loss: 0.1380\n",
      "\n",
      "Measuring validation accuracy...\n",
      "1/1 [==============================] - 1s 742ms/step\n",
      "1943/1943 [==============================] - 1s 753us/step\n",
      "\n",
      "Validation accuracy: 0.85714\n",
      "\n",
      "\n",
      "Real test_data accuracy: 0.96898\n",
      "\n",
      "ITERATION:  4\n",
      "Epoch 1/1\n",
      "374/373 [==============================] - 48s 129ms/step - loss: 0.1388\n",
      "\n",
      "Measuring validation accuracy...\n",
      "1/1 [==============================] - 1s 794ms/step\n",
      "1943/1943 [==============================] - 1s 710us/step\n",
      "\n",
      "Validation accuracy: 1.00000\n",
      "\n",
      "\n",
      "Real test_data accuracy: 0.97251\n",
      "\n",
      "ITERATION:  5\n",
      "Epoch 1/1\n",
      "374/373 [==============================] - 49s 130ms/step - loss: 0.1416\n",
      "\n",
      "Measuring validation accuracy...\n",
      "1/1 [==============================] - 1s 850ms/step\n",
      "1943/1943 [==============================] - 1s 722us/step\n",
      "\n",
      "Validation accuracy: 0.85714\n",
      "\n",
      "\n",
      "Real test_data accuracy: 0.97059\n",
      "\n",
      "ITERATION:  6\n",
      "Epoch 1/1\n",
      "374/373 [==============================] - 49s 130ms/step - loss: 0.1422\n",
      "\n",
      "Measuring validation accuracy...\n",
      "1/1 [==============================] - 1s 916ms/step\n",
      "1943/1943 [==============================] - 1s 746us/step\n",
      "\n",
      "Validation accuracy: 0.72727\n",
      "\n",
      "\n",
      "Real test_data accuracy: 0.97192\n",
      "\n",
      "ITERATION:  7\n",
      "Epoch 1/1\n",
      "374/373 [==============================] - 47s 125ms/step - loss: 0.1357\n",
      "\n",
      "Measuring validation accuracy...\n",
      "1/1 [==============================] - 1s 931ms/step\n",
      "1943/1943 [==============================] - 1s 693us/step\n",
      "\n",
      "Validation accuracy: 0.88889\n",
      "\n",
      "\n",
      "Real test_data accuracy: 0.97192\n",
      "\n",
      "ITERATION:  8\n",
      "Epoch 1/1\n",
      "374/373 [==============================] - 50s 133ms/step - loss: 0.1395\n",
      "\n",
      "Measuring validation accuracy...\n",
      "1/1 [==============================] - 1s 1s/step\n",
      "1943/1943 [==============================] - 1s 669us/step\n",
      "\n",
      "Validation accuracy: 0.90909\n",
      "\n",
      "\n",
      "Real test_data accuracy: 0.97165\n",
      "\n",
      "ITERATION:  9\n",
      "Epoch 1/1\n",
      "374/373 [==============================] - 47s 126ms/step - loss: 0.1392\n",
      "\n",
      "Measuring validation accuracy...\n",
      "1/1 [==============================] - 1s 1s/step\n",
      "1943/1943 [==============================] - 2s 785us/step\n",
      "\n",
      "Validation accuracy: 1.00000\n",
      "\n",
      "\n",
      "Real test_data accuracy: 0.97042\n",
      "\n",
      "ITERATION:  10\n",
      "Epoch 1/1\n",
      "374/373 [==============================] - 49s 132ms/step - loss: 0.1406\n",
      "\n",
      "Measuring validation accuracy...\n",
      "1/1 [==============================] - 1s 1s/step\n",
      "1943/1943 [==============================] - 1s 723us/step\n",
      "\n",
      "Validation accuracy: 0.93333\n",
      "\n",
      "\n",
      "Real test_data accuracy: 0.97342\n",
      "\n",
      "ITERATION:  11\n",
      "Epoch 1/1\n",
      "374/373 [==============================] - 50s 133ms/step - loss: 0.1474\n",
      "\n",
      "Measuring validation accuracy...\n",
      "1/1 [==============================] - 1s 1s/step\n",
      "1943/1943 [==============================] - 1s 730us/step\n",
      "\n",
      "Validation accuracy: 0.76923\n",
      "\n",
      "\n",
      "Real test_data accuracy: 0.96903\n",
      "\n",
      "ITERATION:  12\n",
      "Epoch 1/1\n",
      "374/373 [==============================] - 50s 133ms/step - loss: 0.1379\n",
      "\n",
      "Measuring validation accuracy...\n",
      "1/1 [==============================] - 1s 1s/step\n",
      "1943/1943 [==============================] - 1s 753us/step\n",
      "\n",
      "Validation accuracy: 0.90909\n",
      "\n",
      "\n",
      "Real test_data accuracy: 0.97198\n",
      "\n",
      "ITERATION:  13\n",
      "Epoch 1/1\n",
      "374/373 [==============================] - 50s 133ms/step - loss: 0.1372\n",
      "\n",
      "Measuring validation accuracy...\n",
      "1/1 [==============================] - 1s 1s/step\n",
      "1943/1943 [==============================] - 2s 998us/step\n",
      "\n",
      "Validation accuracy: 0.88889\n",
      "\n",
      "\n",
      "Real test_data accuracy: 0.97160\n",
      "\n",
      "ITERATION:  14\n",
      "Epoch 1/1\n",
      "374/373 [==============================] - 48s 129ms/step - loss: 0.1433\n",
      "\n",
      "Measuring validation accuracy...\n",
      "1/1 [==============================] - 1s 1s/step\n",
      "1943/1943 [==============================] - 1s 683us/step\n",
      "\n",
      "Validation accuracy: 0.50000\n",
      "\n",
      "\n",
      "Real test_data accuracy: 0.97117\n",
      "\n",
      "ITERATION:  15\n",
      "Epoch 1/1\n",
      "374/373 [==============================] - 48s 128ms/step - loss: 0.1389\n",
      "\n",
      "Measuring validation accuracy...\n",
      "1/1 [==============================] - 1s 1s/step\n",
      "1943/1943 [==============================] - 1s 672us/step\n",
      "\n",
      "Validation accuracy: 1.00000\n",
      "\n",
      "\n",
      "Real test_data accuracy: 0.97155\n",
      "\n",
      "ITERATION:  16\n",
      "Epoch 1/1\n",
      "374/373 [==============================] - 49s 131ms/step - loss: 0.1420\n",
      "\n",
      "Measuring validation accuracy...\n",
      "1/1 [==============================] - 2s 2s/step\n",
      "1943/1943 [==============================] - 1s 739us/step\n",
      "\n",
      "Validation accuracy: 0.85714\n",
      "\n",
      "\n",
      "Real test_data accuracy: 0.97064\n",
      "\n",
      "ITERATION:  17\n",
      "Epoch 1/1\n",
      "374/373 [==============================] - 51s 135ms/step - loss: 0.1358\n",
      "\n",
      "Measuring validation accuracy...\n",
      "1/1 [==============================] - 2s 2s/step\n",
      "1943/1943 [==============================] - 1s 725us/step\n",
      "\n",
      "Validation accuracy: 1.00000\n",
      "\n",
      "\n",
      "Real test_data accuracy: 0.97262\n",
      "\n",
      "ITERATION:  18\n",
      "Epoch 1/1\n",
      "374/373 [==============================] - 51s 135ms/step - loss: 0.1373\n",
      "\n",
      "Measuring validation accuracy...\n",
      "1/1 [==============================] - 2s 2s/step\n",
      "1943/1943 [==============================] - 1s 733us/step\n",
      "\n",
      "Validation accuracy: 0.83333\n",
      "\n",
      "\n",
      "Real test_data accuracy: 0.97251\n",
      "\n",
      "ITERATION:  19\n",
      "Epoch 1/1\n",
      "374/373 [==============================] - 52s 139ms/step - loss: 0.1398\n",
      "\n",
      "Measuring validation accuracy...\n",
      "1/1 [==============================] - 2s 2s/step\n",
      "1943/1943 [==============================] - 1s 680us/step\n",
      "\n",
      "Validation accuracy: 1.00000\n",
      "\n",
      "\n",
      "Real test_data accuracy: 0.96962\n",
      "\n",
      "ITERATION:  20\n",
      "Epoch 1/1\n",
      "374/373 [==============================] - 49s 130ms/step - loss: 0.1434\n",
      "\n",
      "Measuring validation accuracy...\n",
      "1/1 [==============================] - 2s 2s/step\n",
      "1943/1943 [==============================] - 1s 720us/step\n",
      "\n",
      "Validation accuracy: 1.00000\n",
      "\n",
      "\n",
      "Real test_data accuracy: 0.97016\n",
      "\n",
      "ITERATION:  21\n",
      "Epoch 1/1\n",
      "374/373 [==============================] - 51s 137ms/step - loss: 0.1362\n",
      "\n",
      "Measuring validation accuracy...\n",
      "1/1 [==============================] - 2s 2s/step\n",
      "1943/1943 [==============================] - 2s 782us/step\n",
      "\n",
      "Validation accuracy: 0.88235\n",
      "\n",
      "\n",
      "Real test_data accuracy: 0.97326\n",
      "\n",
      "ITERATION:  22\n",
      "Epoch 1/1\n",
      "374/373 [==============================] - 51s 137ms/step - loss: 0.1380\n",
      "\n",
      "Measuring validation accuracy...\n"
     ]
    },
    {
     "ename": "KeyboardInterrupt",
     "evalue": "",
     "output_type": "error",
     "traceback": [
      "\u001b[0;31m---------------------------------------------------------------------------\u001b[0m",
      "\u001b[0;31mKeyboardInterrupt\u001b[0m                         Traceback (most recent call last)",
      "\u001b[0;32m<ipython-input-63-22575962f394>\u001b[0m in \u001b[0;36m<module>\u001b[0;34m()\u001b[0m\n\u001b[1;32m     31\u001b[0m \u001b[0;34m\u001b[0m\u001b[0m\n\u001b[1;32m     32\u001b[0m     history = model.fit_generator(generate_batches(train_data), len(train_data)/BATCH_SIZE,\n\u001b[0;32m---> 33\u001b[0;31m                     callbacks=[EvaluateAccuracy()], epochs=1,)\n\u001b[0m\u001b[1;32m     34\u001b[0m \u001b[0;34m\u001b[0m\u001b[0m\n\u001b[1;32m     35\u001b[0m     \u001b[0;31m#histoty_loss += history.history['loss']\u001b[0m\u001b[0;34m\u001b[0m\u001b[0;34m\u001b[0m\u001b[0m\n",
      "\u001b[0;32m~/.local/lib/python3.5/site-packages/keras/legacy/interfaces.py\u001b[0m in \u001b[0;36mwrapper\u001b[0;34m(*args, **kwargs)\u001b[0m\n\u001b[1;32m     89\u001b[0m                 warnings.warn('Update your `' + object_name +\n\u001b[1;32m     90\u001b[0m                               '` call to the Keras 2 API: ' + signature, stacklevel=2)\n\u001b[0;32m---> 91\u001b[0;31m             \u001b[0;32mreturn\u001b[0m \u001b[0mfunc\u001b[0m\u001b[0;34m(\u001b[0m\u001b[0;34m*\u001b[0m\u001b[0margs\u001b[0m\u001b[0;34m,\u001b[0m \u001b[0;34m**\u001b[0m\u001b[0mkwargs\u001b[0m\u001b[0;34m)\u001b[0m\u001b[0;34m\u001b[0m\u001b[0m\n\u001b[0m\u001b[1;32m     92\u001b[0m         \u001b[0mwrapper\u001b[0m\u001b[0;34m.\u001b[0m\u001b[0m_original_function\u001b[0m \u001b[0;34m=\u001b[0m \u001b[0mfunc\u001b[0m\u001b[0;34m\u001b[0m\u001b[0m\n\u001b[1;32m     93\u001b[0m         \u001b[0;32mreturn\u001b[0m \u001b[0mwrapper\u001b[0m\u001b[0;34m\u001b[0m\u001b[0m\n",
      "\u001b[0;32m~/.local/lib/python3.5/site-packages/keras/models.py\u001b[0m in \u001b[0;36mfit_generator\u001b[0;34m(self, generator, steps_per_epoch, epochs, verbose, callbacks, validation_data, validation_steps, class_weight, max_queue_size, workers, use_multiprocessing, shuffle, initial_epoch)\u001b[0m\n\u001b[1;32m   1251\u001b[0m                                         \u001b[0muse_multiprocessing\u001b[0m\u001b[0;34m=\u001b[0m\u001b[0muse_multiprocessing\u001b[0m\u001b[0;34m,\u001b[0m\u001b[0;34m\u001b[0m\u001b[0m\n\u001b[1;32m   1252\u001b[0m                                         \u001b[0mshuffle\u001b[0m\u001b[0;34m=\u001b[0m\u001b[0mshuffle\u001b[0m\u001b[0;34m,\u001b[0m\u001b[0;34m\u001b[0m\u001b[0m\n\u001b[0;32m-> 1253\u001b[0;31m                                         initial_epoch=initial_epoch)\n\u001b[0m\u001b[1;32m   1254\u001b[0m \u001b[0;34m\u001b[0m\u001b[0m\n\u001b[1;32m   1255\u001b[0m     \u001b[0;34m@\u001b[0m\u001b[0minterfaces\u001b[0m\u001b[0;34m.\u001b[0m\u001b[0mlegacy_generator_methods_support\u001b[0m\u001b[0;34m\u001b[0m\u001b[0m\n",
      "\u001b[0;32m~/.local/lib/python3.5/site-packages/keras/legacy/interfaces.py\u001b[0m in \u001b[0;36mwrapper\u001b[0;34m(*args, **kwargs)\u001b[0m\n\u001b[1;32m     89\u001b[0m                 warnings.warn('Update your `' + object_name +\n\u001b[1;32m     90\u001b[0m                               '` call to the Keras 2 API: ' + signature, stacklevel=2)\n\u001b[0;32m---> 91\u001b[0;31m             \u001b[0;32mreturn\u001b[0m \u001b[0mfunc\u001b[0m\u001b[0;34m(\u001b[0m\u001b[0;34m*\u001b[0m\u001b[0margs\u001b[0m\u001b[0;34m,\u001b[0m \u001b[0;34m**\u001b[0m\u001b[0mkwargs\u001b[0m\u001b[0;34m)\u001b[0m\u001b[0;34m\u001b[0m\u001b[0m\n\u001b[0m\u001b[1;32m     92\u001b[0m         \u001b[0mwrapper\u001b[0m\u001b[0;34m.\u001b[0m\u001b[0m_original_function\u001b[0m \u001b[0;34m=\u001b[0m \u001b[0mfunc\u001b[0m\u001b[0;34m\u001b[0m\u001b[0m\n\u001b[1;32m     93\u001b[0m         \u001b[0;32mreturn\u001b[0m \u001b[0mwrapper\u001b[0m\u001b[0;34m\u001b[0m\u001b[0m\n",
      "\u001b[0;32m~/.local/lib/python3.5/site-packages/keras/engine/training.py\u001b[0m in \u001b[0;36mfit_generator\u001b[0;34m(self, generator, steps_per_epoch, epochs, verbose, callbacks, validation_data, validation_steps, class_weight, max_queue_size, workers, use_multiprocessing, shuffle, initial_epoch)\u001b[0m\n\u001b[1;32m   2278\u001b[0m                         \u001b[0;32mbreak\u001b[0m\u001b[0;34m\u001b[0m\u001b[0m\n\u001b[1;32m   2279\u001b[0m \u001b[0;34m\u001b[0m\u001b[0m\n\u001b[0;32m-> 2280\u001b[0;31m                 \u001b[0mcallbacks\u001b[0m\u001b[0;34m.\u001b[0m\u001b[0mon_epoch_end\u001b[0m\u001b[0;34m(\u001b[0m\u001b[0mepoch\u001b[0m\u001b[0;34m,\u001b[0m \u001b[0mepoch_logs\u001b[0m\u001b[0;34m)\u001b[0m\u001b[0;34m\u001b[0m\u001b[0m\n\u001b[0m\u001b[1;32m   2281\u001b[0m                 \u001b[0mepoch\u001b[0m \u001b[0;34m+=\u001b[0m \u001b[0;36m1\u001b[0m\u001b[0;34m\u001b[0m\u001b[0m\n\u001b[1;32m   2282\u001b[0m                 \u001b[0;32mif\u001b[0m \u001b[0mcallback_model\u001b[0m\u001b[0;34m.\u001b[0m\u001b[0mstop_training\u001b[0m\u001b[0;34m:\u001b[0m\u001b[0;34m\u001b[0m\u001b[0m\n",
      "\u001b[0;32m~/.local/lib/python3.5/site-packages/keras/callbacks.py\u001b[0m in \u001b[0;36mon_epoch_end\u001b[0;34m(self, epoch, logs)\u001b[0m\n\u001b[1;32m     75\u001b[0m         \u001b[0mlogs\u001b[0m \u001b[0;34m=\u001b[0m \u001b[0mlogs\u001b[0m \u001b[0;32mor\u001b[0m \u001b[0;34m{\u001b[0m\u001b[0;34m}\u001b[0m\u001b[0;34m\u001b[0m\u001b[0m\n\u001b[1;32m     76\u001b[0m         \u001b[0;32mfor\u001b[0m \u001b[0mcallback\u001b[0m \u001b[0;32min\u001b[0m \u001b[0mself\u001b[0m\u001b[0;34m.\u001b[0m\u001b[0mcallbacks\u001b[0m\u001b[0;34m:\u001b[0m\u001b[0;34m\u001b[0m\u001b[0m\n\u001b[0;32m---> 77\u001b[0;31m             \u001b[0mcallback\u001b[0m\u001b[0;34m.\u001b[0m\u001b[0mon_epoch_end\u001b[0m\u001b[0;34m(\u001b[0m\u001b[0mepoch\u001b[0m\u001b[0;34m,\u001b[0m \u001b[0mlogs\u001b[0m\u001b[0;34m)\u001b[0m\u001b[0;34m\u001b[0m\u001b[0m\n\u001b[0m\u001b[1;32m     78\u001b[0m \u001b[0;34m\u001b[0m\u001b[0m\n\u001b[1;32m     79\u001b[0m     \u001b[0;32mdef\u001b[0m \u001b[0mon_batch_begin\u001b[0m\u001b[0;34m(\u001b[0m\u001b[0mself\u001b[0m\u001b[0;34m,\u001b[0m \u001b[0mbatch\u001b[0m\u001b[0;34m,\u001b[0m \u001b[0mlogs\u001b[0m\u001b[0;34m=\u001b[0m\u001b[0;32mNone\u001b[0m\u001b[0;34m)\u001b[0m\u001b[0;34m:\u001b[0m\u001b[0;34m\u001b[0m\u001b[0m\n",
      "\u001b[0;32m<ipython-input-31-40dad84d6a0e>\u001b[0m in \u001b[0;36mon_epoch_end\u001b[0;34m(self, epoch, logs)\u001b[0m\n\u001b[1;32m     39\u001b[0m         \u001b[0msys\u001b[0m\u001b[0;34m.\u001b[0m\u001b[0mstdout\u001b[0m\u001b[0;34m.\u001b[0m\u001b[0mflush\u001b[0m\u001b[0;34m(\u001b[0m\u001b[0;34m)\u001b[0m\u001b[0;34m\u001b[0m\u001b[0m\n\u001b[1;32m     40\u001b[0m         \u001b[0mprint\u001b[0m\u001b[0;34m(\u001b[0m\u001b[0;34m\"\\nMeasuring validation accuracy...\"\u001b[0m\u001b[0;34m)\u001b[0m\u001b[0;34m\u001b[0m\u001b[0m\n\u001b[0;32m---> 41\u001b[0;31m         \u001b[0mtrain_acc\u001b[0m\u001b[0;34m,\u001b[0m \u001b[0mtest_acc\u001b[0m \u001b[0;34m=\u001b[0m \u001b[0mcompute_test_accuracy\u001b[0m\u001b[0;34m(\u001b[0m\u001b[0mself\u001b[0m\u001b[0;34m.\u001b[0m\u001b[0mmodel\u001b[0m\u001b[0;34m)\u001b[0m\u001b[0;34m\u001b[0m\u001b[0m\n\u001b[0m\u001b[1;32m     42\u001b[0m         \u001b[0mtrain_accs\u001b[0m\u001b[0;34m.\u001b[0m\u001b[0mappend\u001b[0m\u001b[0;34m(\u001b[0m\u001b[0mtrain_acc\u001b[0m\u001b[0;34m)\u001b[0m\u001b[0;34m\u001b[0m\u001b[0m\n\u001b[1;32m     43\u001b[0m         \u001b[0mtest_accs\u001b[0m\u001b[0;34m.\u001b[0m\u001b[0mappend\u001b[0m\u001b[0;34m(\u001b[0m\u001b[0mtest_acc\u001b[0m\u001b[0;34m)\u001b[0m\u001b[0;34m\u001b[0m\u001b[0m\n",
      "\u001b[0;32m<ipython-input-31-40dad84d6a0e>\u001b[0m in \u001b[0;36mcompute_test_accuracy\u001b[0;34m(model)\u001b[0m\n\u001b[1;32m      6\u001b[0m \u001b[0;34m\u001b[0m\u001b[0m\n\u001b[1;32m      7\u001b[0m     \u001b[0;31m#predict tag probabilities of shape [batch,time,n_tags]\u001b[0m\u001b[0;34m\u001b[0m\u001b[0;34m\u001b[0m\u001b[0m\n\u001b[0;32m----> 8\u001b[0;31m     \u001b[0mpredicted_tag_probabilities\u001b[0m \u001b[0;34m=\u001b[0m \u001b[0mmodel\u001b[0m\u001b[0;34m.\u001b[0m\u001b[0mpredict\u001b[0m\u001b[0;34m(\u001b[0m\u001b[0mtest_words\u001b[0m\u001b[0;34m,\u001b[0m\u001b[0mverbose\u001b[0m\u001b[0;34m=\u001b[0m\u001b[0;36m1\u001b[0m\u001b[0;34m)\u001b[0m\u001b[0;34m\u001b[0m\u001b[0m\n\u001b[0m\u001b[1;32m      9\u001b[0m     \u001b[0mpredicted_tags\u001b[0m \u001b[0;34m=\u001b[0m \u001b[0mpredicted_tag_probabilities\u001b[0m\u001b[0;34m.\u001b[0m\u001b[0margmax\u001b[0m\u001b[0;34m(\u001b[0m\u001b[0maxis\u001b[0m\u001b[0;34m=\u001b[0m\u001b[0;34m-\u001b[0m\u001b[0;36m1\u001b[0m\u001b[0;34m)\u001b[0m\u001b[0;34m\u001b[0m\u001b[0m\n\u001b[1;32m     10\u001b[0m \u001b[0;34m\u001b[0m\u001b[0m\n",
      "\u001b[0;32m~/.local/lib/python3.5/site-packages/keras/models.py\u001b[0m in \u001b[0;36mpredict\u001b[0;34m(self, x, batch_size, verbose, steps)\u001b[0m\n\u001b[1;32m   1023\u001b[0m             \u001b[0mself\u001b[0m\u001b[0;34m.\u001b[0m\u001b[0mbuild\u001b[0m\u001b[0;34m(\u001b[0m\u001b[0;34m)\u001b[0m\u001b[0;34m\u001b[0m\u001b[0m\n\u001b[1;32m   1024\u001b[0m         return self.model.predict(x, batch_size=batch_size, verbose=verbose,\n\u001b[0;32m-> 1025\u001b[0;31m                                   steps=steps)\n\u001b[0m\u001b[1;32m   1026\u001b[0m \u001b[0;34m\u001b[0m\u001b[0m\n\u001b[1;32m   1027\u001b[0m     \u001b[0;32mdef\u001b[0m \u001b[0mpredict_on_batch\u001b[0m\u001b[0;34m(\u001b[0m\u001b[0mself\u001b[0m\u001b[0;34m,\u001b[0m \u001b[0mx\u001b[0m\u001b[0;34m)\u001b[0m\u001b[0;34m:\u001b[0m\u001b[0;34m\u001b[0m\u001b[0m\n",
      "\u001b[0;32m~/.local/lib/python3.5/site-packages/keras/engine/training.py\u001b[0m in \u001b[0;36mpredict\u001b[0;34m(self, x, batch_size, verbose, steps)\u001b[0m\n\u001b[1;32m   1840\u001b[0m         \u001b[0mf\u001b[0m \u001b[0;34m=\u001b[0m \u001b[0mself\u001b[0m\u001b[0;34m.\u001b[0m\u001b[0mpredict_function\u001b[0m\u001b[0;34m\u001b[0m\u001b[0m\n\u001b[1;32m   1841\u001b[0m         return self._predict_loop(f, ins, batch_size=batch_size,\n\u001b[0;32m-> 1842\u001b[0;31m                                   verbose=verbose, steps=steps)\n\u001b[0m\u001b[1;32m   1843\u001b[0m \u001b[0;34m\u001b[0m\u001b[0m\n\u001b[1;32m   1844\u001b[0m     def train_on_batch(self, x, y,\n",
      "\u001b[0;32m~/.local/lib/python3.5/site-packages/keras/engine/training.py\u001b[0m in \u001b[0;36m_predict_loop\u001b[0;34m(self, f, ins, batch_size, verbose, steps)\u001b[0m\n\u001b[1;32m   1335\u001b[0m                     \u001b[0mins_batch\u001b[0m\u001b[0;34m[\u001b[0m\u001b[0mi\u001b[0m\u001b[0;34m]\u001b[0m \u001b[0;34m=\u001b[0m \u001b[0mins_batch\u001b[0m\u001b[0;34m[\u001b[0m\u001b[0mi\u001b[0m\u001b[0;34m]\u001b[0m\u001b[0;34m.\u001b[0m\u001b[0mtoarray\u001b[0m\u001b[0;34m(\u001b[0m\u001b[0;34m)\u001b[0m\u001b[0;34m\u001b[0m\u001b[0m\n\u001b[1;32m   1336\u001b[0m \u001b[0;34m\u001b[0m\u001b[0m\n\u001b[0;32m-> 1337\u001b[0;31m                 \u001b[0mbatch_outs\u001b[0m \u001b[0;34m=\u001b[0m \u001b[0mf\u001b[0m\u001b[0;34m(\u001b[0m\u001b[0mins_batch\u001b[0m\u001b[0;34m)\u001b[0m\u001b[0;34m\u001b[0m\u001b[0m\n\u001b[0m\u001b[1;32m   1338\u001b[0m                 \u001b[0;32mif\u001b[0m \u001b[0;32mnot\u001b[0m \u001b[0misinstance\u001b[0m\u001b[0;34m(\u001b[0m\u001b[0mbatch_outs\u001b[0m\u001b[0;34m,\u001b[0m \u001b[0mlist\u001b[0m\u001b[0;34m)\u001b[0m\u001b[0;34m:\u001b[0m\u001b[0;34m\u001b[0m\u001b[0m\n\u001b[1;32m   1339\u001b[0m                     \u001b[0mbatch_outs\u001b[0m \u001b[0;34m=\u001b[0m \u001b[0;34m[\u001b[0m\u001b[0mbatch_outs\u001b[0m\u001b[0;34m]\u001b[0m\u001b[0;34m\u001b[0m\u001b[0m\n",
      "\u001b[0;32m~/.local/lib/python3.5/site-packages/keras/backend/tensorflow_backend.py\u001b[0m in \u001b[0;36m__call__\u001b[0;34m(self, inputs)\u001b[0m\n\u001b[1;32m   2473\u001b[0m         \u001b[0msession\u001b[0m \u001b[0;34m=\u001b[0m \u001b[0mget_session\u001b[0m\u001b[0;34m(\u001b[0m\u001b[0;34m)\u001b[0m\u001b[0;34m\u001b[0m\u001b[0m\n\u001b[1;32m   2474\u001b[0m         updated = session.run(fetches=fetches, feed_dict=feed_dict,\n\u001b[0;32m-> 2475\u001b[0;31m                               **self.session_kwargs)\n\u001b[0m\u001b[1;32m   2476\u001b[0m         \u001b[0;32mreturn\u001b[0m \u001b[0mupdated\u001b[0m\u001b[0;34m[\u001b[0m\u001b[0;34m:\u001b[0m\u001b[0mlen\u001b[0m\u001b[0;34m(\u001b[0m\u001b[0mself\u001b[0m\u001b[0;34m.\u001b[0m\u001b[0moutputs\u001b[0m\u001b[0;34m)\u001b[0m\u001b[0;34m]\u001b[0m\u001b[0;34m\u001b[0m\u001b[0m\n\u001b[1;32m   2477\u001b[0m \u001b[0;34m\u001b[0m\u001b[0m\n",
      "\u001b[0;32m~/.local/lib/python3.5/site-packages/tensorflow/python/client/session.py\u001b[0m in \u001b[0;36mrun\u001b[0;34m(self, fetches, feed_dict, options, run_metadata)\u001b[0m\n\u001b[1;32m    903\u001b[0m     \u001b[0;32mtry\u001b[0m\u001b[0;34m:\u001b[0m\u001b[0;34m\u001b[0m\u001b[0m\n\u001b[1;32m    904\u001b[0m       result = self._run(None, fetches, feed_dict, options_ptr,\n\u001b[0;32m--> 905\u001b[0;31m                          run_metadata_ptr)\n\u001b[0m\u001b[1;32m    906\u001b[0m       \u001b[0;32mif\u001b[0m \u001b[0mrun_metadata\u001b[0m\u001b[0;34m:\u001b[0m\u001b[0;34m\u001b[0m\u001b[0m\n\u001b[1;32m    907\u001b[0m         \u001b[0mproto_data\u001b[0m \u001b[0;34m=\u001b[0m \u001b[0mtf_session\u001b[0m\u001b[0;34m.\u001b[0m\u001b[0mTF_GetBuffer\u001b[0m\u001b[0;34m(\u001b[0m\u001b[0mrun_metadata_ptr\u001b[0m\u001b[0;34m)\u001b[0m\u001b[0;34m\u001b[0m\u001b[0m\n",
      "\u001b[0;32m~/.local/lib/python3.5/site-packages/tensorflow/python/client/session.py\u001b[0m in \u001b[0;36m_run\u001b[0;34m(self, handle, fetches, feed_dict, options, run_metadata)\u001b[0m\n\u001b[1;32m   1135\u001b[0m     \u001b[0;32mif\u001b[0m \u001b[0mfinal_fetches\u001b[0m \u001b[0;32mor\u001b[0m \u001b[0mfinal_targets\u001b[0m \u001b[0;32mor\u001b[0m \u001b[0;34m(\u001b[0m\u001b[0mhandle\u001b[0m \u001b[0;32mand\u001b[0m \u001b[0mfeed_dict_tensor\u001b[0m\u001b[0;34m)\u001b[0m\u001b[0;34m:\u001b[0m\u001b[0;34m\u001b[0m\u001b[0m\n\u001b[1;32m   1136\u001b[0m       results = self._do_run(handle, final_targets, final_fetches,\n\u001b[0;32m-> 1137\u001b[0;31m                              feed_dict_tensor, options, run_metadata)\n\u001b[0m\u001b[1;32m   1138\u001b[0m     \u001b[0;32melse\u001b[0m\u001b[0;34m:\u001b[0m\u001b[0;34m\u001b[0m\u001b[0m\n\u001b[1;32m   1139\u001b[0m       \u001b[0mresults\u001b[0m \u001b[0;34m=\u001b[0m \u001b[0;34m[\u001b[0m\u001b[0;34m]\u001b[0m\u001b[0;34m\u001b[0m\u001b[0m\n",
      "\u001b[0;32m~/.local/lib/python3.5/site-packages/tensorflow/python/client/session.py\u001b[0m in \u001b[0;36m_do_run\u001b[0;34m(self, handle, target_list, fetch_list, feed_dict, options, run_metadata)\u001b[0m\n\u001b[1;32m   1353\u001b[0m     \u001b[0;32mif\u001b[0m \u001b[0mhandle\u001b[0m \u001b[0;32mis\u001b[0m \u001b[0;32mNone\u001b[0m\u001b[0;34m:\u001b[0m\u001b[0;34m\u001b[0m\u001b[0m\n\u001b[1;32m   1354\u001b[0m       return self._do_call(_run_fn, self._session, feeds, fetches, targets,\n\u001b[0;32m-> 1355\u001b[0;31m                            options, run_metadata)\n\u001b[0m\u001b[1;32m   1356\u001b[0m     \u001b[0;32melse\u001b[0m\u001b[0;34m:\u001b[0m\u001b[0;34m\u001b[0m\u001b[0m\n\u001b[1;32m   1357\u001b[0m       \u001b[0;32mreturn\u001b[0m \u001b[0mself\u001b[0m\u001b[0;34m.\u001b[0m\u001b[0m_do_call\u001b[0m\u001b[0;34m(\u001b[0m\u001b[0m_prun_fn\u001b[0m\u001b[0;34m,\u001b[0m \u001b[0mself\u001b[0m\u001b[0;34m.\u001b[0m\u001b[0m_session\u001b[0m\u001b[0;34m,\u001b[0m \u001b[0mhandle\u001b[0m\u001b[0;34m,\u001b[0m \u001b[0mfeeds\u001b[0m\u001b[0;34m,\u001b[0m \u001b[0mfetches\u001b[0m\u001b[0;34m)\u001b[0m\u001b[0;34m\u001b[0m\u001b[0m\n",
      "\u001b[0;32m~/.local/lib/python3.5/site-packages/tensorflow/python/client/session.py\u001b[0m in \u001b[0;36m_do_call\u001b[0;34m(self, fn, *args)\u001b[0m\n\u001b[1;32m   1359\u001b[0m   \u001b[0;32mdef\u001b[0m \u001b[0m_do_call\u001b[0m\u001b[0;34m(\u001b[0m\u001b[0mself\u001b[0m\u001b[0;34m,\u001b[0m \u001b[0mfn\u001b[0m\u001b[0;34m,\u001b[0m \u001b[0;34m*\u001b[0m\u001b[0margs\u001b[0m\u001b[0;34m)\u001b[0m\u001b[0;34m:\u001b[0m\u001b[0;34m\u001b[0m\u001b[0m\n\u001b[1;32m   1360\u001b[0m     \u001b[0;32mtry\u001b[0m\u001b[0;34m:\u001b[0m\u001b[0;34m\u001b[0m\u001b[0m\n\u001b[0;32m-> 1361\u001b[0;31m       \u001b[0;32mreturn\u001b[0m \u001b[0mfn\u001b[0m\u001b[0;34m(\u001b[0m\u001b[0;34m*\u001b[0m\u001b[0margs\u001b[0m\u001b[0;34m)\u001b[0m\u001b[0;34m\u001b[0m\u001b[0m\n\u001b[0m\u001b[1;32m   1362\u001b[0m     \u001b[0;32mexcept\u001b[0m \u001b[0merrors\u001b[0m\u001b[0;34m.\u001b[0m\u001b[0mOpError\u001b[0m \u001b[0;32mas\u001b[0m \u001b[0me\u001b[0m\u001b[0;34m:\u001b[0m\u001b[0;34m\u001b[0m\u001b[0m\n\u001b[1;32m   1363\u001b[0m       \u001b[0mmessage\u001b[0m \u001b[0;34m=\u001b[0m \u001b[0mcompat\u001b[0m\u001b[0;34m.\u001b[0m\u001b[0mas_text\u001b[0m\u001b[0;34m(\u001b[0m\u001b[0me\u001b[0m\u001b[0;34m.\u001b[0m\u001b[0mmessage\u001b[0m\u001b[0;34m)\u001b[0m\u001b[0;34m\u001b[0m\u001b[0m\n",
      "\u001b[0;32m~/.local/lib/python3.5/site-packages/tensorflow/python/client/session.py\u001b[0m in \u001b[0;36m_run_fn\u001b[0;34m(session, feed_dict, fetch_list, target_list, options, run_metadata)\u001b[0m\n\u001b[1;32m   1330\u001b[0m                 run_metadata):\n\u001b[1;32m   1331\u001b[0m       \u001b[0;31m# Ensure any changes to the graph are reflected in the runtime.\u001b[0m\u001b[0;34m\u001b[0m\u001b[0;34m\u001b[0m\u001b[0m\n\u001b[0;32m-> 1332\u001b[0;31m       \u001b[0mself\u001b[0m\u001b[0;34m.\u001b[0m\u001b[0m_extend_graph\u001b[0m\u001b[0;34m(\u001b[0m\u001b[0;34m)\u001b[0m\u001b[0;34m\u001b[0m\u001b[0m\n\u001b[0m\u001b[1;32m   1333\u001b[0m       \u001b[0;32mwith\u001b[0m \u001b[0merrors\u001b[0m\u001b[0;34m.\u001b[0m\u001b[0mraise_exception_on_not_ok_status\u001b[0m\u001b[0;34m(\u001b[0m\u001b[0;34m)\u001b[0m \u001b[0;32mas\u001b[0m \u001b[0mstatus\u001b[0m\u001b[0;34m:\u001b[0m\u001b[0;34m\u001b[0m\u001b[0m\n\u001b[1;32m   1334\u001b[0m         \u001b[0;32mif\u001b[0m \u001b[0mself\u001b[0m\u001b[0;34m.\u001b[0m\u001b[0m_created_with_new_api\u001b[0m\u001b[0;34m:\u001b[0m\u001b[0;34m\u001b[0m\u001b[0m\n",
      "\u001b[0;32m~/.local/lib/python3.5/site-packages/tensorflow/python/client/session.py\u001b[0m in \u001b[0;36m_extend_graph\u001b[0;34m(self)\u001b[0m\n\u001b[1;32m   1390\u001b[0m         \u001b[0;32mwith\u001b[0m \u001b[0merrors\u001b[0m\u001b[0;34m.\u001b[0m\u001b[0mraise_exception_on_not_ok_status\u001b[0m\u001b[0;34m(\u001b[0m\u001b[0;34m)\u001b[0m \u001b[0;32mas\u001b[0m \u001b[0mstatus\u001b[0m\u001b[0;34m:\u001b[0m\u001b[0;34m\u001b[0m\u001b[0m\n\u001b[1;32m   1391\u001b[0m           tf_session.TF_ExtendGraph(self._session,\n\u001b[0;32m-> 1392\u001b[0;31m                                     graph_def.SerializeToString(), status)\n\u001b[0m\u001b[1;32m   1393\u001b[0m         \u001b[0mself\u001b[0m\u001b[0;34m.\u001b[0m\u001b[0m_opened\u001b[0m \u001b[0;34m=\u001b[0m \u001b[0;32mTrue\u001b[0m\u001b[0;34m\u001b[0m\u001b[0m\n\u001b[1;32m   1394\u001b[0m \u001b[0;34m\u001b[0m\u001b[0m\n",
      "\u001b[0;31mKeyboardInterrupt\u001b[0m: "
     ]
    }
   ],
   "source": [
    "data = pd.read_csv(\"./dummy_data_all_types.csv\", index_col=None).iloc[:, 1:]\n",
    "\n",
    "history_loss = []\n",
    "\n",
    "for i in range(len(real_test_data)):\n",
    "\n",
    "    model = keras.models.Sequential()\n",
    "    model.add(L.InputLayer([None], dtype='int32'))\n",
    "    model.add(L.Embedding(len(all_chars), 50)) # dim 100\n",
    "    model.add(L.Bidirectional(L.LSTM(64, return_sequences=True)))\n",
    "\n",
    "    #add top layer that predicts tag probabilities\n",
    "\n",
    "    stepwise_dense = L.Dense(2, activation='softmax')\n",
    "    stepwise_dense = L.TimeDistributed(stepwise_dense)\n",
    "\n",
    "    model.add(stepwise_dense)\n",
    "    model.compile('adam', 'categorical_crossentropy')\n",
    "\n",
    "    \n",
    "    if i == 0:\n",
    "        train_data = pd.concat([data, real_test_data.iloc[1:]])\n",
    "        test_data = real_test_data.iloc[[0]]\n",
    "    elif i == len(real_test_data):\n",
    "        train_data = pd.concat([data, real_test_data.iloc[:-1]])\n",
    "        test_data = real_test_data.iloc[[-1]]\n",
    "    else:   \n",
    "        train_data = pd.concat([data, real_test_data.iloc[:i], real_test_data.iloc[i+1:]])\n",
    "        test_data = real_test_data.iloc[[i]]\n",
    "    \n",
    "    \n",
    "    history = model.fit_generator(generate_batches(train_data), len(train_data)/BATCH_SIZE,\n",
    "                    callbacks=[EvaluateAccuracy()], epochs=1,)\n",
    "    \n",
    "    #histoty_loss += history.history['loss']\n",
    "    history_loss.append(history.history['loss'])\n",
    "    print('ITERATION: ', i)"
   ]
  },
  {
   "cell_type": "code",
   "execution_count": 64,
   "metadata": {},
   "outputs": [
    {
     "data": {
      "text/plain": [
       "23"
      ]
     },
     "execution_count": 64,
     "metadata": {},
     "output_type": "execute_result"
    }
   ],
   "source": [
    "len(history_loss)"
   ]
  },
  {
   "cell_type": "code",
   "execution_count": 70,
   "metadata": {},
   "outputs": [
    {
     "data": {
      "text/plain": [
       "0.13937908790438247"
      ]
     },
     "execution_count": 70,
     "metadata": {},
     "output_type": "execute_result"
    }
   ],
   "source": [
    "#history_loss = [i[0] for i in history_loss]\n",
    "np.mean(history_loss)"
   ]
  }
 ],
 "metadata": {
  "kernelspec": {
   "display_name": "Python 3",
   "language": "python",
   "name": "python3"
  },
  "language_info": {
   "codemirror_mode": {
    "name": "ipython",
    "version": 3
   },
   "file_extension": ".py",
   "mimetype": "text/x-python",
   "name": "python",
   "nbconvert_exporter": "python",
   "pygments_lexer": "ipython3",
   "version": "3.6.4"
  }
 },
 "nbformat": 4,
 "nbformat_minor": 1
}
