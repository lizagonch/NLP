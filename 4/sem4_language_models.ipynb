{
  "nbformat": 4,
  "nbformat_minor": 0,
  "metadata": {
    "kernelspec": {
      "display_name": "Python 3",
      "language": "python",
      "name": "python3"
    },
    "language_info": {
      "codemirror_mode": {
        "name": "ipython",
        "version": 3
      },
      "file_extension": ".py",
      "mimetype": "text/x-python",
      "name": "python",
      "nbconvert_exporter": "python",
      "pygments_lexer": "ipython3",
      "version": "3.5.2"
    },
    "colab": {
      "name": "sem4_language_models.ipynb",
      "provenance": []
    }
  },
  "cells": [
    {
      "cell_type": "markdown",
      "metadata": {
        "id": "00URMcRvJy6O",
        "colab_type": "text"
      },
      "source": [
        "# Language modelling"
      ]
    },
    {
      "cell_type": "markdown",
      "metadata": {
        "id": "ni1HMKmCJy6Q",
        "colab_type": "text"
      },
      "source": [
        "\n",
        "Обучим две различные символьные модели для генерации динозавров:\n",
        "* модель на символьных биграмах\n",
        "* ***RNN***-модель.\n"
      ]
    },
    {
      "cell_type": "markdown",
      "metadata": {
        "id": "ZODLIKsBJy6S",
        "colab_type": "text"
      },
      "source": [
        "## Bigram model\n"
      ]
    },
    {
      "cell_type": "code",
      "metadata": {
        "id": "OpQDD3t4Jy6U",
        "colab_type": "code",
        "outputId": "5594a8cd-d1a1-4e92-de50-ca4a7f910815",
        "colab": {}
      },
      "source": [
        "!wget https://raw.githubusercontent.com/artemovae/NLP-seminar-LM/master/dinos.txt"
      ],
      "execution_count": 0,
      "outputs": [
        {
          "output_type": "stream",
          "text": [
            "--2019-09-23 17:51:32--  https://raw.githubusercontent.com/artemovae/NLP-seminar-LM/master/dinos.txt\n",
            "Resolving raw.githubusercontent.com (raw.githubusercontent.com)... 151.101.244.133\n",
            "Connecting to raw.githubusercontent.com (raw.githubusercontent.com)|151.101.244.133|:443... connected.\n",
            "HTTP request sent, awaiting response... 200 OK\n",
            "Length: 19909 (19K) [text/plain]\n",
            "Saving to: ‘dinos.txt’\n",
            "\n",
            "dinos.txt           100%[===================>]  19,44K  --.-KB/s    in 0,02s   \n",
            "\n",
            "2019-09-23 17:51:33 (827 KB/s) - ‘dinos.txt’ saved [19909/19909]\n",
            "\n"
          ],
          "name": "stdout"
        }
      ]
    },
    {
      "cell_type": "code",
      "metadata": {
        "id": "a7klbD0VJy6Z",
        "colab_type": "code",
        "outputId": "68a0b602-f3d6-4513-ef6a-b5983d239e72",
        "colab": {}
      },
      "source": [
        "names = ['<' + name.strip().lower() + '>' for name in open('dinos.txt').readlines()]\n",
        "print(names[:10])"
      ],
      "execution_count": 0,
      "outputs": [
        {
          "output_type": "stream",
          "text": [
            "['<aachenosaurus>', '<aardonyx>', '<abdallahsaurus>', '<abelisaurus>', '<abrictosaurus>', '<abrosaurus>', '<abydosaurus>', '<acanthopholis>', '<achelousaurus>', '<acheroraptor>']\n"
          ],
          "name": "stdout"
        }
      ]
    },
    {
      "cell_type": "code",
      "metadata": {
        "id": "jv0zmDpRJy6c",
        "colab_type": "code",
        "colab": {}
      },
      "source": [
        "#!pip install nltk"
      ],
      "execution_count": 0,
      "outputs": []
    },
    {
      "cell_type": "code",
      "metadata": {
        "id": "qhN_qi4xJy6e",
        "colab_type": "code",
        "colab": {}
      },
      "source": [
        "import nltk"
      ],
      "execution_count": 0,
      "outputs": []
    },
    {
      "cell_type": "markdown",
      "metadata": {
        "id": "ng0qfMwIJy6h",
        "colab_type": "text"
      },
      "source": [
        "Вычислим частоту каждого символа в корпусе имен динозавров"
      ]
    },
    {
      "cell_type": "code",
      "metadata": {
        "id": "w_4FQXMeJy6i",
        "colab_type": "code",
        "colab": {}
      },
      "source": [
        "chars = [char  for name in names for char in name]\n",
        "freq = nltk.FreqDist(chars)"
      ],
      "execution_count": 0,
      "outputs": []
    },
    {
      "cell_type": "code",
      "metadata": {
        "id": "_ukNyzJ8Jy6l",
        "colab_type": "code",
        "outputId": "877c7297-1541-40e4-8c74-2f3879e18d97",
        "colab": {}
      },
      "source": [
        "print(list(freq.keys()))"
      ],
      "execution_count": 0,
      "outputs": [
        {
          "output_type": "stream",
          "text": [
            "['h', 'p', 'i', 'u', 'q', '<', 'b', 'a', 'r', 'x', 'g', 'e', 'o', 'l', 'c', 'j', 'z', 's', 'd', 'f', 'y', 'm', 'v', 'n', 'w', '>', 'k', 't']\n"
          ],
          "name": "stdout"
        }
      ]
    },
    {
      "cell_type": "code",
      "metadata": {
        "id": "YGiWJHpyJy6n",
        "colab_type": "code",
        "outputId": "dd8199c9-90e4-463a-cb7a-385294fd6a8e",
        "colab": {}
      },
      "source": [
        "freq.most_common(10)"
      ],
      "execution_count": 0,
      "outputs": [
        {
          "output_type": "execute_result",
          "data": {
            "text/plain": [
              "[('a', 2487),\n",
              " ('s', 2285),\n",
              " ('u', 2123),\n",
              " ('o', 1710),\n",
              " ('r', 1704),\n",
              " ('<', 1536),\n",
              " ('>', 1536),\n",
              " ('n', 1081),\n",
              " ('i', 944),\n",
              " ('e', 913)]"
            ]
          },
          "metadata": {
            "tags": []
          },
          "execution_count": 6
        }
      ]
    },
    {
      "cell_type": "markdown",
      "metadata": {
        "id": "zsjJ_1-qJy6q",
        "colab_type": "text"
      },
      "source": [
        "Define a function to estimate probabilty of character"
      ]
    },
    {
      "cell_type": "code",
      "metadata": {
        "id": "sqJEb6hmJy6q",
        "colab_type": "code",
        "colab": {}
      },
      "source": [
        "l = sum([freq[char] for char in freq])\n",
        "def unigram_prob(char):\n",
        "    return freq[char] / l"
      ],
      "execution_count": 0,
      "outputs": []
    },
    {
      "cell_type": "code",
      "metadata": {
        "id": "b_Az_sC6Jy6s",
        "colab_type": "code",
        "outputId": "5e93f78a-c86f-4e7f-89fc-d547ad584028",
        "colab": {}
      },
      "source": [
        "print('p(a) = %1.4f' %unigram_prob('a'))"
      ],
      "execution_count": 0,
      "outputs": [
        {
          "output_type": "stream",
          "text": [
            "p(a) = 0.1160\n"
          ],
          "name": "stdout"
        }
      ]
    },
    {
      "cell_type": "markdown",
      "metadata": {
        "id": "jhZ5XhAqJy6u",
        "colab_type": "text"
      },
      "source": [
        "Вычислим условную вероятность каждого символа в зависимости от того, какой символ стоял на предыдущей позиции."
      ]
    },
    {
      "cell_type": "code",
      "metadata": {
        "id": "rn0D21x0Jy6v",
        "colab_type": "code",
        "colab": {}
      },
      "source": [
        "cfreq = nltk.ConditionalFreqDist(nltk.bigrams(chars))"
      ],
      "execution_count": 0,
      "outputs": []
    },
    {
      "cell_type": "code",
      "metadata": {
        "id": "a-gAZi1CJy6x",
        "colab_type": "code",
        "outputId": "b69e6307-bf14-40e5-e743-9ae603be944f",
        "colab": {}
      },
      "source": [
        "cfreq['a']"
      ],
      "execution_count": 0,
      "outputs": [
        {
          "output_type": "execute_result",
          "data": {
            "text/plain": [
              "FreqDist({'u': 791, 'n': 347, 't': 204, 's': 171, 'l': 138, '>': 138, 'r': 124, 'c': 100, 'p': 89, 'm': 68, ...})"
            ]
          },
          "metadata": {
            "tags": []
          },
          "execution_count": 73
        }
      ]
    },
    {
      "cell_type": "markdown",
      "metadata": {
        "id": "c_h_7GDpJy60",
        "colab_type": "text"
      },
      "source": [
        "Оценим условные вероятности с помощью MLE."
      ]
    },
    {
      "cell_type": "code",
      "metadata": {
        "id": "KEmzvs3PJy61",
        "colab_type": "code",
        "colab": {}
      },
      "source": [
        "cprob = nltk.ConditionalProbDist(cfreq, nltk.MLEProbDist)"
      ],
      "execution_count": 0,
      "outputs": []
    },
    {
      "cell_type": "code",
      "metadata": {
        "id": "ZHE_8YNdJy64",
        "colab_type": "code",
        "outputId": "a4bfb191-1a0c-47d5-8627-c6bd11ebdc9e",
        "colab": {}
      },
      "source": [
        "print('p(a a) = %1.4f' %cprob['a'].prob('a'))\n",
        "print('p(a b) = %1.4f' %cprob['a'].prob('b'))\n",
        "print('p(a u) = %1.4f' %cprob['a'].prob('u'))"
      ],
      "execution_count": 0,
      "outputs": [
        {
          "output_type": "stream",
          "text": [
            "p(a a) = 0.0044\n",
            "p(a b) = 0.0097\n",
            "p(a u) = 0.3181\n"
          ],
          "name": "stdout"
        }
      ]
    },
    {
      "cell_type": "code",
      "metadata": {
        "id": "OmFtyBMAJy67",
        "colab_type": "code",
        "outputId": "66126084-ca97-4b36-e6be-670fb6e2fcfb",
        "colab": {}
      },
      "source": [
        "cprob['a'].generate()"
      ],
      "execution_count": 0,
      "outputs": [
        {
          "output_type": "execute_result",
          "data": {
            "text/plain": [
              "'n'"
            ]
          },
          "metadata": {
            "tags": []
          },
          "execution_count": 76
        }
      ]
    },
    {
      "cell_type": "markdown",
      "metadata": {
        "id": "QXHGd5-TJy69",
        "colab_type": "text"
      },
      "source": [
        "### Task 1.\n",
        "a. Write a function to generate a dinosaur name of **fixed** length. Use '<' as a start of name symbol.\n",
        "\n",
        "b. Write a to generate a dinosaur names of any length. "
      ]
    },
    {
      "cell_type": "markdown",
      "metadata": {
        "id": "Z6vY1n9MJy6-",
        "colab_type": "text"
      },
      "source": [
        "## Реккурентные нейронные сети (RNN)\n",
        "\n",
        "Исходная последовательность:\n",
        "\n",
        "$x_{1:n} = x_1, x_2, \\ldots, x_n$, $x_i \\in \\mathbb{R}^{d_{in}}$\n",
        "\n",
        "Для каждого входного значения $x_{1:i}$ получаем на выходе $y_i$:\n",
        "\n",
        "$y_i = RNN(x_{1:i})$, $y_i \\in \\mathbb{R}^{d_{out}}$\n",
        "\n",
        "Для всей последовательности $x_{1:n}$:\n",
        "\n",
        "$y_{1:n} = RNN^{*}(x_{1:n})$, $y_i \\in \\mathbb{R}^{d_{out}}$"
      ]
    },
    {
      "cell_type": "markdown",
      "metadata": {
        "id": "8rceQNBuJy6-",
        "colab_type": "text"
      },
      "source": [
        "$R$ - рекурсивная функция активации, зависящая от двух параметров: $x_i$ и $s_{i-1}$ (вектор предыдущего состояния)\n",
        "\n",
        "$RNN^{*}(x_{1:n}, s_0) = y_{1:n}$\n",
        "\n",
        "$y_i = O(s_i) = g(W^{out}[s_{i} ,x_i] +b)$\n",
        "\n",
        "$s_i = R(s_{i-1}, x_i)$\n",
        "\n",
        "$s_i = R(s_{i-1}, x_i) = g(W^{hid}[s_{i-1} ,x_i] +b)$  -- конкатенация $[s_{i-1}, x]$\n",
        "\n",
        "$x_i \\in \\mathbb{R}^{d_{in}}$, $y_i \\in \\mathbb{R}^{ d_{out}}$, $s_i \\in \\mathbb{R}^{d_{hid}}$\n",
        "\n",
        "$W^{hid} \\in \\mathbb{R}^{(d_{in}+d_{out}) \\times d_{hid}}$, $W^{out} \\in \\mathbb{R}^{d_{hid} \\times d_{out}}$"
      ]
    },
    {
      "cell_type": "markdown",
      "metadata": {
        "id": "9JU1GXf5Jy6_",
        "colab_type": "text"
      },
      "source": [
        "Построим языковую модель на основе RNN с помощью pytorch"
      ]
    },
    {
      "cell_type": "code",
      "metadata": {
        "id": "sohKQ_3kJy7A",
        "colab_type": "code",
        "outputId": "0d7f5b35-825d-420c-f258-89b16c32fff0",
        "colab": {}
      },
      "source": [
        "import numpy as np\n",
        "import random\n",
        "import torch\n",
        "import torch.nn as nn\n",
        "import torch.optim as optim\n",
        "import pdb\n",
        "from torch.utils.data import Dataset, DataLoader\n",
        "\n",
        "%load_ext autoreload\n",
        "%autoreload 2\n",
        "\n",
        "torch.set_printoptions(linewidth=200)"
      ],
      "execution_count": 0,
      "outputs": [
        {
          "output_type": "stream",
          "text": [
            "The autoreload extension is already loaded. To reload it, use:\n",
            "  %reload_ext autoreload\n"
          ],
          "name": "stdout"
        }
      ]
    },
    {
      "cell_type": "code",
      "metadata": {
        "id": "wv2XQVLTJy7F",
        "colab_type": "code",
        "colab": {}
      },
      "source": [
        "device = torch.device(\"cuda:0\" if torch.cuda.is_available() else \"cpu\")\n",
        "hidden_size = 50"
      ],
      "execution_count": 0,
      "outputs": []
    },
    {
      "cell_type": "markdown",
      "metadata": {
        "id": "PSevPn-BJy7J",
        "colab_type": "text"
      },
      "source": [
        "Подготовим данные"
      ]
    },
    {
      "cell_type": "code",
      "metadata": {
        "code_folding": [
          0
        ],
        "id": "bWsdgGXJJy7K",
        "colab_type": "code",
        "colab": {}
      },
      "source": [
        "class DinosDataset(Dataset):\n",
        "    def __init__(self):\n",
        "        super().__init__()\n",
        "        with open('dinos.txt') as f:\n",
        "            content = f.read().lower()\n",
        "            self.vocab = sorted(set(content)) + ['<', '>']\n",
        "            self.vocab_size = len(self.vocab)\n",
        "            self.lines = content.splitlines()\n",
        "        self.ch_to_idx = {c:i for i, c in enumerate(self.vocab)}\n",
        "        self.idx_to_ch = {i:c for i, c in enumerate(self.vocab)}\n",
        "    \n",
        "    def __getitem__(self, index):\n",
        "        line = self.lines[index]\n",
        "        #teacher forcing\n",
        "        x_str = '<' + line \n",
        "        y_str = line + '>' \n",
        "        x = torch.zeros([len(x_str), self.vocab_size], dtype=torch.float)\n",
        "        y = torch.empty(len(x_str), dtype=torch.long)\n",
        "        for i, (x_ch, y_ch) in enumerate(zip(x_str, y_str)):\n",
        "            x[i][self.ch_to_idx[x_ch]] = 1\n",
        "            y[i] = self.ch_to_idx[y_ch]\n",
        "        \n",
        "        return x, y\n",
        "    \n",
        "    def __len__(self):\n",
        "        return len(self.lines)"
      ],
      "execution_count": 0,
      "outputs": []
    },
    {
      "cell_type": "code",
      "metadata": {
        "id": "DVnnpOUpJy7O",
        "colab_type": "code",
        "colab": {}
      },
      "source": [
        "trn_ds = DinosDataset()\n",
        "trn_dl = DataLoader(trn_ds, shuffle=True)"
      ],
      "execution_count": 0,
      "outputs": []
    },
    {
      "cell_type": "code",
      "metadata": {
        "id": "dd3u0m1uJy7T",
        "colab_type": "code",
        "outputId": "ea593a21-0bc1-4e32-a4bc-91637ed379c4",
        "colab": {}
      },
      "source": [
        "trn_ds.lines[1]"
      ],
      "execution_count": 0,
      "outputs": [
        {
          "output_type": "execute_result",
          "data": {
            "text/plain": [
              "'aardonyx'"
            ]
          },
          "metadata": {
            "tags": []
          },
          "execution_count": 81
        }
      ]
    },
    {
      "cell_type": "code",
      "metadata": {
        "id": "ypd0tPX-Jy7Y",
        "colab_type": "code",
        "outputId": "e54106ae-e0c8-4b98-91c1-21cbc28c1314",
        "colab": {}
      },
      "source": [
        "print(trn_ds.idx_to_ch)"
      ],
      "execution_count": 0,
      "outputs": [
        {
          "output_type": "stream",
          "text": [
            "{0: '\\n', 1: 'a', 2: 'b', 3: 'c', 4: 'd', 5: 'e', 6: 'f', 7: 'g', 8: 'h', 9: 'i', 10: 'j', 11: 'k', 12: 'l', 13: 'm', 14: 'n', 15: 'o', 16: 'p', 17: 'q', 18: 'r', 19: 's', 20: 't', 21: 'u', 22: 'v', 23: 'w', 24: 'x', 25: 'y', 26: 'z', 27: '<', 28: '>'}\n"
          ],
          "name": "stdout"
        }
      ]
    },
    {
      "cell_type": "code",
      "metadata": {
        "id": "SKHySrnUJy7b",
        "colab_type": "code",
        "outputId": "2765b4cb-6f7a-4671-e7af-79143edbd0ce",
        "colab": {}
      },
      "source": [
        "trn_ds.vocab_size"
      ],
      "execution_count": 0,
      "outputs": [
        {
          "output_type": "execute_result",
          "data": {
            "text/plain": [
              "29"
            ]
          },
          "metadata": {
            "tags": []
          },
          "execution_count": 48
        }
      ]
    },
    {
      "cell_type": "code",
      "metadata": {
        "id": "aAD7nZoBJy7e",
        "colab_type": "code",
        "colab": {}
      },
      "source": [
        "x, y = trn_ds[1]"
      ],
      "execution_count": 0,
      "outputs": []
    },
    {
      "cell_type": "code",
      "metadata": {
        "scrolled": true,
        "id": "zfMqoTp5Jy7j",
        "colab_type": "code",
        "outputId": "c43661c7-12d2-45f8-b14c-6a23bd658d6d",
        "colab": {}
      },
      "source": [
        "x.shape"
      ],
      "execution_count": 0,
      "outputs": [
        {
          "output_type": "execute_result",
          "data": {
            "text/plain": [
              "torch.Size([9, 29])"
            ]
          },
          "metadata": {
            "tags": []
          },
          "execution_count": 50
        }
      ]
    },
    {
      "cell_type": "code",
      "metadata": {
        "id": "IGJkmfmKJy7m",
        "colab_type": "code",
        "outputId": "a8d4a7fe-08eb-4ac0-bb14-a0abef14e95c",
        "colab": {}
      },
      "source": [
        "y.shape"
      ],
      "execution_count": 0,
      "outputs": [
        {
          "output_type": "execute_result",
          "data": {
            "text/plain": [
              "torch.Size([9])"
            ]
          },
          "metadata": {
            "tags": []
          },
          "execution_count": 51
        }
      ]
    },
    {
      "cell_type": "markdown",
      "metadata": {
        "id": "m1qVY7HjJy7p",
        "colab_type": "text"
      },
      "source": [
        "Опишем модель, функцию потерь и алгоритм оптимизации"
      ]
    },
    {
      "cell_type": "code",
      "metadata": {
        "code_folding": [],
        "id": "BlH3N_pgJy7q",
        "colab_type": "code",
        "colab": {}
      },
      "source": [
        "class RNN(nn.Module):\n",
        "    def __init__(self, input_size, hidden_size, output_size):\n",
        "        super().__init__()\n",
        "        self.i2h = nn.Linear(input_size + hidden_size, hidden_size)\n",
        "        self.dropout = nn.Dropout(0.3)\n",
        "        self.i2o = nn.Linear(input_size + hidden_size, output_size)\n",
        "    \n",
        "    def forward(self, h_prev, x):\n",
        "        combined = torch.cat([h_prev, x], dim = 1) # concatenate x and h\n",
        "        h = torch.tanh(self.dropout(self.i2h(combined)))\n",
        "        y = self.i2o(h) #combined\n",
        "        return h, y"
      ],
      "execution_count": 0,
      "outputs": []
    },
    {
      "cell_type": "code",
      "metadata": {
        "id": "HB4daIlUJy7r",
        "colab_type": "code",
        "colab": {}
      },
      "source": [
        "model = RNN(trn_ds.vocab_size, hidden_size, trn_ds.vocab_size).to(device)\n",
        "loss_fn = nn.CrossEntropyLoss()\n",
        "optimizer = optim.SGD(model.parameters(), lr=1e-2)"
      ],
      "execution_count": 0,
      "outputs": []
    },
    {
      "cell_type": "markdown",
      "metadata": {
        "id": "XOWTCBxWJy7u",
        "colab_type": "text"
      },
      "source": [
        "![rnn](https://github.com/lizagonch/NLP/blob/master/4/images/dinos3.png?raw=1)"
      ]
    },
    {
      "cell_type": "code",
      "metadata": {
        "code_folding": [],
        "id": "qVwwLxGlJy7v",
        "colab_type": "code",
        "colab": {}
      },
      "source": [
        "def sample(model):\n",
        "    model.eval()\n",
        "    word_size=0\n",
        "    newline_idx = trn_ds.ch_to_idx['>']\n",
        "    with torch.no_grad():\n",
        "        h_prev = torch.zeros([1, hidden_size], dtype=torch.float, device=device)\n",
        "        x = h_prev.new_zeros([1, trn_ds.vocab_size])\n",
        "        start_char_idx = trn_ds.ch_to_idx['<']\n",
        "        indices = [start_char_idx]\n",
        "        x[0, start_char_idx] = 1\n",
        "        predicted_char_idx = start_char_idx\n",
        "        \n",
        "        while predicted_char_idx != newline_idx and word_size != 50:\n",
        "            h_prev, y_pred = model(h_prev, x)\n",
        "            y_softmax_scores = torch.softmax(y_pred, dim=1)\n",
        "            \n",
        "            np.random.seed(np.random.randint(1, 5000))\n",
        "            idx = np.random.choice(np.arange(trn_ds.vocab_size), p=y_softmax_scores.cpu().numpy().ravel())\n",
        "            indices.append(idx)\n",
        "            \n",
        "            x = (y_pred == y_pred.max(1)[0]).float()\n",
        " \n",
        "            \n",
        "            predicted_char_idx = idx\n",
        "            \n",
        "            word_size += 1\n",
        "        \n",
        "        if word_size == 50:\n",
        "            indices.append(newline_idx)\n",
        "    return indices"
      ],
      "execution_count": 0,
      "outputs": []
    },
    {
      "cell_type": "code",
      "metadata": {
        "code_folding": [],
        "id": "Q6E6SE9QJy8F",
        "colab_type": "code",
        "colab": {}
      },
      "source": [
        "def print_sample(sample_idxs):\n",
        "    [print(trn_ds.idx_to_ch[x], end ='') for x in sample_idxs]\n",
        "    print()"
      ],
      "execution_count": 0,
      "outputs": []
    },
    {
      "cell_type": "markdown",
      "metadata": {
        "id": "LoLn_63OJy8G",
        "colab_type": "text"
      },
      "source": [
        "Обучим получившуюся модель"
      ]
    },
    {
      "cell_type": "code",
      "metadata": {
        "code_folding": [],
        "id": "ZzDJB9l3Jy8H",
        "colab_type": "code",
        "colab": {}
      },
      "source": [
        "def train_one_epoch(model, loss_fn, optimizer):\n",
        "    model.train()\n",
        "    for line_num, (x, y) in enumerate(trn_dl):\n",
        "        loss = 0\n",
        "        optimizer.zero_grad()\n",
        "        h_prev = torch.zeros([1, hidden_size], dtype=torch.float, device=device)\n",
        "        x, y = x.to(device), y.to(device)\n",
        "        for i in range(x.shape[1]):\n",
        "            h_prev, y_pred = model(h_prev, x[:, i])\n",
        "            loss += loss_fn(y_pred, y[:, i])\n",
        "            \n",
        "        if (line_num+1) % 100 == 0:\n",
        "            print_sample(sample(model))\n",
        "        loss.backward()\n",
        "        optimizer.step()"
      ],
      "execution_count": 0,
      "outputs": []
    },
    {
      "cell_type": "code",
      "metadata": {
        "code_folding": [],
        "id": "HBmSGApHJy8J",
        "colab_type": "code",
        "colab": {}
      },
      "source": [
        "def train(model, loss_fn, optimizer, dataset='dinos', epochs=1):\n",
        "    for e in range(1, epochs+1):\n",
        "        print('Epoch:{}'.format(e))\n",
        "        train_one_epoch(model, loss_fn, optimizer)\n",
        "        print()"
      ],
      "execution_count": 0,
      "outputs": []
    },
    {
      "cell_type": "code",
      "metadata": {
        "scrolled": false,
        "id": "eMdtAvFIJy8L",
        "colab_type": "code",
        "outputId": "0da9f750-0009-4bee-9809-5232d539777d",
        "colab": {}
      },
      "source": [
        "train(model, loss_fn, optimizer, epochs = 10)"
      ],
      "execution_count": 0,
      "outputs": [
        {
          "output_type": "stream",
          "text": [
            "Epoch:1\n",
            "<scohsaorus>\n",
            "<cumiatirus>\n",
            "<busuraurus>\n",
            "<lsrucaurus>\n",
            "<smsadiuous>\n",
            "<gnaucaurus>\n",
            "<suraskusus>\n",
            "<suapoerhurus>\n",
            "<burasaurus>\n",
            "<aptotaurus>\n",
            "<rinysdurup>\n",
            "<lcctbor>\n",
            "<ahonasaurus>\n",
            "<anurtgiurus>\n",
            "<rrwupauris>\n",
            "\n",
            "Epoch:2\n",
            "<alrasaurus>\n",
            "<andoomasaurus>\n",
            "<sutolaurus>\n",
            "<pusapalrus>\n",
            "<euabsacrus>\n",
            "<hcrarzstor>\n",
            "<speusaurus>\n",
            "<tanranitrus>\n",
            "<btgbpaurus>\n",
            "<antotaurus>\n",
            "<runysaurus>\n",
            "<lcluchuris>\n",
            "<larasipaudi>\n",
            "<puirosaurus>\n",
            "<srrusauris>\n",
            "\n",
            "Epoch:3\n",
            "<atctaheurus>\n",
            "<gnauchurus>\n",
            "<suggosaurus>\n",
            "<tanianocaurus>\n",
            "<mbrataurus>\n",
            "<xssaspurus>\n",
            "<kyrososaurus>\n",
            "<auluaiosaurus>\n",
            "<aubitnurus>\n",
            "<llrun>\n",
            "<srrusauras>\n",
            "<ahltamonaaurus>\n",
            "<sciupudhurus>\n",
            "<rnvurguros>\n",
            "<amsasaurus>\n",
            "\n",
            "Epoch:4\n",
            "<arrunaerus>\n",
            "<oudpspurus>\n",
            "<yuiptocaurus>\n",
            "<slsactuaus>\n",
            "<gnbucaurus>\n",
            "<sipkosaurus>\n",
            "<tbroaaunus>\n",
            "<ahsoates>\n",
            "<hcsapyurus>\n",
            "<soeosiyiurussusuusaun>\n",
            "<ahrocaurus>\n",
            "<scluptetscurus>\n",
            "<yuisouaculus>\n",
            "<slsagusaus>\n",
            "<gnbucaurus>\n",
            "\n",
            "Epoch:5\n",
            "<surhs>\n",
            "<kysos>\n",
            "<tbrnaaunus>\n",
            "<agonasaurur>\n",
            "<antotmotsaurus>\n",
            "<sprutaraurus>\n",
            "<euaasacrus>\n",
            "<hctcouaurus>\n",
            "<llotiuaurus>\n",
            "<ipbisaurus>\n",
            "<sraomouros>\n",
            "<jvrugrustauzou>\n",
            "<ltsuacuaus>\n",
            "<slsae>\n",
            "<laresauaui>\n",
            "\n",
            "Epoch:6\n",
            "<wrsas>\n",
            "<soiosaurus>\n",
            "<tbricaurus>\n",
            "<aipncasrus>\n",
            "<sdrurourus>\n",
            "<durov>\n",
            "<ltruaaucos>\n",
            "<smtah>\n",
            "<lbgdsisaurus>\n",
            "<thsusarrus>\n",
            "<srrusauras>\n",
            "<auducaurds>\n",
            "<smecodaurus>\n",
            "<turistut>\n",
            "<ltruanicaurus>\n",
            "\n",
            "Epoch:7\n",
            "<aaonaonokpaurus>\n",
            "<tartoonaurus>\n",
            "<ptubsicrus>\n",
            "<euagoraurus>\n",
            "<aubhvtolustop>\n",
            "<rrvurturas>\n",
            "<amsasaulus>\n",
            "<arnuriciurus>\n",
            "<bkutoneurus>\n",
            "<ptsannchudpurus>\n",
            "<lbrascucul>\n",
            "<wrsbsturus>\n",
            "<kytnosperus>\n",
            "<sdsitasrus>\n",
            "<cplgasaksaurus>\n",
            "\n",
            "Epoch:8\n",
            "<laurovhurus>\n",
            "<ipbosaun>\n",
            "<ahroataoioaurus>\n",
            "<tgrusterstrr>\n",
            "<purarhgrus>\n",
            "<euahticgesaurus>\n",
            "<wrses>\n",
            "<srktsl>\n",
            "<snrrsaliaaurus>\n",
            "<ahroahsrus>\n",
            "<sclvsrks>\n",
            "<snesslysoshurus>\n",
            "<eubmatacsacrus>\n",
            "<hcsar>\n",
            "<oucutooeosaurus>\n",
            "\n",
            "Epoch:9\n",
            "<tbouakuaus>\n",
            "<airnahnsh>\n",
            "<aublvotaurus>\n",
            "<rurys>\n",
            "<pusahnaneurus>\n",
            "<curapateraurus>\n",
            "<tauroraurus>\n",
            "<littananrus>\n",
            "<euaasiaaurus>\n",
            "<sdcvsoerossaurus>\n",
            "<ltsucaurus>\n",
            "<slucgsacrus>\n",
            "<gctcprsyntor>\n",
            "<dsknvsaurus>\n",
            "<lcctasatahs>\n",
            "\n",
            "Epoch:10\n",
            "<aneunalrus>\n",
            "<pucosshmoto>\n",
            "<snorsaurus>\n",
            "<auduceoras>\n",
            "<snhatanthus>\n",
            "<tunesausus>\n",
            "<suanoaosaurus>\n",
            "<sraogturos>\n",
            "<jvnuhotspsor>\n",
            "<yunus>\n",
            "<anrar>\n",
            "<aumuaauras>\n",
            "<sancocgxspurus>\n",
            "<dsopvusturas>\n",
            "<aaucontmrus>\n",
            "\n"
          ],
          "name": "stdout"
        }
      ]
    },
    {
      "cell_type": "markdown",
      "metadata": {
        "id": "tHw6aaEpJy8N",
        "colab_type": "text"
      },
      "source": [
        "### Task 2.\n",
        "Rewrite the sampling function so that pangrams (words that contain each character of the alphabet only ones)\n",
        "\n",
        "### Task 3.\n",
        "Rewrite the sampling function so that is it is possible to change the sampling temperature"
      ]
    },
    {
      "cell_type": "markdown",
      "metadata": {
        "id": "hCboeSZpJy8O",
        "colab_type": "text"
      },
      "source": [
        "# Reference\n",
        "\n",
        "1. Sampling in  RNN: https://nlp.stanford.edu/blog/maximum-likelihood-decoding-with-rnns-the-good-the-bad-and-the-ugly/\n",
        "2. Coursera course (main source): https://github.com/furkanu/deeplearning.ai-pytorch/tree/master/5-%20Sequence%20Models\n",
        "3. Coursera course (main source): https://github.com/Kulbear/deep-learning-coursera/blob/master/Sequence%20Models/Dinosaurus%20Island%20--%20Character%20level%20language%20model%20final%20-%20v3.ipynb\n",
        "4. LSTM: http://colah.github.io/posts/2015-08-Understanding-LSTMs/"
      ]
    },
    {
      "cell_type": "markdown",
      "metadata": {
        "id": "h6RQHOLoJy8O",
        "colab_type": "text"
      },
      "source": [
        "## Named Entity Recognition"
      ]
    },
    {
      "cell_type": "markdown",
      "metadata": {
        "id": "Qqp_s2uzJy8P",
        "colab_type": "text"
      },
      "source": [
        "\n",
        "#### Постановка задачи «sequence labeling»:\n"
      ]
    },
    {
      "cell_type": "markdown",
      "metadata": {
        "id": "nMfwkqNFJy8P",
        "colab_type": "text"
      },
      "source": [
        "\n",
        "* Дан корпус текстов $D$\n",
        "* Каждый текст представляет собой последовательность токенов\n",
        "* Каждому токену присвоена метка из некоторого множества $V$"
      ]
    },
    {
      "cell_type": "markdown",
      "metadata": {
        "id": "383mBHq6Jy8P",
        "colab_type": "text"
      },
      "source": [
        "В зависимости от множества меток $V$ получаем разные типы подзадач. Например:\n",
        "* если $V$ - множество частей речи, то это задача ***POS***-теггинга\n",
        "* если $V$ - множество типов именованных сущностей, то это задача ***NER***"
      ]
    },
    {
      "cell_type": "markdown",
      "metadata": {
        "id": "HPVS4UkWJy8Q",
        "colab_type": "text"
      },
      "source": [
        "Именованная сущность - любой фрагмент текста, обозначающий некоторый интересный объект."
      ]
    },
    {
      "cell_type": "markdown",
      "metadata": {
        "id": "WTZrAjrVJy8Q",
        "colab_type": "text"
      },
      "source": [
        "#### Conditional Random Fields"
      ]
    },
    {
      "cell_type": "markdown",
      "metadata": {
        "id": "TOCyFHYoJy8R",
        "colab_type": "text"
      },
      "source": [
        "***Conditional Random Field*** - развитие метода Марковских случайных полей. Графовая модель, которая используется для представления совместных распределений набора нескольких случайных переменных. "
      ]
    },
    {
      "cell_type": "markdown",
      "metadata": {
        "id": "2LpHrINTJy8R",
        "colab_type": "text"
      },
      "source": [
        "Особенности модели ***CRF***:"
      ]
    },
    {
      "cell_type": "markdown",
      "metadata": {
        "id": "HK3T9d4OJy8S",
        "colab_type": "text"
      },
      "source": [
        "* Качество сильно зависит от выбора признаков\n",
        "\n",
        "* Один из лучших методов для ***NER*** и ***POS***-теггинга\n",
        "\n",
        "* Долго обучается\n",
        "\n",
        "* Хорошо работает в связке с рекуррентными нейросетями, моделирует совместное распределение на всей последовательности выходов сети одновременно"
      ]
    },
    {
      "cell_type": "markdown",
      "metadata": {
        "id": "w-xV3lurJy8S",
        "colab_type": "text"
      },
      "source": [
        "#### Архитектура BiLSTM-CRF"
      ]
    },
    {
      "cell_type": "markdown",
      "metadata": {
        "id": "htDgpdgpJy8T",
        "colab_type": "text"
      },
      "source": [
        "В данной модели для каждого слова вычисляется его векторное представление на основе символьного состава слова, предобученных векоторных представлений (***Word2Vec***, ***FastText***, ***GloVe***), а также других признаков (***POS***-тег, роль в предложении и т.д.)"
      ]
    },
    {
      "cell_type": "markdown",
      "metadata": {
        "id": "3xCp0C9rJy8T",
        "colab_type": "text"
      },
      "source": [
        "![representation](https://github.com/lizagonch/NLP/blob/master/4/images/word_representation_model.png?raw=1)"
      ]
    },
    {
      "cell_type": "markdown",
      "metadata": {
        "id": "t63hQT3AJy8U",
        "colab_type": "text"
      },
      "source": [
        "Общая схема модели"
      ]
    },
    {
      "cell_type": "markdown",
      "metadata": {
        "id": "xZfpVGJtJy8U",
        "colab_type": "text"
      },
      "source": [
        "![bilstm_crf](https://github.com/lizagonch/NLP/blob/master/4/images/bilstm_crf_model.png?raw=1)"
      ]
    },
    {
      "cell_type": "markdown",
      "metadata": {
        "id": "QZUZJAHkJy8V",
        "colab_type": "text"
      },
      "source": [
        "Основные шаги алгоритма:\n",
        "* Получить предобученные эмбеддинги слов коллекции (***word2vec***, ***GloVe***)\n",
        "$$$$\n",
        "* Обучить символьные эмбеддинги (***char-BiLSTM***, ***char-CNN***)\n",
        "$$$$\n",
        "* Составить для каждого слова морфологические/синтаксические признаки (***POS***-тег, роль в предложении и т.п.)\n",
        "$$$$\n",
        "* Объединить всё это и подать на вход основной сети (***BiLSTM***)\n",
        "$$$$\n",
        "* Выходы $h_t$ для всех слов предложения подавать на вход классификатору,\n",
        "который будет предсказывать NER-тег (***SoftMax***, ***CRF***)"
      ]
    },
    {
      "cell_type": "code",
      "metadata": {
        "id": "gIMOmR8XJy8V",
        "colab_type": "code",
        "outputId": "f71a18af-bf72-4274-f24e-c6ab74423cc8",
        "colab": {
          "base_uri": "https://localhost:8080/",
          "height": 187
        }
      },
      "source": [
        "!pip install http://download.pytorch.org/whl/cu92/torch-0.4.1-cp36-cp36m-linux_x86_64.whl"
      ],
      "execution_count": 1,
      "outputs": [
        {
          "output_type": "stream",
          "text": [
            "Collecting torch==0.4.1 from http://download.pytorch.org/whl/cu92/torch-0.4.1-cp36-cp36m-linux_x86_64.whl\n",
            "\u001b[?25l  Downloading http://download.pytorch.org/whl/cu92/torch-0.4.1-cp36-cp36m-linux_x86_64.whl (512.6MB)\n",
            "\u001b[K     |████████████████████████████████| 512.6MB 1.1MB/s \n",
            "\u001b[31mERROR: torchvision 0.3.0 has requirement torch>=1.1.0, but you'll have torch 0.4.1 which is incompatible.\u001b[0m\n",
            "\u001b[31mERROR: fastai 1.0.57 has requirement torch>=1.0.0, but you'll have torch 0.4.1 which is incompatible.\u001b[0m\n",
            "\u001b[?25hInstalling collected packages: torch\n",
            "  Found existing installation: torch 1.2.0\n",
            "    Uninstalling torch-1.2.0:\n",
            "      Successfully uninstalled torch-1.2.0\n",
            "Successfully installed torch-0.4.1\n"
          ],
          "name": "stdout"
        }
      ]
    },
    {
      "cell_type": "code",
      "metadata": {
        "id": "o42rf9m9Jy8X",
        "colab_type": "code",
        "outputId": "9aa18670-2dab-40b9-85a8-d4eef8c63c96",
        "colab": {
          "base_uri": "https://localhost:8080/",
          "height": 275
        }
      },
      "source": [
        "!pip install torchvision==0.2.0"
      ],
      "execution_count": 2,
      "outputs": [
        {
          "output_type": "stream",
          "text": [
            "Collecting torchvision==0.2.0\n",
            "\u001b[?25l  Downloading https://files.pythonhosted.org/packages/e9/c9/f4eb36734bffd36eb8095247d816cbe6aeca0a2b9218b78678288edfdb92/torchvision-0.2.0-py2.py3-none-any.whl (48kB)\n",
            "\u001b[K     |████████████████████████████████| 51kB 2.0MB/s \n",
            "\u001b[?25hRequirement already satisfied: six in /usr/local/lib/python3.6/dist-packages (from torchvision==0.2.0) (1.12.0)\n",
            "Requirement already satisfied: numpy in /usr/local/lib/python3.6/dist-packages (from torchvision==0.2.0) (1.16.5)\n",
            "Requirement already satisfied: pillow>=4.1.1 in /usr/local/lib/python3.6/dist-packages (from torchvision==0.2.0) (4.3.0)\n",
            "Requirement already satisfied: torch in /usr/local/lib/python3.6/dist-packages (from torchvision==0.2.0) (0.4.1)\n",
            "Requirement already satisfied: olefile in /usr/local/lib/python3.6/dist-packages (from pillow>=4.1.1->torchvision==0.2.0) (0.46)\n",
            "\u001b[31mERROR: fastai 1.0.57 has requirement torch>=1.0.0, but you'll have torch 0.4.1 which is incompatible.\u001b[0m\n",
            "Installing collected packages: torchvision\n",
            "  Found existing installation: torchvision 0.3.0\n",
            "    Uninstalling torchvision-0.3.0:\n",
            "      Successfully uninstalled torchvision-0.3.0\n",
            "Successfully installed torchvision-0.2.0\n"
          ],
          "name": "stdout"
        }
      ]
    },
    {
      "cell_type": "code",
      "metadata": {
        "id": "qaZeMVcyJy8c",
        "colab_type": "code",
        "outputId": "aec43018-29ce-425b-8d42-7a9e5785cef6",
        "colab": {
          "base_uri": "https://localhost:8080/",
          "height": 136
        }
      },
      "source": [
        "!pip install torchtext"
      ],
      "execution_count": 3,
      "outputs": [
        {
          "output_type": "stream",
          "text": [
            "Requirement already satisfied: torchtext in /usr/local/lib/python3.6/dist-packages (0.3.0)\n",
            "Requirement already satisfied: tqdm in /usr/local/lib/python3.6/dist-packages (from torchtext) (4.28.1)\n",
            "Requirement already satisfied: requests in /usr/local/lib/python3.6/dist-packages (from torchtext) (2.21.0)\n",
            "Requirement already satisfied: chardet<3.1.0,>=3.0.2 in /usr/local/lib/python3.6/dist-packages (from requests->torchtext) (3.0.4)\n",
            "Requirement already satisfied: urllib3<1.25,>=1.21.1 in /usr/local/lib/python3.6/dist-packages (from requests->torchtext) (1.24.3)\n",
            "Requirement already satisfied: certifi>=2017.4.17 in /usr/local/lib/python3.6/dist-packages (from requests->torchtext) (2019.6.16)\n",
            "Requirement already satisfied: idna<2.9,>=2.5 in /usr/local/lib/python3.6/dist-packages (from requests->torchtext) (2.8)\n"
          ],
          "name": "stdout"
        }
      ]
    },
    {
      "cell_type": "code",
      "metadata": {
        "id": "-ExZPTO7Jy8d",
        "colab_type": "code",
        "outputId": "d02910bf-9785-4a0f-ab64-462e56bb4c02",
        "colab": {
          "base_uri": "https://localhost:8080/",
          "height": 136
        }
      },
      "source": [
        "!pip install natasha"
      ],
      "execution_count": 4,
      "outputs": [
        {
          "output_type": "stream",
          "text": [
            "Requirement already satisfied: natasha in /usr/local/lib/python3.6/dist-packages (0.10.0)\n",
            "Requirement already satisfied: yargy in /usr/local/lib/python3.6/dist-packages (from natasha) (0.12.0)\n",
            "Requirement already satisfied: pymorphy2==0.8 in /usr/local/lib/python3.6/dist-packages (from yargy->natasha) (0.8)\n",
            "Requirement already satisfied: backports.functools-lru-cache==1.3 in /usr/local/lib/python3.6/dist-packages (from yargy->natasha) (1.3)\n",
            "Requirement already satisfied: dawg-python>=0.7 in /usr/local/lib/python3.6/dist-packages (from pymorphy2==0.8->yargy->natasha) (0.7.2)\n",
            "Requirement already satisfied: pymorphy2-dicts<3.0,>=2.4 in /usr/local/lib/python3.6/dist-packages (from pymorphy2==0.8->yargy->natasha) (2.4.393442.3710985)\n",
            "Requirement already satisfied: docopt>=0.6 in /usr/local/lib/python3.6/dist-packages (from pymorphy2==0.8->yargy->natasha) (0.6.2)\n"
          ],
          "name": "stdout"
        }
      ]
    },
    {
      "cell_type": "code",
      "metadata": {
        "id": "ZxQaIXveJy8f",
        "colab_type": "code",
        "outputId": "5760115f-32c8-4da7-ca21-aa8193f64e17",
        "colab": {
          "base_uri": "https://localhost:8080/",
          "height": 88
        }
      },
      "source": [
        "!python -m spacy download en_core_web_sm"
      ],
      "execution_count": 5,
      "outputs": [
        {
          "output_type": "stream",
          "text": [
            "Requirement already satisfied: en_core_web_sm==2.1.0 from https://github.com/explosion/spacy-models/releases/download/en_core_web_sm-2.1.0/en_core_web_sm-2.1.0.tar.gz#egg=en_core_web_sm==2.1.0 in /usr/local/lib/python3.6/dist-packages (2.1.0)\n",
            "\u001b[38;5;2m✔ Download and installation successful\u001b[0m\n",
            "You can now load the model via spacy.load('en_core_web_sm')\n"
          ],
          "name": "stdout"
        }
      ]
    },
    {
      "cell_type": "code",
      "metadata": {
        "id": "fQcm48PiJy8g",
        "colab_type": "code",
        "outputId": "d4156adb-b2fe-403d-cc1a-10b892ab56e8",
        "colab": {
          "base_uri": "https://localhost:8080/",
          "height": 68
        }
      },
      "source": [
        "!pip install html5lib"
      ],
      "execution_count": 6,
      "outputs": [
        {
          "output_type": "stream",
          "text": [
            "Requirement already satisfied: html5lib in /usr/local/lib/python3.6/dist-packages (1.0.1)\n",
            "Requirement already satisfied: webencodings in /usr/local/lib/python3.6/dist-packages (from html5lib) (0.5.1)\n",
            "Requirement already satisfied: six>=1.9 in /usr/local/lib/python3.6/dist-packages (from html5lib) (1.12.0)\n"
          ],
          "name": "stdout"
        }
      ]
    },
    {
      "cell_type": "code",
      "metadata": {
        "id": "E1J6O5orJy8i",
        "colab_type": "code",
        "outputId": "94017a77-65af-449e-97cd-0a93997bf65c",
        "colab": {
          "base_uri": "https://localhost:8080/",
          "height": 204
        }
      },
      "source": [
        "!wget https://raw.githubusercontent.com/synalp/NER/master/corpus/CoNLL-2003/eng.testa"
      ],
      "execution_count": 7,
      "outputs": [
        {
          "output_type": "stream",
          "text": [
            "--2019-09-27 19:41:50--  https://raw.githubusercontent.com/synalp/NER/master/corpus/CoNLL-2003/eng.testa\n",
            "Resolving raw.githubusercontent.com (raw.githubusercontent.com)... 151.101.0.133, 151.101.64.133, 151.101.128.133, ...\n",
            "Connecting to raw.githubusercontent.com (raw.githubusercontent.com)|151.101.0.133|:443... connected.\n",
            "HTTP request sent, awaiting response... 200 OK\n",
            "Length: 827012 (808K) [text/plain]\n",
            "Saving to: ‘eng.testa’\n",
            "\n",
            "\reng.testa             0%[                    ]       0  --.-KB/s               \reng.testa           100%[===================>] 807.63K  --.-KB/s    in 0.07s   \n",
            "\n",
            "2019-09-27 19:41:51 (10.6 MB/s) - ‘eng.testa’ saved [827012/827012]\n",
            "\n"
          ],
          "name": "stdout"
        }
      ]
    },
    {
      "cell_type": "code",
      "metadata": {
        "id": "2fqL7RzEJy8k",
        "colab_type": "code",
        "outputId": "b0f6c603-4572-47ac-dbd2-78839ba3ad5e",
        "colab": {
          "base_uri": "https://localhost:8080/",
          "height": 204
        }
      },
      "source": [
        "!wget https://raw.githubusercontent.com/synalp/NER/master/corpus/CoNLL-2003/eng.testb"
      ],
      "execution_count": 8,
      "outputs": [
        {
          "output_type": "stream",
          "text": [
            "--2019-09-27 19:41:52--  https://raw.githubusercontent.com/synalp/NER/master/corpus/CoNLL-2003/eng.testb\n",
            "Resolving raw.githubusercontent.com (raw.githubusercontent.com)... 151.101.0.133, 151.101.64.133, 151.101.128.133, ...\n",
            "Connecting to raw.githubusercontent.com (raw.githubusercontent.com)|151.101.0.133|:443... connected.\n",
            "HTTP request sent, awaiting response... 200 OK\n",
            "Length: 748096 (731K) [text/plain]\n",
            "Saving to: ‘eng.testb’\n",
            "\n",
            "\reng.testb             0%[                    ]       0  --.-KB/s               \reng.testb           100%[===================>] 730.56K  --.-KB/s    in 0.06s   \n",
            "\n",
            "2019-09-27 19:41:53 (11.4 MB/s) - ‘eng.testb’ saved [748096/748096]\n",
            "\n"
          ],
          "name": "stdout"
        }
      ]
    },
    {
      "cell_type": "code",
      "metadata": {
        "id": "3VKQD9RgJy8n",
        "colab_type": "code",
        "outputId": "f93c5c66-9171-4b4c-f961-c598eeb279e4",
        "colab": {
          "base_uri": "https://localhost:8080/",
          "height": 204
        }
      },
      "source": [
        "!wget https://raw.githubusercontent.com/synalp/NER/master/corpus/CoNLL-2003/eng.train"
      ],
      "execution_count": 9,
      "outputs": [
        {
          "output_type": "stream",
          "text": [
            "--2019-09-27 19:41:54--  https://raw.githubusercontent.com/synalp/NER/master/corpus/CoNLL-2003/eng.train\n",
            "Resolving raw.githubusercontent.com (raw.githubusercontent.com)... 151.101.0.133, 151.101.64.133, 151.101.128.133, ...\n",
            "Connecting to raw.githubusercontent.com (raw.githubusercontent.com)|151.101.0.133|:443... connected.\n",
            "HTTP request sent, awaiting response... 200 OK\n",
            "Length: 3281528 (3.1M) [text/plain]\n",
            "Saving to: ‘eng.train’\n",
            "\n",
            "\reng.train             0%[                    ]       0  --.-KB/s               \reng.train           100%[===================>]   3.13M  --.-KB/s    in 0.1s    \n",
            "\n",
            "2019-09-27 19:41:55 (28.2 MB/s) - ‘eng.train’ saved [3281528/3281528]\n",
            "\n"
          ],
          "name": "stdout"
        }
      ]
    },
    {
      "cell_type": "code",
      "metadata": {
        "id": "_GuzKzsNJy8o",
        "colab_type": "code",
        "colab": {
          "base_uri": "https://localhost:8080/",
          "height": 34
        },
        "outputId": "a122a409-ba89-4a1f-a569-2dd436e3a71e"
      },
      "source": [
        "!mkdir datasets && mv eng.* datasets/"
      ],
      "execution_count": 10,
      "outputs": [
        {
          "output_type": "stream",
          "text": [
            "mkdir: cannot create directory ‘datasets’: File exists\n"
          ],
          "name": "stdout"
        }
      ]
    },
    {
      "cell_type": "code",
      "metadata": {
        "id": "Kp9kUzW2Jy8q",
        "colab_type": "code",
        "outputId": "650f1bb9-abb0-48d6-f3e7-5253b350b987",
        "colab": {
          "base_uri": "https://localhost:8080/",
          "height": 394
        }
      },
      "source": [
        "!wget https://www.dropbox.com/s/rgfj9jzn24tgjkk/glove.6B.100d.txt\n",
        "!mkdir embeddings "
      ],
      "execution_count": 11,
      "outputs": [
        {
          "output_type": "stream",
          "text": [
            "--2019-09-27 19:41:59--  https://www.dropbox.com/s/rgfj9jzn24tgjkk/glove.6B.100d.txt\n",
            "Resolving www.dropbox.com (www.dropbox.com)... 162.125.9.1, 2620:100:601f:1::a27d:901\n",
            "Connecting to www.dropbox.com (www.dropbox.com)|162.125.9.1|:443... connected.\n",
            "HTTP request sent, awaiting response... 301 Moved Permanently\n",
            "Location: /s/raw/rgfj9jzn24tgjkk/glove.6B.100d.txt [following]\n",
            "--2019-09-27 19:41:59--  https://www.dropbox.com/s/raw/rgfj9jzn24tgjkk/glove.6B.100d.txt\n",
            "Reusing existing connection to www.dropbox.com:443.\n",
            "HTTP request sent, awaiting response... 302 Found\n",
            "Location: https://uc2869b6c9a9d5dd09c831f0bd88.dl.dropboxusercontent.com/cd/0/inline/ApXCsRXLQhdmNzkjR8rqzA8hvoLxRWvDX8JFWnciWnJQ_t9YOw1_GVhSUHYGdq6UMe-7if9-ojqo2rMuwg0Sqs_qjR3EiiR6z9HD_WqbE7fBpPabbmc-ni5H08ALkhWma3M/file# [following]\n",
            "--2019-09-27 19:41:59--  https://uc2869b6c9a9d5dd09c831f0bd88.dl.dropboxusercontent.com/cd/0/inline/ApXCsRXLQhdmNzkjR8rqzA8hvoLxRWvDX8JFWnciWnJQ_t9YOw1_GVhSUHYGdq6UMe-7if9-ojqo2rMuwg0Sqs_qjR3EiiR6z9HD_WqbE7fBpPabbmc-ni5H08ALkhWma3M/file\n",
            "Resolving uc2869b6c9a9d5dd09c831f0bd88.dl.dropboxusercontent.com (uc2869b6c9a9d5dd09c831f0bd88.dl.dropboxusercontent.com)... 162.125.9.6, 2620:100:601f:6::a27d:906\n",
            "Connecting to uc2869b6c9a9d5dd09c831f0bd88.dl.dropboxusercontent.com (uc2869b6c9a9d5dd09c831f0bd88.dl.dropboxusercontent.com)|162.125.9.6|:443... connected.\n",
            "HTTP request sent, awaiting response... 200 OK\n",
            "Length: 347116733 (331M) [text/plain]\n",
            "Saving to: ‘glove.6B.100d.txt’\n",
            "\n",
            "glove.6B.100d.txt   100%[===================>] 331.04M  47.3MB/s    in 7.0s    \n",
            "\n",
            "2019-09-27 19:42:07 (47.5 MB/s) - ‘glove.6B.100d.txt’ saved [347116733/347116733]\n",
            "\n",
            "mkdir: cannot create directory ‘embeddings’: File exists\n"
          ],
          "name": "stdout"
        }
      ]
    },
    {
      "cell_type": "code",
      "metadata": {
        "id": "HQcsd6l9H0KV",
        "colab_type": "code",
        "colab": {}
      },
      "source": [
        "!mv glove.6B.100d.txt embeddings"
      ],
      "execution_count": 0,
      "outputs": []
    },
    {
      "cell_type": "code",
      "metadata": {
        "id": "xM9enZvnJy8u",
        "colab_type": "code",
        "outputId": "35fc5489-c70a-4a73-8000-e11ae9e5a1ef",
        "colab": {
          "base_uri": "https://localhost:8080/",
          "height": 34
        }
      },
      "source": [
        "!git clone https://github.com/sgrvinod/a-PyTorch-Tutorial-to-Sequence-Labeling"
      ],
      "execution_count": 13,
      "outputs": [
        {
          "output_type": "stream",
          "text": [
            "fatal: destination path 'a-PyTorch-Tutorial-to-Sequence-Labeling' already exists and is not an empty directory.\n"
          ],
          "name": "stdout"
        }
      ]
    },
    {
      "cell_type": "code",
      "metadata": {
        "id": "5AYX0rs-Jy8w",
        "colab_type": "code",
        "colab": {
          "base_uri": "https://localhost:8080/",
          "height": 34
        },
        "outputId": "bd20596f-d16c-46d4-9ff3-5777ac7a2c69"
      },
      "source": [
        "!mkdir conll2003 && cp datasets/eng.testa conll2003/eng.testa.txt && cp datasets/eng.testb conll2003/eng.testb.txt && cp datasets/eng.train conll2003/eng.train.txt"
      ],
      "execution_count": 14,
      "outputs": [
        {
          "output_type": "stream",
          "text": [
            "mkdir: cannot create directory ‘conll2003’: File exists\n"
          ],
          "name": "stdout"
        }
      ]
    },
    {
      "cell_type": "code",
      "metadata": {
        "id": "zIgIEX-PJy8y",
        "colab_type": "code",
        "colab": {
          "base_uri": "https://localhost:8080/",
          "height": 34
        },
        "outputId": "010c00d1-1a2f-4b08-d26f-3238eace3b12"
      },
      "source": [
        "!mkdir .data && mv conll2003 .data/"
      ],
      "execution_count": 15,
      "outputs": [
        {
          "output_type": "stream",
          "text": [
            "mkdir: cannot create directory ‘.data’: File exists\n"
          ],
          "name": "stdout"
        }
      ]
    },
    {
      "cell_type": "code",
      "metadata": {
        "id": "aXFruITyJy8z",
        "colab_type": "code",
        "outputId": "b7060690-1674-4f1d-8da2-a0889fe985df",
        "colab": {
          "base_uri": "https://localhost:8080/",
          "height": 34
        }
      },
      "source": [
        "!git clone https://github.com/kolloldas/torchnlp"
      ],
      "execution_count": 16,
      "outputs": [
        {
          "output_type": "stream",
          "text": [
            "fatal: destination path 'torchnlp' already exists and is not an empty directory.\n"
          ],
          "name": "stdout"
        }
      ]
    },
    {
      "cell_type": "code",
      "metadata": {
        "id": "9E5t2mSkJy81",
        "colab_type": "code",
        "outputId": "f0df0825-8f38-4781-e167-fe84fccc267e",
        "colab": {
          "base_uri": "https://localhost:8080/",
          "height": 1000
        }
      },
      "source": [
        "!cd torchnlp && pip install -r requirements.txt && python setup.py install"
      ],
      "execution_count": 17,
      "outputs": [
        {
          "output_type": "stream",
          "text": [
            "Collecting git+git://github.com/kolloldas/text.git (from -r requirements.txt (line 4))\n",
            "  Cloning git://github.com/kolloldas/text.git to /tmp/pip-req-build-5ub1y0x7\n",
            "  Running command git clone -q git://github.com/kolloldas/text.git /tmp/pip-req-build-5ub1y0x7\n",
            "Requirement already satisfied (use --upgrade to upgrade): torchtext==0.3.0 from git+git://github.com/kolloldas/text.git in /usr/local/lib/python3.6/dist-packages (from -r requirements.txt (line 4))\n",
            "Requirement already satisfied: numpy in /usr/local/lib/python3.6/dist-packages (from -r requirements.txt (line 5)) (1.16.5)\n",
            "Requirement already satisfied: tqdm in /usr/local/lib/python3.6/dist-packages (from -r requirements.txt (line 6)) (4.28.1)\n",
            "Requirement already satisfied: pytest in /usr/local/lib/python3.6/dist-packages (from -r requirements.txt (line 9)) (3.6.4)\n",
            "Requirement already satisfied: pytest-mock in /usr/local/lib/python3.6/dist-packages (from -r requirements.txt (line 10)) (1.10.4)\n",
            "Requirement already satisfied: pytest-pythonpath in /usr/local/lib/python3.6/dist-packages (from -r requirements.txt (line 11)) (0.7.3)\n",
            "Requirement already satisfied: requests in /usr/local/lib/python3.6/dist-packages (from torchtext==0.3.0->-r requirements.txt (line 4)) (2.21.0)\n",
            "Requirement already satisfied: atomicwrites>=1.0 in /usr/local/lib/python3.6/dist-packages (from pytest->-r requirements.txt (line 9)) (1.3.0)\n",
            "Requirement already satisfied: attrs>=17.4.0 in /usr/local/lib/python3.6/dist-packages (from pytest->-r requirements.txt (line 9)) (19.1.0)\n",
            "Requirement already satisfied: py>=1.5.0 in /usr/local/lib/python3.6/dist-packages (from pytest->-r requirements.txt (line 9)) (1.8.0)\n",
            "Requirement already satisfied: six>=1.10.0 in /usr/local/lib/python3.6/dist-packages (from pytest->-r requirements.txt (line 9)) (1.12.0)\n",
            "Requirement already satisfied: setuptools in /usr/local/lib/python3.6/dist-packages (from pytest->-r requirements.txt (line 9)) (41.2.0)\n",
            "Requirement already satisfied: more-itertools>=4.0.0 in /usr/local/lib/python3.6/dist-packages (from pytest->-r requirements.txt (line 9)) (7.2.0)\n",
            "Requirement already satisfied: pluggy<0.8,>=0.5 in /usr/local/lib/python3.6/dist-packages (from pytest->-r requirements.txt (line 9)) (0.7.1)\n",
            "Requirement already satisfied: chardet<3.1.0,>=3.0.2 in /usr/local/lib/python3.6/dist-packages (from requests->torchtext==0.3.0->-r requirements.txt (line 4)) (3.0.4)\n",
            "Requirement already satisfied: idna<2.9,>=2.5 in /usr/local/lib/python3.6/dist-packages (from requests->torchtext==0.3.0->-r requirements.txt (line 4)) (2.8)\n",
            "Requirement already satisfied: certifi>=2017.4.17 in /usr/local/lib/python3.6/dist-packages (from requests->torchtext==0.3.0->-r requirements.txt (line 4)) (2019.6.16)\n",
            "Requirement already satisfied: urllib3<1.25,>=1.21.1 in /usr/local/lib/python3.6/dist-packages (from requests->torchtext==0.3.0->-r requirements.txt (line 4)) (1.24.3)\n",
            "Building wheels for collected packages: torchtext\n",
            "  Building wheel for torchtext (setup.py) ... \u001b[?25l\u001b[?25hdone\n",
            "  Created wheel for torchtext: filename=torchtext-0.3.0-cp36-none-any.whl size=57517 sha256=de7732656fd892d84cdc5b9fb780ea20b05a0452e8cec129fcdb5ebf0e45864b\n",
            "  Stored in directory: /tmp/pip-ephem-wheel-cache-e87y_o5w/wheels/e9/73/43/84b2351c8dc2cfb34334d033b497dd0161e9c3d4b6d3a0443d\n",
            "Successfully built torchtext\n",
            "running install\n",
            "running bdist_egg\n",
            "running egg_info\n",
            "writing torchnlp.egg-info/PKG-INFO\n",
            "writing dependency_links to torchnlp.egg-info/dependency_links.txt\n",
            "writing top-level names to torchnlp.egg-info/top_level.txt\n",
            "writing manifest file 'torchnlp.egg-info/SOURCES.txt'\n",
            "installing library code to build/bdist.linux-x86_64/egg\n",
            "running install_lib\n",
            "running build_py\n",
            "creating build/bdist.linux-x86_64/egg\n",
            "creating build/bdist.linux-x86_64/egg/torchnlp\n",
            "creating build/bdist.linux-x86_64/egg/torchnlp/common\n",
            "copying build/lib/torchnlp/common/prefs.py -> build/bdist.linux-x86_64/egg/torchnlp/common\n",
            "copying build/lib/torchnlp/common/info.py -> build/bdist.linux-x86_64/egg/torchnlp/common\n",
            "copying build/lib/torchnlp/common/cmd.py -> build/bdist.linux-x86_64/egg/torchnlp/common\n",
            "copying build/lib/torchnlp/common/model.py -> build/bdist.linux-x86_64/egg/torchnlp/common\n",
            "copying build/lib/torchnlp/common/__init__.py -> build/bdist.linux-x86_64/egg/torchnlp/common\n",
            "copying build/lib/torchnlp/common/evaluation.py -> build/bdist.linux-x86_64/egg/torchnlp/common\n",
            "copying build/lib/torchnlp/common/hparams.py -> build/bdist.linux-x86_64/egg/torchnlp/common\n",
            "copying build/lib/torchnlp/common/train.py -> build/bdist.linux-x86_64/egg/torchnlp/common\n",
            "copying build/lib/torchnlp/ner.py -> build/bdist.linux-x86_64/egg/torchnlp\n",
            "copying build/lib/torchnlp/__init__.py -> build/bdist.linux-x86_64/egg/torchnlp\n",
            "creating build/bdist.linux-x86_64/egg/torchnlp/data\n",
            "copying build/lib/torchnlp/data/nyt.py -> build/bdist.linux-x86_64/egg/torchnlp/data\n",
            "copying build/lib/torchnlp/data/inputs.py -> build/bdist.linux-x86_64/egg/torchnlp/data\n",
            "copying build/lib/torchnlp/data/conll.py -> build/bdist.linux-x86_64/egg/torchnlp/data\n",
            "copying build/lib/torchnlp/data/__init__.py -> build/bdist.linux-x86_64/egg/torchnlp/data\n",
            "creating build/bdist.linux-x86_64/egg/torchnlp/modules\n",
            "copying build/lib/torchnlp/modules/outputs.py -> build/bdist.linux-x86_64/egg/torchnlp/modules\n",
            "copying build/lib/torchnlp/modules/normalization.py -> build/bdist.linux-x86_64/egg/torchnlp/modules\n",
            "copying build/lib/torchnlp/modules/__init__.py -> build/bdist.linux-x86_64/egg/torchnlp/modules\n",
            "creating build/bdist.linux-x86_64/egg/torchnlp/modules/transformer\n",
            "copying build/lib/torchnlp/modules/transformer/main.py -> build/bdist.linux-x86_64/egg/torchnlp/modules/transformer\n",
            "copying build/lib/torchnlp/modules/transformer/__init__.py -> build/bdist.linux-x86_64/egg/torchnlp/modules/transformer\n",
            "copying build/lib/torchnlp/modules/transformer/sublayers.py -> build/bdist.linux-x86_64/egg/torchnlp/modules/transformer\n",
            "copying build/lib/torchnlp/modules/transformer/layers.py -> build/bdist.linux-x86_64/egg/torchnlp/modules/transformer\n",
            "copying build/lib/torchnlp/modules/crf.py -> build/bdist.linux-x86_64/egg/torchnlp/modules\n",
            "copying build/lib/torchnlp/chunk.py -> build/bdist.linux-x86_64/egg/torchnlp\n",
            "creating build/bdist.linux-x86_64/egg/torchnlp/tasks\n",
            "creating build/bdist.linux-x86_64/egg/torchnlp/tasks/sequence_tagging\n",
            "copying build/lib/torchnlp/tasks/sequence_tagging/tagger.py -> build/bdist.linux-x86_64/egg/torchnlp/tasks/sequence_tagging\n",
            "copying build/lib/torchnlp/tasks/sequence_tagging/main.py -> build/bdist.linux-x86_64/egg/torchnlp/tasks/sequence_tagging\n",
            "copying build/lib/torchnlp/tasks/sequence_tagging/__init__.py -> build/bdist.linux-x86_64/egg/torchnlp/tasks/sequence_tagging\n",
            "copying build/lib/torchnlp/tasks/sequence_tagging/transformer_tagger.py -> build/bdist.linux-x86_64/egg/torchnlp/tasks/sequence_tagging\n",
            "copying build/lib/torchnlp/tasks/sequence_tagging/bilstm_tagger.py -> build/bdist.linux-x86_64/egg/torchnlp/tasks/sequence_tagging\n",
            "copying build/lib/torchnlp/tasks/__init__.py -> build/bdist.linux-x86_64/egg/torchnlp/tasks\n",
            "byte-compiling build/bdist.linux-x86_64/egg/torchnlp/common/prefs.py to prefs.cpython-36.pyc\n",
            "byte-compiling build/bdist.linux-x86_64/egg/torchnlp/common/info.py to info.cpython-36.pyc\n",
            "byte-compiling build/bdist.linux-x86_64/egg/torchnlp/common/cmd.py to cmd.cpython-36.pyc\n",
            "byte-compiling build/bdist.linux-x86_64/egg/torchnlp/common/model.py to model.cpython-36.pyc\n",
            "byte-compiling build/bdist.linux-x86_64/egg/torchnlp/common/__init__.py to __init__.cpython-36.pyc\n",
            "byte-compiling build/bdist.linux-x86_64/egg/torchnlp/common/evaluation.py to evaluation.cpython-36.pyc\n",
            "byte-compiling build/bdist.linux-x86_64/egg/torchnlp/common/hparams.py to hparams.cpython-36.pyc\n",
            "byte-compiling build/bdist.linux-x86_64/egg/torchnlp/common/train.py to train.cpython-36.pyc\n",
            "byte-compiling build/bdist.linux-x86_64/egg/torchnlp/ner.py to ner.cpython-36.pyc\n",
            "byte-compiling build/bdist.linux-x86_64/egg/torchnlp/__init__.py to __init__.cpython-36.pyc\n",
            "byte-compiling build/bdist.linux-x86_64/egg/torchnlp/data/nyt.py to nyt.cpython-36.pyc\n",
            "byte-compiling build/bdist.linux-x86_64/egg/torchnlp/data/inputs.py to inputs.cpython-36.pyc\n",
            "byte-compiling build/bdist.linux-x86_64/egg/torchnlp/data/conll.py to conll.cpython-36.pyc\n",
            "byte-compiling build/bdist.linux-x86_64/egg/torchnlp/data/__init__.py to __init__.cpython-36.pyc\n",
            "byte-compiling build/bdist.linux-x86_64/egg/torchnlp/modules/outputs.py to outputs.cpython-36.pyc\n",
            "byte-compiling build/bdist.linux-x86_64/egg/torchnlp/modules/normalization.py to normalization.cpython-36.pyc\n",
            "byte-compiling build/bdist.linux-x86_64/egg/torchnlp/modules/__init__.py to __init__.cpython-36.pyc\n",
            "byte-compiling build/bdist.linux-x86_64/egg/torchnlp/modules/transformer/main.py to main.cpython-36.pyc\n",
            "byte-compiling build/bdist.linux-x86_64/egg/torchnlp/modules/transformer/__init__.py to __init__.cpython-36.pyc\n",
            "byte-compiling build/bdist.linux-x86_64/egg/torchnlp/modules/transformer/sublayers.py to sublayers.cpython-36.pyc\n",
            "byte-compiling build/bdist.linux-x86_64/egg/torchnlp/modules/transformer/layers.py to layers.cpython-36.pyc\n",
            "byte-compiling build/bdist.linux-x86_64/egg/torchnlp/modules/crf.py to crf.cpython-36.pyc\n",
            "byte-compiling build/bdist.linux-x86_64/egg/torchnlp/chunk.py to chunk.cpython-36.pyc\n",
            "byte-compiling build/bdist.linux-x86_64/egg/torchnlp/tasks/sequence_tagging/tagger.py to tagger.cpython-36.pyc\n",
            "byte-compiling build/bdist.linux-x86_64/egg/torchnlp/tasks/sequence_tagging/main.py to main.cpython-36.pyc\n",
            "byte-compiling build/bdist.linux-x86_64/egg/torchnlp/tasks/sequence_tagging/__init__.py to __init__.cpython-36.pyc\n",
            "byte-compiling build/bdist.linux-x86_64/egg/torchnlp/tasks/sequence_tagging/transformer_tagger.py to transformer_tagger.cpython-36.pyc\n",
            "byte-compiling build/bdist.linux-x86_64/egg/torchnlp/tasks/sequence_tagging/bilstm_tagger.py to bilstm_tagger.cpython-36.pyc\n",
            "byte-compiling build/bdist.linux-x86_64/egg/torchnlp/tasks/__init__.py to __init__.cpython-36.pyc\n",
            "creating build/bdist.linux-x86_64/egg/EGG-INFO\n",
            "copying torchnlp.egg-info/PKG-INFO -> build/bdist.linux-x86_64/egg/EGG-INFO\n",
            "copying torchnlp.egg-info/SOURCES.txt -> build/bdist.linux-x86_64/egg/EGG-INFO\n",
            "copying torchnlp.egg-info/dependency_links.txt -> build/bdist.linux-x86_64/egg/EGG-INFO\n",
            "copying torchnlp.egg-info/top_level.txt -> build/bdist.linux-x86_64/egg/EGG-INFO\n",
            "zip_safe flag not set; analyzing archive contents...\n",
            "creating 'dist/torchnlp-0.1.0-py3.6.egg' and adding 'build/bdist.linux-x86_64/egg' to it\n",
            "removing 'build/bdist.linux-x86_64/egg' (and everything under it)\n",
            "Processing torchnlp-0.1.0-py3.6.egg\n",
            "Removing /usr/local/lib/python3.6/dist-packages/torchnlp-0.1.0-py3.6.egg\n",
            "Copying torchnlp-0.1.0-py3.6.egg to /usr/local/lib/python3.6/dist-packages\n",
            "torchnlp 0.1.0 is already the active version in easy-install.pth\n",
            "\n",
            "Installed /usr/local/lib/python3.6/dist-packages/torchnlp-0.1.0-py3.6.egg\n",
            "Processing dependencies for torchnlp==0.1.0\n",
            "Finished processing dependencies for torchnlp==0.1.0\n"
          ],
          "name": "stdout"
        }
      ]
    },
    {
      "cell_type": "markdown",
      "metadata": {
        "id": "JX-Y8f_kJy82",
        "colab_type": "text"
      },
      "source": [
        "#### Spacy "
      ]
    },
    {
      "cell_type": "code",
      "metadata": {
        "id": "_M-kQ6NeJy83",
        "colab_type": "code",
        "colab": {}
      },
      "source": [
        "import spacy\n",
        "from spacy import displacy\n",
        "from collections import Counter\n",
        "import en_core_web_sm\n",
        "nlp = en_core_web_sm.load()"
      ],
      "execution_count": 0,
      "outputs": []
    },
    {
      "cell_type": "code",
      "metadata": {
        "id": "I96ww58jJy86",
        "colab_type": "code",
        "outputId": "063ac0dd-5495-498b-9e6d-ace3df3d3471",
        "colab": {
          "base_uri": "https://localhost:8080/",
          "height": 34
        }
      },
      "source": [
        "doc = nlp('European authorities fined Google a record $5.1 billion on Wednesday for abusing its power in the mobile phone market and ordered the company to alter its practices')\n",
        "print([(X.text, X.label_) for X in doc.ents])"
      ],
      "execution_count": 19,
      "outputs": [
        {
          "output_type": "stream",
          "text": [
            "[('European', 'NORP'), ('Google', 'ORG'), ('$5.1 billion', 'MONEY'), ('Wednesday', 'DATE')]\n"
          ],
          "name": "stdout"
        }
      ]
    },
    {
      "cell_type": "markdown",
      "metadata": {
        "id": "OE0CK5DVJy89",
        "colab_type": "text"
      },
      "source": [
        "Выкачаем статью и найдём в ней именованные сущности, выведем их число:"
      ]
    },
    {
      "cell_type": "code",
      "metadata": {
        "id": "qT4yEDIYJy89",
        "colab_type": "code",
        "outputId": "e96abca1-0035-4881-c8e8-e26f2d515f81",
        "colab": {
          "base_uri": "https://localhost:8080/",
          "height": 34
        }
      },
      "source": [
        "from bs4 import BeautifulSoup\n",
        "import requests\n",
        "import re\n",
        "def url_to_string(url):\n",
        "    res = requests.get(url)\n",
        "    html = res.text\n",
        "    soup = BeautifulSoup(html, 'html.parser')\n",
        "    for script in soup([\"script\", \"style\", 'aside']):\n",
        "        script.extract()\n",
        "    return \" \".join(re.split(r'[\\n\\t]+', soup.get_text()))\n",
        "ny_bb = url_to_string('https://www.nytimes.com/2018/08/13/us/politics/peter-strzok-fired-fbi.html?hp&action=click&pgtype=Homepage&clickSource=story-heading&module=first-column-region&region=top-news&WT.nav=top-news')\n",
        "article = nlp(ny_bb)\n",
        "len(article.ents)"
      ],
      "execution_count": 20,
      "outputs": [
        {
          "output_type": "execute_result",
          "data": {
            "text/plain": [
              "173"
            ]
          },
          "metadata": {
            "tags": []
          },
          "execution_count": 20
        }
      ]
    },
    {
      "cell_type": "markdown",
      "metadata": {
        "id": "4qQIYh_AJy8_",
        "colab_type": "text"
      },
      "source": [
        "Выведем число встреченных сущностей каждого типа:"
      ]
    },
    {
      "cell_type": "code",
      "metadata": {
        "id": "Ep-PZZQrJy8_",
        "colab_type": "code",
        "outputId": "a690fbd8-125a-4d6a-cc3d-b2f290ea46c9",
        "colab": {
          "base_uri": "https://localhost:8080/",
          "height": 187
        }
      },
      "source": [
        "labels = [x.label_ for x in article.ents]\n",
        "Counter(labels)"
      ],
      "execution_count": 21,
      "outputs": [
        {
          "output_type": "execute_result",
          "data": {
            "text/plain": [
              "Counter({'CARDINAL': 5,\n",
              "         'DATE': 23,\n",
              "         'FAC': 1,\n",
              "         'GPE': 16,\n",
              "         'LAW': 1,\n",
              "         'NORP': 2,\n",
              "         'ORDINAL': 1,\n",
              "         'ORG': 39,\n",
              "         'PERSON': 82,\n",
              "         'PRODUCT': 3})"
            ]
          },
          "metadata": {
            "tags": []
          },
          "execution_count": 21
        }
      ]
    },
    {
      "cell_type": "markdown",
      "metadata": {
        "id": "mATjoXjMJy9C",
        "colab_type": "text"
      },
      "source": [
        "Выведем текст с подсвеченными сущностями разных типов:"
      ]
    },
    {
      "cell_type": "code",
      "metadata": {
        "id": "hjaeXP7YJy9E",
        "colab_type": "code",
        "outputId": "70503af5-2a19-47c4-b6a2-e09e9231b234",
        "colab": {
          "base_uri": "https://localhost:8080/",
          "height": 1000
        }
      },
      "source": [
        "sentences = [x for x in article.sents]\n",
        "displacy.render(nlp(str(sentences)), jupyter=True, style='ent')"
      ],
      "execution_count": 22,
      "outputs": [
        {
          "output_type": "display_data",
          "data": {
            "text/html": [
              "<div class=\"entities\" style=\"line-height: 2.5; direction: ltr\">[ F.B.I. Agent \n",
              "<mark class=\"entity\" style=\"background: #aa9cfc; padding: 0.45em 0.6em; margin: 0 0.25em; line-height: 1; border-radius: 0.35em; box-decoration-break: clone; -webkit-box-decoration-break: clone\">\n",
              "    Peter Strzok\n",
              "    <span style=\"font-size: 0.8em; font-weight: bold; line-height: 1; border-radius: 0.35em; text-transform: uppercase; vertical-align: middle; margin-left: 0.5rem\">PERSON</span>\n",
              "</mark>\n",
              ", Who \n",
              "<mark class=\"entity\" style=\"background: #aa9cfc; padding: 0.45em 0.6em; margin: 0 0.25em; line-height: 1; border-radius: 0.35em; box-decoration-break: clone; -webkit-box-decoration-break: clone\">\n",
              "    Criticized Trump\n",
              "    <span style=\"font-size: 0.8em; font-weight: bold; line-height: 1; border-radius: 0.35em; text-transform: uppercase; vertical-align: middle; margin-left: 0.5rem\">PERSON</span>\n",
              "</mark>\n",
              " in \n",
              "<mark class=\"entity\" style=\"background: #feca74; padding: 0.45em 0.6em; margin: 0 0.25em; line-height: 1; border-radius: 0.35em; box-decoration-break: clone; -webkit-box-decoration-break: clone\">\n",
              "    Texts\n",
              "    <span style=\"font-size: 0.8em; font-weight: bold; line-height: 1; border-radius: 0.35em; text-transform: uppercase; vertical-align: middle; margin-left: 0.5rem\">GPE</span>\n",
              "</mark>\n",
              ", Is Fired - The New York Times SectionsSEARCHSkip to contentSkip to site indexPoliticsLog, \n",
              "<mark class=\"entity\" style=\"background: #aa9cfc; padding: 0.45em 0.6em; margin: 0 0.25em; line-height: 1; border-radius: 0.35em; box-decoration-break: clone; -webkit-box-decoration-break: clone\">\n",
              "    InLog InToday’s\n",
              "    <span style=\"font-size: 0.8em; font-weight: bold; line-height: 1; border-radius: 0.35em; text-transform: uppercase; vertical-align: middle; margin-left: 0.5rem\">PERSON</span>\n",
              "</mark>\n",
              " PaperPolitics|F.B.I. Agent \n",
              "<mark class=\"entity\" style=\"background: #aa9cfc; padding: 0.45em 0.6em; margin: 0 0.25em; line-height: 1; border-radius: 0.35em; box-decoration-break: clone; -webkit-box-decoration-break: clone\">\n",
              "    Peter Strzok\n",
              "    <span style=\"font-size: 0.8em; font-weight: bold; line-height: 1; border-radius: 0.35em; text-transform: uppercase; vertical-align: middle; margin-left: 0.5rem\">PERSON</span>\n",
              "</mark>\n",
              ", Who \n",
              "<mark class=\"entity\" style=\"background: #aa9cfc; padding: 0.45em 0.6em; margin: 0 0.25em; line-height: 1; border-radius: 0.35em; box-decoration-break: clone; -webkit-box-decoration-break: clone\">\n",
              "    Criticized Trump\n",
              "    <span style=\"font-size: 0.8em; font-weight: bold; line-height: 1; border-radius: 0.35em; text-transform: uppercase; vertical-align: middle; margin-left: 0.5rem\">PERSON</span>\n",
              "</mark>\n",
              " in \n",
              "<mark class=\"entity\" style=\"background: #feca74; padding: 0.45em 0.6em; margin: 0 0.25em; line-height: 1; border-radius: 0.35em; box-decoration-break: clone; -webkit-box-decoration-break: clone\">\n",
              "    Texts\n",
              "    <span style=\"font-size: 0.8em; font-weight: bold; line-height: 1; border-radius: 0.35em; text-transform: uppercase; vertical-align: middle; margin-left: 0.5rem\">GPE</span>\n",
              "</mark>\n",
              ", Is FiredAdvertisementSupported byF.B.I., Agent \n",
              "<mark class=\"entity\" style=\"background: #aa9cfc; padding: 0.45em 0.6em; margin: 0 0.25em; line-height: 1; border-radius: 0.35em; box-decoration-break: clone; -webkit-box-decoration-break: clone\">\n",
              "    Peter Strzok\n",
              "    <span style=\"font-size: 0.8em; font-weight: bold; line-height: 1; border-radius: 0.35em; text-transform: uppercase; vertical-align: middle; margin-left: 0.5rem\">PERSON</span>\n",
              "</mark>\n",
              ", Who \n",
              "<mark class=\"entity\" style=\"background: #aa9cfc; padding: 0.45em 0.6em; margin: 0 0.25em; line-height: 1; border-radius: 0.35em; box-decoration-break: clone; -webkit-box-decoration-break: clone\">\n",
              "    Criticized Trump\n",
              "    <span style=\"font-size: 0.8em; font-weight: bold; line-height: 1; border-radius: 0.35em; text-transform: uppercase; vertical-align: middle; margin-left: 0.5rem\">PERSON</span>\n",
              "</mark>\n",
              " in \n",
              "<mark class=\"entity\" style=\"background: #feca74; padding: 0.45em 0.6em; margin: 0 0.25em; line-height: 1; border-radius: 0.35em; box-decoration-break: clone; -webkit-box-decoration-break: clone\">\n",
              "    Texts\n",
              "    <span style=\"font-size: 0.8em; font-weight: bold; line-height: 1; border-radius: 0.35em; text-transform: uppercase; vertical-align: middle; margin-left: 0.5rem\">GPE</span>\n",
              "</mark>\n",
              ", Is FiredImagePeter Strzok, a top F.B.I. counterintelligence agent who was taken off the special counsel investigation after his disparaging texts about President \n",
              "<mark class=\"entity\" style=\"background: #aa9cfc; padding: 0.45em 0.6em; margin: 0 0.25em; line-height: 1; border-radius: 0.35em; box-decoration-break: clone; -webkit-box-decoration-break: clone\">\n",
              "    Trump\n",
              "    <span style=\"font-size: 0.8em; font-weight: bold; line-height: 1; border-radius: 0.35em; text-transform: uppercase; vertical-align: middle; margin-left: 0.5rem\">PERSON</span>\n",
              "</mark>\n",
              " were uncovered, was fired., CreditCreditT.J. \n",
              "<mark class=\"entity\" style=\"background: #aa9cfc; padding: 0.45em 0.6em; margin: 0 0.25em; line-height: 1; border-radius: 0.35em; box-decoration-break: clone; -webkit-box-decoration-break: clone\">\n",
              "    Kirkpatrick\n",
              "    <span style=\"font-size: 0.8em; font-weight: bold; line-height: 1; border-radius: 0.35em; text-transform: uppercase; vertical-align: middle; margin-left: 0.5rem\">PERSON</span>\n",
              "</mark>\n",
              " for The New York TimesBy \n",
              "<mark class=\"entity\" style=\"background: #aa9cfc; padding: 0.45em 0.6em; margin: 0 0.25em; line-height: 1; border-radius: 0.35em; box-decoration-break: clone; -webkit-box-decoration-break: clone\">\n",
              "    Adam Goldman\n",
              "    <span style=\"font-size: 0.8em; font-weight: bold; line-height: 1; border-radius: 0.35em; text-transform: uppercase; vertical-align: middle; margin-left: 0.5rem\">PERSON</span>\n",
              "</mark>\n",
              " and \n",
              "<mark class=\"entity\" style=\"background: #aa9cfc; padding: 0.45em 0.6em; margin: 0 0.25em; line-height: 1; border-radius: 0.35em; box-decoration-break: clone; -webkit-box-decoration-break: clone\">\n",
              "    Michael S. SchmidtAug\n",
              "    <span style=\"font-size: 0.8em; font-weight: bold; line-height: 1; border-radius: 0.35em; text-transform: uppercase; vertical-align: middle; margin-left: 0.5rem\">PERSON</span>\n",
              "</mark>\n",
              "., \n",
              "<mark class=\"entity\" style=\"background: #e4e7d2; padding: 0.45em 0.6em; margin: 0 0.25em; line-height: 1; border-radius: 0.35em; box-decoration-break: clone; -webkit-box-decoration-break: clone\">\n",
              "    13\n",
              "    <span style=\"font-size: 0.8em; font-weight: bold; line-height: 1; border-radius: 0.35em; text-transform: uppercase; vertical-align: middle; margin-left: 0.5rem\">CARDINAL</span>\n",
              "</mark>\n",
              ", 2018WASHINGTON — Peter Strzok, the \n",
              "<mark class=\"entity\" style=\"background: #7aecec; padding: 0.45em 0.6em; margin: 0 0.25em; line-height: 1; border-radius: 0.35em; box-decoration-break: clone; -webkit-box-decoration-break: clone\">\n",
              "    F.B.I.\n",
              "    <span style=\"font-size: 0.8em; font-weight: bold; line-height: 1; border-radius: 0.35em; text-transform: uppercase; vertical-align: middle; margin-left: 0.5rem\">ORG</span>\n",
              "</mark>\n",
              " senior counterintelligence agent who disparaged President \n",
              "<mark class=\"entity\" style=\"background: #aa9cfc; padding: 0.45em 0.6em; margin: 0 0.25em; line-height: 1; border-radius: 0.35em; box-decoration-break: clone; -webkit-box-decoration-break: clone\">\n",
              "    Trump\n",
              "    <span style=\"font-size: 0.8em; font-weight: bold; line-height: 1; border-radius: 0.35em; text-transform: uppercase; vertical-align: middle; margin-left: 0.5rem\">PERSON</span>\n",
              "</mark>\n",
              " in inflammatory text messages and helped oversee the \n",
              "<mark class=\"entity\" style=\"background: #aa9cfc; padding: 0.45em 0.6em; margin: 0 0.25em; line-height: 1; border-radius: 0.35em; box-decoration-break: clone; -webkit-box-decoration-break: clone\">\n",
              "    Hillary Clinton\n",
              "    <span style=\"font-size: 0.8em; font-weight: bold; line-height: 1; border-radius: 0.35em; text-transform: uppercase; vertical-align: middle; margin-left: 0.5rem\">PERSON</span>\n",
              "</mark>\n",
              " email and \n",
              "<mark class=\"entity\" style=\"background: #feca74; padding: 0.45em 0.6em; margin: 0 0.25em; line-height: 1; border-radius: 0.35em; box-decoration-break: clone; -webkit-box-decoration-break: clone\">\n",
              "    Russia\n",
              "    <span style=\"font-size: 0.8em; font-weight: bold; line-height: 1; border-radius: 0.35em; text-transform: uppercase; vertical-align: middle; margin-left: 0.5rem\">GPE</span>\n",
              "</mark>\n",
              " investigations, has been fired for violating bureau policies, Mr. \n",
              "<mark class=\"entity\" style=\"background: #aa9cfc; padding: 0.45em 0.6em; margin: 0 0.25em; line-height: 1; border-radius: 0.35em; box-decoration-break: clone; -webkit-box-decoration-break: clone\">\n",
              "    Strzok\n",
              "    <span style=\"font-size: 0.8em; font-weight: bold; line-height: 1; border-radius: 0.35em; text-transform: uppercase; vertical-align: middle; margin-left: 0.5rem\">PERSON</span>\n",
              "</mark>\n",
              "’s lawyer said \n",
              "<mark class=\"entity\" style=\"background: #bfe1d9; padding: 0.45em 0.6em; margin: 0 0.25em; line-height: 1; border-radius: 0.35em; box-decoration-break: clone; -webkit-box-decoration-break: clone\">\n",
              "    Monday\n",
              "    <span style=\"font-size: 0.8em; font-weight: bold; line-height: 1; border-radius: 0.35em; text-transform: uppercase; vertical-align: middle; margin-left: 0.5rem\">DATE</span>\n",
              "</mark>\n",
              "., Mr., \n",
              "<mark class=\"entity\" style=\"background: #7aecec; padding: 0.45em 0.6em; margin: 0 0.25em; line-height: 1; border-radius: 0.35em; box-decoration-break: clone; -webkit-box-decoration-break: clone\">\n",
              "    Trump\n",
              "    <span style=\"font-size: 0.8em; font-weight: bold; line-height: 1; border-radius: 0.35em; text-transform: uppercase; vertical-align: middle; margin-left: 0.5rem\">ORG</span>\n",
              "</mark>\n",
              " and his allies seized on the texts, — exchanged during the \n",
              "<mark class=\"entity\" style=\"background: #bfe1d9; padding: 0.45em 0.6em; margin: 0 0.25em; line-height: 1; border-radius: 0.35em; box-decoration-break: clone; -webkit-box-decoration-break: clone\">\n",
              "    2016\n",
              "    <span style=\"font-size: 0.8em; font-weight: bold; line-height: 1; border-radius: 0.35em; text-transform: uppercase; vertical-align: middle; margin-left: 0.5rem\">DATE</span>\n",
              "</mark>\n",
              " campaign with a former \n",
              "<mark class=\"entity\" style=\"background: #7aecec; padding: 0.45em 0.6em; margin: 0 0.25em; line-height: 1; border-radius: 0.35em; box-decoration-break: clone; -webkit-box-decoration-break: clone\">\n",
              "    F.B.I.\n",
              "    <span style=\"font-size: 0.8em; font-weight: bold; line-height: 1; border-radius: 0.35em; text-transform: uppercase; vertical-align: middle; margin-left: 0.5rem\">ORG</span>\n",
              "</mark>\n",
              " lawyer, \n",
              "<mark class=\"entity\" style=\"background: #aa9cfc; padding: 0.45em 0.6em; margin: 0 0.25em; line-height: 1; border-radius: 0.35em; box-decoration-break: clone; -webkit-box-decoration-break: clone\">\n",
              "    Lisa Page\n",
              "    <span style=\"font-size: 0.8em; font-weight: bold; line-height: 1; border-radius: 0.35em; text-transform: uppercase; vertical-align: middle; margin-left: 0.5rem\">PERSON</span>\n",
              "</mark>\n",
              " — in assailing the \n",
              "<mark class=\"entity\" style=\"background: #feca74; padding: 0.45em 0.6em; margin: 0 0.25em; line-height: 1; border-radius: 0.35em; box-decoration-break: clone; -webkit-box-decoration-break: clone\">\n",
              "    Russia\n",
              "    <span style=\"font-size: 0.8em; font-weight: bold; line-height: 1; border-radius: 0.35em; text-transform: uppercase; vertical-align: middle; margin-left: 0.5rem\">GPE</span>\n",
              "</mark>\n",
              " investigation as an illegitimate “witch hunt., ” Mr. \n",
              "<mark class=\"entity\" style=\"background: #aa9cfc; padding: 0.45em 0.6em; margin: 0 0.25em; line-height: 1; border-radius: 0.35em; box-decoration-break: clone; -webkit-box-decoration-break: clone\">\n",
              "    Strzok\n",
              "    <span style=\"font-size: 0.8em; font-weight: bold; line-height: 1; border-radius: 0.35em; text-transform: uppercase; vertical-align: middle; margin-left: 0.5rem\">PERSON</span>\n",
              "</mark>\n",
              ", who rose over \n",
              "<mark class=\"entity\" style=\"background: #bfe1d9; padding: 0.45em 0.6em; margin: 0 0.25em; line-height: 1; border-radius: 0.35em; box-decoration-break: clone; -webkit-box-decoration-break: clone\">\n",
              "    20 years\n",
              "    <span style=\"font-size: 0.8em; font-weight: bold; line-height: 1; border-radius: 0.35em; text-transform: uppercase; vertical-align: middle; margin-left: 0.5rem\">DATE</span>\n",
              "</mark>\n",
              " at the \n",
              "<mark class=\"entity\" style=\"background: #7aecec; padding: 0.45em 0.6em; margin: 0 0.25em; line-height: 1; border-radius: 0.35em; box-decoration-break: clone; -webkit-box-decoration-break: clone\">\n",
              "    F.B.I.\n",
              "    <span style=\"font-size: 0.8em; font-weight: bold; line-height: 1; border-radius: 0.35em; text-transform: uppercase; vertical-align: middle; margin-left: 0.5rem\">ORG</span>\n",
              "</mark>\n",
              " to become one of its most experienced counterintelligence agents, was a key figure in \n",
              "<mark class=\"entity\" style=\"background: #bfe1d9; padding: 0.45em 0.6em; margin: 0 0.25em; line-height: 1; border-radius: 0.35em; box-decoration-break: clone; -webkit-box-decoration-break: clone\">\n",
              "    the early months\n",
              "    <span style=\"font-size: 0.8em; font-weight: bold; line-height: 1; border-radius: 0.35em; text-transform: uppercase; vertical-align: middle; margin-left: 0.5rem\">DATE</span>\n",
              "</mark>\n",
              " of the inquiry., Along with writing the texts, Mr. \n",
              "<mark class=\"entity\" style=\"background: #aa9cfc; padding: 0.45em 0.6em; margin: 0 0.25em; line-height: 1; border-radius: 0.35em; box-decoration-break: clone; -webkit-box-decoration-break: clone\">\n",
              "    Strzok\n",
              "    <span style=\"font-size: 0.8em; font-weight: bold; line-height: 1; border-radius: 0.35em; text-transform: uppercase; vertical-align: middle; margin-left: 0.5rem\">PERSON</span>\n",
              "</mark>\n",
              " was accused of sending a highly sensitive search warrant to his personal email account., The \n",
              "<mark class=\"entity\" style=\"background: #7aecec; padding: 0.45em 0.6em; margin: 0 0.25em; line-height: 1; border-radius: 0.35em; box-decoration-break: clone; -webkit-box-decoration-break: clone\">\n",
              "    F.B.I.\n",
              "    <span style=\"font-size: 0.8em; font-weight: bold; line-height: 1; border-radius: 0.35em; text-transform: uppercase; vertical-align: middle; margin-left: 0.5rem\">ORG</span>\n",
              "</mark>\n",
              " had been under immense political pressure by Mr. \n",
              "<mark class=\"entity\" style=\"background: #aa9cfc; padding: 0.45em 0.6em; margin: 0 0.25em; line-height: 1; border-radius: 0.35em; box-decoration-break: clone; -webkit-box-decoration-break: clone\">\n",
              "    Trump\n",
              "    <span style=\"font-size: 0.8em; font-weight: bold; line-height: 1; border-radius: 0.35em; text-transform: uppercase; vertical-align: middle; margin-left: 0.5rem\">PERSON</span>\n",
              "</mark>\n",
              " to dismiss Mr. \n",
              "<mark class=\"entity\" style=\"background: #aa9cfc; padding: 0.45em 0.6em; margin: 0 0.25em; line-height: 1; border-radius: 0.35em; box-decoration-break: clone; -webkit-box-decoration-break: clone\">\n",
              "    Strzok\n",
              "    <span style=\"font-size: 0.8em; font-weight: bold; line-height: 1; border-radius: 0.35em; text-transform: uppercase; vertical-align: middle; margin-left: 0.5rem\">PERSON</span>\n",
              "</mark>\n",
              ", who was removed \n",
              "<mark class=\"entity\" style=\"background: #bfe1d9; padding: 0.45em 0.6em; margin: 0 0.25em; line-height: 1; border-radius: 0.35em; box-decoration-break: clone; -webkit-box-decoration-break: clone\">\n",
              "    last summer\n",
              "    <span style=\"font-size: 0.8em; font-weight: bold; line-height: 1; border-radius: 0.35em; text-transform: uppercase; vertical-align: middle; margin-left: 0.5rem\">DATE</span>\n",
              "</mark>\n",
              " from the staff of the special counsel, \n",
              "<mark class=\"entity\" style=\"background: #aa9cfc; padding: 0.45em 0.6em; margin: 0 0.25em; line-height: 1; border-radius: 0.35em; box-decoration-break: clone; -webkit-box-decoration-break: clone\">\n",
              "    Robert S. Mueller III\n",
              "    <span style=\"font-size: 0.8em; font-weight: bold; line-height: 1; border-radius: 0.35em; text-transform: uppercase; vertical-align: middle; margin-left: 0.5rem\">PERSON</span>\n",
              "</mark>\n",
              "., The president has repeatedly denounced Mr. \n",
              "<mark class=\"entity\" style=\"background: #aa9cfc; padding: 0.45em 0.6em; margin: 0 0.25em; line-height: 1; border-radius: 0.35em; box-decoration-break: clone; -webkit-box-decoration-break: clone\">\n",
              "    Strzok\n",
              "    <span style=\"font-size: 0.8em; font-weight: bold; line-height: 1; border-radius: 0.35em; text-transform: uppercase; vertical-align: middle; margin-left: 0.5rem\">PERSON</span>\n",
              "</mark>\n",
              " in posts on \n",
              "<mark class=\"entity\" style=\"background: #feca74; padding: 0.45em 0.6em; margin: 0 0.25em; line-height: 1; border-radius: 0.35em; box-decoration-break: clone; -webkit-box-decoration-break: clone\">\n",
              "    Twitter\n",
              "    <span style=\"font-size: 0.8em; font-weight: bold; line-height: 1; border-radius: 0.35em; text-transform: uppercase; vertical-align: middle; margin-left: 0.5rem\">GPE</span>\n",
              "</mark>\n",
              ", and on \n",
              "<mark class=\"entity\" style=\"background: #bfe1d9; padding: 0.45em 0.6em; margin: 0 0.25em; line-height: 1; border-radius: 0.35em; box-decoration-break: clone; -webkit-box-decoration-break: clone\">\n",
              "    Monday\n",
              "    <span style=\"font-size: 0.8em; font-weight: bold; line-height: 1; border-radius: 0.35em; text-transform: uppercase; vertical-align: middle; margin-left: 0.5rem\">DATE</span>\n",
              "</mark>\n",
              " expressed satisfaction that he had been sacked., Mr., \n",
              "<mark class=\"entity\" style=\"background: #7aecec; padding: 0.45em 0.6em; margin: 0 0.25em; line-height: 1; border-radius: 0.35em; box-decoration-break: clone; -webkit-box-decoration-break: clone\">\n",
              "    Trump’s\n",
              "    <span style=\"font-size: 0.8em; font-weight: bold; line-height: 1; border-radius: 0.35em; text-transform: uppercase; vertical-align: middle; margin-left: 0.5rem\">ORG</span>\n",
              "</mark>\n",
              " victory traces back to \n",
              "<mark class=\"entity\" style=\"background: #bfe1d9; padding: 0.45em 0.6em; margin: 0 0.25em; line-height: 1; border-radius: 0.35em; box-decoration-break: clone; -webkit-box-decoration-break: clone\">\n",
              "    June\n",
              "    <span style=\"font-size: 0.8em; font-weight: bold; line-height: 1; border-radius: 0.35em; text-transform: uppercase; vertical-align: middle; margin-left: 0.5rem\">DATE</span>\n",
              "</mark>\n",
              ", when Mr. \n",
              "<mark class=\"entity\" style=\"background: #aa9cfc; padding: 0.45em 0.6em; margin: 0 0.25em; line-height: 1; border-radius: 0.35em; box-decoration-break: clone; -webkit-box-decoration-break: clone\">\n",
              "    Strzok\n",
              "    <span style=\"font-size: 0.8em; font-weight: bold; line-height: 1; border-radius: 0.35em; text-transform: uppercase; vertical-align: middle; margin-left: 0.5rem\">PERSON</span>\n",
              "</mark>\n",
              "’s conduct was laid out in a wide-ranging inspector general’s report on how the \n",
              "<mark class=\"entity\" style=\"background: #7aecec; padding: 0.45em 0.6em; margin: 0 0.25em; line-height: 1; border-radius: 0.35em; box-decoration-break: clone; -webkit-box-decoration-break: clone\">\n",
              "    F.B.I.\n",
              "    <span style=\"font-size: 0.8em; font-weight: bold; line-height: 1; border-radius: 0.35em; text-transform: uppercase; vertical-align: middle; margin-left: 0.5rem\">ORG</span>\n",
              "</mark>\n",
              " handled the investigation of \n",
              "<mark class=\"entity\" style=\"background: #aa9cfc; padding: 0.45em 0.6em; margin: 0 0.25em; line-height: 1; border-radius: 0.35em; box-decoration-break: clone; -webkit-box-decoration-break: clone\">\n",
              "    Hillary Clinton’s\n",
              "    <span style=\"font-size: 0.8em; font-weight: bold; line-height: 1; border-radius: 0.35em; text-transform: uppercase; vertical-align: middle; margin-left: 0.5rem\">PERSON</span>\n",
              "</mark>\n",
              " emails in the run-up to the \n",
              "<mark class=\"entity\" style=\"background: #bfe1d9; padding: 0.45em 0.6em; margin: 0 0.25em; line-height: 1; border-radius: 0.35em; box-decoration-break: clone; -webkit-box-decoration-break: clone\">\n",
              "    2016\n",
              "    <span style=\"font-size: 0.8em; font-weight: bold; line-height: 1; border-radius: 0.35em; text-transform: uppercase; vertical-align: middle; margin-left: 0.5rem\">DATE</span>\n",
              "</mark>\n",
              " election., The report was critical of Mr. \n",
              "<mark class=\"entity\" style=\"background: #aa9cfc; padding: 0.45em 0.6em; margin: 0 0.25em; line-height: 1; border-radius: 0.35em; box-decoration-break: clone; -webkit-box-decoration-break: clone\">\n",
              "    Strzok\n",
              "    <span style=\"font-size: 0.8em; font-weight: bold; line-height: 1; border-radius: 0.35em; text-transform: uppercase; vertical-align: middle; margin-left: 0.5rem\">PERSON</span>\n",
              "</mark>\n",
              "’s conduct in sending the texts, and the bureau\n",
              "<mark class=\"entity\" style=\"background: #7aecec; padding: 0.45em 0.6em; margin: 0 0.25em; line-height: 1; border-radius: 0.35em; box-decoration-break: clone; -webkit-box-decoration-break: clone\">\n",
              "    ’s Office of Professional Responsibility\n",
              "    <span style=\"font-size: 0.8em; font-weight: bold; line-height: 1; border-radius: 0.35em; text-transform: uppercase; vertical-align: middle; margin-left: 0.5rem\">ORG</span>\n",
              "</mark>\n",
              " said that Mr. \n",
              "<mark class=\"entity\" style=\"background: #aa9cfc; padding: 0.45em 0.6em; margin: 0 0.25em; line-height: 1; border-radius: 0.35em; box-decoration-break: clone; -webkit-box-decoration-break: clone\">\n",
              "    Strzok\n",
              "    <span style=\"font-size: 0.8em; font-weight: bold; line-height: 1; border-radius: 0.35em; text-transform: uppercase; vertical-align: middle; margin-left: 0.5rem\">PERSON</span>\n",
              "</mark>\n",
              " should be suspended for \n",
              "<mark class=\"entity\" style=\"background: #bfe1d9; padding: 0.45em 0.6em; margin: 0 0.25em; line-height: 1; border-radius: 0.35em; box-decoration-break: clone; -webkit-box-decoration-break: clone\">\n",
              "    60 days\n",
              "    <span style=\"font-size: 0.8em; font-weight: bold; line-height: 1; border-radius: 0.35em; text-transform: uppercase; vertical-align: middle; margin-left: 0.5rem\">DATE</span>\n",
              "</mark>\n",
              " and demoted., Mr. \n",
              "<mark class=\"entity\" style=\"background: #aa9cfc; padding: 0.45em 0.6em; margin: 0 0.25em; line-height: 1; border-radius: 0.35em; box-decoration-break: clone; -webkit-box-decoration-break: clone\">\n",
              "    Strzok\n",
              "    <span style=\"font-size: 0.8em; font-weight: bold; line-height: 1; border-radius: 0.35em; text-transform: uppercase; vertical-align: middle; margin-left: 0.5rem\">PERSON</span>\n",
              "</mark>\n",
              " had testified before the \n",
              "<mark class=\"entity\" style=\"background: #7aecec; padding: 0.45em 0.6em; margin: 0 0.25em; line-height: 1; border-radius: 0.35em; box-decoration-break: clone; -webkit-box-decoration-break: clone\">\n",
              "    House\n",
              "    <span style=\"font-size: 0.8em; font-weight: bold; line-height: 1; border-radius: 0.35em; text-transform: uppercase; vertical-align: middle; margin-left: 0.5rem\">ORG</span>\n",
              "</mark>\n",
              " in \n",
              "<mark class=\"entity\" style=\"background: #bfe1d9; padding: 0.45em 0.6em; margin: 0 0.25em; line-height: 1; border-radius: 0.35em; box-decoration-break: clone; -webkit-box-decoration-break: clone\">\n",
              "    July\n",
              "    <span style=\"font-size: 0.8em; font-weight: bold; line-height: 1; border-radius: 0.35em; text-transform: uppercase; vertical-align: middle; margin-left: 0.5rem\">DATE</span>\n",
              "</mark>\n",
              " about how he had not allowed his political views to interfere with the investigations he was overseeing., But Mr. \n",
              "<mark class=\"entity\" style=\"background: #aa9cfc; padding: 0.45em 0.6em; margin: 0 0.25em; line-height: 1; border-radius: 0.35em; box-decoration-break: clone; -webkit-box-decoration-break: clone\">\n",
              "    Strzok\n",
              "    <span style=\"font-size: 0.8em; font-weight: bold; line-height: 1; border-radius: 0.35em; text-transform: uppercase; vertical-align: middle; margin-left: 0.5rem\">PERSON</span>\n",
              "</mark>\n",
              "’s lawyer said the deputy director of the \n",
              "<mark class=\"entity\" style=\"background: #7aecec; padding: 0.45em 0.6em; margin: 0 0.25em; line-height: 1; border-radius: 0.35em; box-decoration-break: clone; -webkit-box-decoration-break: clone\">\n",
              "    F.B.I.\n",
              "    <span style=\"font-size: 0.8em; font-weight: bold; line-height: 1; border-radius: 0.35em; text-transform: uppercase; vertical-align: middle; margin-left: 0.5rem\">ORG</span>\n",
              "</mark>\n",
              ", \n",
              "<mark class=\"entity\" style=\"background: #aa9cfc; padding: 0.45em 0.6em; margin: 0 0.25em; line-height: 1; border-radius: 0.35em; box-decoration-break: clone; -webkit-box-decoration-break: clone\">\n",
              "    David Bowdich\n",
              "    <span style=\"font-size: 0.8em; font-weight: bold; line-height: 1; border-radius: 0.35em; text-transform: uppercase; vertical-align: middle; margin-left: 0.5rem\">PERSON</span>\n",
              "</mark>\n",
              ", had overruled \n",
              "<mark class=\"entity\" style=\"background: #7aecec; padding: 0.45em 0.6em; margin: 0 0.25em; line-height: 1; border-radius: 0.35em; box-decoration-break: clone; -webkit-box-decoration-break: clone\">\n",
              "    the Office of Professional Responsibility\n",
              "    <span style=\"font-size: 0.8em; font-weight: bold; line-height: 1; border-radius: 0.35em; text-transform: uppercase; vertical-align: middle; margin-left: 0.5rem\">ORG</span>\n",
              "</mark>\n",
              " and fired Mr. \n",
              "<mark class=\"entity\" style=\"background: #aa9cfc; padding: 0.45em 0.6em; margin: 0 0.25em; line-height: 1; border-radius: 0.35em; box-decoration-break: clone; -webkit-box-decoration-break: clone\">\n",
              "    Strzok\n",
              "    <span style=\"font-size: 0.8em; font-weight: bold; line-height: 1; border-radius: 0.35em; text-transform: uppercase; vertical-align: middle; margin-left: 0.5rem\">PERSON</span>\n",
              "</mark>\n",
              "., A spokeswoman for the \n",
              "<mark class=\"entity\" style=\"background: #7aecec; padding: 0.45em 0.6em; margin: 0 0.25em; line-height: 1; border-radius: 0.35em; box-decoration-break: clone; -webkit-box-decoration-break: clone\">\n",
              "    F.B.I.\n",
              "    <span style=\"font-size: 0.8em; font-weight: bold; line-height: 1; border-radius: 0.35em; text-transform: uppercase; vertical-align: middle; margin-left: 0.5rem\">ORG</span>\n",
              "</mark>\n",
              " did not respond to a message seeking comment about why Mr. \n",
              "<mark class=\"entity\" style=\"background: #aa9cfc; padding: 0.45em 0.6em; margin: 0 0.25em; line-height: 1; border-radius: 0.35em; box-decoration-break: clone; -webkit-box-decoration-break: clone\">\n",
              "    Strzok\n",
              "    <span style=\"font-size: 0.8em; font-weight: bold; line-height: 1; border-radius: 0.35em; text-transform: uppercase; vertical-align: middle; margin-left: 0.5rem\">PERSON</span>\n",
              "</mark>\n",
              " was dismissed rather than demoted., Firing Mr. \n",
              "<mark class=\"entity\" style=\"background: #aa9cfc; padding: 0.45em 0.6em; margin: 0 0.25em; line-height: 1; border-radius: 0.35em; box-decoration-break: clone; -webkit-box-decoration-break: clone\">\n",
              "    Strzok\n",
              "    <span style=\"font-size: 0.8em; font-weight: bold; line-height: 1; border-radius: 0.35em; text-transform: uppercase; vertical-align: middle; margin-left: 0.5rem\">PERSON</span>\n",
              "</mark>\n",
              ", however, removes a favorite target of Mr. \n",
              "<mark class=\"entity\" style=\"background: #aa9cfc; padding: 0.45em 0.6em; margin: 0 0.25em; line-height: 1; border-radius: 0.35em; box-decoration-break: clone; -webkit-box-decoration-break: clone\">\n",
              "    Trump\n",
              "    <span style=\"font-size: 0.8em; font-weight: bold; line-height: 1; border-radius: 0.35em; text-transform: uppercase; vertical-align: middle; margin-left: 0.5rem\">PERSON</span>\n",
              "</mark>\n",
              " from the ranks of the \n",
              "<mark class=\"entity\" style=\"background: #7aecec; padding: 0.45em 0.6em; margin: 0 0.25em; line-height: 1; border-radius: 0.35em; box-decoration-break: clone; -webkit-box-decoration-break: clone\">\n",
              "    F.B.I.\n",
              "    <span style=\"font-size: 0.8em; font-weight: bold; line-height: 1; border-radius: 0.35em; text-transform: uppercase; vertical-align: middle; margin-left: 0.5rem\">ORG</span>\n",
              "</mark>\n",
              " and gives Mr. \n",
              "<mark class=\"entity\" style=\"background: #aa9cfc; padding: 0.45em 0.6em; margin: 0 0.25em; line-height: 1; border-radius: 0.35em; box-decoration-break: clone; -webkit-box-decoration-break: clone\">\n",
              "    Bowdich\n",
              "    <span style=\"font-size: 0.8em; font-weight: bold; line-height: 1; border-radius: 0.35em; text-transform: uppercase; vertical-align: middle; margin-left: 0.5rem\">PERSON</span>\n",
              "</mark>\n",
              " and the \n",
              "<mark class=\"entity\" style=\"background: #7aecec; padding: 0.45em 0.6em; margin: 0 0.25em; line-height: 1; border-radius: 0.35em; box-decoration-break: clone; -webkit-box-decoration-break: clone\">\n",
              "    F.B.I.\n",
              "    <span style=\"font-size: 0.8em; font-weight: bold; line-height: 1; border-radius: 0.35em; text-transform: uppercase; vertical-align: middle; margin-left: 0.5rem\">ORG</span>\n",
              "</mark>\n",
              " director, \n",
              "<mark class=\"entity\" style=\"background: #aa9cfc; padding: 0.45em 0.6em; margin: 0 0.25em; line-height: 1; border-radius: 0.35em; box-decoration-break: clone; -webkit-box-decoration-break: clone\">\n",
              "    Christopher A. Wray\n",
              "    <span style=\"font-size: 0.8em; font-weight: bold; line-height: 1; border-radius: 0.35em; text-transform: uppercase; vertical-align: middle; margin-left: 0.5rem\">PERSON</span>\n",
              "</mark>\n",
              ", a chance to move beyond the president, ’s ire., \n",
              "<mark class=\"entity\" style=\"background: #aa9cfc; padding: 0.45em 0.6em; margin: 0 0.25em; line-height: 1; border-radius: 0.35em; box-decoration-break: clone; -webkit-box-decoration-break: clone\">\n",
              "    Aitan Goelman\n",
              "    <span style=\"font-size: 0.8em; font-weight: bold; line-height: 1; border-radius: 0.35em; text-transform: uppercase; vertical-align: middle; margin-left: 0.5rem\">PERSON</span>\n",
              "</mark>\n",
              ", Mr. \n",
              "<mark class=\"entity\" style=\"background: #aa9cfc; padding: 0.45em 0.6em; margin: 0 0.25em; line-height: 1; border-radius: 0.35em; box-decoration-break: clone; -webkit-box-decoration-break: clone\">\n",
              "    Strzok\n",
              "    <span style=\"font-size: 0.8em; font-weight: bold; line-height: 1; border-radius: 0.35em; text-transform: uppercase; vertical-align: middle; margin-left: 0.5rem\">PERSON</span>\n",
              "</mark>\n",
              "’s lawyer, denounced his client’s dismissal., “, The decision to fire Special Agent Strzok is not only a departure from typical bureau practice, but also contradicts Director \n",
              "<mark class=\"entity\" style=\"background: #aa9cfc; padding: 0.45em 0.6em; margin: 0 0.25em; line-height: 1; border-radius: 0.35em; box-decoration-break: clone; -webkit-box-decoration-break: clone\">\n",
              "    Wray’s\n",
              "    <span style=\"font-size: 0.8em; font-weight: bold; line-height: 1; border-radius: 0.35em; text-transform: uppercase; vertical-align: middle; margin-left: 0.5rem\">PERSON</span>\n",
              "</mark>\n",
              " testimony to \n",
              "<mark class=\"entity\" style=\"background: #7aecec; padding: 0.45em 0.6em; margin: 0 0.25em; line-height: 1; border-radius: 0.35em; box-decoration-break: clone; -webkit-box-decoration-break: clone\">\n",
              "    Congress\n",
              "    <span style=\"font-size: 0.8em; font-weight: bold; line-height: 1; border-radius: 0.35em; text-transform: uppercase; vertical-align: middle; margin-left: 0.5rem\">ORG</span>\n",
              "</mark>\n",
              " and his assurances that the F.B.I. intended to follow its regular process in this and all personnel matters,” Mr. \n",
              "<mark class=\"entity\" style=\"background: #aa9cfc; padding: 0.45em 0.6em; margin: 0 0.25em; line-height: 1; border-radius: 0.35em; box-decoration-break: clone; -webkit-box-decoration-break: clone\">\n",
              "    Goelman\n",
              "    <span style=\"font-size: 0.8em; font-weight: bold; line-height: 1; border-radius: 0.35em; text-transform: uppercase; vertical-align: middle; margin-left: 0.5rem\">PERSON</span>\n",
              "</mark>\n",
              " said.“This decision should be deeply troubling to all \n",
              "<mark class=\"entity\" style=\"background: #c887fb; padding: 0.45em 0.6em; margin: 0 0.25em; line-height: 1; border-radius: 0.35em; box-decoration-break: clone; -webkit-box-decoration-break: clone\">\n",
              "    Americans\n",
              "    <span style=\"font-size: 0.8em; font-weight: bold; line-height: 1; border-radius: 0.35em; text-transform: uppercase; vertical-align: middle; margin-left: 0.5rem\">NORP</span>\n",
              "</mark>\n",
              ",” Mr. \n",
              "<mark class=\"entity\" style=\"background: #aa9cfc; padding: 0.45em 0.6em; margin: 0 0.25em; line-height: 1; border-radius: 0.35em; box-decoration-break: clone; -webkit-box-decoration-break: clone\">\n",
              "    Goelman\n",
              "    <span style=\"font-size: 0.8em; font-weight: bold; line-height: 1; border-radius: 0.35em; text-transform: uppercase; vertical-align: middle; margin-left: 0.5rem\">PERSON</span>\n",
              "</mark>\n",
              " added., “, A lengthy investigation and multiple rounds of congressional testimony failed to produce a shred of evidence that Special Agent Strzok’s personal views ever affected his work.”Mr., \n",
              "<mark class=\"entity\" style=\"background: #7aecec; padding: 0.45em 0.6em; margin: 0 0.25em; line-height: 1; border-radius: 0.35em; box-decoration-break: clone; -webkit-box-decoration-break: clone\">\n",
              "    Strzok’s\n",
              "    <span style=\"font-size: 0.8em; font-weight: bold; line-height: 1; border-radius: 0.35em; text-transform: uppercase; vertical-align: middle; margin-left: 0.5rem\">ORG</span>\n",
              "</mark>\n",
              " text exchanges with Ms. \n",
              "<mark class=\"entity\" style=\"background: #aa9cfc; padding: 0.45em 0.6em; margin: 0 0.25em; line-height: 1; border-radius: 0.35em; box-decoration-break: clone; -webkit-box-decoration-break: clone\">\n",
              "    Page\n",
              "    <span style=\"font-size: 0.8em; font-weight: bold; line-height: 1; border-radius: 0.35em; text-transform: uppercase; vertical-align: middle; margin-left: 0.5rem\">PERSON</span>\n",
              "</mark>\n",
              " demonstrated animosity toward Mr. \n",
              "<mark class=\"entity\" style=\"background: #aa9cfc; padding: 0.45em 0.6em; margin: 0 0.25em; line-height: 1; border-radius: 0.35em; box-decoration-break: clone; -webkit-box-decoration-break: clone\">\n",
              "    Trump\n",
              "    <span style=\"font-size: 0.8em; font-weight: bold; line-height: 1; border-radius: 0.35em; text-transform: uppercase; vertical-align: middle; margin-left: 0.5rem\">PERSON</span>\n",
              "</mark>\n",
              "., In one, Ms. \n",
              "<mark class=\"entity\" style=\"background: #aa9cfc; padding: 0.45em 0.6em; margin: 0 0.25em; line-height: 1; border-radius: 0.35em; box-decoration-break: clone; -webkit-box-decoration-break: clone\">\n",
              "    Page\n",
              "    <span style=\"font-size: 0.8em; font-weight: bold; line-height: 1; border-radius: 0.35em; text-transform: uppercase; vertical-align: middle; margin-left: 0.5rem\">PERSON</span>\n",
              "</mark>\n",
              " asks: \n",
              "<mark class=\"entity\" style=\"background: #7aecec; padding: 0.45em 0.6em; margin: 0 0.25em; line-height: 1; border-radius: 0.35em; box-decoration-break: clone; -webkit-box-decoration-break: clone\">\n",
              "    Trump\n",
              "    <span style=\"font-size: 0.8em; font-weight: bold; line-height: 1; border-radius: 0.35em; text-transform: uppercase; vertical-align: middle; margin-left: 0.5rem\">ORG</span>\n",
              "</mark>\n",
              " is “not ever going to become president, right?, Right?!, ”, Mr. \n",
              "<mark class=\"entity\" style=\"background: #aa9cfc; padding: 0.45em 0.6em; margin: 0 0.25em; line-height: 1; border-radius: 0.35em; box-decoration-break: clone; -webkit-box-decoration-break: clone\">\n",
              "    Strzok\n",
              "    <span style=\"font-size: 0.8em; font-weight: bold; line-height: 1; border-radius: 0.35em; text-transform: uppercase; vertical-align: middle; margin-left: 0.5rem\">PERSON</span>\n",
              "</mark>\n",
              " responds: “, No., No he won’t., We’ll stop it., ”, The inspector general, who uncovered the messages, found no evidence that the pair imposed their political views on their investigative decisions but cited that exchange as “not only indicative of a biased state of mind but, even more seriously, implies a willingness to take official action to impact the presidential candidate’s electoral prospects.”The report by the inspector general, \n",
              "<mark class=\"entity\" style=\"background: #aa9cfc; padding: 0.45em 0.6em; margin: 0 0.25em; line-height: 1; border-radius: 0.35em; box-decoration-break: clone; -webkit-box-decoration-break: clone\">\n",
              "    Michael E. Horowitz\n",
              "    <span style=\"font-size: 0.8em; font-weight: bold; line-height: 1; border-radius: 0.35em; text-transform: uppercase; vertical-align: middle; margin-left: 0.5rem\">PERSON</span>\n",
              "</mark>\n",
              ", that preceded Mr. \n",
              "<mark class=\"entity\" style=\"background: #aa9cfc; padding: 0.45em 0.6em; margin: 0 0.25em; line-height: 1; border-radius: 0.35em; box-decoration-break: clone; -webkit-box-decoration-break: clone\">\n",
              "    Strzok\n",
              "    <span style=\"font-size: 0.8em; font-weight: bold; line-height: 1; border-radius: 0.35em; text-transform: uppercase; vertical-align: middle; margin-left: 0.5rem\">PERSON</span>\n",
              "</mark>\n",
              "’s firing not only criticized his conduct in sending the texts but also his use of personal email accounts to handle sensitive information., In addition, the inspector general criticized Mr. \n",
              "<mark class=\"entity\" style=\"background: #aa9cfc; padding: 0.45em 0.6em; margin: 0 0.25em; line-height: 1; border-radius: 0.35em; box-decoration-break: clone; -webkit-box-decoration-break: clone\">\n",
              "    Strzok\n",
              "    <span style=\"font-size: 0.8em; font-weight: bold; line-height: 1; border-radius: 0.35em; text-transform: uppercase; vertical-align: middle; margin-left: 0.5rem\">PERSON</span>\n",
              "</mark>\n",
              "’s decision not to move swiftly to examine new emails related to the \n",
              "<mark class=\"entity\" style=\"background: #aa9cfc; padding: 0.45em 0.6em; margin: 0 0.25em; line-height: 1; border-radius: 0.35em; box-decoration-break: clone; -webkit-box-decoration-break: clone\">\n",
              "    Clinton\n",
              "    <span style=\"font-size: 0.8em; font-weight: bold; line-height: 1; border-radius: 0.35em; text-transform: uppercase; vertical-align: middle; margin-left: 0.5rem\">PERSON</span>\n",
              "</mark>\n",
              " investigation \n",
              "<mark class=\"entity\" style=\"background: #bfe1d9; padding: 0.45em 0.6em; margin: 0 0.25em; line-height: 1; border-radius: 0.35em; box-decoration-break: clone; -webkit-box-decoration-break: clone\">\n",
              "    just weeks\n",
              "    <span style=\"font-size: 0.8em; font-weight: bold; line-height: 1; border-radius: 0.35em; text-transform: uppercase; vertical-align: middle; margin-left: 0.5rem\">DATE</span>\n",
              "</mark>\n",
              " before the \n",
              "<mark class=\"entity\" style=\"background: #bfe1d9; padding: 0.45em 0.6em; margin: 0 0.25em; line-height: 1; border-radius: 0.35em; box-decoration-break: clone; -webkit-box-decoration-break: clone\">\n",
              "    2016\n",
              "    <span style=\"font-size: 0.8em; font-weight: bold; line-height: 1; border-radius: 0.35em; text-transform: uppercase; vertical-align: middle; margin-left: 0.5rem\">DATE</span>\n",
              "</mark>\n",
              " election., Mr., \n",
              "<mark class=\"entity\" style=\"background: #aa9cfc; padding: 0.45em 0.6em; margin: 0 0.25em; line-height: 1; border-radius: 0.35em; box-decoration-break: clone; -webkit-box-decoration-break: clone\">\n",
              "    Horowitz\n",
              "    <span style=\"font-size: 0.8em; font-weight: bold; line-height: 1; border-radius: 0.35em; text-transform: uppercase; vertical-align: middle; margin-left: 0.5rem\">PERSON</span>\n",
              "</mark>\n",
              " said in his report that he was “deeply troubled” by the text messages., \n",
              "<mark class=\"entity\" style=\"background: #e4e7d2; padding: 0.45em 0.6em; margin: 0 0.25em; line-height: 1; border-radius: 0.35em; box-decoration-break: clone; -webkit-box-decoration-break: clone\">\n",
              "    Hundreds\n",
              "    <span style=\"font-size: 0.8em; font-weight: bold; line-height: 1; border-radius: 0.35em; text-transform: uppercase; vertical-align: middle; margin-left: 0.5rem\">CARDINAL</span>\n",
              "</mark>\n",
              " exchanged over \n",
              "<mark class=\"entity\" style=\"background: #bfe1d9; padding: 0.45em 0.6em; margin: 0 0.25em; line-height: 1; border-radius: 0.35em; box-decoration-break: clone; -webkit-box-decoration-break: clone\">\n",
              "    months\n",
              "    <span style=\"font-size: 0.8em; font-weight: bold; line-height: 1; border-radius: 0.35em; text-transform: uppercase; vertical-align: middle; margin-left: 0.5rem\">DATE</span>\n",
              "</mark>\n",
              " were found in which the pair disparaged Mr. \n",
              "<mark class=\"entity\" style=\"background: #aa9cfc; padding: 0.45em 0.6em; margin: 0 0.25em; line-height: 1; border-radius: 0.35em; box-decoration-break: clone; -webkit-box-decoration-break: clone\">\n",
              "    Trump\n",
              "    <span style=\"font-size: 0.8em; font-weight: bold; line-height: 1; border-radius: 0.35em; text-transform: uppercase; vertical-align: middle; margin-left: 0.5rem\">PERSON</span>\n",
              "</mark>\n",
              " and, to a lesser extent, Mrs. \n",
              "<mark class=\"entity\" style=\"background: #aa9cfc; padding: 0.45em 0.6em; margin: 0 0.25em; line-height: 1; border-radius: 0.35em; box-decoration-break: clone; -webkit-box-decoration-break: clone\">\n",
              "    Clinton\n",
              "    <span style=\"font-size: 0.8em; font-weight: bold; line-height: 1; border-radius: 0.35em; text-transform: uppercase; vertical-align: middle; margin-left: 0.5rem\">PERSON</span>\n",
              "</mark>\n",
              ", exchanged work gossip and bantered., On \n",
              "<mark class=\"entity\" style=\"background: #feca74; padding: 0.45em 0.6em; margin: 0 0.25em; line-height: 1; border-radius: 0.35em; box-decoration-break: clone; -webkit-box-decoration-break: clone\">\n",
              "    Twitter\n",
              "    <span style=\"font-size: 0.8em; font-weight: bold; line-height: 1; border-radius: 0.35em; text-transform: uppercase; vertical-align: middle; margin-left: 0.5rem\">GPE</span>\n",
              "</mark>\n",
              ", Mr. \n",
              "<mark class=\"entity\" style=\"background: #aa9cfc; padding: 0.45em 0.6em; margin: 0 0.25em; line-height: 1; border-radius: 0.35em; box-decoration-break: clone; -webkit-box-decoration-break: clone\">\n",
              "    Strzok\n",
              "    <span style=\"font-size: 0.8em; font-weight: bold; line-height: 1; border-radius: 0.35em; text-transform: uppercase; vertical-align: middle; margin-left: 0.5rem\">PERSON</span>\n",
              "</mark>\n",
              " said he was “deeply saddened by this decision,” adding, “, It has been an honor to serve my country and work with the fine men and women of the FBI.”Mr., Strzok became emblematic of Mr. \n",
              "<mark class=\"entity\" style=\"background: #aa9cfc; padding: 0.45em 0.6em; margin: 0 0.25em; line-height: 1; border-radius: 0.35em; box-decoration-break: clone; -webkit-box-decoration-break: clone\">\n",
              "    Trump’s\n",
              "    <span style=\"font-size: 0.8em; font-weight: bold; line-height: 1; border-radius: 0.35em; text-transform: uppercase; vertical-align: middle; margin-left: 0.5rem\">PERSON</span>\n",
              "</mark>\n",
              " unfounded assertions that a so-called deep state of bureaucrats opposed to him was undermining his presidency., Mr. \n",
              "<mark class=\"entity\" style=\"background: #aa9cfc; padding: 0.45em 0.6em; margin: 0 0.25em; line-height: 1; border-radius: 0.35em; box-decoration-break: clone; -webkit-box-decoration-break: clone\">\n",
              "    Trump\n",
              "    <span style=\"font-size: 0.8em; font-weight: bold; line-height: 1; border-radius: 0.35em; text-transform: uppercase; vertical-align: middle; margin-left: 0.5rem\">PERSON</span>\n",
              "</mark>\n",
              " contended that Mr. \n",
              "<mark class=\"entity\" style=\"background: #aa9cfc; padding: 0.45em 0.6em; margin: 0 0.25em; line-height: 1; border-radius: 0.35em; box-decoration-break: clone; -webkit-box-decoration-break: clone\">\n",
              "    Strzok\n",
              "    <span style=\"font-size: 0.8em; font-weight: bold; line-height: 1; border-radius: 0.35em; text-transform: uppercase; vertical-align: middle; margin-left: 0.5rem\">PERSON</span>\n",
              "</mark>\n",
              " targeted the president and accused Mr. \n",
              "<mark class=\"entity\" style=\"background: #aa9cfc; padding: 0.45em 0.6em; margin: 0 0.25em; line-height: 1; border-radius: 0.35em; box-decoration-break: clone; -webkit-box-decoration-break: clone\">\n",
              "    Strzok\n",
              "    <span style=\"font-size: 0.8em; font-weight: bold; line-height: 1; border-radius: 0.35em; text-transform: uppercase; vertical-align: middle; margin-left: 0.5rem\">PERSON</span>\n",
              "</mark>\n",
              " of being “treasonous” and a “disgrace., ” Mr. \n",
              "<mark class=\"entity\" style=\"background: #aa9cfc; padding: 0.45em 0.6em; margin: 0 0.25em; line-height: 1; border-radius: 0.35em; box-decoration-break: clone; -webkit-box-decoration-break: clone\">\n",
              "    Strzok\n",
              "    <span style=\"font-size: 0.8em; font-weight: bold; line-height: 1; border-radius: 0.35em; text-transform: uppercase; vertical-align: middle; margin-left: 0.5rem\">PERSON</span>\n",
              "</mark>\n",
              " told lawmakers that he never leaked information about the \n",
              "<mark class=\"entity\" style=\"background: #feca74; padding: 0.45em 0.6em; margin: 0 0.25em; line-height: 1; border-radius: 0.35em; box-decoration-break: clone; -webkit-box-decoration-break: clone\">\n",
              "    Russia\n",
              "    <span style=\"font-size: 0.8em; font-weight: bold; line-height: 1; border-radius: 0.35em; text-transform: uppercase; vertical-align: middle; margin-left: 0.5rem\">GPE</span>\n",
              "</mark>\n",
              " inquiry, which could have upended the election and hurt Mr. \n",
              "<mark class=\"entity\" style=\"background: #aa9cfc; padding: 0.45em 0.6em; margin: 0 0.25em; line-height: 1; border-radius: 0.35em; box-decoration-break: clone; -webkit-box-decoration-break: clone\">\n",
              "    Trump\n",
              "    <span style=\"font-size: 0.8em; font-weight: bold; line-height: 1; border-radius: 0.35em; text-transform: uppercase; vertical-align: middle; margin-left: 0.5rem\">PERSON</span>\n",
              "</mark>\n",
              "’s chances of becoming president., After Mr. \n",
              "<mark class=\"entity\" style=\"background: #aa9cfc; padding: 0.45em 0.6em; margin: 0 0.25em; line-height: 1; border-radius: 0.35em; box-decoration-break: clone; -webkit-box-decoration-break: clone\">\n",
              "    Horowitz\n",
              "    <span style=\"font-size: 0.8em; font-weight: bold; line-height: 1; border-radius: 0.35em; text-transform: uppercase; vertical-align: middle; margin-left: 0.5rem\">PERSON</span>\n",
              "</mark>\n",
              " uncovered the texts, Mr. \n",
              "<mark class=\"entity\" style=\"background: #aa9cfc; padding: 0.45em 0.6em; margin: 0 0.25em; line-height: 1; border-radius: 0.35em; box-decoration-break: clone; -webkit-box-decoration-break: clone\">\n",
              "    Mueller\n",
              "    <span style=\"font-size: 0.8em; font-weight: bold; line-height: 1; border-radius: 0.35em; text-transform: uppercase; vertical-align: middle; margin-left: 0.5rem\">PERSON</span>\n",
              "</mark>\n",
              ", who had by then taken over the investigation, removed Mr. \n",
              "<mark class=\"entity\" style=\"background: #aa9cfc; padding: 0.45em 0.6em; margin: 0 0.25em; line-height: 1; border-radius: 0.35em; box-decoration-break: clone; -webkit-box-decoration-break: clone\">\n",
              "    Strzok\n",
              "    <span style=\"font-size: 0.8em; font-weight: bold; line-height: 1; border-radius: 0.35em; text-transform: uppercase; vertical-align: middle; margin-left: 0.5rem\">PERSON</span>\n",
              "</mark>\n",
              " from his team., He was reassigned to the \n",
              "<mark class=\"entity\" style=\"background: #7aecec; padding: 0.45em 0.6em; margin: 0 0.25em; line-height: 1; border-radius: 0.35em; box-decoration-break: clone; -webkit-box-decoration-break: clone\">\n",
              "    F.B.I.’s\n",
              "    <span style=\"font-size: 0.8em; font-weight: bold; line-height: 1; border-radius: 0.35em; text-transform: uppercase; vertical-align: middle; margin-left: 0.5rem\">ORG</span>\n",
              "</mark>\n",
              " human resources division., Ms. \n",
              "<mark class=\"entity\" style=\"background: #aa9cfc; padding: 0.45em 0.6em; margin: 0 0.25em; line-height: 1; border-radius: 0.35em; box-decoration-break: clone; -webkit-box-decoration-break: clone\">\n",
              "    Page\n",
              "    <span style=\"font-size: 0.8em; font-weight: bold; line-height: 1; border-radius: 0.35em; text-transform: uppercase; vertical-align: middle; margin-left: 0.5rem\">PERSON</span>\n",
              "</mark>\n",
              ", who had left Mr. \n",
              "<mark class=\"entity\" style=\"background: #aa9cfc; padding: 0.45em 0.6em; margin: 0 0.25em; line-height: 1; border-radius: 0.35em; box-decoration-break: clone; -webkit-box-decoration-break: clone\">\n",
              "    Mueller\n",
              "    <span style=\"font-size: 0.8em; font-weight: bold; line-height: 1; border-radius: 0.35em; text-transform: uppercase; vertical-align: middle; margin-left: 0.5rem\">PERSON</span>\n",
              "</mark>\n",
              "’s team before the discovery of the text messages, quit the F.B.I. in \n",
              "<mark class=\"entity\" style=\"background: #bfe1d9; padding: 0.45em 0.6em; margin: 0 0.25em; line-height: 1; border-radius: 0.35em; box-decoration-break: clone; -webkit-box-decoration-break: clone\">\n",
              "    May.\n",
              "    <span style=\"font-size: 0.8em; font-weight: bold; line-height: 1; border-radius: 0.35em; text-transform: uppercase; vertical-align: middle; margin-left: 0.5rem\">DATE</span>\n",
              "</mark>\n",
              ", The inspector general’s report also took issue with the reaction by Mr. \n",
              "<mark class=\"entity\" style=\"background: #aa9cfc; padding: 0.45em 0.6em; margin: 0 0.25em; line-height: 1; border-radius: 0.35em; box-decoration-break: clone; -webkit-box-decoration-break: clone\">\n",
              "    Strzok\n",
              "    <span style=\"font-size: 0.8em; font-weight: bold; line-height: 1; border-radius: 0.35em; text-transform: uppercase; vertical-align: middle; margin-left: 0.5rem\">PERSON</span>\n",
              "</mark>\n",
              " and other \n",
              "<mark class=\"entity\" style=\"background: #7aecec; padding: 0.45em 0.6em; margin: 0 0.25em; line-height: 1; border-radius: 0.35em; box-decoration-break: clone; -webkit-box-decoration-break: clone\">\n",
              "    F.B.I.\n",
              "    <span style=\"font-size: 0.8em; font-weight: bold; line-height: 1; border-radius: 0.35em; text-transform: uppercase; vertical-align: middle; margin-left: 0.5rem\">ORG</span>\n",
              "</mark>\n",
              " officials to the discovery of possible new evidence in the \n",
              "<mark class=\"entity\" style=\"background: #aa9cfc; padding: 0.45em 0.6em; margin: 0 0.25em; line-height: 1; border-radius: 0.35em; box-decoration-break: clone; -webkit-box-decoration-break: clone\">\n",
              "    Clinton\n",
              "    <span style=\"font-size: 0.8em; font-weight: bold; line-height: 1; border-radius: 0.35em; text-transform: uppercase; vertical-align: middle; margin-left: 0.5rem\">PERSON</span>\n",
              "</mark>\n",
              " investigation, known internally as \n",
              "<mark class=\"entity\" style=\"background: #aa9cfc; padding: 0.45em 0.6em; margin: 0 0.25em; line-height: 1; border-radius: 0.35em; box-decoration-break: clone; -webkit-box-decoration-break: clone\">\n",
              "    Midyear Exam\n",
              "    <span style=\"font-size: 0.8em; font-weight: bold; line-height: 1; border-radius: 0.35em; text-transform: uppercase; vertical-align: middle; margin-left: 0.5rem\">PERSON</span>\n",
              "</mark>\n",
              ", in \n",
              "<mark class=\"entity\" style=\"background: #bfe1d9; padding: 0.45em 0.6em; margin: 0 0.25em; line-height: 1; border-radius: 0.35em; box-decoration-break: clone; -webkit-box-decoration-break: clone\">\n",
              "    late September 2016\n",
              "    <span style=\"font-size: 0.8em; font-weight: bold; line-height: 1; border-radius: 0.35em; text-transform: uppercase; vertical-align: middle; margin-left: 0.5rem\">DATE</span>\n",
              "</mark>\n",
              " on a laptop that belonged to the disgraced politician \n",
              "<mark class=\"entity\" style=\"background: #aa9cfc; padding: 0.45em 0.6em; margin: 0 0.25em; line-height: 1; border-radius: 0.35em; box-decoration-break: clone; -webkit-box-decoration-break: clone\">\n",
              "    Anthony D. Weiner\n",
              "    <span style=\"font-size: 0.8em; font-weight: bold; line-height: 1; border-radius: 0.35em; text-transform: uppercase; vertical-align: middle; margin-left: 0.5rem\">PERSON</span>\n",
              "</mark>\n",
              ", the husband of a top \n",
              "<mark class=\"entity\" style=\"background: #aa9cfc; padding: 0.45em 0.6em; margin: 0 0.25em; line-height: 1; border-radius: 0.35em; box-decoration-break: clone; -webkit-box-decoration-break: clone\">\n",
              "    Clinton\n",
              "    <span style=\"font-size: 0.8em; font-weight: bold; line-height: 1; border-radius: 0.35em; text-transform: uppercase; vertical-align: middle; margin-left: 0.5rem\">PERSON</span>\n",
              "</mark>\n",
              " aide., At the time, Mr. \n",
              "<mark class=\"entity\" style=\"background: #aa9cfc; padding: 0.45em 0.6em; margin: 0 0.25em; line-height: 1; border-radius: 0.35em; box-decoration-break: clone; -webkit-box-decoration-break: clone\">\n",
              "    Strzok\n",
              "    <span style=\"font-size: 0.8em; font-weight: bold; line-height: 1; border-radius: 0.35em; text-transform: uppercase; vertical-align: middle; margin-left: 0.5rem\">PERSON</span>\n",
              "</mark>\n",
              " was in the early stages of investigating whether any \n",
              "<mark class=\"entity\" style=\"background: #7aecec; padding: 0.45em 0.6em; margin: 0 0.25em; line-height: 1; border-radius: 0.35em; box-decoration-break: clone; -webkit-box-decoration-break: clone\">\n",
              "    Trump\n",
              "    <span style=\"font-size: 0.8em; font-weight: bold; line-height: 1; border-radius: 0.35em; text-transform: uppercase; vertical-align: middle; margin-left: 0.5rem\">ORG</span>\n",
              "</mark>\n",
              " associates had conspired with \n",
              "<mark class=\"entity\" style=\"background: #feca74; padding: 0.45em 0.6em; margin: 0 0.25em; line-height: 1; border-radius: 0.35em; box-decoration-break: clone; -webkit-box-decoration-break: clone\">\n",
              "    Russia\n",
              "    <span style=\"font-size: 0.8em; font-weight: bold; line-height: 1; border-radius: 0.35em; text-transform: uppercase; vertical-align: middle; margin-left: 0.5rem\">GPE</span>\n",
              "</mark>\n",
              "’s interference in the presidential election, and \n",
              "<mark class=\"entity\" style=\"background: #bfe1d9; padding: 0.45em 0.6em; margin: 0 0.25em; line-height: 1; border-radius: 0.35em; box-decoration-break: clone; -webkit-box-decoration-break: clone\">\n",
              "    nearly a month\n",
              "    <span style=\"font-size: 0.8em; font-weight: bold; line-height: 1; border-radius: 0.35em; text-transform: uppercase; vertical-align: middle; margin-left: 0.5rem\">DATE</span>\n",
              "</mark>\n",
              " passed before agents and analysts began to act on the emails found on Mr. \n",
              "<mark class=\"entity\" style=\"background: #aa9cfc; padding: 0.45em 0.6em; margin: 0 0.25em; line-height: 1; border-radius: 0.35em; box-decoration-break: clone; -webkit-box-decoration-break: clone\">\n",
              "    Weiner\n",
              "    <span style=\"font-size: 0.8em; font-weight: bold; line-height: 1; border-radius: 0.35em; text-transform: uppercase; vertical-align: middle; margin-left: 0.5rem\">PERSON</span>\n",
              "</mark>\n",
              "’s laptop., Mr. \n",
              "<mark class=\"entity\" style=\"background: #aa9cfc; padding: 0.45em 0.6em; margin: 0 0.25em; line-height: 1; border-radius: 0.35em; box-decoration-break: clone; -webkit-box-decoration-break: clone\">\n",
              "    Horowitz\n",
              "    <span style=\"font-size: 0.8em; font-weight: bold; line-height: 1; border-radius: 0.35em; text-transform: uppercase; vertical-align: middle; margin-left: 0.5rem\">PERSON</span>\n",
              "</mark>\n",
              " could not rule out that Mr. \n",
              "<mark class=\"entity\" style=\"background: #aa9cfc; padding: 0.45em 0.6em; margin: 0 0.25em; line-height: 1; border-radius: 0.35em; box-decoration-break: clone; -webkit-box-decoration-break: clone\">\n",
              "    Strzok\n",
              "    <span style=\"font-size: 0.8em; font-weight: bold; line-height: 1; border-radius: 0.35em; text-transform: uppercase; vertical-align: middle; margin-left: 0.5rem\">PERSON</span>\n",
              "</mark>\n",
              " had slow-walked the examination of the new emails to help Mrs. \n",
              "<mark class=\"entity\" style=\"background: #aa9cfc; padding: 0.45em 0.6em; margin: 0 0.25em; line-height: 1; border-radius: 0.35em; box-decoration-break: clone; -webkit-box-decoration-break: clone\">\n",
              "    Clinton\n",
              "    <span style=\"font-size: 0.8em; font-weight: bold; line-height: 1; border-radius: 0.35em; text-transform: uppercase; vertical-align: middle; margin-left: 0.5rem\">PERSON</span>\n",
              "</mark>\n",
              ", ’s presidential bid.“Under, these circumstances, we did not have confidence that \n",
              "<mark class=\"entity\" style=\"background: #7aecec; padding: 0.45em 0.6em; margin: 0 0.25em; line-height: 1; border-radius: 0.35em; box-decoration-break: clone; -webkit-box-decoration-break: clone\">\n",
              "    Strzok’s\n",
              "    <span style=\"font-size: 0.8em; font-weight: bold; line-height: 1; border-radius: 0.35em; text-transform: uppercase; vertical-align: middle; margin-left: 0.5rem\">ORG</span>\n",
              "</mark>\n",
              " decision to prioritize the \n",
              "<mark class=\"entity\" style=\"background: #feca74; padding: 0.45em 0.6em; margin: 0 0.25em; line-height: 1; border-radius: 0.35em; box-decoration-break: clone; -webkit-box-decoration-break: clone\">\n",
              "    Russia\n",
              "    <span style=\"font-size: 0.8em; font-weight: bold; line-height: 1; border-radius: 0.35em; text-transform: uppercase; vertical-align: middle; margin-left: 0.5rem\">GPE</span>\n",
              "</mark>\n",
              " investigation over following up on the \n",
              "<mark class=\"entity\" style=\"background: #bfe1d9; padding: 0.45em 0.6em; margin: 0 0.25em; line-height: 1; border-radius: 0.35em; box-decoration-break: clone; -webkit-box-decoration-break: clone\">\n",
              "    Midyear-\n",
              "    <span style=\"font-size: 0.8em; font-weight: bold; line-height: 1; border-radius: 0.35em; text-transform: uppercase; vertical-align: middle; margin-left: 0.5rem\">DATE</span>\n",
              "</mark>\n",
              "related investigative lead discovered on the \n",
              "<mark class=\"entity\" style=\"background: #aa9cfc; padding: 0.45em 0.6em; margin: 0 0.25em; line-height: 1; border-radius: 0.35em; box-decoration-break: clone; -webkit-box-decoration-break: clone\">\n",
              "    Weiner\n",
              "    <span style=\"font-size: 0.8em; font-weight: bold; line-height: 1; border-radius: 0.35em; text-transform: uppercase; vertical-align: middle; margin-left: 0.5rem\">PERSON</span>\n",
              "</mark>\n",
              " laptop was free from bias,” he wrote., The delays were merely the “result of bureaucratic snafus,” Mr. \n",
              "<mark class=\"entity\" style=\"background: #aa9cfc; padding: 0.45em 0.6em; margin: 0 0.25em; line-height: 1; border-radius: 0.35em; box-decoration-break: clone; -webkit-box-decoration-break: clone\">\n",
              "    Strzok\n",
              "    <span style=\"font-size: 0.8em; font-weight: bold; line-height: 1; border-radius: 0.35em; text-transform: uppercase; vertical-align: middle; margin-left: 0.5rem\">PERSON</span>\n",
              "</mark>\n",
              "’s lawyer wrote \n",
              "<mark class=\"entity\" style=\"background: #bfe1d9; padding: 0.45em 0.6em; margin: 0 0.25em; line-height: 1; border-radius: 0.35em; box-decoration-break: clone; -webkit-box-decoration-break: clone\">\n",
              "    last month\n",
              "    <span style=\"font-size: 0.8em; font-weight: bold; line-height: 1; border-radius: 0.35em; text-transform: uppercase; vertical-align: middle; margin-left: 0.5rem\">DATE</span>\n",
              "</mark>\n",
              " in \n",
              "<mark class=\"entity\" style=\"background: #feca74; padding: 0.45em 0.6em; margin: 0 0.25em; line-height: 1; border-radius: 0.35em; box-decoration-break: clone; -webkit-box-decoration-break: clone\">\n",
              "    USA\n",
              "    <span style=\"font-size: 0.8em; font-weight: bold; line-height: 1; border-radius: 0.35em; text-transform: uppercase; vertical-align: middle; margin-left: 0.5rem\">GPE</span>\n",
              "</mark>\n",
              " \n",
              "<mark class=\"entity\" style=\"background: #bfe1d9; padding: 0.45em 0.6em; margin: 0 0.25em; line-height: 1; border-radius: 0.35em; box-decoration-break: clone; -webkit-box-decoration-break: clone\">\n",
              "    Today\n",
              "    <span style=\"font-size: 0.8em; font-weight: bold; line-height: 1; border-radius: 0.35em; text-transform: uppercase; vertical-align: middle; margin-left: 0.5rem\">DATE</span>\n",
              "</mark>\n",
              "., But the justifications for the delay were “unpersuasive” and had “far-reaching consequences,” the inspector general said., \n",
              "<mark class=\"entity\" style=\"background: #aa9cfc; padding: 0.45em 0.6em; margin: 0 0.25em; line-height: 1; border-radius: 0.35em; box-decoration-break: clone; -webkit-box-decoration-break: clone\">\n",
              "    James B. Comey\n",
              "    <span style=\"font-size: 0.8em; font-weight: bold; line-height: 1; border-radius: 0.35em; text-transform: uppercase; vertical-align: middle; margin-left: 0.5rem\">PERSON</span>\n",
              "</mark>\n",
              ", the former \n",
              "<mark class=\"entity\" style=\"background: #7aecec; padding: 0.45em 0.6em; margin: 0 0.25em; line-height: 1; border-radius: 0.35em; box-decoration-break: clone; -webkit-box-decoration-break: clone\">\n",
              "    F.B.I.\n",
              "    <span style=\"font-size: 0.8em; font-weight: bold; line-height: 1; border-radius: 0.35em; text-transform: uppercase; vertical-align: middle; margin-left: 0.5rem\">ORG</span>\n",
              "</mark>\n",
              " director, has told investigators that if he had known about the emails earlier, it might have influenced his decision to alert \n",
              "<mark class=\"entity\" style=\"background: #7aecec; padding: 0.45em 0.6em; margin: 0 0.25em; line-height: 1; border-radius: 0.35em; box-decoration-break: clone; -webkit-box-decoration-break: clone\">\n",
              "    Congress\n",
              "    <span style=\"font-size: 0.8em; font-weight: bold; line-height: 1; border-radius: 0.35em; text-transform: uppercase; vertical-align: middle; margin-left: 0.5rem\">ORG</span>\n",
              "</mark>\n",
              " to their existence days before the election., In addition, the inspector general said that Mr. \n",
              "<mark class=\"entity\" style=\"background: #aa9cfc; padding: 0.45em 0.6em; margin: 0 0.25em; line-height: 1; border-radius: 0.35em; box-decoration-break: clone; -webkit-box-decoration-break: clone\">\n",
              "    Strzok\n",
              "    <span style=\"font-size: 0.8em; font-weight: bold; line-height: 1; border-radius: 0.35em; text-transform: uppercase; vertical-align: middle; margin-left: 0.5rem\">PERSON</span>\n",
              "</mark>\n",
              " had forwarded a proposed search warrant to his personal email account., The inspector general said the email, which included a draft of the search warrant affidavit, contained information that appeared to be under seal., In a heated congressional hearing \n",
              "<mark class=\"entity\" style=\"background: #bfe1d9; padding: 0.45em 0.6em; margin: 0 0.25em; line-height: 1; border-radius: 0.35em; box-decoration-break: clone; -webkit-box-decoration-break: clone\">\n",
              "    last month\n",
              "    <span style=\"font-size: 0.8em; font-weight: bold; line-height: 1; border-radius: 0.35em; text-transform: uppercase; vertical-align: middle; margin-left: 0.5rem\">DATE</span>\n",
              "</mark>\n",
              ", Mr. \n",
              "<mark class=\"entity\" style=\"background: #aa9cfc; padding: 0.45em 0.6em; margin: 0 0.25em; line-height: 1; border-radius: 0.35em; box-decoration-break: clone; -webkit-box-decoration-break: clone\">\n",
              "    Strzok\n",
              "    <span style=\"font-size: 0.8em; font-weight: bold; line-height: 1; border-radius: 0.35em; text-transform: uppercase; vertical-align: middle; margin-left: 0.5rem\">PERSON</span>\n",
              "</mark>\n",
              " expressed “significant regret” for the texts and rebutted the president\n",
              "<mark class=\"entity\" style=\"background: #7aecec; padding: 0.45em 0.6em; margin: 0 0.25em; line-height: 1; border-radius: 0.35em; box-decoration-break: clone; -webkit-box-decoration-break: clone\">\n",
              "    ’s\n",
              "    <span style=\"font-size: 0.8em; font-weight: bold; line-height: 1; border-radius: 0.35em; text-transform: uppercase; vertical-align: middle; margin-left: 0.5rem\">ORG</span>\n",
              "</mark>\n",
              " attacks on the \n",
              "<mark class=\"entity\" style=\"background: #feca74; padding: 0.45em 0.6em; margin: 0 0.25em; line-height: 1; border-radius: 0.35em; box-decoration-break: clone; -webkit-box-decoration-break: clone\">\n",
              "    Russia\n",
              "    <span style=\"font-size: 0.8em; font-weight: bold; line-height: 1; border-radius: 0.35em; text-transform: uppercase; vertical-align: middle; margin-left: 0.5rem\">GPE</span>\n",
              "</mark>\n",
              " inquiry., “, This investigation is not politically motivated; it is not a witch hunt; it is not a hoax,” he said., Mr., \n",
              "<mark class=\"entity\" style=\"background: #7aecec; padding: 0.45em 0.6em; margin: 0 0.25em; line-height: 1; border-radius: 0.35em; box-decoration-break: clone; -webkit-box-decoration-break: clone\">\n",
              "    Strzok’s\n",
              "    <span style=\"font-size: 0.8em; font-weight: bold; line-height: 1; border-radius: 0.35em; text-transform: uppercase; vertical-align: middle; margin-left: 0.5rem\">ORG</span>\n",
              "</mark>\n",
              " dismissal was not unexpected., He is the \n",
              "<mark class=\"entity\" style=\"background: #e4e7d2; padding: 0.45em 0.6em; margin: 0 0.25em; line-height: 1; border-radius: 0.35em; box-decoration-break: clone; -webkit-box-decoration-break: clone\">\n",
              "    second\n",
              "    <span style=\"font-size: 0.8em; font-weight: bold; line-height: 1; border-radius: 0.35em; text-transform: uppercase; vertical-align: middle; margin-left: 0.5rem\">ORDINAL</span>\n",
              "</mark>\n",
              " senior \n",
              "<mark class=\"entity\" style=\"background: #7aecec; padding: 0.45em 0.6em; margin: 0 0.25em; line-height: 1; border-radius: 0.35em; box-decoration-break: clone; -webkit-box-decoration-break: clone\">\n",
              "    F.B.I.\n",
              "    <span style=\"font-size: 0.8em; font-weight: bold; line-height: 1; border-radius: 0.35em; text-transform: uppercase; vertical-align: middle; margin-left: 0.5rem\">ORG</span>\n",
              "</mark>\n",
              " agent to be fired as a result of the inspector general’s investigation., In \n",
              "<mark class=\"entity\" style=\"background: #bfe1d9; padding: 0.45em 0.6em; margin: 0 0.25em; line-height: 1; border-radius: 0.35em; box-decoration-break: clone; -webkit-box-decoration-break: clone\">\n",
              "    March\n",
              "    <span style=\"font-size: 0.8em; font-weight: bold; line-height: 1; border-radius: 0.35em; text-transform: uppercase; vertical-align: middle; margin-left: 0.5rem\">DATE</span>\n",
              "</mark>\n",
              ", \n",
              "<mark class=\"entity\" style=\"background: #aa9cfc; padding: 0.45em 0.6em; margin: 0 0.25em; line-height: 1; border-radius: 0.35em; box-decoration-break: clone; -webkit-box-decoration-break: clone\">\n",
              "    Andrew G. McCabe\n",
              "    <span style=\"font-size: 0.8em; font-weight: bold; line-height: 1; border-radius: 0.35em; text-transform: uppercase; vertical-align: middle; margin-left: 0.5rem\">PERSON</span>\n",
              "</mark>\n",
              ", the former deputy director, was fired after the inspector general repeatedly faulted him for misleading investigators., The firing was politically motivated, Mr. \n",
              "<mark class=\"entity\" style=\"background: #aa9cfc; padding: 0.45em 0.6em; margin: 0 0.25em; line-height: 1; border-radius: 0.35em; box-decoration-break: clone; -webkit-box-decoration-break: clone\">\n",
              "    McCabe\n",
              "    <span style=\"font-size: 0.8em; font-weight: bold; line-height: 1; border-radius: 0.35em; text-transform: uppercase; vertical-align: middle; margin-left: 0.5rem\">PERSON</span>\n",
              "</mark>\n",
              " has said, as an effort to discredit him as a witness in the special counsel investigation., Both men were fired before they were eligible for their pension and health benefits., Mr., Strzok, \n",
              "<mark class=\"entity\" style=\"background: #bfe1d9; padding: 0.45em 0.6em; margin: 0 0.25em; line-height: 1; border-radius: 0.35em; box-decoration-break: clone; -webkit-box-decoration-break: clone\">\n",
              "    48\n",
              "    <span style=\"font-size: 0.8em; font-weight: bold; line-height: 1; border-radius: 0.35em; text-transform: uppercase; vertical-align: middle; margin-left: 0.5rem\">DATE</span>\n",
              "</mark>\n",
              ", a graduate of \n",
              "<mark class=\"entity\" style=\"background: #7aecec; padding: 0.45em 0.6em; margin: 0 0.25em; line-height: 1; border-radius: 0.35em; box-decoration-break: clone; -webkit-box-decoration-break: clone\">\n",
              "    Georgetown University\n",
              "    <span style=\"font-size: 0.8em; font-weight: bold; line-height: 1; border-radius: 0.35em; text-transform: uppercase; vertical-align: middle; margin-left: 0.5rem\">ORG</span>\n",
              "</mark>\n",
              ", served as an officer in the \n",
              "<mark class=\"entity\" style=\"background: #7aecec; padding: 0.45em 0.6em; margin: 0 0.25em; line-height: 1; border-radius: 0.35em; box-decoration-break: clone; -webkit-box-decoration-break: clone\">\n",
              "    Army\n",
              "    <span style=\"font-size: 0.8em; font-weight: bold; line-height: 1; border-radius: 0.35em; text-transform: uppercase; vertical-align: middle; margin-left: 0.5rem\">ORG</span>\n",
              "</mark>\n",
              " before he joined the F.B.I., He held several key positions in the \n",
              "<mark class=\"entity\" style=\"background: #7aecec; padding: 0.45em 0.6em; margin: 0 0.25em; line-height: 1; border-radius: 0.35em; box-decoration-break: clone; -webkit-box-decoration-break: clone\">\n",
              "    F.B.I.\n",
              "    <span style=\"font-size: 0.8em; font-weight: bold; line-height: 1; border-radius: 0.35em; text-transform: uppercase; vertical-align: middle; margin-left: 0.5rem\">ORG</span>\n",
              "</mark>\n",
              ", eventually becoming a top deputy in the counterintelligence division., He handled many important espionage cases including \n",
              "<mark class=\"entity\" style=\"background: #e4e7d2; padding: 0.45em 0.6em; margin: 0 0.25em; line-height: 1; border-radius: 0.35em; box-decoration-break: clone; -webkit-box-decoration-break: clone\">\n",
              "    one\n",
              "    <span style=\"font-size: 0.8em; font-weight: bold; line-height: 1; border-radius: 0.35em; text-transform: uppercase; vertical-align: middle; margin-left: 0.5rem\">CARDINAL</span>\n",
              "</mark>\n",
              " involving a former \n",
              "<mark class=\"entity\" style=\"background: #7aecec; padding: 0.45em 0.6em; margin: 0 0.25em; line-height: 1; border-radius: 0.35em; box-decoration-break: clone; -webkit-box-decoration-break: clone\">\n",
              "    C.I.A.\n",
              "    <span style=\"font-size: 0.8em; font-weight: bold; line-height: 1; border-radius: 0.35em; text-transform: uppercase; vertical-align: middle; margin-left: 0.5rem\">ORG</span>\n",
              "</mark>\n",
              " officer suspected of working for \n",
              "<mark class=\"entity\" style=\"background: #feca74; padding: 0.45em 0.6em; margin: 0 0.25em; line-height: 1; border-radius: 0.35em; box-decoration-break: clone; -webkit-box-decoration-break: clone\">\n",
              "    China\n",
              "    <span style=\"font-size: 0.8em; font-weight: bold; line-height: 1; border-radius: 0.35em; text-transform: uppercase; vertical-align: middle; margin-left: 0.5rem\">GPE</span>\n",
              "</mark>\n",
              " and a group of \n",
              "<mark class=\"entity\" style=\"background: #c887fb; padding: 0.45em 0.6em; margin: 0 0.25em; line-height: 1; border-radius: 0.35em; box-decoration-break: clone; -webkit-box-decoration-break: clone\">\n",
              "    Russian\n",
              "    <span style=\"font-size: 0.8em; font-weight: bold; line-height: 1; border-radius: 0.35em; text-transform: uppercase; vertical-align: middle; margin-left: 0.5rem\">NORP</span>\n",
              "</mark>\n",
              " spies who had been working undercover in \n",
              "<mark class=\"entity\" style=\"background: #feca74; padding: 0.45em 0.6em; margin: 0 0.25em; line-height: 1; border-radius: 0.35em; box-decoration-break: clone; -webkit-box-decoration-break: clone\">\n",
              "    the United States\n",
              "    <span style=\"font-size: 0.8em; font-weight: bold; line-height: 1; border-radius: 0.35em; text-transform: uppercase; vertical-align: middle; margin-left: 0.5rem\">GPE</span>\n",
              "</mark>\n",
              "., Follow \n",
              "<mark class=\"entity\" style=\"background: #aa9cfc; padding: 0.45em 0.6em; margin: 0 0.25em; line-height: 1; border-radius: 0.35em; box-decoration-break: clone; -webkit-box-decoration-break: clone\">\n",
              "    Adam Goldman\n",
              "    <span style=\"font-size: 0.8em; font-weight: bold; line-height: 1; border-radius: 0.35em; text-transform: uppercase; vertical-align: middle; margin-left: 0.5rem\">PERSON</span>\n",
              "</mark>\n",
              " and \n",
              "<mark class=\"entity\" style=\"background: #aa9cfc; padding: 0.45em 0.6em; margin: 0 0.25em; line-height: 1; border-radius: 0.35em; box-decoration-break: clone; -webkit-box-decoration-break: clone\">\n",
              "    Michael S. Schmidt\n",
              "    <span style=\"font-size: 0.8em; font-weight: bold; line-height: 1; border-radius: 0.35em; text-transform: uppercase; vertical-align: middle; margin-left: 0.5rem\">PERSON</span>\n",
              "</mark>\n",
              " on Twitter: @adamgoldmanNYT and \n",
              "<mark class=\"entity\" style=\"background: #aa9cfc; padding: 0.45em 0.6em; margin: 0 0.25em; line-height: 1; border-radius: 0.35em; box-decoration-break: clone; -webkit-box-decoration-break: clone\">\n",
              "    @nytmike\n",
              "    <span style=\"font-size: 0.8em; font-weight: bold; line-height: 1; border-radius: 0.35em; text-transform: uppercase; vertical-align: middle; margin-left: 0.5rem\">PERSON</span>\n",
              "</mark>\n",
              "., A version of this article appears in print on , \n",
              "<mark class=\"entity\" style=\"background: #ff8197; padding: 0.45em 0.6em; margin: 0 0.25em; line-height: 1; border-radius: 0.35em; box-decoration-break: clone; -webkit-box-decoration-break: clone\">\n",
              "    Section A, Page 1\n",
              "    <span style=\"font-size: 0.8em; font-weight: bold; line-height: 1; border-radius: 0.35em; text-transform: uppercase; vertical-align: middle; margin-left: 0.5rem\">LAW</span>\n",
              "</mark>\n",
              " of the \n",
              "<mark class=\"entity\" style=\"background: #feca74; padding: 0.45em 0.6em; margin: 0 0.25em; line-height: 1; border-radius: 0.35em; box-decoration-break: clone; -webkit-box-decoration-break: clone\">\n",
              "    New York\n",
              "    <span style=\"font-size: 0.8em; font-weight: bold; line-height: 1; border-radius: 0.35em; text-transform: uppercase; vertical-align: middle; margin-left: 0.5rem\">GPE</span>\n",
              "</mark>\n",
              " edition with the headline: F.B.I. Banishes An Agent Who Reviled Trump., Order Reprints |, \n",
              "<mark class=\"entity\" style=\"background: #bfe1d9; padding: 0.45em 0.6em; margin: 0 0.25em; line-height: 1; border-radius: 0.35em; box-decoration-break: clone; -webkit-box-decoration-break: clone\">\n",
              "    Today\n",
              "    <span style=\"font-size: 0.8em; font-weight: bold; line-height: 1; border-radius: 0.35em; text-transform: uppercase; vertical-align: middle; margin-left: 0.5rem\">DATE</span>\n",
              "</mark>\n",
              "’s Paper | SubscribeRelated CoverageF.B.I. Agent Defends Actions in \n",
              "<mark class=\"entity\" style=\"background: #feca74; padding: 0.45em 0.6em; margin: 0 0.25em; line-height: 1; border-radius: 0.35em; box-decoration-break: clone; -webkit-box-decoration-break: clone\">\n",
              "    Russia\n",
              "    <span style=\"font-size: 0.8em; font-weight: bold; line-height: 1; border-radius: 0.35em; text-transform: uppercase; vertical-align: middle; margin-left: 0.5rem\">GPE</span>\n",
              "</mark>\n",
              " Inquiry in \n",
              "<mark class=\"entity\" style=\"background: #ddd; padding: 0.45em 0.6em; margin: 0 0.25em; line-height: 1; border-radius: 0.35em; box-decoration-break: clone; -webkit-box-decoration-break: clone\">\n",
              "    Contentious House\n",
              "    <span style=\"font-size: 0.8em; font-weight: bold; line-height: 1; border-radius: 0.35em; text-transform: uppercase; vertical-align: middle; margin-left: 0.5rem\">FAC</span>\n",
              "</mark>\n",
              ", \n",
              "<mark class=\"entity\" style=\"background: #7aecec; padding: 0.45em 0.6em; margin: 0 0.25em; line-height: 1; border-radius: 0.35em; box-decoration-break: clone; -webkit-box-decoration-break: clone\">\n",
              "    TestimonyJuly\n",
              "    <span style=\"font-size: 0.8em; font-weight: bold; line-height: 1; border-radius: 0.35em; text-transform: uppercase; vertical-align: middle; margin-left: 0.5rem\">ORG</span>\n",
              "</mark>\n",
              " 12, 2018ImageReport \n",
              "<mark class=\"entity\" style=\"background: #7aecec; padding: 0.45em 0.6em; margin: 0 0.25em; line-height: 1; border-radius: 0.35em; box-decoration-break: clone; -webkit-box-decoration-break: clone\">\n",
              "    Criticizes Comey\n",
              "    <span style=\"font-size: 0.8em; font-weight: bold; line-height: 1; border-radius: 0.35em; text-transform: uppercase; vertical-align: middle; margin-left: 0.5rem\">ORG</span>\n",
              "</mark>\n",
              " but Finds No Bias in F.B.I. Decision on \n",
              "<mark class=\"entity\" style=\"background: #7aecec; padding: 0.45em 0.6em; margin: 0 0.25em; line-height: 1; border-radius: 0.35em; box-decoration-break: clone; -webkit-box-decoration-break: clone\">\n",
              "    ClintonJune\n",
              "    <span style=\"font-size: 0.8em; font-weight: bold; line-height: 1; border-radius: 0.35em; text-transform: uppercase; vertical-align: middle; margin-left: 0.5rem\">ORG</span>\n",
              "</mark>\n",
              " \n",
              "<mark class=\"entity\" style=\"background: #bfeeb7; padding: 0.45em 0.6em; margin: 0 0.25em; line-height: 1; border-radius: 0.35em; box-decoration-break: clone; -webkit-box-decoration-break: clone\">\n",
              "    14\n",
              "    <span style=\"font-size: 0.8em; font-weight: bold; line-height: 1; border-radius: 0.35em; text-transform: uppercase; vertical-align: middle; margin-left: 0.5rem\">PRODUCT</span>\n",
              "</mark>\n",
              ", 2018ImageAndrew McCabe, a Target of Trump’s F.B.I. Scorn,, Is Fired Over Candor QuestionsMarch 16, \n",
              "<mark class=\"entity\" style=\"background: #bfeeb7; padding: 0.45em 0.6em; margin: 0 0.25em; line-height: 1; border-radius: 0.35em; box-decoration-break: clone; -webkit-box-decoration-break: clone\">\n",
              "    2018ImageAdvertisementSite IndexGo\n",
              "    <span style=\"font-size: 0.8em; font-weight: bold; line-height: 1; border-radius: 0.35em; text-transform: uppercase; vertical-align: middle; margin-left: 0.5rem\">PRODUCT</span>\n",
              "</mark>\n",
              " to, Home Page »newshome, pageworldU.S.politicsElection, \n",
              "<mark class=\"entity\" style=\"background: #e4e7d2; padding: 0.45em 0.6em; margin: 0 0.25em; line-height: 1; border-radius: 0.35em; box-decoration-break: clone; -webkit-box-decoration-break: clone\">\n",
              "    2020New\n",
              "    <span style=\"font-size: 0.8em; font-weight: bold; line-height: 1; border-radius: 0.35em; text-transform: uppercase; vertical-align: middle; margin-left: 0.5rem\">CARDINAL</span>\n",
              "</mark>\n",
              ", Yorkbusinesstechscienceclimatesportsobituariesthe \n",
              "<mark class=\"entity\" style=\"background: #bfe1d9; padding: 0.45em 0.6em; margin: 0 0.25em; line-height: 1; border-radius: 0.35em; box-decoration-break: clone; -webkit-box-decoration-break: clone\">\n",
              "    upshotEspañol中文网today\n",
              "    <span style=\"font-size: 0.8em; font-weight: bold; line-height: 1; border-radius: 0.35em; text-transform: uppercase; vertical-align: middle; margin-left: 0.5rem\">DATE</span>\n",
              "</mark>\n",
              "'s papercorrectionsopiniontoday's opinionop-ed columnistseditorialsop-ed \n",
              "<mark class=\"entity\" style=\"background: #7aecec; padding: 0.45em 0.6em; margin: 0 0.25em; line-height: 1; border-radius: 0.35em; box-decoration-break: clone; -webkit-box-decoration-break: clone\">\n",
              "    Contributorsletterssunday\n",
              "    <span style=\"font-size: 0.8em; font-weight: bold; line-height: 1; border-radius: 0.35em; text-transform: uppercase; vertical-align: middle; margin-left: 0.5rem\">ORG</span>\n",
              "</mark>\n",
              " reviewvideo: opinionartstoday's artsart \n",
              "<mark class=\"entity\" style=\"background: #7aecec; padding: 0.45em 0.6em; margin: 0 0.25em; line-height: 1; border-radius: 0.35em; box-decoration-break: clone; -webkit-box-decoration-break: clone\">\n",
              "    &amp; designbooksdancemoviesmusicPop Culturetelevisiontheaterwatchingvideo\n",
              "    <span style=\"font-size: 0.8em; font-weight: bold; line-height: 1; border-radius: 0.35em; text-transform: uppercase; vertical-align: middle; margin-left: 0.5rem\">ORG</span>\n",
              "</mark>\n",
              ":, artslivingautomobilesCookingcrosswordeducationfoodhealthjobsmagazineparentingreal estatestylet magazinetravellovelistings &amp; moreReader CenterWirecutterLive EventsThe Learning Networktools &amp; servicesN.Y.C., events guidemultimediaphotographyvideoNewslettersNYT, storetimes, journeysmanage my accountnewshome, pageworldU.S.politicsElection, \n",
              "<mark class=\"entity\" style=\"background: #bfe1d9; padding: 0.45em 0.6em; margin: 0 0.25em; line-height: 1; border-radius: 0.35em; box-decoration-break: clone; -webkit-box-decoration-break: clone\">\n",
              "    2020New\n",
              "    <span style=\"font-size: 0.8em; font-weight: bold; line-height: 1; border-radius: 0.35em; text-transform: uppercase; vertical-align: middle; margin-left: 0.5rem\">DATE</span>\n",
              "</mark>\n",
              ", Yorkbusinesstechscienceclimatesportsobituariesthe \n",
              "<mark class=\"entity\" style=\"background: #bfe1d9; padding: 0.45em 0.6em; margin: 0 0.25em; line-height: 1; border-radius: 0.35em; box-decoration-break: clone; -webkit-box-decoration-break: clone\">\n",
              "    upshotEspañol中文网today\n",
              "    <span style=\"font-size: 0.8em; font-weight: bold; line-height: 1; border-radius: 0.35em; text-transform: uppercase; vertical-align: middle; margin-left: 0.5rem\">DATE</span>\n",
              "</mark>\n",
              "'s papercorrectionsopiniontoday's opinionop-ed columnistseditorialsop-ed \n",
              "<mark class=\"entity\" style=\"background: #7aecec; padding: 0.45em 0.6em; margin: 0 0.25em; line-height: 1; border-radius: 0.35em; box-decoration-break: clone; -webkit-box-decoration-break: clone\">\n",
              "    Contributorsletterssunday\n",
              "    <span style=\"font-size: 0.8em; font-weight: bold; line-height: 1; border-radius: 0.35em; text-transform: uppercase; vertical-align: middle; margin-left: 0.5rem\">ORG</span>\n",
              "</mark>\n",
              " reviewvideo: opinionartstoday's artsart \n",
              "<mark class=\"entity\" style=\"background: #7aecec; padding: 0.45em 0.6em; margin: 0 0.25em; line-height: 1; border-radius: 0.35em; box-decoration-break: clone; -webkit-box-decoration-break: clone\">\n",
              "    &amp; designbooksdancemoviesmusicPop Culturetelevisiontheaterwatchingvideo\n",
              "    <span style=\"font-size: 0.8em; font-weight: bold; line-height: 1; border-radius: 0.35em; text-transform: uppercase; vertical-align: middle; margin-left: 0.5rem\">ORG</span>\n",
              "</mark>\n",
              ":, artslivingautomobilesCookingcrosswordeducationfoodhealthjobsmagazineparentingreal estatestylet magazinetravellovemoreReader CenterWirecutterLive EventsThe Learning Networktools &amp; servicesN.Y.C. events guidemultimediaphotographyvideoNewslettersNYT, storetimes journeysmanage, my accountSubscribehome deliverydigital subscriptionsCrosswordCookingemail newsletterscorporate subscriptionseducation ratemobile applicationsreplica, editionEspañol中文网Site \n",
              "<mark class=\"entity\" style=\"background: #7aecec; padding: 0.45em 0.6em; margin: 0 0.25em; line-height: 1; border-radius: 0.35em; box-decoration-break: clone; -webkit-box-decoration-break: clone\">\n",
              "    Information Navigation\n",
              "    <span style=\"font-size: 0.8em; font-weight: bold; line-height: 1; border-radius: 0.35em; text-transform: uppercase; vertical-align: middle; margin-left: 0.5rem\">ORG</span>\n",
              "</mark>\n",
              "© 2019 , \n",
              "<mark class=\"entity\" style=\"background: #7aecec; padding: 0.45em 0.6em; margin: 0 0.25em; line-height: 1; border-radius: 0.35em; box-decoration-break: clone; -webkit-box-decoration-break: clone\">\n",
              "    The New York Times\n",
              "    <span style=\"font-size: 0.8em; font-weight: bold; line-height: 1; border-radius: 0.35em; text-transform: uppercase; vertical-align: middle; margin-left: 0.5rem\">ORG</span>\n",
              "</mark>\n",
              " CompanyContact UsWork with usAdvertiseT, \n",
              "<mark class=\"entity\" style=\"background: #7aecec; padding: 0.45em 0.6em; margin: 0 0.25em; line-height: 1; border-radius: 0.35em; box-decoration-break: clone; -webkit-box-decoration-break: clone\">\n",
              "    Brand StudioYour\n",
              "    <span style=\"font-size: 0.8em; font-weight: bold; line-height: 1; border-radius: 0.35em; text-transform: uppercase; vertical-align: middle; margin-left: 0.5rem\">ORG</span>\n",
              "</mark>\n",
              " Ad ChoicesPrivacyTerms of \n",
              "<mark class=\"entity\" style=\"background: #7aecec; padding: 0.45em 0.6em; margin: 0 0.25em; line-height: 1; border-radius: 0.35em; box-decoration-break: clone; -webkit-box-decoration-break: clone\">\n",
              "    ServiceTerms\n",
              "    <span style=\"font-size: 0.8em; font-weight: bold; line-height: 1; border-radius: 0.35em; text-transform: uppercase; vertical-align: middle; margin-left: 0.5rem\">ORG</span>\n",
              "</mark>\n",
              " of SaleSite MapHelpSubscriptions]</div>"
            ],
            "text/plain": [
              "<IPython.core.display.HTML object>"
            ]
          },
          "metadata": {
            "tags": []
          }
        }
      ]
    },
    {
      "cell_type": "code",
      "metadata": {
        "id": "XynrRCPFJy9G",
        "colab_type": "code",
        "colab": {}
      },
      "source": [
        "import time\n",
        "import torch\n",
        "import torch.optim as optim\n",
        "import os\n",
        "import sys\n",
        "\n",
        "sys.path.append('./a-PyTorch-Tutorial-to-Sequence-Labeling')\n",
        "\n",
        "from models import LM_LSTM_CRF, ViterbiLoss\n",
        "from utils import *\n",
        "from torch.nn.utils.rnn import pack_padded_sequence\n",
        "from datasets import WCDataset\n",
        "from inference import ViterbiDecoder\n",
        "from sklearn.metrics import f1_score"
      ],
      "execution_count": 0,
      "outputs": []
    },
    {
      "cell_type": "code",
      "metadata": {
        "id": "lpmAwACxJy9I",
        "colab_type": "code",
        "colab": {}
      },
      "source": [
        "#!touch ./a-PyTorch-Tutorial-to-Sequence-Labeling/__init__.py"
      ],
      "execution_count": 0,
      "outputs": []
    },
    {
      "cell_type": "code",
      "metadata": {
        "id": "RA9f3WycJy9M",
        "colab_type": "code",
        "colab": {}
      },
      "source": [
        "# Data parameters\n",
        "task = 'ner'  # tagging task, to choose column in CoNLL 2003 dataset\n",
        "train_file = './datasets/eng.train'  # path to training data\n",
        "val_file = './datasets/eng.testa'  # path to validation data\n",
        "test_file = './datasets/eng.testb'  # path to test data\n",
        "emb_file = './embeddings/glove.6B.100d.txt'  # path to pre-trained word embeddings\n",
        "min_word_freq = 5  # threshold for word frequency\n",
        "min_char_freq = 1  # threshold for character frequency\n",
        "caseless = True  # lowercase everything?\n",
        "expand_vocab = True  # expand model's input vocabulary to the pre-trained embeddings' vocabulary?\n",
        "\n",
        "# Model parameters\n",
        "char_emb_dim = 30  # character embedding size\n",
        "with open(emb_file, 'r') as f:\n",
        "    word_emb_dim = len(f.readline().split(' ')) - 1  # word embedding size\n",
        "word_rnn_dim = 300  # word RNN size\n",
        "char_rnn_dim = 300  # character RNN size\n",
        "char_rnn_layers = 1  # number of layers in character RNN\n",
        "word_rnn_layers = 1  # number of layers in word RNN\n",
        "highway_layers = 1  # number of layers in highway network\n",
        "dropout = 0.5  # dropout\n",
        "fine_tune_word_embeddings = False  # fine-tune pre-trained word embeddings?\n",
        "\n",
        "# Training parameters\n",
        "start_epoch = 0  # start at this epoch\n",
        "batch_size = 10  # batch size\n",
        "lr = 0.015  # learning rate\n",
        "lr_decay = 0.05  # decay learning rate by this amount\n",
        "momentum = 0.9  # momentum\n",
        "workers = 1  # number of workers for loading data in the DataLoader\n",
        "epochs = 10  # number of epochs to run without early-stopping\n",
        "grad_clip = 5.  # clip gradients at this value\n",
        "print_freq = 100  # print training or validation status every __ batches\n",
        "best_f1 = 0.  # F1 score to start with\n",
        "checkpoint = None  # path to model checkpoint, None if none\n",
        "\n",
        "tag_ind = 1 if task == 'pos' else 3  # choose column in CoNLL 2003 dataset\n",
        "\n",
        "device = torch.device(\"cuda\" if torch.cuda.is_available() else \"cpu\")"
      ],
      "execution_count": 0,
      "outputs": []
    },
    {
      "cell_type": "code",
      "metadata": {
        "id": "qt0OIF0DJy9O",
        "colab_type": "code",
        "colab": {}
      },
      "source": [
        "def train(train_loader, model, lm_criterion, crf_criterion, optimizer, epoch, vb_decoder):\n",
        "    \"\"\"\n",
        "    Performs one epoch's training.\n",
        "    :param train_loader: DataLoader for training data\n",
        "    :param model: model\n",
        "    :param lm_criterion: cross entropy loss layer\n",
        "    :param crf_criterion: viterbi loss layer\n",
        "    :param optimizer: optimizer\n",
        "    :param epoch: epoch number\n",
        "    :param vb_decoder: viterbi decoder (to decode and find F1 score)\n",
        "    \"\"\"\n",
        "\n",
        "    model.train()  # training mode enables dropout\n",
        "\n",
        "    batch_time = AverageMeter()  # forward prop. + back prop. time per batch\n",
        "    data_time = AverageMeter()  # data loading time per batch\n",
        "    ce_losses = AverageMeter()  # cross entropy loss\n",
        "    vb_losses = AverageMeter()  # viterbi loss\n",
        "    f1s = AverageMeter()  # f1 score\n",
        "\n",
        "    start = time.time()\n",
        "\n",
        "    # Batches\n",
        "    for i, (wmaps, cmaps_f, cmaps_b, cmarkers_f, cmarkers_b, tmaps, wmap_lengths, cmap_lengths) in enumerate(\n",
        "            train_loader):\n",
        "\n",
        "        data_time.update(time.time() - start)\n",
        "\n",
        "        max_word_len = max(wmap_lengths.tolist())\n",
        "        max_char_len = max(cmap_lengths.tolist())\n",
        "\n",
        "        # Reduce batch's padded length to maximum in-batch sequence\n",
        "        # This saves some compute on nn.Linear layers (RNNs are unaffected, since they don't compute over the pads)\n",
        "        wmaps = wmaps[:, :max_word_len].to(device)\n",
        "        cmaps_f = cmaps_f[:, :max_char_len].to(device)\n",
        "        cmaps_b = cmaps_b[:, :max_char_len].to(device)\n",
        "        cmarkers_f = cmarkers_f[:, :max_word_len].to(device)\n",
        "        cmarkers_b = cmarkers_b[:, :max_word_len].to(device)\n",
        "        tmaps = tmaps[:, :max_word_len].to(device)\n",
        "        wmap_lengths = wmap_lengths.to(device)\n",
        "        cmap_lengths = cmap_lengths.to(device)\n",
        "\n",
        "        # Forward prop.\n",
        "        crf_scores, lm_f_scores, lm_b_scores, wmaps_sorted, tmaps_sorted, wmap_lengths_sorted, _, __ = model(cmaps_f,\n",
        "                                                                                                             cmaps_b,\n",
        "                                                                                                             cmarkers_f,\n",
        "                                                                                                             cmarkers_b,\n",
        "                                                                                                             wmaps,\n",
        "                                                                                                             tmaps,\n",
        "                                                                                                             wmap_lengths,\n",
        "                                                                                                             cmap_lengths)\n",
        "\n",
        "        # LM loss\n",
        "\n",
        "        # We don't predict the next word at the pads or <end> tokens\n",
        "        # We will only predict at [dunston, checks, in] among [dunston, checks, in, <end>, <pad>, <pad>, ...]\n",
        "        # So, prediction lengths are word sequence lengths - 1\n",
        "        lm_lengths = wmap_lengths_sorted - 1\n",
        "        lm_lengths = lm_lengths.tolist()\n",
        "\n",
        "        # Remove scores at timesteps we won't predict at\n",
        "        # pack_padded_sequence is a good trick to do this (see dynamic_rnn.py, where we explore this)\n",
        "        lm_f_scores, _ = pack_padded_sequence(lm_f_scores, lm_lengths, batch_first=True)\n",
        "        lm_b_scores, _ = pack_padded_sequence(lm_b_scores, lm_lengths, batch_first=True)\n",
        "\n",
        "        # For the forward sequence, targets are from the second word onwards, up to <end>\n",
        "        # (timestep -> target) ...dunston -> checks, ...checks -> in, ...in -> <end>\n",
        "        lm_f_targets = wmaps_sorted[:, 1:]\n",
        "        lm_f_targets, _ = pack_padded_sequence(lm_f_targets, lm_lengths, batch_first=True)\n",
        "\n",
        "        # For the backward sequence, targets are <end> followed by all words except the last word\n",
        "        # ...notsnud -> <end>, ...skcehc -> dunston, ...ni -> checks\n",
        "        lm_b_targets = torch.cat(\n",
        "            [torch.LongTensor([word_map['<end>']] * wmaps_sorted.size(0)).unsqueeze(1).to(device), wmaps_sorted], dim=1)\n",
        "        lm_b_targets, _ = pack_padded_sequence(lm_b_targets, lm_lengths, batch_first=True)\n",
        "\n",
        "        # Calculate loss\n",
        "        ce_loss = lm_criterion(lm_f_scores, lm_f_targets) + lm_criterion(lm_b_scores, lm_b_targets)\n",
        "        vb_loss = crf_criterion(crf_scores, tmaps_sorted, wmap_lengths_sorted)\n",
        "        loss = ce_loss + vb_loss\n",
        "\n",
        "        # Back prop.\n",
        "        optimizer.zero_grad()\n",
        "        loss.backward()\n",
        "\n",
        "        if grad_clip is not None:\n",
        "            clip_gradient(optimizer, grad_clip)\n",
        "\n",
        "        optimizer.step()\n",
        "\n",
        "        # Viterbi decode to find accuracy / f1\n",
        "        decoded = vb_decoder.decode(crf_scores.to(\"cpu\"), wmap_lengths_sorted.to(\"cpu\"))\n",
        "\n",
        "        # Remove timesteps we won't predict at, and also <end> tags, because to predict them would be cheating\n",
        "        decoded, _ = pack_padded_sequence(decoded, lm_lengths, batch_first=True)\n",
        "        tmaps_sorted = tmaps_sorted % vb_decoder.tagset_size  # actual target indices (see create_input_tensors())\n",
        "        tmaps_sorted, _ = pack_padded_sequence(tmaps_sorted, lm_lengths, batch_first=True)\n",
        "\n",
        "        # F1\n",
        "        f1 = f1_score(tmaps_sorted.to(\"cpu\").numpy(), decoded.numpy(), average='macro')\n",
        "\n",
        "        # Keep track of metrics\n",
        "        ce_losses.update(ce_loss.item(), sum(lm_lengths))\n",
        "        vb_losses.update(vb_loss.item(), crf_scores.size(0))\n",
        "        batch_time.update(time.time() - start)\n",
        "        f1s.update(f1, sum(lm_lengths))\n",
        "\n",
        "        start = time.time()\n",
        "\n",
        "        # Print training status\n",
        "        if i % print_freq == 0:\n",
        "            print('Epoch: [{0}][{1}/{2}]\\t'\n",
        "                  'Batch Time {batch_time.val:.3f} ({batch_time.avg:.3f})\\t'\n",
        "                  'Data Load Time {data_time.val:.3f} ({data_time.avg:.3f})\\t'\n",
        "                  'CE Loss {ce_loss.val:.4f} ({ce_loss.avg:.4f})\\t'\n",
        "                  'VB Loss {vb_loss.val:.4f} ({vb_loss.avg:.4f})\\t'\n",
        "                  'F1 {f1.val:.3f} ({f1.avg:.3f})'.format(epoch, i, len(train_loader),\n",
        "                                                          batch_time=batch_time,\n",
        "                                                          data_time=data_time, ce_loss=ce_losses,\n",
        "                                                          vb_loss=vb_losses, f1=f1s))"
      ],
      "execution_count": 0,
      "outputs": []
    },
    {
      "cell_type": "code",
      "metadata": {
        "id": "dDCfOCeZJy9P",
        "colab_type": "code",
        "colab": {}
      },
      "source": [
        "def validate(val_loader, model, crf_criterion, vb_decoder):\n",
        "    \"\"\"\n",
        "    Performs one epoch's validation.\n",
        "    :param val_loader: DataLoader for validation data\n",
        "    :param model: model\n",
        "    :param crf_criterion: viterbi loss layer\n",
        "    :param vb_decoder: viterbi decoder\n",
        "    :return: validation F1 score\n",
        "    \"\"\"\n",
        "    model.eval()\n",
        "\n",
        "    batch_time = AverageMeter()\n",
        "    vb_losses = AverageMeter()\n",
        "    f1s = AverageMeter()\n",
        "\n",
        "    start = time.time()\n",
        "\n",
        "    for i, (wmaps, cmaps_f, cmaps_b, cmarkers_f, cmarkers_b, tmaps, wmap_lengths, cmap_lengths) in enumerate(\n",
        "            val_loader):\n",
        "\n",
        "        max_word_len = max(wmap_lengths.tolist())\n",
        "        max_char_len = max(cmap_lengths.tolist())\n",
        "\n",
        "        # Reduce batch's padded length to maximum in-batch sequence\n",
        "        # This saves some compute on nn.Linear layers (RNNs are unaffected, since they don't compute over the pads)\n",
        "        wmaps = wmaps[:, :max_word_len].to(device)\n",
        "        cmaps_f = cmaps_f[:, :max_char_len].to(device)\n",
        "        cmaps_b = cmaps_b[:, :max_char_len].to(device)\n",
        "        cmarkers_f = cmarkers_f[:, :max_word_len].to(device)\n",
        "        cmarkers_b = cmarkers_b[:, :max_word_len].to(device)\n",
        "        tmaps = tmaps[:, :max_word_len].to(device)\n",
        "        wmap_lengths = wmap_lengths.to(device)\n",
        "        cmap_lengths = cmap_lengths.to(device)\n",
        "\n",
        "        # Forward prop.\n",
        "        crf_scores, wmaps_sorted, tmaps_sorted, wmap_lengths_sorted, _, __ = model(cmaps_f,\n",
        "                                                                                   cmaps_b,\n",
        "                                                                                   cmarkers_f,\n",
        "                                                                                   cmarkers_b,\n",
        "                                                                                   wmaps,\n",
        "                                                                                   tmaps,\n",
        "                                                                                   wmap_lengths,\n",
        "                                                                                   cmap_lengths)\n",
        "\n",
        "        # Viterbi / CRF layer loss\n",
        "        vb_loss = crf_criterion(crf_scores, tmaps_sorted, wmap_lengths_sorted)\n",
        "\n",
        "        # Viterbi decode to find accuracy / f1\n",
        "        decoded = vb_decoder.decode(crf_scores.to(\"cpu\"), wmap_lengths_sorted.to(\"cpu\"))\n",
        "\n",
        "        # Remove timesteps we won't predict at, and also <end> tags, because to predict them would be cheating\n",
        "        decoded, _ = pack_padded_sequence(decoded, (wmap_lengths_sorted - 1).tolist(), batch_first=True)\n",
        "        tmaps_sorted = tmaps_sorted % vb_decoder.tagset_size  # actual target indices (see create_input_tensors())\n",
        "        tmaps_sorted, _ = pack_padded_sequence(tmaps_sorted, (wmap_lengths_sorted - 1).tolist(), batch_first=True)\n",
        "\n",
        "        # f1\n",
        "        f1 = f1_score(tmaps_sorted.to(\"cpu\").numpy(), decoded.numpy(), average='macro')\n",
        "\n",
        "        # Keep track of metrics\n",
        "        vb_losses.update(vb_loss.item(), crf_scores.size(0))\n",
        "        f1s.update(f1, sum((wmap_lengths_sorted - 1).tolist()))\n",
        "        batch_time.update(time.time() - start)\n",
        "\n",
        "        start = time.time()\n",
        "\n",
        "        if i % print_freq == 0:\n",
        "            print('Validation: [{0}/{1}]\\t'\n",
        "                  'Batch Time {batch_time.val:.3f} ({batch_time.avg:.3f})\\t'\n",
        "                  'VB Loss {vb_loss.val:.4f} ({vb_loss.avg:.4f})\\t'\n",
        "                  'F1 Score {f1.val:.3f} ({f1.avg:.3f})\\t'.format(i, len(val_loader), batch_time=batch_time,\n",
        "                                                                  vb_loss=vb_losses, f1=f1s))\n",
        "\n",
        "    print(\n",
        "        '\\n * LOSS - {vb_loss.avg:.3f}, F1 SCORE - {f1.avg:.3f}\\n'.format(vb_loss=vb_losses,\n",
        "                                                                          f1=f1s))\n",
        "\n",
        "    return f1s.avg"
      ],
      "execution_count": 0,
      "outputs": []
    },
    {
      "cell_type": "code",
      "metadata": {
        "id": "m4_YLHiDJy9Q",
        "colab_type": "code",
        "colab": {}
      },
      "source": [
        "def main_func():\n",
        "    \"\"\"\n",
        "    Training and validation.\n",
        "    \"\"\"\n",
        "    global best_f1, epochs_since_improvement, checkpoint, start_epoch, word_map, char_map, tag_map\n",
        "\n",
        "    # Read training and validation data\n",
        "    train_words, train_tags = read_words_tags(train_file, tag_ind, caseless)\n",
        "    val_words, val_tags = read_words_tags(val_file, tag_ind, caseless)\n",
        "\n",
        "    # Initialize model or load checkpoint\n",
        "    if checkpoint is not None:\n",
        "        checkpoint = torch.load(checkpoint)\n",
        "        model = checkpoint['model']\n",
        "        optimizer = checkpoint['optimizer']\n",
        "        word_map = checkpoint['word_map']\n",
        "        lm_vocab_size = checkpoint['lm_vocab_size']\n",
        "        tag_map = checkpoint['tag_map']\n",
        "        char_map = checkpoint['char_map']\n",
        "        start_epoch = checkpoint['epoch'] + 1\n",
        "        best_f1 = checkpoint['f1']\n",
        "    else:\n",
        "        word_map, char_map, tag_map = create_maps(train_words + val_words, train_tags + val_tags, min_word_freq,\n",
        "                                                  min_char_freq)  # create word, char, tag maps\n",
        "        embeddings, word_map, lm_vocab_size = load_embeddings(emb_file, word_map,\n",
        "                                                              expand_vocab)  # load pre-trained embeddings\n",
        "\n",
        "        model = LM_LSTM_CRF(tagset_size=len(tag_map),\n",
        "                            charset_size=len(char_map),\n",
        "                            char_emb_dim=char_emb_dim,\n",
        "                            char_rnn_dim=char_rnn_dim,\n",
        "                            char_rnn_layers=char_rnn_layers,\n",
        "                            vocab_size=len(word_map),\n",
        "                            lm_vocab_size=lm_vocab_size,\n",
        "                            word_emb_dim=word_emb_dim,\n",
        "                            word_rnn_dim=word_rnn_dim,\n",
        "                            word_rnn_layers=word_rnn_layers,\n",
        "                            dropout=dropout,\n",
        "                            highway_layers=highway_layers).to(device)\n",
        "        model.init_word_embeddings(embeddings.to(device))  # initialize embedding layer with pre-trained embeddings\n",
        "        model.fine_tune_word_embeddings(fine_tune_word_embeddings)  # fine-tune\n",
        "        optimizer = optim.SGD(params=filter(lambda p: p.requires_grad, model.parameters()), lr=lr, momentum=momentum)\n",
        "\n",
        "    # Loss functions\n",
        "    lm_criterion = nn.CrossEntropyLoss().to(device)\n",
        "    crf_criterion = ViterbiLoss(tag_map).to(device)\n",
        "\n",
        "    # Since the language model's vocab is restricted to in-corpus indices, encode training/val with only these!\n",
        "    # word_map might have been expanded, and in-corpus words eliminated due to low frequency might still be added because\n",
        "    # they were in the pre-trained embeddings\n",
        "    temp_word_map = {k: v for k, v in word_map.items() if v <= word_map['<unk>']}\n",
        "    train_inputs = create_input_tensors(train_words, train_tags, temp_word_map, char_map,\n",
        "                                        tag_map)\n",
        "    val_inputs = create_input_tensors(val_words, val_tags, temp_word_map, char_map, tag_map)\n",
        "\n",
        "    # DataLoaders\n",
        "    train_loader = torch.utils.data.DataLoader(WCDataset(*train_inputs), batch_size=batch_size, shuffle=True,\n",
        "                                               num_workers=workers, pin_memory=False)\n",
        "    val_loader = torch.utils.data.DataLoader(WCDataset(*val_inputs), batch_size=batch_size, shuffle=True,\n",
        "                                             num_workers=workers, pin_memory=False)\n",
        "\n",
        "    # Viterbi decoder (to find accuracy during validation)\n",
        "    vb_decoder = ViterbiDecoder(tag_map)\n",
        "\n",
        "    # Epochs\n",
        "    for epoch in range(start_epoch, epochs):\n",
        "\n",
        "        # One epoch's training\n",
        "        train(train_loader=train_loader,\n",
        "              model=model,\n",
        "              lm_criterion=lm_criterion,\n",
        "              crf_criterion=crf_criterion,\n",
        "              optimizer=optimizer,\n",
        "              epoch=epoch,\n",
        "              vb_decoder=vb_decoder)\n",
        "\n",
        "        # One epoch's validation\n",
        "        val_f1 = validate(val_loader=val_loader,\n",
        "                          model=model,\n",
        "                          crf_criterion=crf_criterion,\n",
        "                          vb_decoder=vb_decoder)\n",
        "\n",
        "        # Did validation F1 score improve?\n",
        "        is_best = val_f1 > best_f1\n",
        "        best_f1 = max(val_f1, best_f1)\n",
        "        if not is_best:\n",
        "            epochs_since_improvement += 1\n",
        "            print(\"\\nEpochs since improvement: %d\\n\" % (epochs_since_improvement,))\n",
        "        else:\n",
        "            epochs_since_improvement = 0\n",
        "\n",
        "        # Save checkpoint\n",
        "        save_checkpoint(epoch, model, optimizer, val_f1, word_map, char_map, tag_map, lm_vocab_size, is_best)\n",
        "\n",
        "        # Decay learning rate every epoch\n",
        "        adjust_learning_rate(optimizer, lr / (1 + (epoch + 1) * lr_decay))"
      ],
      "execution_count": 0,
      "outputs": []
    },
    {
      "cell_type": "code",
      "metadata": {
        "id": "mtvTx_lrJy9T",
        "colab_type": "code",
        "outputId": "8af6a30b-da72-487e-8128-1af501d15b13",
        "colab": {
          "base_uri": "https://localhost:8080/",
          "height": 1000
        }
      },
      "source": [
        "main_func()"
      ],
      "execution_count": 0,
      "outputs": [
        {
          "output_type": "stream",
          "text": [
            "Embedding length is 100.\n",
            "You have elected to include embeddings that are out-of-corpus.\n",
            "\n",
            "Loading embeddings...\n",
            "'word_map' is being updated accordingly.\n",
            "\n",
            "Done.\n",
            " Embedding vocabulary: 400054\n",
            " Language Model vocabulary: 4671.\n",
            "\n"
          ],
          "name": "stdout"
        },
        {
          "output_type": "stream",
          "text": [
            "/usr/local/lib/python3.6/dist-packages/torch/nn/modules/rnn.py:38: UserWarning: dropout option adds dropout after all but last recurrent layer, so non-zero dropout expects num_layers greater than 1, but got dropout=0.5 and num_layers=1\n",
            "  \"num_layers={}\".format(dropout, num_layers))\n",
            "/usr/local/lib/python3.6/dist-packages/torch/nn/functional.py:1006: UserWarning: nn.functional.sigmoid is deprecated. Use torch.sigmoid instead.\n",
            "  warnings.warn(\"nn.functional.sigmoid is deprecated. Use torch.sigmoid instead.\")\n",
            "/usr/local/lib/python3.6/dist-packages/sklearn/metrics/classification.py:1439: UndefinedMetricWarning: F-score is ill-defined and being set to 0.0 in labels with no true samples.\n",
            "  'recall', 'true', average, warn_for)\n"
          ],
          "name": "stderr"
        },
        {
          "output_type": "stream",
          "text": [
            "Epoch: [0][0/1405]\tBatch Time 1.371 (1.371)\tData Load Time 0.054 (0.054)\tCE Loss 16.9024 (16.9024)\tVB Loss 43.0178 (43.0178)\tF1 0.023 (0.023)\n"
          ],
          "name": "stdout"
        },
        {
          "output_type": "stream",
          "text": [
            "/usr/local/lib/python3.6/dist-packages/sklearn/metrics/classification.py:1437: UndefinedMetricWarning: F-score is ill-defined and being set to 0.0 in labels with no predicted samples.\n",
            "  'precision', 'predicted', average, warn_for)\n"
          ],
          "name": "stderr"
        },
        {
          "output_type": "stream",
          "text": [
            "Epoch: [0][100/1405]\tBatch Time 0.860 (1.081)\tData Load Time 0.005 (0.005)\tCE Loss 13.6480 (15.9571)\tVB Loss 12.1576 (8.2477)\tF1 0.360 (0.323)\n",
            "Epoch: [0][200/1405]\tBatch Time 1.194 (1.063)\tData Load Time 0.005 (0.005)\tCE Loss 12.7072 (14.6285)\tVB Loss 4.6557 (6.7374)\tF1 0.464 (0.402)\n",
            "Epoch: [0][300/1405]\tBatch Time 1.113 (1.061)\tData Load Time 0.005 (0.005)\tCE Loss 12.7066 (13.9654)\tVB Loss 4.5595 (5.9625)\tF1 0.732 (0.454)\n",
            "Epoch: [0][400/1405]\tBatch Time 0.457 (1.058)\tData Load Time 0.004 (0.005)\tCE Loss 11.2248 (13.5392)\tVB Loss 1.8214 (5.4956)\tF1 0.664 (0.493)\n",
            "Epoch: [0][500/1405]\tBatch Time 1.252 (1.058)\tData Load Time 0.005 (0.005)\tCE Loss 12.3844 (13.2598)\tVB Loss 5.3969 (5.2004)\tF1 0.688 (0.519)\n",
            "Epoch: [0][600/1405]\tBatch Time 1.119 (1.058)\tData Load Time 0.004 (0.005)\tCE Loss 12.5345 (13.0695)\tVB Loss 3.7420 (4.9286)\tF1 0.394 (0.538)\n",
            "Epoch: [0][700/1405]\tBatch Time 1.464 (1.059)\tData Load Time 0.005 (0.005)\tCE Loss 12.1667 (12.9194)\tVB Loss 3.9325 (4.7203)\tF1 0.629 (0.551)\n",
            "Epoch: [0][800/1405]\tBatch Time 0.947 (1.054)\tData Load Time 0.005 (0.005)\tCE Loss 11.9944 (12.7903)\tVB Loss 4.6842 (4.5531)\tF1 0.634 (0.560)\n",
            "Epoch: [0][900/1405]\tBatch Time 1.144 (1.051)\tData Load Time 0.005 (0.005)\tCE Loss 11.0523 (12.6943)\tVB Loss 2.7669 (4.3945)\tF1 0.723 (0.572)\n",
            "Epoch: [0][1000/1405]\tBatch Time 0.771 (1.048)\tData Load Time 0.005 (0.005)\tCE Loss 10.8015 (12.6029)\tVB Loss 3.6520 (4.2609)\tF1 0.668 (0.581)\n",
            "Epoch: [0][1100/1405]\tBatch Time 1.388 (1.051)\tData Load Time 0.004 (0.005)\tCE Loss 12.0862 (12.5283)\tVB Loss 2.4575 (4.1525)\tF1 0.513 (0.590)\n",
            "Epoch: [0][1200/1405]\tBatch Time 0.987 (1.054)\tData Load Time 0.005 (0.005)\tCE Loss 10.8164 (12.4642)\tVB Loss 3.2370 (4.0525)\tF1 0.678 (0.597)\n",
            "Epoch: [0][1300/1405]\tBatch Time 1.202 (1.055)\tData Load Time 0.005 (0.005)\tCE Loss 12.5055 (12.4140)\tVB Loss 3.4530 (3.9646)\tF1 0.718 (0.602)\n",
            "Epoch: [0][1400/1405]\tBatch Time 1.014 (1.053)\tData Load Time 0.005 (0.005)\tCE Loss 11.4598 (12.3701)\tVB Loss 2.0787 (3.8692)\tF1 0.675 (0.609)\n",
            "Validation: [0/325]\tBatch Time 0.413 (0.413)\tVB Loss 1.5377 (1.5377)\tF1 Score 0.922 (0.922)\t\n",
            "Validation: [100/325]\tBatch Time 0.260 (0.248)\tVB Loss 1.2541 (2.2178)\tF1 Score 0.939 (0.791)\t\n",
            "Validation: [200/325]\tBatch Time 0.219 (0.245)\tVB Loss 1.5714 (2.3061)\tF1 Score 0.758 (0.783)\t\n",
            "Validation: [300/325]\tBatch Time 0.277 (0.243)\tVB Loss 1.4817 (2.2821)\tF1 Score 0.978 (0.782)\t\n",
            "\n",
            " * LOSS - 2.282, F1 SCORE - 0.782\n",
            "\n",
            "\n",
            "DECAYING learning rate.\n",
            "The new learning rate is 0.014286\n",
            "\n",
            "Epoch: [1][0/1405]\tBatch Time 1.460 (1.460)\tData Load Time 0.091 (0.091)\tCE Loss 11.7228 (11.7228)\tVB Loss 5.5484 (5.5484)\tF1 0.537 (0.537)\n",
            "Epoch: [1][100/1405]\tBatch Time 1.433 (1.078)\tData Load Time 0.005 (0.006)\tCE Loss 11.4630 (11.7420)\tVB Loss 6.5676 (2.7102)\tF1 0.613 (0.701)\n",
            "Epoch: [1][200/1405]\tBatch Time 1.006 (1.074)\tData Load Time 0.005 (0.005)\tCE Loss 12.3134 (11.6961)\tVB Loss 2.5008 (2.8013)\tF1 0.708 (0.692)\n",
            "Epoch: [1][300/1405]\tBatch Time 1.014 (1.069)\tData Load Time 0.005 (0.005)\tCE Loss 11.9505 (11.6831)\tVB Loss 2.0677 (2.6976)\tF1 0.820 (0.697)\n",
            "Epoch: [1][400/1405]\tBatch Time 0.930 (1.079)\tData Load Time 0.005 (0.005)\tCE Loss 12.3480 (11.6833)\tVB Loss 2.9956 (2.7121)\tF1 0.725 (0.698)\n",
            "Epoch: [1][500/1405]\tBatch Time 1.133 (1.088)\tData Load Time 0.005 (0.005)\tCE Loss 11.8024 (11.6866)\tVB Loss 2.2234 (2.7466)\tF1 0.586 (0.696)\n",
            "Epoch: [1][600/1405]\tBatch Time 1.304 (1.086)\tData Load Time 0.005 (0.005)\tCE Loss 11.0014 (11.6699)\tVB Loss 1.9708 (2.7318)\tF1 0.714 (0.699)\n",
            "Epoch: [1][700/1405]\tBatch Time 1.217 (1.093)\tData Load Time 0.005 (0.005)\tCE Loss 11.8453 (11.6607)\tVB Loss 3.6660 (2.7035)\tF1 0.650 (0.700)\n",
            "Epoch: [1][800/1405]\tBatch Time 1.473 (1.091)\tData Load Time 0.005 (0.005)\tCE Loss 12.0978 (11.6569)\tVB Loss 2.3673 (2.6728)\tF1 0.800 (0.703)\n",
            "Epoch: [1][900/1405]\tBatch Time 1.177 (1.090)\tData Load Time 0.005 (0.005)\tCE Loss 11.2169 (11.6435)\tVB Loss 2.8034 (2.6567)\tF1 0.755 (0.706)\n",
            "Epoch: [1][1000/1405]\tBatch Time 0.981 (1.093)\tData Load Time 0.005 (0.005)\tCE Loss 11.0246 (11.6463)\tVB Loss 2.4980 (2.6439)\tF1 0.553 (0.708)\n",
            "Epoch: [1][1100/1405]\tBatch Time 1.289 (1.092)\tData Load Time 0.005 (0.005)\tCE Loss 11.4595 (11.6334)\tVB Loss 3.9299 (2.6195)\tF1 0.543 (0.711)\n",
            "Epoch: [1][1200/1405]\tBatch Time 1.329 (1.090)\tData Load Time 0.005 (0.005)\tCE Loss 11.5593 (11.6279)\tVB Loss 2.2543 (2.6065)\tF1 0.505 (0.712)\n",
            "Epoch: [1][1300/1405]\tBatch Time 1.279 (1.093)\tData Load Time 0.005 (0.005)\tCE Loss 12.0596 (11.6208)\tVB Loss 2.9219 (2.5968)\tF1 0.849 (0.713)\n",
            "Epoch: [1][1400/1405]\tBatch Time 0.845 (1.089)\tData Load Time 0.005 (0.005)\tCE Loss 11.2616 (11.6132)\tVB Loss 2.4787 (2.5819)\tF1 0.554 (0.714)\n",
            "Validation: [0/325]\tBatch Time 0.655 (0.655)\tVB Loss 4.3458 (4.3458)\tF1 Score 0.781 (0.781)\t\n",
            "Validation: [100/325]\tBatch Time 0.245 (0.257)\tVB Loss 4.3865 (2.1438)\tF1 Score 0.571 (0.801)\t\n",
            "Validation: [200/325]\tBatch Time 0.321 (0.248)\tVB Loss 2.3997 (2.0409)\tF1 Score 0.845 (0.798)\t\n",
            "Validation: [300/325]\tBatch Time 0.242 (0.243)\tVB Loss 1.8630 (1.9858)\tF1 Score 0.812 (0.801)\t\n",
            "\n",
            " * LOSS - 1.963, F1 SCORE - 0.804\n",
            "\n",
            "\n",
            "DECAYING learning rate.\n",
            "The new learning rate is 0.013636\n",
            "\n",
            "Epoch: [2][0/1405]\tBatch Time 0.741 (0.741)\tData Load Time 0.102 (0.102)\tCE Loss 11.7288 (11.7288)\tVB Loss 0.9446 (0.9446)\tF1 0.825 (0.825)\n",
            "Epoch: [2][100/1405]\tBatch Time 0.813 (1.088)\tData Load Time 0.005 (0.006)\tCE Loss 11.0644 (11.5213)\tVB Loss 1.9451 (2.3248)\tF1 0.723 (0.736)\n",
            "Epoch: [2][200/1405]\tBatch Time 1.099 (1.070)\tData Load Time 0.005 (0.005)\tCE Loss 10.6576 (11.4581)\tVB Loss 1.4480 (2.2934)\tF1 0.764 (0.736)\n",
            "Epoch: [2][300/1405]\tBatch Time 1.099 (1.070)\tData Load Time 0.005 (0.005)\tCE Loss 11.0122 (11.4385)\tVB Loss 3.5994 (2.2734)\tF1 0.580 (0.731)\n",
            "Epoch: [2][400/1405]\tBatch Time 1.430 (1.089)\tData Load Time 0.005 (0.005)\tCE Loss 11.8857 (11.4504)\tVB Loss 2.2823 (2.2823)\tF1 0.734 (0.735)\n",
            "Epoch: [2][500/1405]\tBatch Time 1.427 (1.148)\tData Load Time 0.005 (0.005)\tCE Loss 11.9608 (11.4614)\tVB Loss 2.6622 (2.2500)\tF1 0.761 (0.737)\n",
            "Epoch: [2][600/1405]\tBatch Time 1.521 (1.164)\tData Load Time 0.006 (0.005)\tCE Loss 12.1542 (11.4518)\tVB Loss 4.0229 (2.2408)\tF1 0.618 (0.740)\n",
            "Epoch: [2][700/1405]\tBatch Time 1.208 (1.170)\tData Load Time 0.005 (0.005)\tCE Loss 12.3178 (11.4478)\tVB Loss 2.5908 (2.2664)\tF1 0.713 (0.739)\n",
            "Epoch: [2][800/1405]\tBatch Time 1.133 (1.174)\tData Load Time 0.005 (0.005)\tCE Loss 11.4898 (11.4524)\tVB Loss 3.2537 (2.2821)\tF1 0.528 (0.739)\n",
            "Epoch: [2][900/1405]\tBatch Time 1.001 (1.164)\tData Load Time 0.005 (0.005)\tCE Loss 10.1992 (11.4467)\tVB Loss 1.4843 (2.2802)\tF1 0.753 (0.740)\n",
            "Epoch: [2][1000/1405]\tBatch Time 1.020 (1.156)\tData Load Time 0.005 (0.005)\tCE Loss 12.0122 (11.4436)\tVB Loss 2.6421 (2.2819)\tF1 0.752 (0.739)\n",
            "Epoch: [2][1100/1405]\tBatch Time 0.933 (1.153)\tData Load Time 0.005 (0.005)\tCE Loss 11.2272 (11.4510)\tVB Loss 3.5369 (2.2830)\tF1 0.739 (0.741)\n",
            "Epoch: [2][1200/1405]\tBatch Time 1.014 (1.146)\tData Load Time 0.005 (0.005)\tCE Loss 10.7072 (11.4430)\tVB Loss 1.9650 (2.2892)\tF1 0.849 (0.742)\n",
            "Epoch: [2][1300/1405]\tBatch Time 1.154 (1.140)\tData Load Time 0.005 (0.005)\tCE Loss 11.2250 (11.4361)\tVB Loss 0.6558 (2.2747)\tF1 0.718 (0.742)\n",
            "Epoch: [2][1400/1405]\tBatch Time 1.264 (1.137)\tData Load Time 0.005 (0.005)\tCE Loss 11.2271 (11.4325)\tVB Loss 2.2995 (2.2678)\tF1 0.708 (0.744)\n",
            "Validation: [0/325]\tBatch Time 0.550 (0.550)\tVB Loss 2.0072 (2.0072)\tF1 Score 0.840 (0.840)\t\n",
            "Validation: [100/325]\tBatch Time 0.217 (0.253)\tVB Loss 0.2181 (1.7449)\tF1 Score 0.981 (0.842)\t\n",
            "Validation: [200/325]\tBatch Time 0.160 (0.247)\tVB Loss 0.6102 (1.7001)\tF1 Score 0.862 (0.842)\t\n",
            "Validation: [300/325]\tBatch Time 0.303 (0.245)\tVB Loss 0.5180 (1.6413)\tF1 Score 1.000 (0.844)\t\n",
            "\n",
            " * LOSS - 1.646, F1 SCORE - 0.844\n",
            "\n",
            "\n",
            "DECAYING learning rate.\n",
            "The new learning rate is 0.013043\n",
            "\n",
            "Epoch: [3][0/1405]\tBatch Time 1.815 (1.815)\tData Load Time 0.120 (0.120)\tCE Loss 11.6620 (11.6620)\tVB Loss 1.4469 (1.4469)\tF1 0.796 (0.796)\n",
            "Epoch: [3][100/1405]\tBatch Time 0.995 (1.158)\tData Load Time 0.006 (0.006)\tCE Loss 11.8372 (11.3857)\tVB Loss 2.2592 (2.1179)\tF1 0.720 (0.754)\n",
            "Epoch: [3][200/1405]\tBatch Time 1.258 (1.122)\tData Load Time 0.005 (0.006)\tCE Loss 11.0342 (11.4032)\tVB Loss 2.2419 (2.1513)\tF1 0.605 (0.753)\n",
            "Epoch: [3][300/1405]\tBatch Time 0.982 (1.144)\tData Load Time 0.005 (0.006)\tCE Loss 11.0345 (11.3889)\tVB Loss 0.9484 (2.1033)\tF1 0.829 (0.755)\n",
            "Epoch: [3][400/1405]\tBatch Time 1.452 (1.147)\tData Load Time 0.005 (0.005)\tCE Loss 11.1856 (11.3715)\tVB Loss 3.7788 (2.0999)\tF1 0.700 (0.758)\n",
            "Epoch: [3][500/1405]\tBatch Time 1.347 (1.168)\tData Load Time 0.005 (0.005)\tCE Loss 11.1757 (11.3589)\tVB Loss 2.4369 (2.1003)\tF1 0.778 (0.758)\n",
            "Epoch: [3][600/1405]\tBatch Time 1.276 (1.189)\tData Load Time 0.005 (0.005)\tCE Loss 11.2556 (11.3449)\tVB Loss 2.8319 (2.1043)\tF1 0.739 (0.760)\n",
            "Epoch: [3][700/1405]\tBatch Time 2.068 (1.215)\tData Load Time 0.005 (0.005)\tCE Loss 10.6494 (11.3316)\tVB Loss 1.7706 (2.1031)\tF1 0.822 (0.758)\n",
            "Epoch: [3][800/1405]\tBatch Time 1.760 (1.231)\tData Load Time 0.005 (0.005)\tCE Loss 10.9982 (11.3087)\tVB Loss 1.7695 (2.1090)\tF1 0.985 (0.760)\n",
            "Epoch: [3][900/1405]\tBatch Time 1.092 (1.250)\tData Load Time 0.005 (0.005)\tCE Loss 10.9867 (11.2997)\tVB Loss 1.8033 (2.0950)\tF1 0.806 (0.761)\n",
            "Epoch: [3][1000/1405]\tBatch Time 1.170 (1.235)\tData Load Time 0.005 (0.005)\tCE Loss 11.1786 (11.2997)\tVB Loss 3.2753 (2.0979)\tF1 0.824 (0.759)\n",
            "Epoch: [3][1100/1405]\tBatch Time 1.122 (1.223)\tData Load Time 0.005 (0.005)\tCE Loss 10.5196 (11.2892)\tVB Loss 3.0151 (2.1004)\tF1 0.606 (0.758)\n",
            "Epoch: [3][1200/1405]\tBatch Time 1.257 (1.218)\tData Load Time 0.005 (0.005)\tCE Loss 11.8810 (11.2764)\tVB Loss 2.4883 (2.0941)\tF1 0.611 (0.757)\n",
            "Epoch: [3][1300/1405]\tBatch Time 0.985 (1.208)\tData Load Time 0.005 (0.005)\tCE Loss 11.3549 (11.2757)\tVB Loss 0.8789 (2.0947)\tF1 0.677 (0.756)\n",
            "Epoch: [3][1400/1405]\tBatch Time 1.401 (1.199)\tData Load Time 0.005 (0.005)\tCE Loss 11.9500 (11.2789)\tVB Loss 3.5224 (2.1027)\tF1 0.743 (0.756)\n",
            "Validation: [0/325]\tBatch Time 0.392 (0.392)\tVB Loss 2.6388 (2.6388)\tF1 Score 0.766 (0.766)\t\n",
            "Validation: [100/325]\tBatch Time 0.232 (0.247)\tVB Loss 4.4552 (1.6325)\tF1 Score 0.565 (0.823)\t\n",
            "Validation: [200/325]\tBatch Time 0.269 (0.244)\tVB Loss 2.0323 (1.5850)\tF1 Score 0.788 (0.836)\t\n",
            "Validation: [300/325]\tBatch Time 0.189 (0.241)\tVB Loss 1.2437 (1.5379)\tF1 Score 0.928 (0.844)\t\n",
            "\n",
            " * LOSS - 1.527, F1 SCORE - 0.846\n",
            "\n",
            "\n",
            "DECAYING learning rate.\n",
            "The new learning rate is 0.012500\n",
            "\n",
            "Epoch: [4][0/1405]\tBatch Time 1.323 (1.323)\tData Load Time 0.083 (0.083)\tCE Loss 10.6609 (10.6609)\tVB Loss 1.6187 (1.6187)\tF1 0.845 (0.845)\n",
            "Epoch: [4][100/1405]\tBatch Time 1.012 (1.104)\tData Load Time 0.005 (0.006)\tCE Loss 10.4808 (11.1803)\tVB Loss 3.9431 (2.1098)\tF1 0.597 (0.782)\n",
            "Epoch: [4][200/1405]\tBatch Time 1.037 (1.075)\tData Load Time 0.005 (0.005)\tCE Loss 11.9124 (11.1720)\tVB Loss 1.4756 (2.0598)\tF1 0.724 (0.778)\n",
            "Epoch: [4][300/1405]\tBatch Time 0.816 (1.059)\tData Load Time 0.005 (0.005)\tCE Loss 10.6732 (11.1679)\tVB Loss 0.9632 (2.0109)\tF1 0.649 (0.775)\n",
            "Epoch: [4][400/1405]\tBatch Time 0.931 (1.060)\tData Load Time 0.005 (0.005)\tCE Loss 8.8581 (11.1647)\tVB Loss 1.7642 (1.9926)\tF1 0.966 (0.773)\n",
            "Epoch: [4][500/1405]\tBatch Time 0.745 (1.051)\tData Load Time 0.005 (0.005)\tCE Loss 10.5874 (11.1438)\tVB Loss 1.3404 (1.9735)\tF1 0.740 (0.773)\n",
            "Epoch: [4][600/1405]\tBatch Time 1.177 (1.061)\tData Load Time 0.005 (0.005)\tCE Loss 11.5605 (11.1427)\tVB Loss 4.3986 (1.9622)\tF1 0.758 (0.775)\n",
            "Epoch: [4][700/1405]\tBatch Time 1.178 (1.069)\tData Load Time 0.005 (0.005)\tCE Loss 11.1985 (11.1395)\tVB Loss 1.2242 (1.9631)\tF1 0.730 (0.777)\n",
            "Epoch: [4][800/1405]\tBatch Time 1.013 (1.071)\tData Load Time 0.005 (0.005)\tCE Loss 10.6130 (11.1344)\tVB Loss 1.1032 (1.9692)\tF1 0.772 (0.779)\n",
            "Epoch: [4][900/1405]\tBatch Time 0.839 (1.069)\tData Load Time 0.005 (0.005)\tCE Loss 11.3941 (11.1223)\tVB Loss 2.2055 (1.9792)\tF1 0.762 (0.776)\n",
            "Epoch: [4][1000/1405]\tBatch Time 1.200 (1.069)\tData Load Time 0.005 (0.005)\tCE Loss 11.9165 (11.1246)\tVB Loss 1.0283 (1.9703)\tF1 0.981 (0.778)\n",
            "Epoch: [4][1100/1405]\tBatch Time 1.406 (1.065)\tData Load Time 0.004 (0.005)\tCE Loss 11.2725 (11.1143)\tVB Loss 1.4074 (1.9594)\tF1 0.765 (0.779)\n",
            "Epoch: [4][1200/1405]\tBatch Time 1.043 (1.062)\tData Load Time 0.005 (0.005)\tCE Loss 10.4047 (11.1202)\tVB Loss 1.9819 (1.9509)\tF1 0.584 (0.778)\n",
            "Epoch: [4][1300/1405]\tBatch Time 1.260 (1.063)\tData Load Time 0.005 (0.005)\tCE Loss 11.2045 (11.1209)\tVB Loss 2.4527 (1.9482)\tF1 0.467 (0.778)\n",
            "Epoch: [4][1400/1405]\tBatch Time 0.979 (1.063)\tData Load Time 0.006 (0.005)\tCE Loss 10.8398 (11.1113)\tVB Loss 0.4464 (1.9430)\tF1 0.797 (0.777)\n",
            "Validation: [0/325]\tBatch Time 0.669 (0.669)\tVB Loss 3.5449 (3.5449)\tF1 Score 0.720 (0.720)\t\n",
            "Validation: [100/325]\tBatch Time 0.184 (0.250)\tVB Loss 0.6281 (1.5794)\tF1 Score 0.813 (0.841)\t\n",
            "Validation: [200/325]\tBatch Time 0.255 (0.239)\tVB Loss 4.1109 (1.5672)\tF1 Score 0.769 (0.835)\t\n",
            "Validation: [300/325]\tBatch Time 0.271 (0.238)\tVB Loss 1.4114 (1.5491)\tF1 Score 0.926 (0.840)\t\n",
            "\n",
            " * LOSS - 1.546, F1 SCORE - 0.839\n",
            "\n",
            "\n",
            "Epochs since improvement: 1\n",
            "\n",
            "\n",
            "DECAYING learning rate.\n",
            "The new learning rate is 0.012000\n",
            "\n",
            "Epoch: [5][0/1405]\tBatch Time 1.825 (1.825)\tData Load Time 0.132 (0.132)\tCE Loss 10.0229 (10.0229)\tVB Loss 1.5886 (1.5886)\tF1 0.880 (0.880)\n",
            "Epoch: [5][100/1405]\tBatch Time 1.268 (1.154)\tData Load Time 0.005 (0.006)\tCE Loss 11.6882 (11.1081)\tVB Loss 0.7764 (2.0661)\tF1 0.880 (0.777)\n",
            "Epoch: [5][200/1405]\tBatch Time 1.228 (1.121)\tData Load Time 0.004 (0.005)\tCE Loss 11.3328 (11.0618)\tVB Loss 2.0745 (1.9003)\tF1 0.872 (0.787)\n",
            "Epoch: [5][300/1405]\tBatch Time 1.343 (1.110)\tData Load Time 0.004 (0.005)\tCE Loss 11.9026 (11.0432)\tVB Loss 2.2258 (1.9001)\tF1 0.636 (0.787)\n",
            "Epoch: [5][400/1405]\tBatch Time 0.643 (1.118)\tData Load Time 0.005 (0.005)\tCE Loss 11.2389 (11.0558)\tVB Loss 0.9903 (1.9019)\tF1 0.859 (0.787)\n",
            "Epoch: [5][500/1405]\tBatch Time 1.332 (1.115)\tData Load Time 0.005 (0.005)\tCE Loss 10.8586 (11.0491)\tVB Loss 2.8770 (1.8853)\tF1 0.808 (0.789)\n",
            "Epoch: [5][600/1405]\tBatch Time 1.330 (1.111)\tData Load Time 0.005 (0.005)\tCE Loss 10.5337 (11.0444)\tVB Loss 2.9242 (1.8412)\tF1 0.628 (0.792)\n",
            "Epoch: [5][700/1405]\tBatch Time 0.967 (1.115)\tData Load Time 0.004 (0.005)\tCE Loss 10.8357 (11.0251)\tVB Loss 1.5957 (1.8587)\tF1 0.638 (0.790)\n",
            "Epoch: [5][800/1405]\tBatch Time 0.872 (1.113)\tData Load Time 0.004 (0.005)\tCE Loss 10.4989 (11.0113)\tVB Loss 1.0618 (1.8420)\tF1 0.871 (0.790)\n",
            "Epoch: [5][900/1405]\tBatch Time 1.179 (1.110)\tData Load Time 0.005 (0.005)\tCE Loss 10.6644 (10.9981)\tVB Loss 2.1980 (1.8329)\tF1 0.810 (0.791)\n",
            "Epoch: [5][1000/1405]\tBatch Time 0.884 (1.105)\tData Load Time 0.005 (0.005)\tCE Loss 10.6679 (10.9820)\tVB Loss 1.9375 (1.8353)\tF1 0.476 (0.791)\n",
            "Epoch: [5][1100/1405]\tBatch Time 0.625 (1.103)\tData Load Time 0.005 (0.005)\tCE Loss 10.1419 (10.9823)\tVB Loss 0.2401 (1.8292)\tF1 1.000 (0.793)\n",
            "Epoch: [5][1200/1405]\tBatch Time 1.273 (1.106)\tData Load Time 0.005 (0.005)\tCE Loss 11.8471 (10.9730)\tVB Loss 0.7869 (1.8286)\tF1 0.902 (0.792)\n",
            "Epoch: [5][1300/1405]\tBatch Time 1.282 (1.104)\tData Load Time 0.004 (0.005)\tCE Loss 10.5882 (10.9636)\tVB Loss 1.3625 (1.8271)\tF1 0.731 (0.791)\n",
            "Epoch: [5][1400/1405]\tBatch Time 1.275 (1.103)\tData Load Time 0.005 (0.005)\tCE Loss 11.0536 (10.9560)\tVB Loss 2.7655 (1.8218)\tF1 0.659 (0.792)\n",
            "Validation: [0/325]\tBatch Time 0.581 (0.581)\tVB Loss 2.2291 (2.2291)\tF1 Score 0.916 (0.916)\t\n",
            "Validation: [100/325]\tBatch Time 0.261 (0.249)\tVB Loss 2.2845 (1.4776)\tF1 Score 0.772 (0.860)\t\n",
            "Validation: [200/325]\tBatch Time 0.210 (0.243)\tVB Loss 2.3335 (1.4617)\tF1 Score 0.820 (0.850)\t\n",
            "Validation: [300/325]\tBatch Time 0.284 (0.244)\tVB Loss 2.1948 (1.4344)\tF1 Score 0.787 (0.850)\t\n",
            "\n",
            " * LOSS - 1.428, F1 SCORE - 0.853\n",
            "\n",
            "\n",
            "DECAYING learning rate.\n",
            "The new learning rate is 0.011538\n",
            "\n",
            "Epoch: [6][0/1405]\tBatch Time 1.356 (1.356)\tData Load Time 0.086 (0.086)\tCE Loss 10.7744 (10.7744)\tVB Loss 1.8947 (1.8947)\tF1 0.781 (0.781)\n",
            "Epoch: [6][100/1405]\tBatch Time 1.159 (1.211)\tData Load Time 0.005 (0.006)\tCE Loss 11.0110 (10.9268)\tVB Loss 2.1184 (1.8373)\tF1 0.762 (0.786)\n",
            "Epoch: [6][200/1405]\tBatch Time 0.740 (1.158)\tData Load Time 0.005 (0.005)\tCE Loss 10.2759 (10.8642)\tVB Loss 1.3145 (1.7509)\tF1 0.714 (0.792)\n",
            "Epoch: [6][300/1405]\tBatch Time 1.328 (1.156)\tData Load Time 0.005 (0.005)\tCE Loss 10.6551 (10.8389)\tVB Loss 2.5383 (1.7544)\tF1 0.769 (0.786)\n",
            "Epoch: [6][400/1405]\tBatch Time 1.023 (1.149)\tData Load Time 0.004 (0.005)\tCE Loss 10.9989 (10.8410)\tVB Loss 1.7526 (1.7483)\tF1 0.699 (0.792)\n",
            "Epoch: [6][500/1405]\tBatch Time 1.044 (1.140)\tData Load Time 0.005 (0.005)\tCE Loss 9.8534 (10.8512)\tVB Loss 2.5206 (1.7137)\tF1 0.694 (0.797)\n",
            "Epoch: [6][600/1405]\tBatch Time 1.252 (1.131)\tData Load Time 0.005 (0.005)\tCE Loss 10.9400 (10.8449)\tVB Loss 1.5572 (1.7130)\tF1 0.672 (0.799)\n",
            "Epoch: [6][700/1405]\tBatch Time 1.629 (1.127)\tData Load Time 0.005 (0.005)\tCE Loss 10.9869 (10.8423)\tVB Loss 3.9527 (1.7404)\tF1 0.681 (0.795)\n",
            "Epoch: [6][800/1405]\tBatch Time 0.953 (1.121)\tData Load Time 0.005 (0.005)\tCE Loss 10.9057 (10.8436)\tVB Loss 1.9236 (1.7499)\tF1 0.885 (0.794)\n",
            "Epoch: [6][900/1405]\tBatch Time 1.038 (1.115)\tData Load Time 0.004 (0.005)\tCE Loss 11.0540 (10.8456)\tVB Loss 0.3576 (1.7445)\tF1 0.928 (0.795)\n",
            "Epoch: [6][1000/1405]\tBatch Time 1.071 (1.114)\tData Load Time 0.005 (0.005)\tCE Loss 11.7630 (10.8393)\tVB Loss 1.7454 (1.7508)\tF1 0.614 (0.795)\n",
            "Epoch: [6][1100/1405]\tBatch Time 0.569 (1.112)\tData Load Time 0.005 (0.005)\tCE Loss 10.2950 (10.8389)\tVB Loss 0.9244 (1.7433)\tF1 0.753 (0.796)\n",
            "Epoch: [6][1200/1405]\tBatch Time 1.057 (1.110)\tData Load Time 0.004 (0.005)\tCE Loss 10.8360 (10.8294)\tVB Loss 1.7956 (1.7432)\tF1 0.797 (0.797)\n",
            "Epoch: [6][1300/1405]\tBatch Time 1.012 (1.107)\tData Load Time 0.004 (0.005)\tCE Loss 11.9161 (10.8328)\tVB Loss 1.1896 (1.7317)\tF1 0.947 (0.797)\n",
            "Epoch: [6][1400/1405]\tBatch Time 1.276 (1.106)\tData Load Time 0.005 (0.005)\tCE Loss 11.4941 (10.8299)\tVB Loss 2.2659 (1.7367)\tF1 0.734 (0.797)\n",
            "Validation: [0/325]\tBatch Time 0.451 (0.451)\tVB Loss 2.0646 (2.0646)\tF1 Score 0.823 (0.823)\t\n",
            "Validation: [100/325]\tBatch Time 0.255 (0.233)\tVB Loss 1.1590 (1.3052)\tF1 Score 0.899 (0.872)\t\n",
            "Validation: [200/325]\tBatch Time 0.234 (0.238)\tVB Loss 0.3865 (1.3241)\tF1 Score 0.968 (0.872)\t\n",
            "Validation: [300/325]\tBatch Time 0.269 (0.238)\tVB Loss 4.0060 (1.3416)\tF1 Score 0.868 (0.868)\t\n",
            "\n",
            " * LOSS - 1.323, F1 SCORE - 0.871\n",
            "\n",
            "\n",
            "DECAYING learning rate.\n",
            "The new learning rate is 0.011111\n",
            "\n",
            "Epoch: [7][0/1405]\tBatch Time 2.024 (2.024)\tData Load Time 0.072 (0.072)\tCE Loss 10.3461 (10.3461)\tVB Loss 4.2047 (4.2047)\tF1 0.758 (0.758)\n",
            "Epoch: [7][100/1405]\tBatch Time 1.022 (1.115)\tData Load Time 0.005 (0.005)\tCE Loss 10.1998 (10.7970)\tVB Loss 1.5883 (1.8784)\tF1 0.909 (0.798)\n",
            "Epoch: [7][200/1405]\tBatch Time 0.944 (1.117)\tData Load Time 0.005 (0.005)\tCE Loss 10.8201 (10.7752)\tVB Loss 2.0497 (1.8774)\tF1 0.761 (0.798)\n",
            "Epoch: [7][300/1405]\tBatch Time 0.729 (1.118)\tData Load Time 0.005 (0.005)\tCE Loss 11.2433 (10.7828)\tVB Loss 2.1192 (1.8139)\tF1 0.779 (0.804)\n",
            "Epoch: [7][400/1405]\tBatch Time 1.336 (1.101)\tData Load Time 0.005 (0.005)\tCE Loss 11.0881 (10.7759)\tVB Loss 2.1199 (1.7314)\tF1 0.805 (0.808)\n",
            "Epoch: [7][500/1405]\tBatch Time 1.211 (1.091)\tData Load Time 0.005 (0.005)\tCE Loss 10.1657 (10.7478)\tVB Loss 2.7271 (1.6983)\tF1 0.389 (0.808)\n",
            "Epoch: [7][600/1405]\tBatch Time 1.214 (1.091)\tData Load Time 0.005 (0.005)\tCE Loss 11.4317 (10.7456)\tVB Loss 2.1409 (1.7050)\tF1 0.753 (0.808)\n",
            "Epoch: [7][700/1405]\tBatch Time 0.418 (1.088)\tData Load Time 0.005 (0.005)\tCE Loss 10.3576 (10.7437)\tVB Loss 0.7087 (1.6994)\tF1 0.887 (0.807)\n",
            "Epoch: [7][800/1405]\tBatch Time 1.137 (1.087)\tData Load Time 0.005 (0.005)\tCE Loss 10.1416 (10.7351)\tVB Loss 1.5963 (1.6925)\tF1 0.806 (0.808)\n",
            "Epoch: [7][900/1405]\tBatch Time 1.188 (1.086)\tData Load Time 0.004 (0.005)\tCE Loss 9.0314 (10.7304)\tVB Loss 2.7180 (1.6793)\tF1 0.768 (0.809)\n",
            "Epoch: [7][1000/1405]\tBatch Time 0.964 (1.091)\tData Load Time 0.005 (0.005)\tCE Loss 10.2264 (10.7264)\tVB Loss 1.3025 (1.6842)\tF1 0.701 (0.808)\n",
            "Epoch: [7][1100/1405]\tBatch Time 0.973 (1.090)\tData Load Time 0.005 (0.005)\tCE Loss 8.8635 (10.7205)\tVB Loss 1.2252 (1.6796)\tF1 0.906 (0.807)\n",
            "Epoch: [7][1200/1405]\tBatch Time 1.438 (1.089)\tData Load Time 0.004 (0.005)\tCE Loss 10.2290 (10.7191)\tVB Loss 3.6242 (1.6791)\tF1 0.755 (0.807)\n",
            "Epoch: [7][1300/1405]\tBatch Time 1.061 (1.085)\tData Load Time 0.005 (0.005)\tCE Loss 10.3722 (10.7134)\tVB Loss 0.7151 (1.6693)\tF1 0.935 (0.807)\n",
            "Epoch: [7][1400/1405]\tBatch Time 1.085 (1.086)\tData Load Time 0.005 (0.005)\tCE Loss 11.5843 (10.7188)\tVB Loss 1.2502 (1.6663)\tF1 0.913 (0.807)\n",
            "Validation: [0/325]\tBatch Time 0.516 (0.516)\tVB Loss 1.3848 (1.3848)\tF1 Score 0.799 (0.799)\t\n",
            "Validation: [100/325]\tBatch Time 0.202 (0.245)\tVB Loss 1.4331 (1.2804)\tF1 Score 0.804 (0.870)\t\n",
            "Validation: [200/325]\tBatch Time 0.208 (0.238)\tVB Loss 1.0384 (1.2993)\tF1 Score 0.811 (0.864)\t\n",
            "Validation: [300/325]\tBatch Time 0.287 (0.236)\tVB Loss 2.0146 (1.2947)\tF1 Score 0.893 (0.864)\t\n",
            "\n",
            " * LOSS - 1.311, F1 SCORE - 0.863\n",
            "\n",
            "\n",
            "Epochs since improvement: 1\n",
            "\n",
            "\n",
            "DECAYING learning rate.\n",
            "The new learning rate is 0.010714\n",
            "\n",
            "Epoch: [8][0/1405]\tBatch Time 1.407 (1.407)\tData Load Time 0.074 (0.074)\tCE Loss 10.8196 (10.8196)\tVB Loss 1.5620 (1.5620)\tF1 0.879 (0.879)\n",
            "Epoch: [8][100/1405]\tBatch Time 0.921 (1.074)\tData Load Time 0.005 (0.005)\tCE Loss 9.9575 (10.6077)\tVB Loss 0.5242 (1.5143)\tF1 0.971 (0.826)\n",
            "Epoch: [8][200/1405]\tBatch Time 0.933 (1.079)\tData Load Time 0.005 (0.005)\tCE Loss 10.7249 (10.5740)\tVB Loss 0.7888 (1.4565)\tF1 0.698 (0.831)\n",
            "Epoch: [8][300/1405]\tBatch Time 1.059 (1.098)\tData Load Time 0.005 (0.005)\tCE Loss 11.4777 (10.5808)\tVB Loss 1.1494 (1.5209)\tF1 0.903 (0.824)\n",
            "Epoch: [8][400/1405]\tBatch Time 0.858 (1.098)\tData Load Time 0.005 (0.005)\tCE Loss 10.7253 (10.5850)\tVB Loss 2.0037 (1.5332)\tF1 0.724 (0.821)\n",
            "Epoch: [8][500/1405]\tBatch Time 1.046 (1.102)\tData Load Time 0.007 (0.005)\tCE Loss 11.9144 (10.5957)\tVB Loss 2.3283 (1.5359)\tF1 0.617 (0.819)\n",
            "Epoch: [8][600/1405]\tBatch Time 1.068 (1.115)\tData Load Time 0.005 (0.005)\tCE Loss 10.4258 (10.6110)\tVB Loss 1.1792 (1.5433)\tF1 0.858 (0.818)\n",
            "Epoch: [8][700/1405]\tBatch Time 0.957 (1.111)\tData Load Time 0.005 (0.005)\tCE Loss 10.2004 (10.6170)\tVB Loss 2.0201 (1.5262)\tF1 0.569 (0.818)\n",
            "Epoch: [8][800/1405]\tBatch Time 1.163 (1.112)\tData Load Time 0.005 (0.005)\tCE Loss 10.7310 (10.6167)\tVB Loss 2.4449 (1.5411)\tF1 0.581 (0.816)\n",
            "Epoch: [8][900/1405]\tBatch Time 0.874 (1.112)\tData Load Time 0.005 (0.005)\tCE Loss 10.6880 (10.6131)\tVB Loss 1.4509 (1.5486)\tF1 0.957 (0.817)\n",
            "Epoch: [8][1000/1405]\tBatch Time 1.156 (1.111)\tData Load Time 0.004 (0.005)\tCE Loss 10.3253 (10.6251)\tVB Loss 4.4054 (1.5510)\tF1 0.638 (0.817)\n",
            "Epoch: [8][1100/1405]\tBatch Time 1.591 (1.110)\tData Load Time 0.005 (0.005)\tCE Loss 10.7012 (10.6234)\tVB Loss 1.1333 (1.5622)\tF1 0.894 (0.817)\n"
          ],
          "name": "stdout"
        }
      ]
    },
    {
      "cell_type": "code",
      "metadata": {
        "id": "5tUvezInJy9Y",
        "colab_type": "code",
        "colab": {
          "base_uri": "https://localhost:8080/",
          "height": 85
        },
        "outputId": "60cc8c3a-ef19-4c36-ca3d-b9f49440ac60"
      },
      "source": [
        "torch.__version__\n",
        "!nvcc --version"
      ],
      "execution_count": 42,
      "outputs": [
        {
          "output_type": "stream",
          "text": [
            "nvcc: NVIDIA (R) Cuda compiler driver\n",
            "Copyright (c) 2005-2018 NVIDIA Corporation\n",
            "Built on Sat_Aug_25_21:08:01_CDT_2018\n",
            "Cuda compilation tools, release 10.0, V10.0.130\n"
          ],
          "name": "stdout"
        }
      ]
    },
    {
      "cell_type": "code",
      "metadata": {
        "id": "yACYLYfjILB3",
        "colab_type": "code",
        "colab": {
          "base_uri": "https://localhost:8080/",
          "height": 85
        },
        "outputId": "2f8f96d5-26b1-45b3-abf8-231bb4e139be"
      },
      "source": [
        "!git clone https://gist.github.com/f7b7c7758a46da49f84bc68b47997d69.git"
      ],
      "execution_count": 43,
      "outputs": [
        {
          "output_type": "stream",
          "text": [
            "Cloning into 'f7b7c7758a46da49f84bc68b47997d69'...\n",
            "remote: Enumerating objects: 16, done.\u001b[K\n",
            "remote: Total 16 (delta 0), reused 0 (delta 0), pack-reused 16\u001b[K\n",
            "Unpacking objects:   6% (1/16)   \rUnpacking objects:  12% (2/16)   \rUnpacking objects:  18% (3/16)   \rUnpacking objects:  25% (4/16)   \rUnpacking objects:  31% (5/16)   \rUnpacking objects:  37% (6/16)   \rUnpacking objects:  43% (7/16)   \rUnpacking objects:  50% (8/16)   \rUnpacking objects:  56% (9/16)   \rUnpacking objects:  62% (10/16)   \rUnpacking objects:  68% (11/16)   \rUnpacking objects:  75% (12/16)   \rUnpacking objects:  81% (13/16)   \rUnpacking objects:  87% (14/16)   \rUnpacking objects:  93% (15/16)   \rUnpacking objects: 100% (16/16)   \rUnpacking objects: 100% (16/16), done.\n"
          ],
          "name": "stdout"
        }
      ]
    },
    {
      "cell_type": "code",
      "metadata": {
        "id": "V3aVdJ19INwG",
        "colab_type": "code",
        "colab": {
          "base_uri": "https://localhost:8080/",
          "height": 34
        },
        "outputId": "80bda7ed-841c-4f8a-b354-b67d2d0ba9ed"
      },
      "source": [
        "!bash pytorch041_cuda92_colab.sh"
      ],
      "execution_count": 44,
      "outputs": [
        {
          "output_type": "stream",
          "text": [
            "bash: pytorch041_cuda92_colab.sh: No such file or directory\n"
          ],
          "name": "stdout"
        }
      ]
    },
    {
      "cell_type": "code",
      "metadata": {
        "id": "mW9IbEm5I2iu",
        "colab_type": "code",
        "colab": {}
      },
      "source": [
        ""
      ],
      "execution_count": 0,
      "outputs": []
    }
  ]
}